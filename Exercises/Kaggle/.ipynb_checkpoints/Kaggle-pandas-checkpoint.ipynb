{
 "cells": [
  {
   "cell_type": "markdown",
   "id": "041e46d2-6517-490a-bcf0-204bc30b8236",
   "metadata": {},
   "source": [
    "# 01 - Creating, Reading, Writing"
   ]
  },
  {
   "cell_type": "markdown",
   "id": "594b2868-dca4-4733-b4e7-d6b8fbccd815",
   "metadata": {},
   "source": [
    "## Q1 \n",
    "```\n",
    " \tApples \tBananas\n",
    "0 \t30 \t21\n",
    "```"
   ]
  },
  {
   "cell_type": "code",
   "execution_count": 3,
   "id": "389f6d8b-48fc-439f-97d8-f2b1951de2ee",
   "metadata": {},
   "outputs": [
    {
     "data": {
      "text/html": [
       "<div>\n",
       "<style scoped>\n",
       "    .dataframe tbody tr th:only-of-type {\n",
       "        vertical-align: middle;\n",
       "    }\n",
       "\n",
       "    .dataframe tbody tr th {\n",
       "        vertical-align: top;\n",
       "    }\n",
       "\n",
       "    .dataframe thead th {\n",
       "        text-align: right;\n",
       "    }\n",
       "</style>\n",
       "<table border=\"1\" class=\"dataframe\">\n",
       "  <thead>\n",
       "    <tr style=\"text-align: right;\">\n",
       "      <th></th>\n",
       "      <th>Apples</th>\n",
       "      <th>Bananas</th>\n",
       "    </tr>\n",
       "  </thead>\n",
       "  <tbody>\n",
       "    <tr>\n",
       "      <th>0</th>\n",
       "      <td>30</td>\n",
       "      <td>21</td>\n",
       "    </tr>\n",
       "  </tbody>\n",
       "</table>\n",
       "</div>"
      ],
      "text/plain": [
       "   Apples  Bananas\n",
       "0      30       21"
      ]
     },
     "execution_count": 3,
     "metadata": {},
     "output_type": "execute_result"
    }
   ],
   "source": [
    "import pandas as pd\n",
    "# Q1\n",
    "fruits = pd.DataFrame(\n",
    "    {\n",
    "        \"Apples\": pd.Series(30, dtype=\"int64\"),\n",
    "        \"Bananas\": pd.Series(21, dtype=\"int64\"),\n",
    "    }\n",
    ")\n",
    "\n",
    "fruits"
   ]
  },
  {
   "cell_type": "code",
   "execution_count": 13,
   "id": "9de6da74-4f2f-421c-a632-3c072b0a7577",
   "metadata": {},
   "outputs": [
    {
     "data": {
      "text/html": [
       "<div>\n",
       "<style scoped>\n",
       "    .dataframe tbody tr th:only-of-type {\n",
       "        vertical-align: middle;\n",
       "    }\n",
       "\n",
       "    .dataframe tbody tr th {\n",
       "        vertical-align: top;\n",
       "    }\n",
       "\n",
       "    .dataframe thead th {\n",
       "        text-align: right;\n",
       "    }\n",
       "</style>\n",
       "<table border=\"1\" class=\"dataframe\">\n",
       "  <thead>\n",
       "    <tr style=\"text-align: right;\">\n",
       "      <th></th>\n",
       "      <th>Apples</th>\n",
       "      <th>Bananas</th>\n",
       "    </tr>\n",
       "  </thead>\n",
       "  <tbody>\n",
       "    <tr>\n",
       "      <th>0</th>\n",
       "      <td>30</td>\n",
       "      <td>21</td>\n",
       "    </tr>\n",
       "  </tbody>\n",
       "</table>\n",
       "</div>"
      ],
      "text/plain": [
       "   Apples  Bananas\n",
       "0      30       21"
      ]
     },
     "execution_count": 13,
     "metadata": {},
     "output_type": "execute_result"
    }
   ],
   "source": [
    "# or\n",
    "fruits = pd.DataFrame([[30, 21]], columns= [\"Apples\", \"Bananas\"])\n",
    "fruits"
   ]
  },
  {
   "cell_type": "markdown",
   "id": "5131ce9d-f858-4bce-a97b-fe9439f9af71",
   "metadata": {},
   "source": [
    "## Q2\n",
    "```\n",
    " \tApples \tBananas\n",
    "2017 Sales \t35 \t21\n",
    "2018 Sales \t41 \t34\n",
    "```"
   ]
  },
  {
   "cell_type": "code",
   "execution_count": 12,
   "id": "88336bcf-c380-4b66-bb33-f3ffbdd6ac05",
   "metadata": {},
   "outputs": [
    {
     "data": {
      "text/html": [
       "<div>\n",
       "<style scoped>\n",
       "    .dataframe tbody tr th:only-of-type {\n",
       "        vertical-align: middle;\n",
       "    }\n",
       "\n",
       "    .dataframe tbody tr th {\n",
       "        vertical-align: top;\n",
       "    }\n",
       "\n",
       "    .dataframe thead th {\n",
       "        text-align: right;\n",
       "    }\n",
       "</style>\n",
       "<table border=\"1\" class=\"dataframe\">\n",
       "  <thead>\n",
       "    <tr style=\"text-align: right;\">\n",
       "      <th></th>\n",
       "      <th>Apples</th>\n",
       "      <th>Bananas</th>\n",
       "    </tr>\n",
       "  </thead>\n",
       "  <tbody>\n",
       "    <tr>\n",
       "      <th>2017 Sales</th>\n",
       "      <td>35</td>\n",
       "      <td>21</td>\n",
       "    </tr>\n",
       "    <tr>\n",
       "      <th>2018 Sales</th>\n",
       "      <td>41</td>\n",
       "      <td>34</td>\n",
       "    </tr>\n",
       "  </tbody>\n",
       "</table>\n",
       "</div>"
      ],
      "text/plain": [
       "            Apples  Bananas\n",
       "2017 Sales      35       21\n",
       "2018 Sales      41       34"
      ]
     },
     "execution_count": 12,
     "metadata": {},
     "output_type": "execute_result"
    }
   ],
   "source": [
    "fruits_sales = pd.DataFrame([[35,21], [41, 34]], \n",
    "                            columns=[\"Apples\", \"Bananas\"], \n",
    "                            index=[\"2017 Sales\", \"2018 Sales\"])\n",
    "\n",
    "fruits_sales"
   ]
  },
  {
   "cell_type": "markdown",
   "id": "e9242499-6080-4b48-9c9f-05f5eb7fb38a",
   "metadata": {},
   "source": [
    "## Q3\n",
    "```\n",
    "Flour     4 cups\n",
    "Milk       1 cup\n",
    "Eggs     2 large\n",
    "Spam       1 can\n",
    "Name: Dinner, dtype: object\n",
    "```\n"
   ]
  },
  {
   "cell_type": "markdown",
   "id": "b628a760-0a4f-4d93-a599-b087879ecf02",
   "metadata": {},
   "source": [
    "## Q4"
   ]
  },
  {
   "cell_type": "code",
   "execution_count": 16,
   "id": "ac9900cd-1cb4-4e92-8984-9fd37cbc45f4",
   "metadata": {},
   "outputs": [],
   "source": [
    "# reviews = pd.read_csv(\"../input/wine-reviews/winemag-data_first150k.csv\", index_col=0)\n"
   ]
  },
  {
   "cell_type": "markdown",
   "id": "84da05b9-ea66-477b-babd-084bc7f4a061",
   "metadata": {},
   "source": [
    "## Q5"
   ]
  },
  {
   "cell_type": "code",
   "execution_count": 17,
   "id": "f91b2a65-edfa-4b8a-88ee-e565d3a5499b",
   "metadata": {},
   "outputs": [
    {
     "data": {
      "text/html": [
       "<div>\n",
       "<style scoped>\n",
       "    .dataframe tbody tr th:only-of-type {\n",
       "        vertical-align: middle;\n",
       "    }\n",
       "\n",
       "    .dataframe tbody tr th {\n",
       "        vertical-align: top;\n",
       "    }\n",
       "\n",
       "    .dataframe thead th {\n",
       "        text-align: right;\n",
       "    }\n",
       "</style>\n",
       "<table border=\"1\" class=\"dataframe\">\n",
       "  <thead>\n",
       "    <tr style=\"text-align: right;\">\n",
       "      <th></th>\n",
       "      <th>Cows</th>\n",
       "      <th>Goats</th>\n",
       "    </tr>\n",
       "  </thead>\n",
       "  <tbody>\n",
       "    <tr>\n",
       "      <th>Year 1</th>\n",
       "      <td>12</td>\n",
       "      <td>22</td>\n",
       "    </tr>\n",
       "    <tr>\n",
       "      <th>Year 2</th>\n",
       "      <td>20</td>\n",
       "      <td>19</td>\n",
       "    </tr>\n",
       "  </tbody>\n",
       "</table>\n",
       "</div>"
      ],
      "text/plain": [
       "        Cows  Goats\n",
       "Year 1    12     22\n",
       "Year 2    20     19"
      ]
     },
     "execution_count": 17,
     "metadata": {},
     "output_type": "execute_result"
    }
   ],
   "source": [
    "animals = pd.DataFrame({'Cows': [12, 20], 'Goats': [22, 19]}, index=['Year 1', 'Year 2'])\n",
    "animals"
   ]
  },
  {
   "cell_type": "code",
   "execution_count": 18,
   "id": "590d32e3-38c9-4fe4-813f-d779a3c6e17b",
   "metadata": {},
   "outputs": [],
   "source": [
    "# animals.to_csv(\"cows_and_goats.csv\")"
   ]
  },
  {
   "cell_type": "markdown",
   "id": "af54915c-e87a-4283-a628-6d75847d9b97",
   "metadata": {},
   "source": [
    "# 02 - Indexing, Selecting & Assigning"
   ]
  },
  {
   "cell_type": "markdown",
   "id": "e1d870ac-f8a9-4b0e-a3cf-bd15acbaf739",
   "metadata": {},
   "source": [
    "## 1 \n",
    "Select the `description` column from `reviews` and assign the result to the variable `desc`. "
   ]
  },
  {
   "cell_type": "raw",
   "id": "0d45e81b-6058-4dda-82a2-0d7b99116073",
   "metadata": {},
   "source": [
    "desc = reviews[\"description\"]"
   ]
  },
  {
   "cell_type": "markdown",
   "id": "fc6c949f-f276-4f13-9d44-43c4d0f66048",
   "metadata": {},
   "source": [
    "## 2\n",
    "Select the first value from the description column of reviews, assigning it to variable first_description."
   ]
  },
  {
   "cell_type": "raw",
   "id": "ad0269ab-ef4a-410f-803d-58268ec65640",
   "metadata": {},
   "source": [
    "first_description = reviews[\"description\"][0]\n"
   ]
  },
  {
   "cell_type": "raw",
   "id": "69315f7b-176e-4065-9960-c09c2eb6845b",
   "metadata": {},
   "source": [
    "first_description = reviews[\"description\"][0]"
   ]
  },
  {
   "cell_type": "markdown",
   "id": "44296ee8-3390-45d4-b297-a3e4301c6931",
   "metadata": {},
   "source": [
    "## 3\n",
    "Select the first row of data (the first record) from reviews, assigning it to the variable first_row."
   ]
  },
  {
   "cell_type": "raw",
   "id": "39f38f01-de52-49d3-93e8-6e2582acb2f1",
   "metadata": {},
   "source": [
    "first_row = reviews.iloc[0]"
   ]
  },
  {
   "cell_type": "markdown",
   "id": "488cb1f6-8d22-41ba-8b4e-5b0557e50ad1",
   "metadata": {},
   "source": [
    "## 4\n",
    "Select the first 10 values from the description column in reviews, assigning the result to variable first_descriptions."
   ]
  },
  {
   "cell_type": "raw",
   "id": "877ce186-76ab-4029-bf44-c4f2e33914f4",
   "metadata": {},
   "source": [
    "first_descriptions = reviews[\"description\"][:10]"
   ]
  },
  {
   "cell_type": "markdown",
   "id": "95952c13-4185-4bad-9320-02b7bdfd8d27",
   "metadata": {},
   "source": [
    "## 5\n",
    "Select the records with index labels 1, 2, 3, 5, and 8, assigning the result to the variable sample_reviews."
   ]
  },
  {
   "cell_type": "raw",
   "id": "3de052bd-6c94-4757-ad40-b8754e9f9607",
   "metadata": {},
   "source": [
    "sample_reviews = reviews.iloc[[1,2,3,5,8],:]"
   ]
  },
  {
   "cell_type": "markdown",
   "id": "61468650-78dd-4e87-9314-5e899119f9b6",
   "metadata": {},
   "source": [
    "## 6 \n",
    "Create a variable df containing the country, province, region_1, and region_2 columns of the records with the index labels 0, 1, 10, and 100. In other words, generate the following DataFrame:\n"
   ]
  },
  {
   "cell_type": "raw",
   "id": "913ed377-7555-43e0-bf47-00b088c3cd11",
   "metadata": {},
   "source": [
    "df = reviews.loc[[0,1, 10,100], [\"country\", \"province\", \"region_1\", \"region_2\"]]"
   ]
  },
  {
   "cell_type": "markdown",
   "id": "34defe9b-95a5-4e37-8b70-22f4ff1b164e",
   "metadata": {},
   "source": [
    "## 7 \n",
    "Create a variable df containing the country and variety columns of the first 100 records. "
   ]
  },
  {
   "cell_type": "raw",
   "id": "43cf5e45-ab33-4704-b313-e872ddb0576c",
   "metadata": {},
   "source": [
    "df = reviews.loc[0:99, [\"country\", \"variety\"]]"
   ]
  },
  {
   "cell_type": "markdown",
   "id": "c925ef9f-bf4b-4bef-9bd5-3f9105222af6",
   "metadata": {},
   "source": [
    "## 8 \n",
    "Create a DataFrame italian_wines containing reviews of wines made in Italy. Hint: reviews.country equals what?"
   ]
  },
  {
   "cell_type": "raw",
   "id": "81d0908b-eaa8-4929-af7b-83bc8f211915",
   "metadata": {},
   "source": [
    "italian_wines = reviews[reviews.country == \"Italy\"]\n"
   ]
  },
  {
   "cell_type": "markdown",
   "id": "e1558ba0-5c1e-4c74-b389-dc18286e7e2c",
   "metadata": {},
   "source": [
    "## 9 \n",
    "Create a DataFrame top_oceania_wines containing all reviews with at least 95 points (out of 100) for wines from Australia or New Zealand."
   ]
  },
  {
   "cell_type": "raw",
   "id": "6d3ce978-7122-48a7-92f4-0346a1cfddda",
   "metadata": {},
   "source": [
    "top_oceania_wines = reviews[(reviews.points >= 95) & ((reviews.country==\"Australia\") | (reviews.country==\"New Zealand\"))]\n"
   ]
  },
  {
   "cell_type": "markdown",
   "id": "cf9a4dbf-e0c4-4e07-853d-956616040835",
   "metadata": {},
   "source": [
    "# 03 - Summary Functions and Maps"
   ]
  },
  {
   "cell_type": "markdown",
   "id": "a53e7ff1-4cdc-44c3-ba04-30166153beb5",
   "metadata": {},
   "source": [
    "## 1\n",
    "What is the median of the points column in the reviews DataFrame?"
   ]
  },
  {
   "cell_type": "raw",
   "id": "d251c8d1-6285-42e0-960a-9fb3730479d4",
   "metadata": {},
   "source": [
    "median_points = reviews.points.median()"
   ]
  },
  {
   "cell_type": "markdown",
   "id": "06e0a03a-711d-47d2-a36c-248dcc610ada",
   "metadata": {},
   "source": [
    "## 2\n",
    "What countries are represented in the dataset? (Your answer should not include any duplicates.)"
   ]
  },
  {
   "cell_type": "raw",
   "id": "d56b9c23-0090-4f13-98f3-58b2eb904271",
   "metadata": {},
   "source": [
    "countries = reviews.country.unique()\n"
   ]
  },
  {
   "cell_type": "markdown",
   "id": "2f89d162-1382-4a71-9423-975c3e7ce709",
   "metadata": {},
   "source": [
    "## 3\n",
    "How often does each country appear in the dataset? Create a Series reviews_per_country mapping countries to the count of reviews of wines from that country."
   ]
  },
  {
   "cell_type": "raw",
   "id": "ebff4f5c-2070-41af-ac03-36709259ebe4",
   "metadata": {},
   "source": [
    "reviews_per_country = reviews.country.value_counts()"
   ]
  },
  {
   "cell_type": "markdown",
   "id": "77686555-f182-4522-a5e3-9cd213d8c04d",
   "metadata": {},
   "source": [
    "## 4\n",
    "Create variable centered_price containing a version of the price column with the mean price subtracted."
   ]
  },
  {
   "cell_type": "raw",
   "id": "9c2e74cd-f5e9-4bd9-81cd-60df0faacaa7",
   "metadata": {},
   "source": [
    "centered_price = reviews.price - reviews.price.mean()"
   ]
  },
  {
   "cell_type": "markdown",
   "id": "3691e3f2-087e-4136-8cb6-0ea176ec55eb",
   "metadata": {},
   "source": [
    "## 5   \n",
    "I'm an economical wine buyer. Which wine is the \"best bargain\"? Create a variable bargain_wine with the title of the wine with the highest points-to-price ratio in the dataset."
   ]
  },
  {
   "cell_type": "raw",
   "id": "8ddb8b41-741a-407e-a298-2d2b0db14172",
   "metadata": {},
   "source": [
    "bargain_idx = (reviews.points / reviews.price).idxmax() # return index of the wine\n",
    "bargain_wine = reviews.loc[bargain_idx, \"title\"]"
   ]
  },
  {
   "cell_type": "markdown",
   "id": "40f0583b-8430-4686-a859-a3f2e4ddc3cd",
   "metadata": {},
   "source": [
    "## 6 \n",
    "There are only so many words you can use when describing a bottle of wine. Is a wine more likely to be \"tropical\" or \"fruity\"? Create a Series descriptor_counts counting how many times each of these two words appears in the description column in the dataset. (For simplicity, let's ignore the capitalized versions of these words.)"
   ]
  },
  {
   "cell_type": "raw",
   "id": "b8414aa9-8fa6-43ad-b28d-a70240246f94",
   "metadata": {},
   "source": [
    "n_trop = reviews.description.map(lambda desc: \"tropical\" in desc).sum()\n",
    "n_fruity = reviews.description.map(lambda desc: \"fruity\" in desc).sum()\n",
    "descriptor_counts = pd.Series([n_trop, n_fruity], index=[\"tropical\", \"fruity\"])"
   ]
  },
  {
   "cell_type": "markdown",
   "id": "1674a595-71c0-4e3f-a388-09c4d2787433",
   "metadata": {},
   "source": [
    "## 7\n",
    "We'd like to host these wine reviews on our website, but a rating system ranging from 80 to 100 points is too hard to understand - we'd like to translate them into simple star ratings. A score of 95 or higher counts as 3 stars, a score of at least 85 but less than 95 is 2 stars. Any other score is 1 star.\n",
    "\n",
    "Also, the Canadian Vintners Association bought a lot of ads on the site, so any wines from Canada should automatically get 3 stars, regardless of points.\n",
    "\n",
    "Create a series star_ratings with the number of stars corresponding to each review in the dataset."
   ]
  },
  {
   "cell_type": "raw",
   "id": "789cece1-d702-437d-883d-3c949e241c9a",
   "metadata": {},
   "source": [
    "def stars(row):\n",
    "    if row.country == \"Canada\":\n",
    "        return 3 \n",
    "    elif row.points >= 95:\n",
    "        return 3\n",
    "    elif row.points >= 85:\n",
    "        return 2\n",
    "    else:\n",
    "        return 1\n",
    "\n",
    "\n",
    "\n",
    "star_ratings = reviews.apply(stars, axis=\"columns\")"
   ]
  },
  {
   "cell_type": "code",
   "execution_count": null,
   "id": "e832981b-7434-469e-b622-1c7b0cc84d0a",
   "metadata": {},
   "outputs": [],
   "source": []
  }
 ],
 "metadata": {
  "kernelspec": {
   "display_name": "Python 3 (ipykernel)",
   "language": "python",
   "name": "python3"
  },
  "language_info": {
   "codemirror_mode": {
    "name": "ipython",
    "version": 3
   },
   "file_extension": ".py",
   "mimetype": "text/x-python",
   "name": "python",
   "nbconvert_exporter": "python",
   "pygments_lexer": "ipython3",
   "version": "3.12.3"
  }
 },
 "nbformat": 4,
 "nbformat_minor": 5
}
