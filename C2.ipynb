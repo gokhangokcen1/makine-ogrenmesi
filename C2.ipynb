{
  "nbformat": 4,
  "nbformat_minor": 0,
  "metadata": {
    "colab": {
      "provenance": [],
      "toc_visible": true
    },
    "kernelspec": {
      "name": "python3",
      "display_name": "Python 3"
    },
    "language_info": {
      "name": "python"
    }
  },
  "cells": [
    {
      "cell_type": "markdown",
      "source": [
        "# MNIST VERİ SETİ"
      ],
      "metadata": {
        "id": "eERRKr8oOn0F"
      }
    },
    {
      "cell_type": "code",
      "source": [
        "from tensorflow.keras.datasets import mnist\n",
        "(train_images, train_labels), (test_images, test_labels) = mnist.load_data()"
      ],
      "metadata": {
        "id": "AZYqqjv1MHv6"
      },
      "execution_count": 15,
      "outputs": []
    },
    {
      "cell_type": "code",
      "source": [
        "train_images.shape"
      ],
      "metadata": {
        "colab": {
          "base_uri": "https://localhost:8080/"
        },
        "id": "hMOR_XZZMWtG",
        "outputId": "39c97c76-cbeb-4cfa-d12d-7ea9c346e19f"
      },
      "execution_count": 16,
      "outputs": [
        {
          "output_type": "execute_result",
          "data": {
            "text/plain": [
              "(60000, 28, 28)"
            ]
          },
          "metadata": {},
          "execution_count": 16
        }
      ]
    },
    {
      "cell_type": "code",
      "source": [
        "len(train_labels)"
      ],
      "metadata": {
        "colab": {
          "base_uri": "https://localhost:8080/"
        },
        "id": "xwk-GoxjMZ50",
        "outputId": "d78b1c9a-4d01-4eb6-988e-bde918272d7e"
      },
      "execution_count": 17,
      "outputs": [
        {
          "output_type": "execute_result",
          "data": {
            "text/plain": [
              "60000"
            ]
          },
          "metadata": {},
          "execution_count": 17
        }
      ]
    },
    {
      "cell_type": "code",
      "source": [
        "train_labels"
      ],
      "metadata": {
        "colab": {
          "base_uri": "https://localhost:8080/"
        },
        "id": "FwiZhGluMdJF",
        "outputId": "b48b654f-7268-4f36-f522-c53fd37feb46"
      },
      "execution_count": 18,
      "outputs": [
        {
          "output_type": "execute_result",
          "data": {
            "text/plain": [
              "array([5, 0, 4, ..., 5, 6, 8], dtype=uint8)"
            ]
          },
          "metadata": {},
          "execution_count": 18
        }
      ]
    },
    {
      "cell_type": "code",
      "source": [
        "test_images.shape"
      ],
      "metadata": {
        "colab": {
          "base_uri": "https://localhost:8080/"
        },
        "id": "PivghQFqMeq9",
        "outputId": "73c989ac-a68a-443f-9694-d7b9c9957a50"
      },
      "execution_count": 19,
      "outputs": [
        {
          "output_type": "execute_result",
          "data": {
            "text/plain": [
              "(10000, 28, 28)"
            ]
          },
          "metadata": {},
          "execution_count": 19
        }
      ]
    },
    {
      "cell_type": "code",
      "source": [
        "len(test_labels)"
      ],
      "metadata": {
        "colab": {
          "base_uri": "https://localhost:8080/"
        },
        "id": "1S7n3TZDMhHk",
        "outputId": "f8f21f2a-edc4-4aad-b5d3-dbff63ed6acd"
      },
      "execution_count": 20,
      "outputs": [
        {
          "output_type": "execute_result",
          "data": {
            "text/plain": [
              "10000"
            ]
          },
          "metadata": {},
          "execution_count": 20
        }
      ]
    },
    {
      "cell_type": "code",
      "source": [
        "test_labels"
      ],
      "metadata": {
        "colab": {
          "base_uri": "https://localhost:8080/"
        },
        "id": "x03hfzD5MjQT",
        "outputId": "ea83ab21-38b2-4849-98a8-c3be3ca0a23b"
      },
      "execution_count": 21,
      "outputs": [
        {
          "output_type": "execute_result",
          "data": {
            "text/plain": [
              "array([7, 2, 1, ..., 4, 5, 6], dtype=uint8)"
            ]
          },
          "metadata": {},
          "execution_count": 21
        }
      ]
    },
    {
      "cell_type": "code",
      "source": [
        "from tensorflow import keras\n",
        "from tensorflow.keras import layers\n",
        "model = keras.Sequential([\n",
        "    layers.Dense(512, activation=\"relu\"),\n",
        "    layers.Dense(10, activation=\"softmax\")\n",
        "])"
      ],
      "metadata": {
        "id": "CYLo0uDPMkhg"
      },
      "execution_count": 22,
      "outputs": []
    },
    {
      "cell_type": "code",
      "source": [
        "model.compile(optimizer=\"rmsprop\",\n",
        "              loss=\"sparse_categorical_crossentropy\",\n",
        "              metrics=[\"accuracy\"])"
      ],
      "metadata": {
        "id": "sljqJdbHM1Ja"
      },
      "execution_count": 23,
      "outputs": []
    },
    {
      "cell_type": "code",
      "source": [
        "train_images = train_images.reshape((60000, 28 * 28))\n",
        "train_images = train_images.astype(\"float32\") / 255\n",
        "test_images = test_images.reshape((10000, 28 * 28))\n",
        "test_images = test_images.astype(\"float32\") / 255"
      ],
      "metadata": {
        "id": "GXITnj5ZNHbk"
      },
      "execution_count": 24,
      "outputs": []
    },
    {
      "cell_type": "code",
      "source": [
        "model.fit(train_images, train_labels, epochs=5, batch_size=128)"
      ],
      "metadata": {
        "colab": {
          "base_uri": "https://localhost:8080/"
        },
        "id": "Nm4OQX_ZM-80",
        "outputId": "87894e55-caf9-4b62-fb41-6e9c87691408"
      },
      "execution_count": 25,
      "outputs": [
        {
          "output_type": "stream",
          "name": "stdout",
          "text": [
            "Epoch 1/5\n",
            "\u001b[1m469/469\u001b[0m \u001b[32m━━━━━━━━━━━━━━━━━━━━\u001b[0m\u001b[37m\u001b[0m \u001b[1m6s\u001b[0m 9ms/step - accuracy: 0.8733 - loss: 0.4424\n",
            "Epoch 2/5\n",
            "\u001b[1m469/469\u001b[0m \u001b[32m━━━━━━━━━━━━━━━━━━━━\u001b[0m\u001b[37m\u001b[0m \u001b[1m5s\u001b[0m 9ms/step - accuracy: 0.9670 - loss: 0.1172\n",
            "Epoch 3/5\n",
            "\u001b[1m469/469\u001b[0m \u001b[32m━━━━━━━━━━━━━━━━━━━━\u001b[0m\u001b[37m\u001b[0m \u001b[1m6s\u001b[0m 11ms/step - accuracy: 0.9791 - loss: 0.0706\n",
            "Epoch 4/5\n",
            "\u001b[1m469/469\u001b[0m \u001b[32m━━━━━━━━━━━━━━━━━━━━\u001b[0m\u001b[37m\u001b[0m \u001b[1m5s\u001b[0m 10ms/step - accuracy: 0.9846 - loss: 0.0504\n",
            "Epoch 5/5\n",
            "\u001b[1m469/469\u001b[0m \u001b[32m━━━━━━━━━━━━━━━━━━━━\u001b[0m\u001b[37m\u001b[0m \u001b[1m7s\u001b[0m 13ms/step - accuracy: 0.9892 - loss: 0.0363\n"
          ]
        },
        {
          "output_type": "execute_result",
          "data": {
            "text/plain": [
              "<keras.src.callbacks.history.History at 0x7a9cb34c3250>"
            ]
          },
          "metadata": {},
          "execution_count": 25
        }
      ]
    },
    {
      "cell_type": "code",
      "source": [
        "test_digits = test_images[0:10]\n",
        "predictions = model.predict(test_digits)\n",
        "predictions[0]"
      ],
      "metadata": {
        "colab": {
          "base_uri": "https://localhost:8080/"
        },
        "id": "FVrhizThNcMx",
        "outputId": "06ee431a-8171-497a-8d5d-28b1ae323f17"
      },
      "execution_count": 26,
      "outputs": [
        {
          "output_type": "stream",
          "name": "stdout",
          "text": [
            "\u001b[1m1/1\u001b[0m \u001b[32m━━━━━━━━━━━━━━━━━━━━\u001b[0m\u001b[37m\u001b[0m \u001b[1m0s\u001b[0m 80ms/step\n"
          ]
        },
        {
          "output_type": "execute_result",
          "data": {
            "text/plain": [
              "array([2.5594704e-07, 5.5816629e-10, 4.4205322e-06, 5.9928185e-05,\n",
              "       7.2840614e-12, 3.9741916e-08, 1.0141539e-12, 9.9993116e-01,\n",
              "       3.5975809e-08, 4.1243520e-06], dtype=float32)"
            ]
          },
          "metadata": {},
          "execution_count": 26
        }
      ]
    },
    {
      "cell_type": "code",
      "source": [
        "predictions[0].argmax()"
      ],
      "metadata": {
        "colab": {
          "base_uri": "https://localhost:8080/"
        },
        "id": "8Fj8c5D4OLqr",
        "outputId": "d2f57d02-2191-4f66-8a35-6cb703ef365b"
      },
      "execution_count": 28,
      "outputs": [
        {
          "output_type": "execute_result",
          "data": {
            "text/plain": [
              "np.int64(7)"
            ]
          },
          "metadata": {},
          "execution_count": 28
        }
      ]
    },
    {
      "cell_type": "code",
      "source": [
        "predictions[0][7]"
      ],
      "metadata": {
        "colab": {
          "base_uri": "https://localhost:8080/"
        },
        "id": "c02azJmEORds",
        "outputId": "49a1f6a4-c01f-41ad-e75f-b073696466a9"
      },
      "execution_count": 29,
      "outputs": [
        {
          "output_type": "execute_result",
          "data": {
            "text/plain": [
              "np.float32(0.99993116)"
            ]
          },
          "metadata": {},
          "execution_count": 29
        }
      ]
    },
    {
      "cell_type": "code",
      "source": [
        "test_labels[0]"
      ],
      "metadata": {
        "colab": {
          "base_uri": "https://localhost:8080/"
        },
        "id": "gni4FzIjOSo-",
        "outputId": "e2a4579b-a33e-4f20-ddd9-25c3e0d174f7"
      },
      "execution_count": 30,
      "outputs": [
        {
          "output_type": "execute_result",
          "data": {
            "text/plain": [
              "np.uint8(7)"
            ]
          },
          "metadata": {},
          "execution_count": 30
        }
      ]
    },
    {
      "cell_type": "code",
      "source": [
        "test_loss, test_acc = model.evaluate(test_images, test_labels)\n",
        "print(f\"test_acc: {test_acc}\")\n",
        "print(f\"test_loss: {test_loss}\")"
      ],
      "metadata": {
        "colab": {
          "base_uri": "https://localhost:8080/"
        },
        "id": "7lj43yY9OUil",
        "outputId": "3812f414-ddab-4082-f90d-a3ae95ebf318"
      },
      "execution_count": 32,
      "outputs": [
        {
          "output_type": "stream",
          "name": "stdout",
          "text": [
            "\u001b[1m313/313\u001b[0m \u001b[32m━━━━━━━━━━━━━━━━━━━━\u001b[0m\u001b[37m\u001b[0m \u001b[1m1s\u001b[0m 3ms/step - accuracy: 0.9784 - loss: 0.0769\n",
            "test_acc: 0.9815000295639038\n",
            "test_loss: 0.06508830934762955\n"
          ]
        }
      ]
    },
    {
      "cell_type": "markdown",
      "source": [
        "# SİNİR AĞLARI İÇİN VERİ GÖSTERİMİ"
      ],
      "metadata": {
        "id": "SPQ7_739Ol41"
      }
    },
    {
      "cell_type": "code",
      "source": [
        "#scalar -> tek boyutlu vektör, rank(0)\n",
        "import numpy as np\n",
        "x = np.array(12)\n",
        "x"
      ],
      "metadata": {
        "colab": {
          "base_uri": "https://localhost:8080/"
        },
        "id": "Z5_KOw3COwja",
        "outputId": "29c42e35-e35f-4724-9c12-2745af628eda"
      },
      "execution_count": 35,
      "outputs": [
        {
          "output_type": "execute_result",
          "data": {
            "text/plain": [
              "array(12)"
            ]
          },
          "metadata": {},
          "execution_count": 35
        }
      ]
    },
    {
      "cell_type": "code",
      "source": [
        "x.ndim"
      ],
      "metadata": {
        "colab": {
          "base_uri": "https://localhost:8080/"
        },
        "id": "0D5IQaVQPGfY",
        "outputId": "f336f9f7-896b-4cdf-90d5-3723962b0261"
      },
      "execution_count": 36,
      "outputs": [
        {
          "output_type": "execute_result",
          "data": {
            "text/plain": [
              "0"
            ]
          },
          "metadata": {},
          "execution_count": 36
        }
      ]
    },
    {
      "cell_type": "code",
      "source": [
        "# vektör rank 1 tensors\n",
        "x = np.array([12, 3, 6, 14, 7])\n",
        "x"
      ],
      "metadata": {
        "colab": {
          "base_uri": "https://localhost:8080/"
        },
        "id": "HTbj3mwEPHV9",
        "outputId": "8f045e90-d53d-43d2-88de-e5818335d3c3"
      },
      "execution_count": 37,
      "outputs": [
        {
          "output_type": "execute_result",
          "data": {
            "text/plain": [
              "array([12,  3,  6, 14,  7])"
            ]
          },
          "metadata": {},
          "execution_count": 37
        }
      ]
    },
    {
      "cell_type": "code",
      "source": [
        "x.ndim # 5 adet verisi ver. 5D vector ama 1D tensor,\n",
        "#her bir [] tensör diyebiliriz."
      ],
      "metadata": {
        "colab": {
          "base_uri": "https://localhost:8080/"
        },
        "id": "8qtiG3qWP2zF",
        "outputId": "ab2940b1-ee41-4038-9626-7b9ee97b03ba"
      },
      "execution_count": 40,
      "outputs": [
        {
          "output_type": "execute_result",
          "data": {
            "text/plain": [
              "1"
            ]
          },
          "metadata": {},
          "execution_count": 40
        }
      ]
    },
    {
      "cell_type": "code",
      "source": [
        "# matris -> 2D tensors\n",
        "x = np.array([[5, 78, 2, 34, 0],\n",
        "              [6, 79, 3, 35 ,1],\n",
        "              [7, 80, 4, 36, 2]])\n",
        "x.ndim"
      ],
      "metadata": {
        "colab": {
          "base_uri": "https://localhost:8080/"
        },
        "id": "L2zc04cEP38a",
        "outputId": "00223e77-0e17-49a4-e644-aaf2b7f1ac0d"
      },
      "execution_count": 41,
      "outputs": [
        {
          "output_type": "execute_result",
          "data": {
            "text/plain": [
              "2"
            ]
          },
          "metadata": {},
          "execution_count": 41
        }
      ]
    },
    {
      "cell_type": "code",
      "source": [
        "# rank 3 -> 3D tensors\n",
        "x = np.array([[[5, 78, 2, 34, 0],\n",
        "              [6, 79, 3, 35 ,1],\n",
        "              [7, 80, 4, 36, 2]],\n",
        "              [[5, 78, 2, 34, 0],\n",
        "              [6, 79, 3, 35 ,1],\n",
        "              [7, 80, 4, 36, 2]],\n",
        "              [[5, 78, 2, 34, 0],\n",
        "              [6, 79, 3, 35 ,1],\n",
        "              [7, 80, 4, 36, 2]]])\n",
        "\n",
        "x.ndim"
      ],
      "metadata": {
        "colab": {
          "base_uri": "https://localhost:8080/"
        },
        "id": "7Wf2pAgwQn0j",
        "outputId": "afffcb3e-9162-4bdc-93da-0ec9fcd06479"
      },
      "execution_count": 45,
      "outputs": [
        {
          "output_type": "execute_result",
          "data": {
            "text/plain": [
              "3"
            ]
          },
          "metadata": {},
          "execution_count": 45
        }
      ]
    },
    {
      "cell_type": "code",
      "source": [
        "import matplotlib.pyplot as plt\n",
        "(train_images, train_labels), (test_images, test_labels) = mnist.load_data()\n",
        "digit = train_images[4]\n",
        "plt.imshow(digit, cmap=plt.cm.binary)\n",
        "plt.show()"
      ],
      "metadata": {
        "colab": {
          "base_uri": "https://localhost:8080/",
          "height": 430
        },
        "id": "p2xmfTwJQwo3",
        "outputId": "75c05b6a-3652-49f9-c7ff-dd3313d2c7d6"
      },
      "execution_count": 56,
      "outputs": [
        {
          "output_type": "display_data",
          "data": {
            "text/plain": [
              "<Figure size 640x480 with 1 Axes>"
            ],
            "image/png": "[encoded data removed]"
          },
          "metadata": {}
        }
      ]
    },
    {
      "cell_type": "code",
      "source": [
        "train_labels[4]"
      ],
      "metadata": {
        "colab": {
          "base_uri": "https://localhost:8080/"
        },
        "id": "2mM__eCCSl6O",
        "outputId": "d4de18f8-d493-40ae-8018-810b2eea8adf"
      },
      "execution_count": 50,
      "outputs": [
        {
          "output_type": "execute_result",
          "data": {
            "text/plain": [
              "np.uint8(9)"
            ]
          },
          "metadata": {},
          "execution_count": 50
        }
      ]
    },
    {
      "cell_type": "code",
      "source": [
        "my_slice = train_images[10:100]\n",
        "my_slice.shape"
      ],
      "metadata": {
        "colab": {
          "base_uri": "https://localhost:8080/"
        },
        "id": "b40zceP5S1Ge",
        "outputId": "2af35596-9513-4269-84d7-ce2d014bd04c"
      },
      "execution_count": 51,
      "outputs": [
        {
          "output_type": "execute_result",
          "data": {
            "text/plain": [
              "(90, 28, 28)"
            ]
          },
          "metadata": {},
          "execution_count": 51
        }
      ]
    },
    {
      "cell_type": "code",
      "source": [
        "my_slice = train_images[10:100, : , : ]\n",
        "my_slice.shape"
      ],
      "metadata": {
        "colab": {
          "base_uri": "https://localhost:8080/"
        },
        "id": "KxF-fTKAS_N0",
        "outputId": "ec063855-1bcd-45bd-934c-c0e110839f4f"
      },
      "execution_count": 52,
      "outputs": [
        {
          "output_type": "execute_result",
          "data": {
            "text/plain": [
              "(90, 28, 28)"
            ]
          },
          "metadata": {},
          "execution_count": 52
        }
      ]
    },
    {
      "cell_type": "code",
      "source": [
        "my_slice = train_images[10:100, 0:28, 0:28]\n",
        "my_slice.shape"
      ],
      "metadata": {
        "colab": {
          "base_uri": "https://localhost:8080/"
        },
        "id": "387FjV-KTH3f",
        "outputId": "008ee89d-e647-4c05-909a-3bc82cdff24e"
      },
      "execution_count": 53,
      "outputs": [
        {
          "output_type": "execute_result",
          "data": {
            "text/plain": [
              "(90, 28, 28)"
            ]
          },
          "metadata": {},
          "execution_count": 53
        }
      ]
    },
    {
      "cell_type": "code",
      "source": [
        "my_slice = train_images[:, 14:, 14:]\n",
        "my_slice.shape"
      ],
      "metadata": {
        "colab": {
          "base_uri": "https://localhost:8080/"
        },
        "id": "CgHMQC8OTOA_",
        "outputId": "ab27941a-a2f6-4a65-fd78-af252aa9c19a"
      },
      "execution_count": 54,
      "outputs": [
        {
          "output_type": "execute_result",
          "data": {
            "text/plain": [
              "(60000, 14, 14)"
            ]
          },
          "metadata": {},
          "execution_count": 54
        }
      ]
    },
    {
      "cell_type": "code",
      "source": [
        "train_digit = train_images[4, 7:-7, :-7]\n",
        "plt.imshow(train_digit)\n",
        "plt.show()"
      ],
      "metadata": {
        "colab": {
          "base_uri": "https://localhost:8080/",
          "height": 391
        },
        "id": "24Q9mDxITYr-",
        "outputId": "761ee44a-2261-4dd5-a97e-0396311121bb"
      },
      "execution_count": 58,
      "outputs": [
        {
          "output_type": "display_data",
          "data": {
            "text/plain": [
              "<Figure size 640x480 with 1 Axes>"
            ],
            "image/png": "[encoded data removed]"
          },
          "metadata": {}
        }
      ]
    },
    {
      "cell_type": "code",
      "source": [],
      "metadata": {
        "id": "LHv5p8xbTmwA"
      },
      "execution_count": null,
      "outputs": []
    },
    {
      "cell_type": "markdown",
      "source": [
        "# BATCH"
      ],
      "metadata": {
        "id": "vW6flsS7UCaY"
      }
    },
    {
      "cell_type": "code",
      "source": [
        "# batchler bir gruplar, model genel olarak datasetini tek seferde işlemez, böler"
      ],
      "metadata": {
        "id": "CxBTiDLNUE9i"
      },
      "execution_count": 59,
      "outputs": []
    },
    {
      "cell_type": "code",
      "source": [
        "batch = train_images[:128]\n",
        "batch = train_images[128:255]"
      ],
      "metadata": {
        "id": "hUozR-z8UN8H"
      },
      "execution_count": 60,
      "outputs": []
    },
    {
      "cell_type": "code",
      "source": [
        "batch.shape"
      ],
      "metadata": {
        "colab": {
          "base_uri": "https://localhost:8080/"
        },
        "id": "Q5j0ndt8UUy8",
        "outputId": "aad9db9a-df11-4905-aa14-4d5ce453c4b9"
      },
      "execution_count": 61,
      "outputs": [
        {
          "output_type": "execute_result",
          "data": {
            "text/plain": [
              "(127, 28, 28)"
            ]
          },
          "metadata": {},
          "execution_count": 61
        }
      ]
    },
    {
      "cell_type": "code",
      "source": [
        "# n. batch\n",
        "n = 3\n",
        "batch = train_images[128 * n: 128 * (n+1)]\n",
        "batch.shape\n",
        "\n",
        "'''\n",
        "veri setini 128 128 olarak bölüyoruz\n",
        "kaçıncı 128'lik bölümü aradığımızı bu şekilde buluyoruz\n",
        "'''"
      ],
      "metadata": {
        "colab": {
          "base_uri": "https://localhost:8080/",
          "height": 35
        },
        "id": "EbQlfJH3UXur",
        "outputId": "b3b54579-9188-4e0e-f865-7f65f6d758e3"
      },
      "execution_count": 67,
      "outputs": [
        {
          "output_type": "execute_result",
          "data": {
            "text/plain": [
              "\"\\nveri setini 128 128 olarak bölüyoruz\\nkaçıncı 128'lik bölümü aradığımızı bu şekilde buluyoruz\\n\""
            ],
            "application/vnd.google.colaboratory.intrinsic+json": {
              "type": "string"
            }
          },
          "metadata": {},
          "execution_count": 67
        }
      ]
    },
    {
      "cell_type": "code",
      "source": [],
      "metadata": {
        "id": "3BVHGiFEUm9t"
      },
      "execution_count": null,
      "outputs": []
    },
    {
      "cell_type": "markdown",
      "source": [
        "# elle relu yazma"
      ],
      "metadata": {
        "id": "-8wNebSQcbC1"
      }
    },
    {
      "cell_type": "code",
      "source": [
        "X = np.array([\n",
        "    [-1, 2, -3],\n",
        "    [4, -5, 6]\n",
        "])"
      ],
      "metadata": {
        "id": "fCxfJmeeccTq"
      },
      "execution_count": 79,
      "outputs": []
    },
    {
      "cell_type": "code",
      "source": [
        "def naive_relu(x):\n",
        "  assert len(x.shape) == 2\n",
        "  x = x.copy()\n",
        "  for i in range(x.shape[0]):\n",
        "    for j in range(x.shape[1]):\n",
        "      x[i, j] = max(x[i,j], 0)\n",
        "  return x\n",
        "\n",
        "naive_relu(X)\n"
      ],
      "metadata": {
        "colab": {
          "base_uri": "https://localhost:8080/"
        },
        "id": "u8NAW2BtciHK",
        "outputId": "c1282be7-8f41-4187-d397-28b3c4efb222"
      },
      "execution_count": 80,
      "outputs": [
        {
          "output_type": "execute_result",
          "data": {
            "text/plain": [
              "array([[0, 2, 0],\n",
              "       [4, 0, 6]])"
            ]
          },
          "metadata": {},
          "execution_count": 80
        }
      ]
    },
    {
      "cell_type": "code",
      "source": [
        "Y = np.array([\n",
        "    [2, -4, 7],\n",
        "    [-2, 9, -1]\n",
        "])\n",
        "\n",
        "def naive_add(x, y):\n",
        "  assert len(x.shape) == 2\n",
        "  assert x.shape == y.shape\n",
        "  x = x.copy()\n",
        "  for i in range(x.shape[0]):\n",
        "    for j in range(x.shape[1]):\n",
        "      x[i ,j] += y[i, j]\n",
        "\n",
        "  return x\n",
        "\n",
        "print(X)\n",
        "print(Y)\n",
        "naive_add(X,Y)\n"
      ],
      "metadata": {
        "colab": {
          "base_uri": "https://localhost:8080/"
        },
        "id": "wAf24Sw_c3Sx",
        "outputId": "6eb6ba04-e457-444e-9c84-884947ca61d3"
      },
      "execution_count": 89,
      "outputs": [
        {
          "output_type": "stream",
          "name": "stdout",
          "text": [
            "[[-1  2 -3]\n",
            " [ 4 -5  6]]\n",
            "[[ 2 -4  7]\n",
            " [-2  9 -1]]\n"
          ]
        },
        {
          "output_type": "execute_result",
          "data": {
            "text/plain": [
              "array([[ 1, -2,  4],\n",
              "       [ 2,  4,  5]])"
            ]
          },
          "metadata": {},
          "execution_count": 89
        }
      ]
    },
    {
      "cell_type": "code",
      "source": [
        "# kendi yazdığımız ile zaman farkı\n",
        "\n",
        "import time\n",
        "x = np.random.random((20,100))\n",
        "y = np.random.random((20,100))\n",
        "\n",
        "t0 = time.time()\n",
        "for _ in range(1000):\n",
        "  z = x + y\n",
        "  z = np.maximum(z, 0.)\n",
        "  print(\"Took: {0:.2f} s\".format(time.time() - t0))\n"
      ],
      "metadata": {
        "colab": {
          "base_uri": "https://localhost:8080/"
        },
        "id": "1EAgleWve8ig",
        "outputId": "06886241-c20e-46d2-8265-bfab9e4db7da"
      },
      "execution_count": 92,
      "outputs": [
        {
          "output_type": "stream",
          "name": "stdout",
          "text": [
            "Took: 0.00 s\n",
            "Took: 0.00 s\n",
            "Took: 0.00 s\n",
            "Took: 0.00 s\n",
            "Took: 0.00 s\n",
            "Took: 0.00 s\n",
            "Took: 0.00 s\n",
            "Took: 0.00 s\n",
            "Took: 0.00 s\n",
            "Took: 0.00 s\n",
            "Took: 0.00 s\n",
            "Took: 0.00 s\n",
            "Took: 0.00 s\n",
            "Took: 0.00 s\n",
            "Took: 0.00 s\n",
            "Took: 0.00 s\n",
            "Took: 0.00 s\n",
            "Took: 0.00 s\n",
            "Took: 0.00 s\n",
            "Took: 0.00 s\n",
            "Took: 0.00 s\n",
            "Took: 0.00 s\n",
            "Took: 0.00 s\n",
            "Took: 0.00 s\n",
            "Took: 0.00 s\n",
            "Took: 0.00 s\n",
            "Took: 0.00 s\n",
            "Took: 0.00 s\n",
            "Took: 0.00 s\n",
            "Took: 0.00 s\n",
            "Took: 0.00 s\n",
            "Took: 0.00 s\n",
            "Took: 0.00 s\n",
            "Took: 0.00 s\n",
            "Took: 0.00 s\n",
            "Took: 0.00 s\n",
            "Took: 0.00 s\n",
            "Took: 0.00 s\n",
            "Took: 0.00 s\n",
            "Took: 0.00 s\n",
            "Took: 0.00 s\n",
            "Took: 0.00 s\n",
            "Took: 0.00 s\n",
            "Took: 0.00 s\n",
            "Took: 0.00 s\n",
            "Took: 0.00 s\n",
            "Took: 0.00 s\n",
            "Took: 0.00 s\n",
            "Took: 0.00 s\n",
            "Took: 0.00 s\n",
            "Took: 0.00 s\n",
            "Took: 0.00 s\n",
            "Took: 0.00 s\n",
            "Took: 0.00 s\n",
            "Took: 0.00 s\n",
            "Took: 0.00 s\n",
            "Took: 0.00 s\n",
            "Took: 0.00 s\n",
            "Took: 0.00 s\n",
            "Took: 0.00 s\n",
            "Took: 0.00 s\n",
            "Took: 0.00 s\n",
            "Took: 0.00 s\n",
            "Took: 0.00 s\n",
            "Took: 0.00 s\n",
            "Took: 0.00 s\n",
            "Took: 0.00 s\n",
            "Took: 0.00 s\n",
            "Took: 0.00 s\n",
            "Took: 0.00 s\n",
            "Took: 0.00 s\n",
            "Took: 0.00 s\n",
            "Took: 0.00 s\n",
            "Took: 0.00 s\n",
            "Took: 0.00 s\n",
            "Took: 0.00 s\n",
            "Took: 0.00 s\n",
            "Took: 0.00 s\n",
            "Took: 0.00 s\n",
            "Took: 0.00 s\n",
            "Took: 0.00 s\n",
            "Took: 0.00 s\n",
            "Took: 0.00 s\n",
            "Took: 0.00 s\n",
            "Took: 0.00 s\n",
            "Took: 0.00 s\n",
            "Took: 0.00 s\n",
            "Took: 0.00 s\n",
            "Took: 0.00 s\n",
            "Took: 0.00 s\n",
            "Took: 0.00 s\n",
            "Took: 0.00 s\n",
            "Took: 0.00 s\n",
            "Took: 0.00 s\n",
            "Took: 0.00 s\n",
            "Took: 0.00 s\n",
            "Took: 0.00 s\n",
            "Took: 0.00 s\n",
            "Took: 0.00 s\n",
            "Took: 0.00 s\n",
            "Took: 0.00 s\n",
            "Took: 0.00 s\n",
            "Took: 0.00 s\n",
            "Took: 0.00 s\n",
            "Took: 0.00 s\n",
            "Took: 0.00 s\n",
            "Took: 0.00 s\n",
            "Took: 0.00 s\n",
            "Took: 0.00 s\n",
            "Took: 0.00 s\n",
            "Took: 0.00 s\n",
            "Took: 0.00 s\n",
            "Took: 0.00 s\n",
            "Took: 0.00 s\n",
            "Took: 0.00 s\n",
            "Took: 0.00 s\n",
            "Took: 0.00 s\n",
            "Took: 0.00 s\n",
            "Took: 0.00 s\n",
            "Took: 0.00 s\n",
            "Took: 0.00 s\n",
            "Took: 0.00 s\n",
            "Took: 0.00 s\n",
            "Took: 0.00 s\n",
            "Took: 0.00 s\n",
            "Took: 0.00 s\n",
            "Took: 0.00 s\n",
            "Took: 0.00 s\n",
            "Took: 0.00 s\n",
            "Took: 0.00 s\n",
            "Took: 0.00 s\n",
            "Took: 0.00 s\n",
            "Took: 0.00 s\n",
            "Took: 0.00 s\n",
            "Took: 0.00 s\n",
            "Took: 0.00 s\n",
            "Took: 0.00 s\n",
            "Took: 0.00 s\n",
            "Took: 0.00 s\n",
            "Took: 0.00 s\n",
            "Took: 0.00 s\n",
            "Took: 0.00 s\n",
            "Took: 0.00 s\n",
            "Took: 0.00 s\n",
            "Took: 0.00 s\n",
            "Took: 0.00 s\n",
            "Took: 0.00 s\n",
            "Took: 0.00 s\n",
            "Took: 0.00 s\n",
            "Took: 0.00 s\n",
            "Took: 0.00 s\n",
            "Took: 0.00 s\n",
            "Took: 0.00 s\n",
            "Took: 0.00 s\n",
            "Took: 0.00 s\n",
            "Took: 0.00 s\n",
            "Took: 0.00 s\n",
            "Took: 0.00 s\n",
            "Took: 0.00 s\n",
            "Took: 0.00 s\n",
            "Took: 0.00 s\n",
            "Took: 0.00 s\n",
            "Took: 0.00 s\n",
            "Took: 0.00 s\n",
            "Took: 0.00 s\n",
            "Took: 0.00 s\n",
            "Took: 0.00 s\n",
            "Took: 0.00 s\n",
            "Took: 0.00 s\n",
            "Took: 0.00 s\n",
            "Took: 0.00 s\n",
            "Took: 0.00 s\n",
            "Took: 0.00 s\n",
            "Took: 0.00 s\n",
            "Took: 0.00 s\n",
            "Took: 0.00 s\n",
            "Took: 0.00 s\n",
            "Took: 0.00 s\n",
            "Took: 0.00 s\n",
            "Took: 0.00 s\n",
            "Took: 0.00 s\n",
            "Took: 0.00 s\n",
            "Took: 0.00 s\n",
            "Took: 0.00 s\n",
            "Took: 0.00 s\n",
            "Took: 0.00 s\n",
            "Took: 0.00 s\n",
            "Took: 0.00 s\n",
            "Took: 0.00 s\n",
            "Took: 0.00 s\n",
            "Took: 0.00 s\n",
            "Took: 0.00 s\n",
            "Took: 0.00 s\n",
            "Took: 0.00 s\n",
            "Took: 0.00 s\n",
            "Took: 0.00 s\n",
            "Took: 0.00 s\n",
            "Took: 0.00 s\n",
            "Took: 0.00 s\n",
            "Took: 0.00 s\n",
            "Took: 0.00 s\n",
            "Took: 0.00 s\n",
            "Took: 0.00 s\n",
            "Took: 0.00 s\n",
            "Took: 0.00 s\n",
            "Took: 0.00 s\n",
            "Took: 0.00 s\n",
            "Took: 0.00 s\n",
            "Took: 0.00 s\n",
            "Took: 0.00 s\n",
            "Took: 0.00 s\n",
            "Took: 0.00 s\n",
            "Took: 0.00 s\n",
            "Took: 0.00 s\n",
            "Took: 0.00 s\n",
            "Took: 0.00 s\n",
            "Took: 0.00 s\n",
            "Took: 0.00 s\n",
            "Took: 0.00 s\n",
            "Took: 0.00 s\n",
            "Took: 0.00 s\n",
            "Took: 0.00 s\n",
            "Took: 0.00 s\n",
            "Took: 0.00 s\n",
            "Took: 0.00 s\n",
            "Took: 0.00 s\n",
            "Took: 0.00 s\n",
            "Took: 0.00 s\n",
            "Took: 0.00 s\n",
            "Took: 0.00 s\n",
            "Took: 0.00 s\n",
            "Took: 0.00 s\n",
            "Took: 0.00 s\n",
            "Took: 0.00 s\n",
            "Took: 0.00 s\n",
            "Took: 0.00 s\n",
            "Took: 0.00 s\n",
            "Took: 0.00 s\n",
            "Took: 0.00 s\n",
            "Took: 0.00 s\n",
            "Took: 0.00 s\n",
            "Took: 0.00 s\n",
            "Took: 0.00 s\n",
            "Took: 0.00 s\n",
            "Took: 0.00 s\n",
            "Took: 0.00 s\n",
            "Took: 0.00 s\n",
            "Took: 0.00 s\n",
            "Took: 0.00 s\n",
            "Took: 0.00 s\n",
            "Took: 0.00 s\n",
            "Took: 0.00 s\n",
            "Took: 0.00 s\n",
            "Took: 0.00 s\n",
            "Took: 0.00 s\n",
            "Took: 0.00 s\n",
            "Took: 0.00 s\n",
            "Took: 0.00 s\n",
            "Took: 0.00 s\n",
            "Took: 0.00 s\n",
            "Took: 0.00 s\n",
            "Took: 0.00 s\n",
            "Took: 0.00 s\n",
            "Took: 0.00 s\n",
            "Took: 0.00 s\n",
            "Took: 0.00 s\n",
            "Took: 0.00 s\n",
            "Took: 0.00 s\n",
            "Took: 0.00 s\n",
            "Took: 0.00 s\n",
            "Took: 0.00 s\n",
            "Took: 0.00 s\n",
            "Took: 0.00 s\n",
            "Took: 0.00 s\n",
            "Took: 0.00 s\n",
            "Took: 0.00 s\n",
            "Took: 0.00 s\n",
            "Took: 0.00 s\n",
            "Took: 0.00 s\n",
            "Took: 0.00 s\n",
            "Took: 0.00 s\n",
            "Took: 0.00 s\n",
            "Took: 0.00 s\n",
            "Took: 0.00 s\n",
            "Took: 0.00 s\n",
            "Took: 0.00 s\n",
            "Took: 0.00 s\n",
            "Took: 0.00 s\n",
            "Took: 0.00 s\n",
            "Took: 0.00 s\n",
            "Took: 0.00 s\n",
            "Took: 0.00 s\n",
            "Took: 0.00 s\n",
            "Took: 0.00 s\n",
            "Took: 0.00 s\n",
            "Took: 0.00 s\n",
            "Took: 0.00 s\n",
            "Took: 0.00 s\n",
            "Took: 0.00 s\n",
            "Took: 0.00 s\n",
            "Took: 0.00 s\n",
            "Took: 0.00 s\n",
            "Took: 0.00 s\n",
            "Took: 0.00 s\n",
            "Took: 0.00 s\n",
            "Took: 0.00 s\n",
            "Took: 0.00 s\n",
            "Took: 0.00 s\n",
            "Took: 0.00 s\n",
            "Took: 0.00 s\n",
            "Took: 0.00 s\n",
            "Took: 0.00 s\n",
            "Took: 0.00 s\n",
            "Took: 0.00 s\n",
            "Took: 0.01 s\n",
            "Took: 0.01 s\n",
            "Took: 0.01 s\n",
            "Took: 0.01 s\n",
            "Took: 0.01 s\n",
            "Took: 0.01 s\n",
            "Took: 0.01 s\n",
            "Took: 0.01 s\n",
            "Took: 0.01 s\n",
            "Took: 0.01 s\n",
            "Took: 0.01 s\n",
            "Took: 0.01 s\n",
            "Took: 0.01 s\n",
            "Took: 0.01 s\n",
            "Took: 0.01 s\n",
            "Took: 0.01 s\n",
            "Took: 0.01 s\n",
            "Took: 0.01 s\n",
            "Took: 0.01 s\n",
            "Took: 0.01 s\n",
            "Took: 0.01 s\n",
            "Took: 0.01 s\n",
            "Took: 0.01 s\n",
            "Took: 0.01 s\n",
            "Took: 0.01 s\n",
            "Took: 0.01 s\n",
            "Took: 0.01 s\n",
            "Took: 0.01 s\n",
            "Took: 0.01 s\n",
            "Took: 0.01 s\n",
            "Took: 0.01 s\n",
            "Took: 0.01 s\n",
            "Took: 0.01 s\n",
            "Took: 0.01 s\n",
            "Took: 0.01 s\n",
            "Took: 0.01 s\n",
            "Took: 0.01 s\n",
            "Took: 0.01 s\n",
            "Took: 0.01 s\n",
            "Took: 0.01 s\n",
            "Took: 0.01 s\n",
            "Took: 0.01 s\n",
            "Took: 0.01 s\n",
            "Took: 0.01 s\n",
            "Took: 0.01 s\n",
            "Took: 0.01 s\n",
            "Took: 0.01 s\n",
            "Took: 0.01 s\n",
            "Took: 0.01 s\n",
            "Took: 0.01 s\n",
            "Took: 0.01 s\n",
            "Took: 0.01 s\n",
            "Took: 0.01 s\n",
            "Took: 0.01 s\n",
            "Took: 0.01 s\n",
            "Took: 0.01 s\n",
            "Took: 0.01 s\n",
            "Took: 0.01 s\n",
            "Took: 0.01 s\n",
            "Took: 0.01 s\n",
            "Took: 0.01 s\n",
            "Took: 0.01 s\n",
            "Took: 0.01 s\n",
            "Took: 0.01 s\n",
            "Took: 0.01 s\n",
            "Took: 0.01 s\n",
            "Took: 0.01 s\n",
            "Took: 0.01 s\n",
            "Took: 0.01 s\n",
            "Took: 0.01 s\n",
            "Took: 0.01 s\n",
            "Took: 0.01 s\n",
            "Took: 0.01 s\n",
            "Took: 0.01 s\n",
            "Took: 0.01 s\n",
            "Took: 0.01 s\n",
            "Took: 0.01 s\n",
            "Took: 0.01 s\n",
            "Took: 0.01 s\n",
            "Took: 0.01 s\n",
            "Took: 0.01 s\n",
            "Took: 0.01 s\n",
            "Took: 0.01 s\n",
            "Took: 0.01 s\n",
            "Took: 0.01 s\n",
            "Took: 0.01 s\n",
            "Took: 0.01 s\n",
            "Took: 0.01 s\n",
            "Took: 0.01 s\n",
            "Took: 0.01 s\n",
            "Took: 0.01 s\n",
            "Took: 0.01 s\n",
            "Took: 0.01 s\n",
            "Took: 0.01 s\n",
            "Took: 0.01 s\n",
            "Took: 0.01 s\n",
            "Took: 0.01 s\n",
            "Took: 0.01 s\n",
            "Took: 0.01 s\n",
            "Took: 0.01 s\n",
            "Took: 0.01 s\n",
            "Took: 0.01 s\n",
            "Took: 0.01 s\n",
            "Took: 0.01 s\n",
            "Took: 0.01 s\n",
            "Took: 0.01 s\n",
            "Took: 0.01 s\n",
            "Took: 0.01 s\n",
            "Took: 0.01 s\n",
            "Took: 0.01 s\n",
            "Took: 0.01 s\n",
            "Took: 0.01 s\n",
            "Took: 0.01 s\n",
            "Took: 0.01 s\n",
            "Took: 0.01 s\n",
            "Took: 0.01 s\n",
            "Took: 0.01 s\n",
            "Took: 0.01 s\n",
            "Took: 0.01 s\n",
            "Took: 0.01 s\n",
            "Took: 0.01 s\n",
            "Took: 0.01 s\n",
            "Took: 0.01 s\n",
            "Took: 0.01 s\n",
            "Took: 0.01 s\n",
            "Took: 0.01 s\n",
            "Took: 0.01 s\n",
            "Took: 0.01 s\n",
            "Took: 0.01 s\n",
            "Took: 0.01 s\n",
            "Took: 0.01 s\n",
            "Took: 0.01 s\n",
            "Took: 0.01 s\n",
            "Took: 0.01 s\n",
            "Took: 0.01 s\n",
            "Took: 0.01 s\n",
            "Took: 0.01 s\n",
            "Took: 0.01 s\n",
            "Took: 0.01 s\n",
            "Took: 0.01 s\n",
            "Took: 0.01 s\n",
            "Took: 0.01 s\n",
            "Took: 0.01 s\n",
            "Took: 0.01 s\n",
            "Took: 0.01 s\n",
            "Took: 0.01 s\n",
            "Took: 0.01 s\n",
            "Took: 0.01 s\n",
            "Took: 0.01 s\n",
            "Took: 0.01 s\n",
            "Took: 0.01 s\n",
            "Took: 0.01 s\n",
            "Took: 0.01 s\n",
            "Took: 0.01 s\n",
            "Took: 0.01 s\n",
            "Took: 0.01 s\n",
            "Took: 0.01 s\n",
            "Took: 0.01 s\n",
            "Took: 0.01 s\n",
            "Took: 0.01 s\n",
            "Took: 0.01 s\n",
            "Took: 0.01 s\n",
            "Took: 0.01 s\n",
            "Took: 0.01 s\n",
            "Took: 0.01 s\n",
            "Took: 0.01 s\n",
            "Took: 0.01 s\n",
            "Took: 0.01 s\n",
            "Took: 0.01 s\n",
            "Took: 0.01 s\n",
            "Took: 0.01 s\n",
            "Took: 0.01 s\n",
            "Took: 0.01 s\n",
            "Took: 0.01 s\n",
            "Took: 0.01 s\n",
            "Took: 0.01 s\n",
            "Took: 0.01 s\n",
            "Took: 0.01 s\n",
            "Took: 0.01 s\n",
            "Took: 0.01 s\n",
            "Took: 0.01 s\n",
            "Took: 0.01 s\n",
            "Took: 0.01 s\n",
            "Took: 0.01 s\n",
            "Took: 0.01 s\n",
            "Took: 0.01 s\n",
            "Took: 0.01 s\n",
            "Took: 0.01 s\n",
            "Took: 0.01 s\n",
            "Took: 0.01 s\n",
            "Took: 0.01 s\n",
            "Took: 0.01 s\n",
            "Took: 0.01 s\n",
            "Took: 0.01 s\n",
            "Took: 0.01 s\n",
            "Took: 0.01 s\n",
            "Took: 0.01 s\n",
            "Took: 0.01 s\n",
            "Took: 0.01 s\n",
            "Took: 0.01 s\n",
            "Took: 0.01 s\n",
            "Took: 0.01 s\n",
            "Took: 0.01 s\n",
            "Took: 0.01 s\n",
            "Took: 0.01 s\n",
            "Took: 0.01 s\n",
            "Took: 0.01 s\n",
            "Took: 0.01 s\n",
            "Took: 0.01 s\n",
            "Took: 0.01 s\n",
            "Took: 0.01 s\n",
            "Took: 0.01 s\n",
            "Took: 0.01 s\n",
            "Took: 0.01 s\n",
            "Took: 0.01 s\n",
            "Took: 0.01 s\n",
            "Took: 0.01 s\n",
            "Took: 0.01 s\n",
            "Took: 0.01 s\n",
            "Took: 0.01 s\n",
            "Took: 0.01 s\n",
            "Took: 0.01 s\n",
            "Took: 0.01 s\n",
            "Took: 0.01 s\n",
            "Took: 0.01 s\n",
            "Took: 0.01 s\n",
            "Took: 0.01 s\n",
            "Took: 0.01 s\n",
            "Took: 0.01 s\n",
            "Took: 0.01 s\n",
            "Took: 0.01 s\n",
            "Took: 0.01 s\n",
            "Took: 0.01 s\n",
            "Took: 0.01 s\n",
            "Took: 0.01 s\n",
            "Took: 0.01 s\n",
            "Took: 0.01 s\n",
            "Took: 0.01 s\n",
            "Took: 0.01 s\n",
            "Took: 0.01 s\n",
            "Took: 0.01 s\n",
            "Took: 0.01 s\n",
            "Took: 0.01 s\n",
            "Took: 0.01 s\n",
            "Took: 0.01 s\n",
            "Took: 0.01 s\n",
            "Took: 0.01 s\n",
            "Took: 0.01 s\n",
            "Took: 0.01 s\n",
            "Took: 0.01 s\n",
            "Took: 0.01 s\n",
            "Took: 0.01 s\n",
            "Took: 0.01 s\n",
            "Took: 0.01 s\n",
            "Took: 0.01 s\n",
            "Took: 0.01 s\n",
            "Took: 0.01 s\n",
            "Took: 0.01 s\n",
            "Took: 0.01 s\n",
            "Took: 0.01 s\n",
            "Took: 0.01 s\n",
            "Took: 0.01 s\n",
            "Took: 0.01 s\n",
            "Took: 0.01 s\n",
            "Took: 0.01 s\n",
            "Took: 0.01 s\n",
            "Took: 0.01 s\n",
            "Took: 0.01 s\n",
            "Took: 0.01 s\n",
            "Took: 0.01 s\n",
            "Took: 0.01 s\n",
            "Took: 0.01 s\n",
            "Took: 0.01 s\n",
            "Took: 0.01 s\n",
            "Took: 0.01 s\n",
            "Took: 0.01 s\n",
            "Took: 0.01 s\n",
            "Took: 0.01 s\n",
            "Took: 0.01 s\n",
            "Took: 0.01 s\n",
            "Took: 0.01 s\n",
            "Took: 0.01 s\n",
            "Took: 0.01 s\n",
            "Took: 0.01 s\n",
            "Took: 0.01 s\n",
            "Took: 0.01 s\n",
            "Took: 0.01 s\n",
            "Took: 0.01 s\n",
            "Took: 0.01 s\n",
            "Took: 0.01 s\n",
            "Took: 0.01 s\n",
            "Took: 0.01 s\n",
            "Took: 0.01 s\n",
            "Took: 0.01 s\n",
            "Took: 0.01 s\n",
            "Took: 0.01 s\n",
            "Took: 0.01 s\n",
            "Took: 0.01 s\n",
            "Took: 0.01 s\n",
            "Took: 0.01 s\n",
            "Took: 0.01 s\n",
            "Took: 0.01 s\n",
            "Took: 0.01 s\n",
            "Took: 0.01 s\n",
            "Took: 0.01 s\n",
            "Took: 0.01 s\n",
            "Took: 0.01 s\n",
            "Took: 0.01 s\n",
            "Took: 0.01 s\n",
            "Took: 0.01 s\n",
            "Took: 0.01 s\n",
            "Took: 0.01 s\n",
            "Took: 0.01 s\n",
            "Took: 0.01 s\n",
            "Took: 0.01 s\n",
            "Took: 0.01 s\n",
            "Took: 0.01 s\n",
            "Took: 0.01 s\n",
            "Took: 0.01 s\n",
            "Took: 0.01 s\n",
            "Took: 0.01 s\n",
            "Took: 0.01 s\n",
            "Took: 0.01 s\n",
            "Took: 0.01 s\n",
            "Took: 0.01 s\n",
            "Took: 0.01 s\n",
            "Took: 0.01 s\n",
            "Took: 0.01 s\n",
            "Took: 0.01 s\n",
            "Took: 0.01 s\n",
            "Took: 0.01 s\n",
            "Took: 0.01 s\n",
            "Took: 0.01 s\n",
            "Took: 0.01 s\n",
            "Took: 0.01 s\n",
            "Took: 0.01 s\n",
            "Took: 0.01 s\n",
            "Took: 0.01 s\n",
            "Took: 0.01 s\n",
            "Took: 0.01 s\n",
            "Took: 0.01 s\n",
            "Took: 0.01 s\n",
            "Took: 0.01 s\n",
            "Took: 0.01 s\n",
            "Took: 0.01 s\n",
            "Took: 0.01 s\n",
            "Took: 0.01 s\n",
            "Took: 0.01 s\n",
            "Took: 0.01 s\n",
            "Took: 0.01 s\n",
            "Took: 0.01 s\n",
            "Took: 0.01 s\n",
            "Took: 0.01 s\n",
            "Took: 0.01 s\n",
            "Took: 0.01 s\n",
            "Took: 0.01 s\n",
            "Took: 0.01 s\n",
            "Took: 0.01 s\n",
            "Took: 0.01 s\n",
            "Took: 0.01 s\n",
            "Took: 0.01 s\n",
            "Took: 0.01 s\n",
            "Took: 0.01 s\n",
            "Took: 0.01 s\n",
            "Took: 0.01 s\n",
            "Took: 0.01 s\n",
            "Took: 0.01 s\n",
            "Took: 0.01 s\n",
            "Took: 0.01 s\n",
            "Took: 0.01 s\n",
            "Took: 0.01 s\n",
            "Took: 0.01 s\n",
            "Took: 0.01 s\n",
            "Took: 0.01 s\n",
            "Took: 0.01 s\n",
            "Took: 0.01 s\n",
            "Took: 0.01 s\n",
            "Took: 0.01 s\n",
            "Took: 0.01 s\n",
            "Took: 0.01 s\n",
            "Took: 0.01 s\n",
            "Took: 0.01 s\n",
            "Took: 0.01 s\n",
            "Took: 0.01 s\n",
            "Took: 0.01 s\n",
            "Took: 0.01 s\n",
            "Took: 0.01 s\n",
            "Took: 0.01 s\n",
            "Took: 0.01 s\n",
            "Took: 0.01 s\n",
            "Took: 0.01 s\n",
            "Took: 0.01 s\n",
            "Took: 0.01 s\n",
            "Took: 0.01 s\n",
            "Took: 0.01 s\n",
            "Took: 0.01 s\n",
            "Took: 0.01 s\n",
            "Took: 0.01 s\n",
            "Took: 0.01 s\n",
            "Took: 0.01 s\n",
            "Took: 0.01 s\n",
            "Took: 0.01 s\n",
            "Took: 0.01 s\n",
            "Took: 0.01 s\n",
            "Took: 0.01 s\n",
            "Took: 0.01 s\n",
            "Took: 0.01 s\n",
            "Took: 0.01 s\n",
            "Took: 0.01 s\n",
            "Took: 0.01 s\n",
            "Took: 0.01 s\n",
            "Took: 0.01 s\n",
            "Took: 0.01 s\n",
            "Took: 0.01 s\n",
            "Took: 0.01 s\n",
            "Took: 0.01 s\n",
            "Took: 0.01 s\n",
            "Took: 0.01 s\n",
            "Took: 0.01 s\n",
            "Took: 0.01 s\n",
            "Took: 0.01 s\n",
            "Took: 0.01 s\n",
            "Took: 0.01 s\n",
            "Took: 0.01 s\n",
            "Took: 0.01 s\n",
            "Took: 0.01 s\n",
            "Took: 0.01 s\n",
            "Took: 0.01 s\n",
            "Took: 0.01 s\n",
            "Took: 0.01 s\n",
            "Took: 0.01 s\n",
            "Took: 0.01 s\n",
            "Took: 0.01 s\n",
            "Took: 0.01 s\n",
            "Took: 0.01 s\n",
            "Took: 0.01 s\n",
            "Took: 0.01 s\n",
            "Took: 0.01 s\n",
            "Took: 0.01 s\n",
            "Took: 0.01 s\n",
            "Took: 0.01 s\n",
            "Took: 0.01 s\n",
            "Took: 0.01 s\n",
            "Took: 0.01 s\n",
            "Took: 0.01 s\n",
            "Took: 0.01 s\n",
            "Took: 0.01 s\n",
            "Took: 0.01 s\n",
            "Took: 0.01 s\n",
            "Took: 0.01 s\n",
            "Took: 0.01 s\n",
            "Took: 0.01 s\n",
            "Took: 0.01 s\n",
            "Took: 0.01 s\n",
            "Took: 0.01 s\n",
            "Took: 0.01 s\n",
            "Took: 0.01 s\n",
            "Took: 0.01 s\n",
            "Took: 0.01 s\n",
            "Took: 0.01 s\n",
            "Took: 0.01 s\n",
            "Took: 0.01 s\n",
            "Took: 0.01 s\n",
            "Took: 0.01 s\n",
            "Took: 0.01 s\n",
            "Took: 0.01 s\n",
            "Took: 0.01 s\n",
            "Took: 0.01 s\n",
            "Took: 0.01 s\n",
            "Took: 0.01 s\n",
            "Took: 0.01 s\n",
            "Took: 0.01 s\n",
            "Took: 0.01 s\n",
            "Took: 0.01 s\n",
            "Took: 0.01 s\n",
            "Took: 0.01 s\n",
            "Took: 0.01 s\n",
            "Took: 0.01 s\n",
            "Took: 0.01 s\n",
            "Took: 0.01 s\n",
            "Took: 0.01 s\n",
            "Took: 0.01 s\n",
            "Took: 0.01 s\n",
            "Took: 0.01 s\n",
            "Took: 0.01 s\n",
            "Took: 0.01 s\n",
            "Took: 0.01 s\n",
            "Took: 0.01 s\n",
            "Took: 0.01 s\n",
            "Took: 0.01 s\n",
            "Took: 0.01 s\n",
            "Took: 0.01 s\n",
            "Took: 0.01 s\n",
            "Took: 0.01 s\n",
            "Took: 0.01 s\n",
            "Took: 0.01 s\n",
            "Took: 0.01 s\n",
            "Took: 0.01 s\n",
            "Took: 0.01 s\n",
            "Took: 0.01 s\n",
            "Took: 0.01 s\n",
            "Took: 0.01 s\n",
            "Took: 0.01 s\n",
            "Took: 0.01 s\n",
            "Took: 0.01 s\n",
            "Took: 0.01 s\n",
            "Took: 0.01 s\n",
            "Took: 0.01 s\n",
            "Took: 0.01 s\n",
            "Took: 0.01 s\n",
            "Took: 0.01 s\n",
            "Took: 0.01 s\n",
            "Took: 0.01 s\n",
            "Took: 0.01 s\n",
            "Took: 0.01 s\n",
            "Took: 0.01 s\n",
            "Took: 0.01 s\n",
            "Took: 0.01 s\n",
            "Took: 0.01 s\n",
            "Took: 0.01 s\n",
            "Took: 0.01 s\n",
            "Took: 0.01 s\n",
            "Took: 0.01 s\n",
            "Took: 0.01 s\n",
            "Took: 0.01 s\n",
            "Took: 0.01 s\n",
            "Took: 0.01 s\n",
            "Took: 0.01 s\n",
            "Took: 0.01 s\n",
            "Took: 0.01 s\n",
            "Took: 0.01 s\n",
            "Took: 0.01 s\n",
            "Took: 0.01 s\n",
            "Took: 0.01 s\n",
            "Took: 0.01 s\n",
            "Took: 0.01 s\n",
            "Took: 0.01 s\n",
            "Took: 0.01 s\n",
            "Took: 0.01 s\n",
            "Took: 0.01 s\n",
            "Took: 0.01 s\n",
            "Took: 0.01 s\n",
            "Took: 0.01 s\n",
            "Took: 0.01 s\n",
            "Took: 0.01 s\n",
            "Took: 0.01 s\n",
            "Took: 0.01 s\n",
            "Took: 0.01 s\n",
            "Took: 0.01 s\n",
            "Took: 0.01 s\n",
            "Took: 0.01 s\n",
            "Took: 0.01 s\n",
            "Took: 0.01 s\n",
            "Took: 0.01 s\n",
            "Took: 0.01 s\n",
            "Took: 0.01 s\n",
            "Took: 0.01 s\n",
            "Took: 0.01 s\n",
            "Took: 0.01 s\n",
            "Took: 0.01 s\n",
            "Took: 0.01 s\n",
            "Took: 0.01 s\n",
            "Took: 0.01 s\n",
            "Took: 0.01 s\n",
            "Took: 0.01 s\n",
            "Took: 0.01 s\n",
            "Took: 0.01 s\n",
            "Took: 0.01 s\n",
            "Took: 0.01 s\n",
            "Took: 0.01 s\n",
            "Took: 0.01 s\n",
            "Took: 0.01 s\n",
            "Took: 0.01 s\n",
            "Took: 0.01 s\n",
            "Took: 0.01 s\n",
            "Took: 0.01 s\n",
            "Took: 0.01 s\n",
            "Took: 0.01 s\n",
            "Took: 0.01 s\n",
            "Took: 0.01 s\n",
            "Took: 0.01 s\n",
            "Took: 0.01 s\n",
            "Took: 0.01 s\n",
            "Took: 0.01 s\n",
            "Took: 0.01 s\n",
            "Took: 0.01 s\n",
            "Took: 0.01 s\n",
            "Took: 0.01 s\n",
            "Took: 0.01 s\n",
            "Took: 0.01 s\n",
            "Took: 0.01 s\n",
            "Took: 0.01 s\n",
            "Took: 0.01 s\n",
            "Took: 0.01 s\n",
            "Took: 0.01 s\n",
            "Took: 0.01 s\n",
            "Took: 0.01 s\n",
            "Took: 0.01 s\n",
            "Took: 0.01 s\n",
            "Took: 0.01 s\n",
            "Took: 0.01 s\n",
            "Took: 0.01 s\n",
            "Took: 0.01 s\n",
            "Took: 0.01 s\n",
            "Took: 0.01 s\n",
            "Took: 0.01 s\n",
            "Took: 0.01 s\n",
            "Took: 0.01 s\n",
            "Took: 0.01 s\n",
            "Took: 0.01 s\n",
            "Took: 0.01 s\n",
            "Took: 0.01 s\n",
            "Took: 0.01 s\n",
            "Took: 0.01 s\n",
            "Took: 0.01 s\n",
            "Took: 0.01 s\n",
            "Took: 0.01 s\n",
            "Took: 0.01 s\n",
            "Took: 0.01 s\n",
            "Took: 0.01 s\n",
            "Took: 0.01 s\n",
            "Took: 0.01 s\n",
            "Took: 0.01 s\n",
            "Took: 0.01 s\n",
            "Took: 0.01 s\n",
            "Took: 0.01 s\n",
            "Took: 0.01 s\n",
            "Took: 0.01 s\n",
            "Took: 0.01 s\n",
            "Took: 0.01 s\n",
            "Took: 0.01 s\n",
            "Took: 0.01 s\n",
            "Took: 0.01 s\n",
            "Took: 0.01 s\n",
            "Took: 0.01 s\n",
            "Took: 0.01 s\n",
            "Took: 0.01 s\n",
            "Took: 0.01 s\n",
            "Took: 0.01 s\n",
            "Took: 0.01 s\n",
            "Took: 0.01 s\n",
            "Took: 0.01 s\n",
            "Took: 0.01 s\n",
            "Took: 0.01 s\n",
            "Took: 0.01 s\n",
            "Took: 0.01 s\n",
            "Took: 0.01 s\n",
            "Took: 0.01 s\n",
            "Took: 0.01 s\n",
            "Took: 0.01 s\n",
            "Took: 0.01 s\n",
            "Took: 0.01 s\n",
            "Took: 0.01 s\n",
            "Took: 0.01 s\n",
            "Took: 0.02 s\n",
            "Took: 0.02 s\n",
            "Took: 0.02 s\n",
            "Took: 0.02 s\n",
            "Took: 0.02 s\n",
            "Took: 0.02 s\n",
            "Took: 0.02 s\n",
            "Took: 0.02 s\n",
            "Took: 0.02 s\n",
            "Took: 0.02 s\n",
            "Took: 0.02 s\n",
            "Took: 0.02 s\n",
            "Took: 0.02 s\n",
            "Took: 0.02 s\n",
            "Took: 0.02 s\n",
            "Took: 0.02 s\n",
            "Took: 0.02 s\n",
            "Took: 0.02 s\n",
            "Took: 0.02 s\n",
            "Took: 0.02 s\n",
            "Took: 0.02 s\n",
            "Took: 0.02 s\n",
            "Took: 0.02 s\n",
            "Took: 0.02 s\n",
            "Took: 0.02 s\n",
            "Took: 0.02 s\n",
            "Took: 0.02 s\n",
            "Took: 0.02 s\n",
            "Took: 0.02 s\n",
            "Took: 0.02 s\n",
            "Took: 0.02 s\n",
            "Took: 0.02 s\n"
          ]
        }
      ]
    },
    {
      "cell_type": "code",
      "source": [
        "t0 = time.time()\n",
        "for _ in range(1000):\n",
        "  z = naive_add(x,y)\n",
        "  z = naive_relu(z)\n",
        "print(\"Took: {0:.2f} s\".format(time.time() - t0))"
      ],
      "metadata": {
        "colab": {
          "base_uri": "https://localhost:8080/"
        },
        "id": "b8fV5oQKfhBX",
        "outputId": "887c82e7-d328-412f-9a57-cf04548d6d27"
      },
      "execution_count": 93,
      "outputs": [
        {
          "output_type": "stream",
          "name": "stdout",
          "text": [
            "Took: 1.93 s\n"
          ]
        }
      ]
    },
    {
      "cell_type": "markdown",
      "source": [
        "# Broadcast\n",
        "\n",
        "farklı shape'e ve boyuta sahip tensörlerde işlem yapmak. 2D bir tensor ile 1D vektör toplanacaksa, vektör tüm 2D elemanlarına uygulanır (broadcast edilir).\n"
      ],
      "metadata": {
        "id": "Chrigm1oggYA"
      }
    },
    {
      "cell_type": "code",
      "source": [
        "import numpy as np\n",
        "x = np.random.random((32, 10)) # 32 x 10 matris\n",
        "y = np.random.random((10,)) # 10 x 1 vector\n",
        "print(f\"x_dim : {x.ndim} and x_shape : {x.shape}\\ny_dim : {y.ndim} and y_shape : {y.shape}\")\n",
        "y"
      ],
      "metadata": {
        "colab": {
          "base_uri": "https://localhost:8080/"
        },
        "id": "Sw6T3bZ2f1WZ",
        "outputId": "8571b0e4-c4c2-4721-929d-d3744729fd8a"
      },
      "execution_count": 115,
      "outputs": [
        {
          "output_type": "stream",
          "name": "stdout",
          "text": [
            "x_dim : 2 and x_shape : (32, 10)\n",
            "y_dim : 1 and y_shape : (10,)\n"
          ]
        },
        {
          "output_type": "execute_result",
          "data": {
            "text/plain": [
              "array([0.74454922, 0.33619262, 0.21255552, 0.68579545, 0.15154048,\n",
              "       0.89750789, 0.31898802, 0.55759564, 0.15320677, 0.35310577])"
            ]
          },
          "metadata": {},
          "execution_count": 115
        }
      ]
    },
    {
      "cell_type": "code",
      "source": [
        "y = np.expand_dims(y, axis = 0)\n",
        "print(f\"y_dim : {y.ndim} and y_shape : {y.shape}\")"
      ],
      "metadata": {
        "colab": {
          "base_uri": "https://localhost:8080/"
        },
        "id": "34565VWTg0Lo",
        "outputId": "971269da-e4d7-468d-ed23-fe1d65ca6e81"
      },
      "execution_count": 116,
      "outputs": [
        {
          "output_type": "stream",
          "name": "stdout",
          "text": [
            "y_dim : 2 and y_shape : (1, 10)\n"
          ]
        }
      ]
    },
    {
      "cell_type": "code",
      "source": [
        "y"
      ],
      "metadata": {
        "colab": {
          "base_uri": "https://localhost:8080/"
        },
        "id": "mDghtQyfhF7n",
        "outputId": "ec78349b-af69-481f-b67f-fd043d433d4e"
      },
      "execution_count": 117,
      "outputs": [
        {
          "output_type": "execute_result",
          "data": {
            "text/plain": [
              "array([[0.74454922, 0.33619262, 0.21255552, 0.68579545, 0.15154048,\n",
              "        0.89750789, 0.31898802, 0.55759564, 0.15320677, 0.35310577]])"
            ]
          },
          "metadata": {},
          "execution_count": 117
        }
      ]
    },
    {
      "cell_type": "code",
      "source": [
        "y = np.concatenate([y] * 32, axis=0)\n",
        "print(f\"y_dim : {y.ndim} and y_shape : {y.shape}\")\n",
        "y"
      ],
      "metadata": {
        "colab": {
          "base_uri": "https://localhost:8080/"
        },
        "id": "5I_9VYr2g0Z6",
        "outputId": "92dd46c8-aed4-4ce5-9888-4182b3550a1b"
      },
      "execution_count": 118,
      "outputs": [
        {
          "output_type": "stream",
          "name": "stdout",
          "text": [
            "y_dim : 2 and y_shape : (32, 10)\n"
          ]
        },
        {
          "output_type": "execute_result",
          "data": {
            "text/plain": [
              "array([[0.74454922, 0.33619262, 0.21255552, 0.68579545, 0.15154048,\n",
              "        0.89750789, 0.31898802, 0.55759564, 0.15320677, 0.35310577],\n",
              "       [0.74454922, 0.33619262, 0.21255552, 0.68579545, 0.15154048,\n",
              "        0.89750789, 0.31898802, 0.55759564, 0.15320677, 0.35310577],\n",
              "       [0.74454922, 0.33619262, 0.21255552, 0.68579545, 0.15154048,\n",
              "        0.89750789, 0.31898802, 0.55759564, 0.15320677, 0.35310577],\n",
              "       [0.74454922, 0.33619262, 0.21255552, 0.68579545, 0.15154048,\n",
              "        0.89750789, 0.31898802, 0.55759564, 0.15320677, 0.35310577],\n",
              "       [0.74454922, 0.33619262, 0.21255552, 0.68579545, 0.15154048,\n",
              "        0.89750789, 0.31898802, 0.55759564, 0.15320677, 0.35310577],\n",
              "       [0.74454922, 0.33619262, 0.21255552, 0.68579545, 0.15154048,\n",
              "        0.89750789, 0.31898802, 0.55759564, 0.15320677, 0.35310577],\n",
              "       [0.74454922, 0.33619262, 0.21255552, 0.68579545, 0.15154048,\n",
              "        0.89750789, 0.31898802, 0.55759564, 0.15320677, 0.35310577],\n",
              "       [0.74454922, 0.33619262, 0.21255552, 0.68579545, 0.15154048,\n",
              "        0.89750789, 0.31898802, 0.55759564, 0.15320677, 0.35310577],\n",
              "       [0.74454922, 0.33619262, 0.21255552, 0.68579545, 0.15154048,\n",
              "        0.89750789, 0.31898802, 0.55759564, 0.15320677, 0.35310577],\n",
              "       [0.74454922, 0.33619262, 0.21255552, 0.68579545, 0.15154048,\n",
              "        0.89750789, 0.31898802, 0.55759564, 0.15320677, 0.35310577],\n",
              "       [0.74454922, 0.33619262, 0.21255552, 0.68579545, 0.15154048,\n",
              "        0.89750789, 0.31898802, 0.55759564, 0.15320677, 0.35310577],\n",
              "       [0.74454922, 0.33619262, 0.21255552, 0.68579545, 0.15154048,\n",
              "        0.89750789, 0.31898802, 0.55759564, 0.15320677, 0.35310577],\n",
              "       [0.74454922, 0.33619262, 0.21255552, 0.68579545, 0.15154048,\n",
              "        0.89750789, 0.31898802, 0.55759564, 0.15320677, 0.35310577],\n",
              "       [0.74454922, 0.33619262, 0.21255552, 0.68579545, 0.15154048,\n",
              "        0.89750789, 0.31898802, 0.55759564, 0.15320677, 0.35310577],\n",
              "       [0.74454922, 0.33619262, 0.21255552, 0.68579545, 0.15154048,\n",
              "        0.89750789, 0.31898802, 0.55759564, 0.15320677, 0.35310577],\n",
              "       [0.74454922, 0.33619262, 0.21255552, 0.68579545, 0.15154048,\n",
              "        0.89750789, 0.31898802, 0.55759564, 0.15320677, 0.35310577],\n",
              "       [0.74454922, 0.33619262, 0.21255552, 0.68579545, 0.15154048,\n",
              "        0.89750789, 0.31898802, 0.55759564, 0.15320677, 0.35310577],\n",
              "       [0.74454922, 0.33619262, 0.21255552, 0.68579545, 0.15154048,\n",
              "        0.89750789, 0.31898802, 0.55759564, 0.15320677, 0.35310577],\n",
              "       [0.74454922, 0.33619262, 0.21255552, 0.68579545, 0.15154048,\n",
              "        0.89750789, 0.31898802, 0.55759564, 0.15320677, 0.35310577],\n",
              "       [0.74454922, 0.33619262, 0.21255552, 0.68579545, 0.15154048,\n",
              "        0.89750789, 0.31898802, 0.55759564, 0.15320677, 0.35310577],\n",
              "       [0.74454922, 0.33619262, 0.21255552, 0.68579545, 0.15154048,\n",
              "        0.89750789, 0.31898802, 0.55759564, 0.15320677, 0.35310577],\n",
              "       [0.74454922, 0.33619262, 0.21255552, 0.68579545, 0.15154048,\n",
              "        0.89750789, 0.31898802, 0.55759564, 0.15320677, 0.35310577],\n",
              "       [0.74454922, 0.33619262, 0.21255552, 0.68579545, 0.15154048,\n",
              "        0.89750789, 0.31898802, 0.55759564, 0.15320677, 0.35310577],\n",
              "       [0.74454922, 0.33619262, 0.21255552, 0.68579545, 0.15154048,\n",
              "        0.89750789, 0.31898802, 0.55759564, 0.15320677, 0.35310577],\n",
              "       [0.74454922, 0.33619262, 0.21255552, 0.68579545, 0.15154048,\n",
              "        0.89750789, 0.31898802, 0.55759564, 0.15320677, 0.35310577],\n",
              "       [0.74454922, 0.33619262, 0.21255552, 0.68579545, 0.15154048,\n",
              "        0.89750789, 0.31898802, 0.55759564, 0.15320677, 0.35310577],\n",
              "       [0.74454922, 0.33619262, 0.21255552, 0.68579545, 0.15154048,\n",
              "        0.89750789, 0.31898802, 0.55759564, 0.15320677, 0.35310577],\n",
              "       [0.74454922, 0.33619262, 0.21255552, 0.68579545, 0.15154048,\n",
              "        0.89750789, 0.31898802, 0.55759564, 0.15320677, 0.35310577],\n",
              "       [0.74454922, 0.33619262, 0.21255552, 0.68579545, 0.15154048,\n",
              "        0.89750789, 0.31898802, 0.55759564, 0.15320677, 0.35310577],\n",
              "       [0.74454922, 0.33619262, 0.21255552, 0.68579545, 0.15154048,\n",
              "        0.89750789, 0.31898802, 0.55759564, 0.15320677, 0.35310577],\n",
              "       [0.74454922, 0.33619262, 0.21255552, 0.68579545, 0.15154048,\n",
              "        0.89750789, 0.31898802, 0.55759564, 0.15320677, 0.35310577],\n",
              "       [0.74454922, 0.33619262, 0.21255552, 0.68579545, 0.15154048,\n",
              "        0.89750789, 0.31898802, 0.55759564, 0.15320677, 0.35310577]])"
            ]
          },
          "metadata": {},
          "execution_count": 118
        }
      ]
    },
    {
      "cell_type": "code",
      "source": [
        "def naive_add_matrix_and_vector(x,y):\n",
        "  assert len(x.shape) == 2\n",
        "  assert len(y.shape) == 1\n",
        "  x = x.copy()\n",
        "\n",
        "  for i in range(x.shape[0]):\n",
        "    for j in range(x.shape[1]):\n",
        "      x[i, j] += y[i, j]\n",
        "  return x"
      ],
      "metadata": {
        "id": "kZhjNgDSiRU3"
      },
      "execution_count": 122,
      "outputs": []
    },
    {
      "cell_type": "code",
      "source": [
        "# peki hangi değişken broadcast yapılmasına daha uygun\n",
        "\n",
        "x = np.random.random((64, 3, 32, 10))\n",
        "y = np.random.random((32,10))\n",
        "z = np.maximum(x,y)\n",
        "print(z.shape)"
      ],
      "metadata": {
        "colab": {
          "base_uri": "https://localhost:8080/"
        },
        "id": "g1EUFtrh2KyF",
        "outputId": "1bc7f18f-9531-42db-b593-a8c00f6fd523"
      },
      "execution_count": 125,
      "outputs": [
        {
          "output_type": "stream",
          "name": "stdout",
          "text": [
            "(64, 3, 32, 10)\n"
          ]
        }
      ]
    },
    {
      "cell_type": "code",
      "source": [],
      "metadata": {
        "id": "dIyz1y0E2j4W"
      },
      "execution_count": null,
      "outputs": []
    },
    {
      "cell_type": "markdown",
      "source": [
        "# tensor çarpımı -> nokta çarpımı\n"
      ],
      "metadata": {
        "id": "Eck87hVn2rF-"
      }
    },
    {
      "cell_type": "code",
      "source": [
        "x = np.random.random((32,))\n",
        "y = np.random.random((32,))\n",
        "z = np.dot(x,y)\n",
        "print(f\"z.shape: {z.shape} çünkü z.ndim: {z.ndim} -> skaler bir sayı\")"
      ],
      "metadata": {
        "colab": {
          "base_uri": "https://localhost:8080/"
        },
        "id": "h0y7pZ_v2ta2",
        "outputId": "11b20c82-0e74-487d-8bd3-212efd6760f8"
      },
      "execution_count": 134,
      "outputs": [
        {
          "output_type": "stream",
          "name": "stdout",
          "text": [
            "z.shape: () çünkü z.ndim: 0 -> skaler bir sayı\n"
          ]
        }
      ]
    },
    {
      "cell_type": "code",
      "source": [
        "def naive_vector_dot(x,y):\n",
        "  assert len(x.shape) == 1\n",
        "  assert len(y.shape) == 1\n",
        "  assert x.shape[0] == y.shape[0]\n",
        "  z = 0.\n",
        "  for i in range(x.shape[0]):\n",
        "    z += x[i] * y[i]\n",
        "  return z\n",
        "\n",
        "print(f\"{naive_vector_dot(x,y)} vs {np.dot(x,y)}\")\n"
      ],
      "metadata": {
        "colab": {
          "base_uri": "https://localhost:8080/"
        },
        "id": "Cq-KIrPy24O-",
        "outputId": "4e95b3ae-0b58-49cd-ccb1-c3004e0aacf5"
      },
      "execution_count": 150,
      "outputs": [
        {
          "output_type": "stream",
          "name": "stdout",
          "text": [
            "9.525104966109826 vs 9.525104966109827\n"
          ]
        }
      ]
    },
    {
      "cell_type": "code",
      "source": [
        "a = np.array([3,2,1])\n",
        "b = np.array([4,5,6])\n",
        "c = np.array([[7,2,5], [4, 1, 6]])\n",
        "print(np.dot(a,b))"
      ],
      "metadata": {
        "colab": {
          "base_uri": "https://localhost:8080/"
        },
        "id": "ko143ARB33qn",
        "outputId": "f8327b85-6938-4a34-d76d-e3244396f4fc"
      },
      "execution_count": 166,
      "outputs": [
        {
          "output_type": "stream",
          "name": "stdout",
          "text": [
            "28\n"
          ]
        }
      ]
    },
    {
      "cell_type": "code",
      "source": [
        "a.shape, b.shape, c.shape\n"
      ],
      "metadata": {
        "colab": {
          "base_uri": "https://localhost:8080/"
        },
        "id": "U0Ie8evY4vNq",
        "outputId": "33f48cc4-8340-456a-b217-6a93d494ef2d"
      },
      "execution_count": 167,
      "outputs": [
        {
          "output_type": "execute_result",
          "data": {
            "text/plain": [
              "((3,), (3,), (2, 3))"
            ]
          },
          "metadata": {},
          "execution_count": 167
        }
      ]
    },
    {
      "cell_type": "code",
      "source": [
        "def naive_matrix_vector_dot(x,y):\n",
        "  assert len(x.shape) == 2\n",
        "  assert len(y.shape) == 1\n",
        "  assert x.shape[1] == y.shape[0]\n",
        "  z = np.zeros(x.shape[0])\n",
        "  for i in range(x.shape[0]):\n",
        "    for j in range(x.shape[1]):\n",
        "      z[i] += x[i, j] * y[j]\n",
        "  return z\n",
        "\n",
        "naive_matrix_vector_dot(c,a)"
      ],
      "metadata": {
        "colab": {
          "base_uri": "https://localhost:8080/"
        },
        "id": "n1Sd8GtZ6gXw",
        "outputId": "3ae499b2-6e48-4843-af31-2a2a119aebc4"
      },
      "execution_count": 176,
      "outputs": [
        {
          "output_type": "execute_result",
          "data": {
            "text/plain": [
              "array([30., 20.])"
            ]
          },
          "metadata": {},
          "execution_count": 176
        }
      ]
    },
    {
      "cell_type": "code",
      "source": [
        "def naive_matrix_vector_dot(x,y):\n",
        "  z = np.zeros(x.shape[0])\n",
        "  for i in range(x.shape[0]):\n",
        "    z[i] = naive_vector_dot(x[i,:], y)\n",
        "  return z\n",
        "\n",
        "naive_matrix_vector_dot(c,a)"
      ],
      "metadata": {
        "colab": {
          "base_uri": "https://localhost:8080/"
        },
        "id": "Qp27FApe7OOM",
        "outputId": "380704c6-7016-4a56-e2cc-29dfba8dbeab"
      },
      "execution_count": 175,
      "outputs": [
        {
          "output_type": "execute_result",
          "data": {
            "text/plain": [
              "array([30., 20.])"
            ]
          },
          "metadata": {},
          "execution_count": 175
        }
      ]
    },
    {
      "cell_type": "code",
      "source": [
        "c = np.array([[7,2], [4, 1]])\n",
        "d = np.array([[3,1,6], [7, 4, 9]])\n",
        "\n",
        "def naive_matrix_dot(x,y):\n",
        "  assert x.shape[0] == 2\n",
        "  assert y.shape[0] == 2\n",
        "  assert x.shape[1] == y.shape[0]\n",
        "  z = np.zeros((x.shape[0],  y.shape[1]))\n",
        "\n",
        "  for i in range(x.shape[0],):\n",
        "    for j in range(y.shape[1]):\n",
        "      row_x = x[i, : ]\n",
        "      column_y = y[:, j]\n",
        "      z[i, j] = naive_vector_dot(row_x, column_y)\n",
        "  return z\n",
        "\n",
        "\n",
        "naive_matrix_dot(c,d)"
      ],
      "metadata": {
        "colab": {
          "base_uri": "https://localhost:8080/"
        },
        "id": "hpJijbHK9EyX",
        "outputId": "806c13d3-39bb-4ff9-8d8e-3b08317a5b6c"
      },
      "execution_count": 191,
      "outputs": [
        {
          "output_type": "execute_result",
          "data": {
            "text/plain": [
              "array([[35., 15., 60.],\n",
              "       [19.,  8., 33.]])"
            ]
          },
          "metadata": {},
          "execution_count": 191
        }
      ]
    },
    {
      "cell_type": "code",
      "source": [],
      "metadata": {
        "id": "Aw12R_xb9gZ9"
      },
      "execution_count": null,
      "outputs": []
    },
    {
      "cell_type": "markdown",
      "source": [
        "# MATRİSLERDE İŞLEMLERİ DAHA İYİ ANLAMAK İÇİN EGZERSİZLER\n",
        "Matrislerde işlem yapmaya daha da aşina olabilmek için uygulamalı lineer cebir kitabındaki örnekleri çözüyorum"
      ],
      "metadata": {
        "id": "wR5f3XYdCJp5"
      }
    },
    {
      "cell_type": "code",
      "source": [
        "# matrislerde toplama\n",
        "\n",
        "A = np.array([[1,-2,3],\n",
        "              [2,-1,4]\n",
        "              ])\n",
        "B = np.array([[0,2,1],\n",
        "              [1,3,-4]\n",
        "              ])\n",
        "\n",
        "print(f\"A: {A.shape} vs B: {B.shape}\")\n",
        "\n",
        "print(f\"{A + B}\")\n",
        "\n",
        "z = np.zeros((A.shape[0], A.shape[1]))\n",
        "for i in range(A.shape[0]):\n",
        "  for j in range(A.shape[1]):\n",
        "    z[i, j] = A[i, j] + B[i, j]\n",
        "print(f\"{z}\")\n"
      ],
      "metadata": {
        "colab": {
          "base_uri": "https://localhost:8080/"
        },
        "id": "pdIwblh8CStH",
        "outputId": "01e39083-af4d-4eb0-8dea-de82003f329c"
      },
      "execution_count": 200,
      "outputs": [
        {
          "output_type": "stream",
          "name": "stdout",
          "text": [
            "A: (2, 3) vs B: (2, 3)\n",
            "[[1 0 4]\n",
            " [3 2 0]]\n",
            "[[1. 0. 4.]\n",
            " [3. 2. 0.]]\n"
          ]
        }
      ]
    },
    {
      "cell_type": "code",
      "source": [
        "# skalar çarpım\n",
        "A = np.array(-2)\n",
        "B = np.array([[4,-2,-3],\n",
        "              [7,-3,2]\n",
        "              ])\n",
        "\n",
        "z = np.zeros((B.shape[0], B.shape[1]))\n",
        "for i in range(B.shape[0]):\n",
        "  for j in range(B.shape[1]):\n",
        "    z[i,j] += A * B[i,j]\n",
        "print(z)\n",
        "\n",
        "\n",
        "print(A*B)"
      ],
      "metadata": {
        "colab": {
          "base_uri": "https://localhost:8080/"
        },
        "id": "5mJBG3bfCr-0",
        "outputId": "eda7e355-5b92-4e14-c574-84c67c07d9f5"
      },
      "execution_count": 233,
      "outputs": [
        {
          "output_type": "stream",
          "name": "stdout",
          "text": [
            "[[ -8.   4.   6.]\n",
            " [-14.   6.  -4.]]\n",
            "[[ -8   4   6]\n",
            " [-14   6  -4]]\n"
          ]
        }
      ]
    },
    {
      "cell_type": "code",
      "source": [
        "# matris farkı\n",
        "A = np.array([[2,3,-5],\n",
        "              [4,2,1]\n",
        "              ])\n",
        "\n",
        "B = np.array([[2,-1,3],\n",
        "              [3,5,-2]\n",
        "              ])\n",
        "\n",
        "A = A.copy()\n",
        "\n",
        "for i in range(A.shape[0]):\n",
        "  for j in range(A.shape[1]):\n",
        "      A[i, j] -= B[i, j]\n",
        "\n",
        "A"
      ],
      "metadata": {
        "colab": {
          "base_uri": "https://localhost:8080/"
        },
        "id": "XzPwEfeUEErK",
        "outputId": "23e88592-8699-45c4-c0ae-d5259b62d41f"
      },
      "execution_count": 237,
      "outputs": [
        {
          "output_type": "execute_result",
          "data": {
            "text/plain": [
              "array([[ 0,  4, -8],\n",
              "       [ 1, -3,  3]])"
            ]
          },
          "metadata": {},
          "execution_count": 237
        }
      ]
    },
    {
      "cell_type": "code",
      "source": [
        "A = np.array([\n",
        "    [0, -3, 5],\n",
        "    [2,3,4],\n",
        "    [1,-2,-3]])\n",
        "\n",
        "B = np.array([\n",
        "    [5, 2, 3],\n",
        "    [6,2,3],\n",
        "    [-1,-2,3]\n",
        "])\n",
        "\n",
        "z = np.dot(3,A) - np.dot(0.5, B)\n",
        "z"
      ],
      "metadata": {
        "colab": {
          "base_uri": "https://localhost:8080/"
        },
        "id": "XSg-wR-8Gc6k",
        "outputId": "44d9cb26-6d19-472b-ac09-39c719c19409"
      },
      "execution_count": 242,
      "outputs": [
        {
          "output_type": "execute_result",
          "data": {
            "text/plain": [
              "array([[ -2.5, -10. ,  13.5],\n",
              "       [  3. ,   8. ,  10.5],\n",
              "       [  3.5,  -5. , -10.5]])"
            ]
          },
          "metadata": {},
          "execution_count": 242
        }
      ]
    },
    {
      "cell_type": "code",
      "source": [],
      "metadata": {
        "id": "X1gU4q4HHdnM"
      },
      "execution_count": null,
      "outputs": []
    },
    {
      "cell_type": "markdown",
      "source": [
        "# Tensor reshaping\n",
        "satır ve sütunları tekrardan düzenliyoruz\n"
      ],
      "metadata": {
        "id": "qxQEdZ3CIjUD"
      }
    },
    {
      "cell_type": "code",
      "source": [
        "x = np.array([\n",
        "    [0., 1.],\n",
        "    [2., 3.],\n",
        "    [4., 5.]\n",
        "])\n",
        "\n",
        "print(x.shape,end=\"\\n--------------\\n\")\n",
        "x = x.reshape((6,1))\n",
        "print(x)\n",
        "print(x.shape,end=\"\\n--------------\\n\")\n",
        "x = x.reshape((2,3))\n",
        "print(x)\n",
        "print(x.shape,end=\"\\n--------------\\n\")\n",
        "\"\"\"\n",
        "burada\n",
        "0 2 4\n",
        "1 3 5\n",
        "\n",
        "şeklinde transpoz almak yerine\n",
        "\n",
        "0 1 2\n",
        "3 4 5\n",
        "\n",
        "geldi çünkü reshape öncelikle hepsini tek bir satıra alıyor \"flatten\" yapıyor\n",
        "[0 1 2 3 4 5] oluyor ve sonrasında ayırıyor\n",
        "\n",
        "\"\"\""
      ],
      "metadata": {
        "colab": {
          "base_uri": "https://localhost:8080/",
          "height": 303
        },
        "id": "Du9Dz7hLIoQr",
        "outputId": "f0fdd21d-ddc7-4097-9496-582b31ea40ea"
      },
      "execution_count": 267,
      "outputs": [
        {
          "output_type": "stream",
          "name": "stdout",
          "text": [
            "(3, 2)\n",
            "--------------\n",
            "[[0.]\n",
            " [1.]\n",
            " [2.]\n",
            " [3.]\n",
            " [4.]\n",
            " [5.]]\n",
            "(6, 1)\n",
            "--------------\n",
            "[[0. 1. 2.]\n",
            " [3. 4. 5.]]\n",
            "(2, 3)\n",
            "--------------\n"
          ]
        },
        {
          "output_type": "execute_result",
          "data": {
            "text/plain": [
              "'\\nburada \\n0 2 4 \\n1 3 5\\n\\nşeklinde transpoz almak yerine \\n\\n0 1 2 \\n3 4 5\\n\\ngeldi çünkü reshape öncelikle hepsini tek bir satıra alıyor \"flatten\" yapıyor\\n[0 1 2 3 4 5] oluyor ve sonrasında ayırıyor\\n\\n'"
            ],
            "application/vnd.google.colaboratory.intrinsic+json": {
              "type": "string"
            }
          },
          "metadata": {},
          "execution_count": 267
        }
      ]
    },
    {
      "cell_type": "code",
      "source": [
        "x = np.zeros((300, 20))\n",
        "x = np.transpose(x)\n",
        "x.shape"
      ],
      "metadata": {
        "colab": {
          "base_uri": "https://localhost:8080/"
        },
        "id": "3tlkn2KGI4I8",
        "outputId": "ed88dd9f-5d4d-40a3-e810-95a1c6259611"
      },
      "execution_count": 268,
      "outputs": [
        {
          "output_type": "execute_result",
          "data": {
            "text/plain": [
              "(20, 300)"
            ]
          },
          "metadata": {},
          "execution_count": 268
        }
      ]
    },
    {
      "cell_type": "code",
      "source": [
        "x = np.array([\n",
        "    [0., 1.],\n",
        "    [2., 3.],\n",
        "    [4., 5.]\n",
        "])\n",
        "\n",
        "print(x,end=\"\\n------------\\n\")\n",
        "\n",
        "print(np.transpose(x))"
      ],
      "metadata": {
        "colab": {
          "base_uri": "https://localhost:8080/"
        },
        "id": "EY4_DxASK7Zm",
        "outputId": "c57eb527-7563-40e9-92c7-7997c4c504f5"
      },
      "execution_count": 269,
      "outputs": [
        {
          "output_type": "stream",
          "name": "stdout",
          "text": [
            "[[0. 1.]\n",
            " [2. 3.]\n",
            " [4. 5.]]\n",
            "------------\n",
            "[[0. 2. 4.]\n",
            " [1. 3. 5.]]\n"
          ]
        }
      ]
    },
    {
      "cell_type": "code",
      "source": [],
      "metadata": {
        "id": "gTdjjicfLDoc"
      },
      "execution_count": null,
      "outputs": []
    }
  ]
}