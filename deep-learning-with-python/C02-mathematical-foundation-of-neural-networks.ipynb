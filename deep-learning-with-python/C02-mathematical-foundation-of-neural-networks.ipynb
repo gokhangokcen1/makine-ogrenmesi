{
  "nbformat": 4,
  "nbformat_minor": 0,
  "metadata": {
    "colab": {
      "provenance": [],
      "toc_visible": true
    },
    "kernelspec": {
      "name": "python3",
      "display_name": "Python 3"
    },
    "language_info": {
      "name": "python"
    }
  },
  "cells": [
    {
      "cell_type": "markdown",
      "source": [
        "# MNIST VERİ SETİ\n",
        "0'dan 9'a kadar olan rakamların el yazısı görselleri."
      ],
      "metadata": {
        "id": "eERRKr8oOn0F"
      }
    },
    {
      "cell_type": "code",
      "source": [
        "from tensorflow.keras.datasets import mnist\n",
        "(train_images, train_labels), (test_images, test_labels) = mnist.load_data()"
      ],
      "metadata": {
        "id": "AZYqqjv1MHv6",
        "colab": {
          "base_uri": "https://localhost:8080/"
        },
        "outputId": "3140535e-9340-4372-d0b3-e7c323b27167"
      },
      "execution_count": null,
      "outputs": [
        {
          "output_type": "stream",
          "name": "stdout",
          "text": [
            "Downloading data from https://storage.googleapis.com/tensorflow/tf-keras-datasets/mnist.npz\n",
            "\u001b[1m11490434/11490434\u001b[0m \u001b[32m━━━━━━━━━━━━━━━━━━━━\u001b[0m\u001b[37m\u001b[0m \u001b[1m0s\u001b[0m 0us/step\n"
          ]
        }
      ]
    },
    {
      "cell_type": "code",
      "source": [
        "train_images.shape #array'in biçimini gösteriyor\n",
        "# genel olarak (sample, feature) formatında oluyor\n",
        "# resimler için (sample, height, width, color_depth)\n",
        "# bu eğitim görselleri için: 60000 fotoğraf, 28x28 boyutunda\n",
        "# video için (samples, frames, height, width, color_depth)"
      ],
      "metadata": {
        "colab": {
          "base_uri": "https://localhost:8080/"
        },
        "id": "hMOR_XZZMWtG",
        "outputId": "4b7072f7-57b6-485f-a5c5-fe3b4ed9b676"
      },
      "execution_count": null,
      "outputs": [
        {
          "output_type": "execute_result",
          "data": {
            "text/plain": [
              "(60000, 28, 28)"
            ]
          },
          "metadata": {},
          "execution_count": 41
        }
      ]
    },
    {
      "cell_type": "code",
      "source": [
        "len(train_labels) # len ile adet \"sample/örnek\" var"
      ],
      "metadata": {
        "colab": {
          "base_uri": "https://localhost:8080/"
        },
        "id": "xwk-GoxjMZ50",
        "outputId": "c0f0c375-5f1a-4dbc-c20c-b8c85e081c1e"
      },
      "execution_count": null,
      "outputs": [
        {
          "output_type": "execute_result",
          "data": {
            "text/plain": [
              "60000"
            ]
          },
          "metadata": {},
          "execution_count": 4
        }
      ]
    },
    {
      "cell_type": "code",
      "source": [
        "train_labels # görsellerde hangi resimler olduğu, nasıl \"etiketlendiği\""
      ],
      "metadata": {
        "colab": {
          "base_uri": "https://localhost:8080/"
        },
        "id": "FwiZhGluMdJF",
        "outputId": "138218c0-5c33-4287-9db4-0a7d16fb70de"
      },
      "execution_count": null,
      "outputs": [
        {
          "output_type": "execute_result",
          "data": {
            "text/plain": [
              "array([5, 0, 4, ..., 5, 6, 8], dtype=uint8)"
            ]
          },
          "metadata": {},
          "execution_count": 5
        }
      ]
    },
    {
      "cell_type": "code",
      "source": [
        "test_images.shape # 10000 adet 28x28 test görseli"
      ],
      "metadata": {
        "colab": {
          "base_uri": "https://localhost:8080/"
        },
        "id": "PivghQFqMeq9",
        "outputId": "781ee0f3-a2f6-4c5c-da11-c44c7c41c8a5"
      },
      "execution_count": null,
      "outputs": [
        {
          "output_type": "execute_result",
          "data": {
            "text/plain": [
              "(10000, 28, 28)"
            ]
          },
          "metadata": {},
          "execution_count": 6
        }
      ]
    },
    {
      "cell_type": "code",
      "source": [
        "len(test_labels)"
      ],
      "metadata": {
        "colab": {
          "base_uri": "https://localhost:8080/"
        },
        "id": "1S7n3TZDMhHk",
        "outputId": "00c010f3-eb1c-4f3f-c2ad-4b7e0caac880"
      },
      "execution_count": null,
      "outputs": [
        {
          "output_type": "execute_result",
          "data": {
            "text/plain": [
              "10000"
            ]
          },
          "metadata": {},
          "execution_count": 7
        }
      ]
    },
    {
      "cell_type": "code",
      "source": [
        "test_labels"
      ],
      "metadata": {
        "colab": {
          "base_uri": "https://localhost:8080/"
        },
        "id": "x03hfzD5MjQT",
        "outputId": "ae3753b5-fd33-4c51-c96a-5a5d0378d789"
      },
      "execution_count": null,
      "outputs": [
        {
          "output_type": "execute_result",
          "data": {
            "text/plain": [
              "array([7, 2, 1, ..., 4, 5, 6], dtype=uint8)"
            ]
          },
          "metadata": {},
          "execution_count": 8
        }
      ]
    },
    {
      "cell_type": "code",
      "source": [
        "from tensorflow import keras # keras, deep learning framework'ü\n",
        "from tensorflow.keras import layers\n",
        "model = keras.Sequential([ # katmanlar oluşturuyoruz\n",
        "    layers.Dense(512, activation=\"relu\"), #units kaç nöron olacağı/çıkış boyutu\n",
        "    layers.Dense(10, activation=\"softmax\")\n",
        "])"
      ],
      "metadata": {
        "id": "CYLo0uDPMkhg"
      },
      "execution_count": null,
      "outputs": []
    },
    {
      "cell_type": "code",
      "source": [
        "model.compile(optimizer=\"rmsprop\",\n",
        "              loss=\"sparse_categorical_crossentropy\", #gerçek değer - tahmin\n",
        "              metrics=[\"accuracy\"])"
      ],
      "metadata": {
        "id": "sljqJdbHM1Ja"
      },
      "execution_count": null,
      "outputs": []
    },
    {
      "cell_type": "code",
      "source": [
        "train_images = train_images.reshape((60000, 28 * 28))\n",
        "train_images = train_images.astype(\"float32\") / 255\n",
        "test_images = test_images.reshape((10000, 28 * 28))\n",
        "test_images = test_images.astype(\"float32\") / 255\n",
        "\n",
        "# siyah 0, beyaz 255'tir fakat biz bunu normalleştirip daha ufak sayılarla\n",
        "# uğraşmak isteriz. bu sebeple 255'e bölerek bunu 0-1 arasında sınırlıyoruz.\n",
        "# float'a çevrilme sebebi matris hesaplamalarında ve gradient descent'te\n",
        "# daha doğru sonuçlar alabilmek.\n",
        "\n",
        "# (60000, 28*28) yaparak bunu (60000, 784) haline çeviriyoruz.\n",
        "# Çünkü Dense düzleştirilmiş (flatten) vektörlerle çalışıyor bu yüzden genelde\n",
        "# 2D vektörler verilir. Biz de bunun için 2D vektör haline getirdik."
      ],
      "metadata": {
        "id": "GXITnj5ZNHbk"
      },
      "execution_count": null,
      "outputs": []
    },
    {
      "cell_type": "code",
      "source": [
        "model.fit(train_images, train_labels, epochs=5, batch_size=128)"
      ],
      "metadata": {
        "colab": {
          "base_uri": "https://localhost:8080/"
        },
        "id": "Nm4OQX_ZM-80",
        "outputId": "12a41f2e-e4ab-4248-b2b8-b12b8cb0dd1b"
      },
      "execution_count": null,
      "outputs": [
        {
          "output_type": "stream",
          "name": "stdout",
          "text": [
            "Epoch 1/5\n",
            "\u001b[1m469/469\u001b[0m \u001b[32m━━━━━━━━━━━━━━━━━━━━\u001b[0m\u001b[37m\u001b[0m \u001b[1m6s\u001b[0m 11ms/step - accuracy: 0.1690 - loss: 2.2823\n",
            "Epoch 2/5\n",
            "\u001b[1m469/469\u001b[0m \u001b[32m━━━━━━━━━━━━━━━━━━━━\u001b[0m\u001b[37m\u001b[0m \u001b[1m12s\u001b[0m 15ms/step - accuracy: 0.5451 - loss: 1.9064\n",
            "Epoch 3/5\n",
            "\u001b[1m469/469\u001b[0m \u001b[32m━━━━━━━━━━━━━━━━━━━━\u001b[0m\u001b[37m\u001b[0m \u001b[1m9s\u001b[0m 11ms/step - accuracy: 0.7125 - loss: 1.1962\n",
            "Epoch 4/5\n",
            "\u001b[1m469/469\u001b[0m \u001b[32m━━━━━━━━━━━━━━━━━━━━\u001b[0m\u001b[37m\u001b[0m \u001b[1m6s\u001b[0m 13ms/step - accuracy: 0.7924 - loss: 0.8250\n",
            "Epoch 5/5\n",
            "\u001b[1m469/469\u001b[0m \u001b[32m━━━━━━━━━━━━━━━━━━━━\u001b[0m\u001b[37m\u001b[0m \u001b[1m10s\u001b[0m 13ms/step - accuracy: 0.8287 - loss: 0.6489\n"
          ]
        },
        {
          "output_type": "execute_result",
          "data": {
            "text/plain": [
              "<keras.src.callbacks.history.History at 0x7b3df7033ad0>"
            ]
          },
          "metadata": {},
          "execution_count": 13
        }
      ]
    },
    {
      "cell_type": "code",
      "source": [
        "test_digits = test_images[0:10] # ilk 10 örnek 0-9\n",
        "predictions = model.predict(test_digits) # ilk 10 örnek için tahminler oluştu.\n",
        "predictions[0] # 0 indeksindeki (ilk) örnek için tahminler"
      ],
      "metadata": {
        "colab": {
          "base_uri": "https://localhost:8080/"
        },
        "id": "FVrhizThNcMx",
        "outputId": "4af24002-31c8-4ca9-99c0-614e9111b719"
      },
      "execution_count": null,
      "outputs": [
        {
          "output_type": "stream",
          "name": "stdout",
          "text": [
            "\u001b[1m1/1\u001b[0m \u001b[32m━━━━━━━━━━━━━━━━━━━━\u001b[0m\u001b[37m\u001b[0m \u001b[1m0s\u001b[0m 59ms/step\n"
          ]
        },
        {
          "output_type": "execute_result",
          "data": {
            "text/plain": [
              "array([5.8977620e-04, 4.5605964e-05, 1.0063551e-04, 1.2872067e-03,\n",
              "       1.7258996e-03, 2.5792336e-03, 9.4219286e-06, 9.6636724e-01,\n",
              "       3.9739686e-04, 2.6897451e-02], dtype=float32)"
            ]
          },
          "metadata": {},
          "execution_count": 14
        }
      ]
    },
    {
      "cell_type": "code",
      "source": [
        "predictions[0].argmax() # ilk örnek için tahminlerden en yükseği"
      ],
      "metadata": {
        "colab": {
          "base_uri": "https://localhost:8080/"
        },
        "id": "8Fj8c5D4OLqr",
        "outputId": "eaf74bcf-0fd0-4f1a-8fe7-937b89c919d3"
      },
      "execution_count": null,
      "outputs": [
        {
          "output_type": "execute_result",
          "data": {
            "text/plain": [
              "np.int64(7)"
            ]
          },
          "metadata": {},
          "execution_count": 15
        }
      ]
    },
    {
      "cell_type": "code",
      "source": [
        "predictions[0][7] # kaç oranla 7 olduğunu tahmin ettiği"
      ],
      "metadata": {
        "colab": {
          "base_uri": "https://localhost:8080/"
        },
        "id": "c02azJmEORds",
        "outputId": "c7e5932c-0fd9-4dfd-f190-66d8e4679244"
      },
      "execution_count": null,
      "outputs": [
        {
          "output_type": "execute_result",
          "data": {
            "text/plain": [
              "np.float32(0.96636724)"
            ]
          },
          "metadata": {},
          "execution_count": 16
        }
      ]
    },
    {
      "cell_type": "code",
      "source": [
        "test_labels[0] # gerçekte etiketinde ne olduğu (o da 7)"
      ],
      "metadata": {
        "colab": {
          "base_uri": "https://localhost:8080/"
        },
        "id": "gni4FzIjOSo-",
        "outputId": "907325b1-d2d2-4c19-fd53-cb905f877f52"
      },
      "execution_count": null,
      "outputs": [
        {
          "output_type": "execute_result",
          "data": {
            "text/plain": [
              "np.uint8(7)"
            ]
          },
          "metadata": {},
          "execution_count": 17
        }
      ]
    },
    {
      "cell_type": "code",
      "source": [
        "test_loss, test_acc = model.evaluate(test_images, test_labels)\n",
        "print(f\"test_acc: {test_acc}\")\n",
        "print(f\"test_loss: {test_loss}\")"
      ],
      "metadata": {
        "colab": {
          "base_uri": "https://localhost:8080/"
        },
        "id": "7lj43yY9OUil",
        "outputId": "a8a9d77d-1d6b-42f9-db6d-85d42b6e9184"
      },
      "execution_count": null,
      "outputs": [
        {
          "output_type": "stream",
          "name": "stdout",
          "text": [
            "\u001b[1m313/313\u001b[0m \u001b[32m━━━━━━━━━━━━━━━━━━━━\u001b[0m\u001b[37m\u001b[0m \u001b[1m1s\u001b[0m 3ms/step - accuracy: 0.8273 - loss: 0.6133\n",
            "test_acc: 0.848800003528595\n",
            "test_loss: 0.5552056431770325\n"
          ]
        }
      ]
    },
    {
      "cell_type": "markdown",
      "source": [
        "# SİNİR AĞLARI İÇİN VERİ GÖSTERİMİ"
      ],
      "metadata": {
        "id": "SPQ7_739Ol41"
      }
    },
    {
      "cell_type": "code",
      "source": [
        "#scalar -> tek boyutlu vektör, rank(0)\n",
        "import numpy as np\n",
        "x = np.array(12)\n",
        "x"
      ],
      "metadata": {
        "colab": {
          "base_uri": "https://localhost:8080/"
        },
        "id": "Z5_KOw3COwja",
        "outputId": "f7672526-3872-4f65-d6fe-2273df87ad54"
      },
      "execution_count": null,
      "outputs": [
        {
          "output_type": "execute_result",
          "data": {
            "text/plain": [
              "array(12)"
            ]
          },
          "metadata": {},
          "execution_count": 19
        }
      ]
    },
    {
      "cell_type": "code",
      "source": [
        "x.ndim # kaç boyutlu olduğu, skalar olduğu için 0"
      ],
      "metadata": {
        "colab": {
          "base_uri": "https://localhost:8080/"
        },
        "id": "0D5IQaVQPGfY",
        "outputId": "8951b273-878a-4f22-f633-c7f7a339ab33"
      },
      "execution_count": null,
      "outputs": [
        {
          "output_type": "execute_result",
          "data": {
            "text/plain": [
              "0"
            ]
          },
          "metadata": {},
          "execution_count": 20
        }
      ]
    },
    {
      "cell_type": "code",
      "source": [
        "# \"vektör\" rank 1 tensors\n",
        "x = np.array([12, 3, 6, 14, 7])\n",
        "x"
      ],
      "metadata": {
        "colab": {
          "base_uri": "https://localhost:8080/"
        },
        "id": "HTbj3mwEPHV9",
        "outputId": "4d299eb7-74d5-4693-ed3a-2eb4c62e5aa7"
      },
      "execution_count": null,
      "outputs": [
        {
          "output_type": "execute_result",
          "data": {
            "text/plain": [
              "array([12,  3,  6, 14,  7])"
            ]
          },
          "metadata": {},
          "execution_count": 22
        }
      ]
    },
    {
      "cell_type": "code",
      "source": [
        "x.ndim # 5 adet verisi var. 5D vector ama 1D tensor,\n",
        "#her bir [] tensör diyebiliriz."
      ],
      "metadata": {
        "colab": {
          "base_uri": "https://localhost:8080/"
        },
        "id": "8qtiG3qWP2zF",
        "outputId": "8d2a6b28-9af3-4cd3-f4a4-e09214e7a047"
      },
      "execution_count": null,
      "outputs": [
        {
          "output_type": "execute_result",
          "data": {
            "text/plain": [
              "1"
            ]
          },
          "metadata": {},
          "execution_count": 23
        }
      ]
    },
    {
      "cell_type": "code",
      "source": [
        "# matris -> 2D tensors\n",
        "x = np.array([[5, 78, 2, 34, 0],\n",
        "              [6, 79, 3, 35 ,1],\n",
        "              [7, 80, 4, 36, 2]])\n",
        "x.ndim"
      ],
      "metadata": {
        "colab": {
          "base_uri": "https://localhost:8080/"
        },
        "id": "L2zc04cEP38a",
        "outputId": "8c3c297f-645f-463d-baed-6ae001f8d869"
      },
      "execution_count": null,
      "outputs": [
        {
          "output_type": "execute_result",
          "data": {
            "text/plain": [
              "2"
            ]
          },
          "metadata": {},
          "execution_count": 24
        }
      ]
    },
    {
      "cell_type": "code",
      "source": [
        "# rank 3 -> 3D tensors\n",
        "x = np.array([[[5, 78, 2, 34, 0],\n",
        "              [6, 79, 3, 35 ,1],\n",
        "              [7, 80, 4, 36, 2]],\n",
        "              [[5, 78, 2, 34, 0],\n",
        "              [6, 79, 3, 35 ,1],\n",
        "              [7, 80, 4, 36, 2]],\n",
        "              [[5, 78, 2, 34, 0],\n",
        "              [6, 79, 3, 35 ,1],\n",
        "              [7, 80, 4, 36, 2]]])\n",
        "\n",
        "x.ndim"
      ],
      "metadata": {
        "colab": {
          "base_uri": "https://localhost:8080/"
        },
        "id": "7Wf2pAgwQn0j",
        "outputId": "96c36e84-f635-4f87-f27f-f4ce1983f083"
      },
      "execution_count": null,
      "outputs": [
        {
          "output_type": "execute_result",
          "data": {
            "text/plain": [
              "3"
            ]
          },
          "metadata": {},
          "execution_count": 25
        }
      ]
    },
    {
      "cell_type": "code",
      "source": [
        "import matplotlib.pyplot as plt\n",
        "(train_images, train_labels), (test_images, test_labels) = mnist.load_data()\n",
        "digit = train_images[4]\n",
        "plt.imshow(digit, cmap=plt.cm.binary) #cmap: colormap. binary -> siyah/beyaz\n",
        "plt.show()"
      ],
      "metadata": {
        "colab": {
          "base_uri": "https://localhost:8080/",
          "height": 430
        },
        "id": "p2xmfTwJQwo3",
        "outputId": "f2d07a9b-ea10-4fc6-c86b-b489cc4ff1da"
      },
      "execution_count": null,
      "outputs": [
        {
          "output_type": "display_data",
          "data": {
            "text/plain": [
              "<Figure size 640x480 with 1 Axes>"
            ],
            "image/png": "[encoded data removed]"
          },
          "metadata": {}
        }
      ]
    },
    {
      "cell_type": "code",
      "source": [
        "train_labels[4]"
      ],
      "metadata": {
        "colab": {
          "base_uri": "https://localhost:8080/"
        },
        "id": "2mM__eCCSl6O",
        "outputId": "0e199442-dd89-4410-9b98-4ffe8c5ce06c"
      },
      "execution_count": null,
      "outputs": [
        {
          "output_type": "execute_result",
          "data": {
            "text/plain": [
              "np.uint8(9)"
            ]
          },
          "metadata": {},
          "execution_count": 27
        }
      ]
    },
    {
      "cell_type": "code",
      "source": [
        "my_slice = train_images[10:100]\n",
        "my_slice.shape"
      ],
      "metadata": {
        "colab": {
          "base_uri": "https://localhost:8080/"
        },
        "id": "b40zceP5S1Ge",
        "outputId": "ceaadace-d2c7-4d3d-fe32-90af90558190"
      },
      "execution_count": null,
      "outputs": [
        {
          "output_type": "execute_result",
          "data": {
            "text/plain": [
              "(90, 28, 28)"
            ]
          },
          "metadata": {},
          "execution_count": 28
        }
      ]
    },
    {
      "cell_type": "code",
      "source": [
        "my_slice = train_images[10:100, : , : ]\n",
        "my_slice.shape"
      ],
      "metadata": {
        "colab": {
          "base_uri": "https://localhost:8080/"
        },
        "id": "KxF-fTKAS_N0",
        "outputId": "23ca1c8b-8726-4de1-ab1b-47d1acfd1bac"
      },
      "execution_count": null,
      "outputs": [
        {
          "output_type": "execute_result",
          "data": {
            "text/plain": [
              "(90, 28, 28)"
            ]
          },
          "metadata": {},
          "execution_count": 29
        }
      ]
    },
    {
      "cell_type": "code",
      "source": [
        "my_slice = train_images[10:100, 0:28, 0:28]\n",
        "my_slice.shape"
      ],
      "metadata": {
        "colab": {
          "base_uri": "https://localhost:8080/"
        },
        "id": "387FjV-KTH3f",
        "outputId": "6c51df17-4824-4504-bc9e-612c68638e08"
      },
      "execution_count": null,
      "outputs": [
        {
          "output_type": "execute_result",
          "data": {
            "text/plain": [
              "(90, 28, 28)"
            ]
          },
          "metadata": {},
          "execution_count": 30
        }
      ]
    },
    {
      "cell_type": "code",
      "source": [
        "my_slice = train_images[:, 14:, 14:]\n",
        "my_slice.shape"
      ],
      "metadata": {
        "colab": {
          "base_uri": "https://localhost:8080/"
        },
        "id": "CgHMQC8OTOA_",
        "outputId": "b468b005-aac7-4d55-f65b-7b00de34eadf"
      },
      "execution_count": null,
      "outputs": [
        {
          "output_type": "execute_result",
          "data": {
            "text/plain": [
              "(60000, 14, 14)"
            ]
          },
          "metadata": {},
          "execution_count": 31
        }
      ]
    },
    {
      "cell_type": "code",
      "source": [
        "train_digit = train_images[4, 7:-7, :-7]\n",
        "plt.imshow(train_digit)\n",
        "plt.show()"
      ],
      "metadata": {
        "colab": {
          "base_uri": "https://localhost:8080/",
          "height": 391
        },
        "id": "24Q9mDxITYr-",
        "outputId": "c657b937-654b-4ac2-a6c8-d1a0288e4dfe"
      },
      "execution_count": null,
      "outputs": [
        {
          "output_type": "display_data",
          "data": {
            "text/plain": [
              "<Figure size 640x480 with 1 Axes>"
            ],
            "image/png": "[encoded data removed]"
          },
          "metadata": {}
        }
      ]
    },
    {
      "cell_type": "markdown",
      "source": [
        "# BATCH"
      ],
      "metadata": {
        "id": "vW6flsS7UCaY"
      }
    },
    {
      "cell_type": "code",
      "source": [
        "# batchler bir gruplar, model genel olarak datasetini tek seferde işlemez, böler"
      ],
      "metadata": {
        "id": "CxBTiDLNUE9i"
      },
      "execution_count": null,
      "outputs": []
    },
    {
      "cell_type": "code",
      "source": [
        "batch = train_images[:128] # ilk 128'lik kısım\n",
        "batch = train_images[128:255] #2. 128'lik kısım"
      ],
      "metadata": {
        "id": "hUozR-z8UN8H"
      },
      "execution_count": null,
      "outputs": []
    },
    {
      "cell_type": "code",
      "source": [
        "batch.shape"
      ],
      "metadata": {
        "colab": {
          "base_uri": "https://localhost:8080/"
        },
        "id": "Q5j0ndt8UUy8",
        "outputId": "749789e7-04bf-4a46-aa12-2daf787ac862"
      },
      "execution_count": null,
      "outputs": [
        {
          "output_type": "execute_result",
          "data": {
            "text/plain": [
              "(127, 28, 28)"
            ]
          },
          "metadata": {},
          "execution_count": 36
        }
      ]
    },
    {
      "cell_type": "code",
      "source": [
        "# n. batch\n",
        "n = 3\n",
        "batch = train_images[128 * n: 128 * (n+1)]\n",
        "batch.shape\n",
        "\n",
        "\n",
        "# veri setini 128 128 olarak bölüyoruz\n",
        "# kaçıncı 128'lik bölümü aradığımızı bu şekilde buluyoruz\n"
      ],
      "metadata": {
        "colab": {
          "base_uri": "https://localhost:8080/"
        },
        "id": "EbQlfJH3UXur",
        "outputId": "ff822636-1cdf-477e-a0d0-15857d3cd8a1"
      },
      "execution_count": null,
      "outputs": [
        {
          "output_type": "execute_result",
          "data": {
            "text/plain": [
              "(128, 28, 28)"
            ]
          },
          "metadata": {},
          "execution_count": 38
        }
      ]
    },
    {
      "cell_type": "markdown",
      "source": [
        "# elle relu yazma\n",
        "ReLU: 0'dan önceki değerler 0, 0'dan itibaren lineer olark artıyor"
      ],
      "metadata": {
        "id": "-8wNebSQcbC1"
      }
    },
    {
      "cell_type": "code",
      "source": [
        "X = np.array([\n",
        "    [-1, 2, -3],\n",
        "    [4, -5, 6]\n",
        "])"
      ],
      "metadata": {
        "id": "fCxfJmeeccTq"
      },
      "execution_count": null,
      "outputs": []
    },
    {
      "cell_type": "code",
      "source": [
        "def naive_relu(x):\n",
        "  assert len(x.shape) == 2\n",
        "  x = x.copy()\n",
        "  for i in range(x.shape[0]):\n",
        "    for j in range(x.shape[1]):\n",
        "      x[i, j] = max(x[i,j], 0) # 0 ile karşılaştırıyor, negatif ise 0 alıyor\n",
        "  return x\n",
        "\n",
        "naive_relu(X)"
      ],
      "metadata": {
        "colab": {
          "base_uri": "https://localhost:8080/"
        },
        "id": "u8NAW2BtciHK",
        "outputId": "d4599582-2b94-4ce7-9c04-846e10ec3dfd"
      },
      "execution_count": null,
      "outputs": [
        {
          "output_type": "execute_result",
          "data": {
            "text/plain": [
              "array([[0, 2, 0],\n",
              "       [4, 0, 6]])"
            ]
          },
          "metadata": {},
          "execution_count": 43
        }
      ]
    },
    {
      "cell_type": "code",
      "source": [
        "Y = np.array([\n",
        "    [2, -4, 7],\n",
        "    [-2, 9, -1]\n",
        "])\n",
        "\n",
        "# toplama\n",
        "\n",
        "def naive_add(x, y):\n",
        "  assert len(x.shape) == 2\n",
        "  assert x.shape == y.shape\n",
        "  x = x.copy()\n",
        "  for i in range(x.shape[0]):\n",
        "    for j in range(x.shape[1]):\n",
        "      x[i ,j] += y[i, j]\n",
        "\n",
        "  return x\n",
        "\n",
        "print(X)\n",
        "print(Y)\n",
        "naive_add(X,Y)\n"
      ],
      "metadata": {
        "colab": {
          "base_uri": "https://localhost:8080/"
        },
        "id": "wAf24Sw_c3Sx",
        "outputId": "c5fa0727-c719-43b2-d792-1e4b3426b580"
      },
      "execution_count": null,
      "outputs": [
        {
          "output_type": "stream",
          "name": "stdout",
          "text": [
            "[[-1  2 -3]\n",
            " [ 4 -5  6]]\n",
            "[[ 2 -4  7]\n",
            " [-2  9 -1]]\n"
          ]
        },
        {
          "output_type": "execute_result",
          "data": {
            "text/plain": [
              "array([[ 1, -2,  4],\n",
              "       [ 2,  4,  5]])"
            ]
          },
          "metadata": {},
          "execution_count": 44
        }
      ]
    },
    {
      "cell_type": "code",
      "source": [
        "# döngülerle yazmak ile matris yöntemi arasındaki zaman farkı\n",
        "\n",
        "import time\n",
        "x = np.random.random((20,100))\n",
        "y = np.random.random((20,100))\n",
        "\n",
        "t0 = time.time()\n",
        "for _ in range(1000):\n",
        "  z = x + y\n",
        "  z = np.maximum(z, 0.)\n",
        "  print(\"Took: {0:.2f} s\".format(time.time() - t0))\n"
      ],
      "metadata": {
        "colab": {
          "base_uri": "https://localhost:8080/"
        },
        "id": "1EAgleWve8ig",
        "outputId": "89f3a246-b08b-4709-db1b-d9f16074a82b"
      },
      "execution_count": null,
      "outputs": [
        {
          "output_type": "stream",
          "name": "stdout",
          "text": [
            "Took: 0.00 s\n",
            "Took: 0.00 s\n",
            "Took: 0.00 s\n",
            "Took: 0.00 s\n",
            "Took: 0.00 s\n",
            "Took: 0.00 s\n",
            "Took: 0.00 s\n",
            "Took: 0.00 s\n",
            "Took: 0.00 s\n",
            "Took: 0.00 s\n",
            "Took: 0.00 s\n",
            "Took: 0.00 s\n",
            "Took: 0.00 s\n",
            "Took: 0.00 s\n",
            "Took: 0.00 s\n",
            "Took: 0.00 s\n",
            "Took: 0.00 s\n",
            "Took: 0.00 s\n",
            "Took: 0.00 s\n",
            "Took: 0.00 s\n",
            "Took: 0.00 s\n",
            "Took: 0.00 s\n",
            "Took: 0.00 s\n",
            "Took: 0.00 s\n",
            "Took: 0.00 s\n",
            "Took: 0.00 s\n",
            "Took: 0.00 s\n",
            "Took: 0.00 s\n",
            "Took: 0.00 s\n",
            "Took: 0.00 s\n",
            "Took: 0.00 s\n",
            "Took: 0.00 s\n",
            "Took: 0.00 s\n",
            "Took: 0.00 s\n",
            "Took: 0.00 s\n",
            "Took: 0.00 s\n",
            "Took: 0.00 s\n",
            "Took: 0.00 s\n",
            "Took: 0.00 s\n",
            "Took: 0.00 s\n",
            "Took: 0.00 s\n",
            "Took: 0.00 s\n",
            "Took: 0.00 s\n",
            "Took: 0.00 s\n",
            "Took: 0.00 s\n",
            "Took: 0.00 s\n",
            "Took: 0.00 s\n",
            "Took: 0.00 s\n",
            "Took: 0.00 s\n",
            "Took: 0.00 s\n",
            "Took: 0.00 s\n",
            "Took: 0.00 s\n",
            "Took: 0.00 s\n",
            "Took: 0.00 s\n",
            "Took: 0.00 s\n",
            "Took: 0.00 s\n",
            "Took: 0.00 s\n",
            "Took: 0.00 s\n",
            "Took: 0.00 s\n",
            "Took: 0.00 s\n",
            "Took: 0.00 s\n",
            "Took: 0.00 s\n",
            "Took: 0.00 s\n",
            "Took: 0.00 s\n",
            "Took: 0.00 s\n",
            "Took: 0.00 s\n",
            "Took: 0.00 s\n",
            "Took: 0.00 s\n",
            "Took: 0.00 s\n",
            "Took: 0.00 s\n",
            "Took: 0.00 s\n",
            "Took: 0.00 s\n",
            "Took: 0.00 s\n",
            "Took: 0.00 s\n",
            "Took: 0.00 s\n",
            "Took: 0.00 s\n",
            "Took: 0.00 s\n",
            "Took: 0.00 s\n",
            "Took: 0.00 s\n",
            "Took: 0.00 s\n",
            "Took: 0.00 s\n",
            "Took: 0.00 s\n",
            "Took: 0.00 s\n",
            "Took: 0.00 s\n",
            "Took: 0.00 s\n",
            "Took: 0.00 s\n",
            "Took: 0.00 s\n",
            "Took: 0.00 s\n",
            "Took: 0.00 s\n",
            "Took: 0.00 s\n",
            "Took: 0.00 s\n",
            "Took: 0.00 s\n",
            "Took: 0.00 s\n",
            "Took: 0.00 s\n",
            "Took: 0.00 s\n",
            "Took: 0.00 s\n",
            "Took: 0.00 s\n",
            "Took: 0.00 s\n",
            "Took: 0.00 s\n",
            "Took: 0.00 s\n",
            "Took: 0.00 s\n",
            "Took: 0.00 s\n",
            "Took: 0.00 s\n",
            "Took: 0.00 s\n",
            "Took: 0.00 s\n",
            "Took: 0.00 s\n",
            "Took: 0.00 s\n",
            "Took: 0.00 s\n",
            "Took: 0.00 s\n",
            "Took: 0.00 s\n",
            "Took: 0.00 s\n",
            "Took: 0.00 s\n",
            "Took: 0.00 s\n",
            "Took: 0.00 s\n",
            "Took: 0.00 s\n",
            "Took: 0.00 s\n",
            "Took: 0.00 s\n",
            "Took: 0.00 s\n",
            "Took: 0.00 s\n",
            "Took: 0.00 s\n",
            "Took: 0.00 s\n",
            "Took: 0.00 s\n",
            "Took: 0.00 s\n",
            "Took: 0.00 s\n",
            "Took: 0.00 s\n",
            "Took: 0.00 s\n",
            "Took: 0.00 s\n",
            "Took: 0.00 s\n",
            "Took: 0.00 s\n",
            "Took: 0.00 s\n",
            "Took: 0.00 s\n",
            "Took: 0.00 s\n",
            "Took: 0.00 s\n",
            "Took: 0.00 s\n",
            "Took: 0.00 s\n",
            "Took: 0.00 s\n",
            "Took: 0.00 s\n",
            "Took: 0.00 s\n",
            "Took: 0.00 s\n",
            "Took: 0.00 s\n",
            "Took: 0.00 s\n",
            "Took: 0.00 s\n",
            "Took: 0.00 s\n",
            "Took: 0.00 s\n",
            "Took: 0.00 s\n",
            "Took: 0.00 s\n",
            "Took: 0.00 s\n",
            "Took: 0.00 s\n",
            "Took: 0.00 s\n",
            "Took: 0.00 s\n",
            "Took: 0.00 s\n",
            "Took: 0.00 s\n",
            "Took: 0.00 s\n",
            "Took: 0.00 s\n",
            "Took: 0.00 s\n",
            "Took: 0.00 s\n",
            "Took: 0.00 s\n",
            "Took: 0.00 s\n",
            "Took: 0.00 s\n",
            "Took: 0.00 s\n",
            "Took: 0.00 s\n",
            "Took: 0.00 s\n",
            "Took: 0.00 s\n",
            "Took: 0.00 s\n",
            "Took: 0.00 s\n",
            "Took: 0.00 s\n",
            "Took: 0.00 s\n",
            "Took: 0.00 s\n",
            "Took: 0.00 s\n",
            "Took: 0.00 s\n",
            "Took: 0.00 s\n",
            "Took: 0.00 s\n",
            "Took: 0.00 s\n",
            "Took: 0.00 s\n",
            "Took: 0.00 s\n",
            "Took: 0.00 s\n",
            "Took: 0.00 s\n",
            "Took: 0.00 s\n",
            "Took: 0.00 s\n",
            "Took: 0.00 s\n",
            "Took: 0.00 s\n",
            "Took: 0.00 s\n",
            "Took: 0.00 s\n",
            "Took: 0.00 s\n",
            "Took: 0.00 s\n",
            "Took: 0.00 s\n",
            "Took: 0.00 s\n",
            "Took: 0.00 s\n",
            "Took: 0.00 s\n",
            "Took: 0.00 s\n",
            "Took: 0.00 s\n",
            "Took: 0.00 s\n",
            "Took: 0.00 s\n",
            "Took: 0.00 s\n",
            "Took: 0.00 s\n",
            "Took: 0.00 s\n",
            "Took: 0.00 s\n",
            "Took: 0.00 s\n",
            "Took: 0.00 s\n",
            "Took: 0.00 s\n",
            "Took: 0.00 s\n",
            "Took: 0.00 s\n",
            "Took: 0.00 s\n",
            "Took: 0.00 s\n",
            "Took: 0.00 s\n",
            "Took: 0.00 s\n",
            "Took: 0.00 s\n",
            "Took: 0.00 s\n",
            "Took: 0.00 s\n",
            "Took: 0.00 s\n",
            "Took: 0.00 s\n",
            "Took: 0.00 s\n",
            "Took: 0.00 s\n",
            "Took: 0.00 s\n",
            "Took: 0.00 s\n",
            "Took: 0.00 s\n",
            "Took: 0.00 s\n",
            "Took: 0.00 s\n",
            "Took: 0.00 s\n",
            "Took: 0.00 s\n",
            "Took: 0.00 s\n",
            "Took: 0.00 s\n",
            "Took: 0.00 s\n",
            "Took: 0.00 s\n",
            "Took: 0.00 s\n",
            "Took: 0.00 s\n",
            "Took: 0.00 s\n",
            "Took: 0.00 s\n",
            "Took: 0.00 s\n",
            "Took: 0.00 s\n",
            "Took: 0.00 s\n",
            "Took: 0.00 s\n",
            "Took: 0.00 s\n",
            "Took: 0.00 s\n",
            "Took: 0.00 s\n",
            "Took: 0.00 s\n",
            "Took: 0.00 s\n",
            "Took: 0.00 s\n",
            "Took: 0.00 s\n",
            "Took: 0.00 s\n",
            "Took: 0.00 s\n",
            "Took: 0.00 s\n",
            "Took: 0.00 s\n",
            "Took: 0.00 s\n",
            "Took: 0.00 s\n",
            "Took: 0.00 s\n",
            "Took: 0.00 s\n",
            "Took: 0.00 s\n",
            "Took: 0.00 s\n",
            "Took: 0.00 s\n",
            "Took: 0.00 s\n",
            "Took: 0.00 s\n",
            "Took: 0.00 s\n",
            "Took: 0.00 s\n",
            "Took: 0.00 s\n",
            "Took: 0.00 s\n",
            "Took: 0.00 s\n",
            "Took: 0.00 s\n",
            "Took: 0.00 s\n",
            "Took: 0.00 s\n",
            "Took: 0.00 s\n",
            "Took: 0.00 s\n",
            "Took: 0.00 s\n",
            "Took: 0.00 s\n",
            "Took: 0.00 s\n",
            "Took: 0.00 s\n",
            "Took: 0.00 s\n",
            "Took: 0.00 s\n",
            "Took: 0.00 s\n",
            "Took: 0.00 s\n",
            "Took: 0.00 s\n",
            "Took: 0.00 s\n",
            "Took: 0.00 s\n",
            "Took: 0.00 s\n",
            "Took: 0.00 s\n",
            "Took: 0.00 s\n",
            "Took: 0.00 s\n",
            "Took: 0.00 s\n",
            "Took: 0.00 s\n",
            "Took: 0.00 s\n",
            "Took: 0.00 s\n",
            "Took: 0.00 s\n",
            "Took: 0.00 s\n",
            "Took: 0.00 s\n",
            "Took: 0.00 s\n",
            "Took: 0.00 s\n",
            "Took: 0.00 s\n",
            "Took: 0.00 s\n",
            "Took: 0.00 s\n",
            "Took: 0.00 s\n",
            "Took: 0.00 s\n",
            "Took: 0.00 s\n",
            "Took: 0.00 s\n",
            "Took: 0.00 s\n",
            "Took: 0.00 s\n",
            "Took: 0.00 s\n",
            "Took: 0.00 s\n",
            "Took: 0.00 s\n",
            "Took: 0.00 s\n",
            "Took: 0.00 s\n",
            "Took: 0.00 s\n",
            "Took: 0.00 s\n",
            "Took: 0.00 s\n",
            "Took: 0.00 s\n",
            "Took: 0.00 s\n",
            "Took: 0.01 s\n",
            "Took: 0.01 s\n",
            "Took: 0.01 s\n",
            "Took: 0.01 s\n",
            "Took: 0.01 s\n",
            "Took: 0.01 s\n",
            "Took: 0.01 s\n",
            "Took: 0.01 s\n",
            "Took: 0.01 s\n",
            "Took: 0.01 s\n",
            "Took: 0.01 s\n",
            "Took: 0.01 s\n",
            "Took: 0.01 s\n",
            "Took: 0.01 s\n",
            "Took: 0.01 s\n",
            "Took: 0.01 s\n",
            "Took: 0.01 s\n",
            "Took: 0.01 s\n",
            "Took: 0.01 s\n",
            "Took: 0.01 s\n",
            "Took: 0.01 s\n",
            "Took: 0.01 s\n",
            "Took: 0.01 s\n",
            "Took: 0.01 s\n",
            "Took: 0.01 s\n",
            "Took: 0.01 s\n",
            "Took: 0.01 s\n",
            "Took: 0.01 s\n",
            "Took: 0.01 s\n",
            "Took: 0.01 s\n",
            "Took: 0.01 s\n",
            "Took: 0.01 s\n",
            "Took: 0.01 s\n",
            "Took: 0.01 s\n",
            "Took: 0.01 s\n",
            "Took: 0.01 s\n",
            "Took: 0.01 s\n",
            "Took: 0.01 s\n",
            "Took: 0.01 s\n",
            "Took: 0.01 s\n",
            "Took: 0.01 s\n",
            "Took: 0.01 s\n",
            "Took: 0.01 s\n",
            "Took: 0.01 s\n",
            "Took: 0.01 s\n",
            "Took: 0.01 s\n",
            "Took: 0.01 s\n",
            "Took: 0.01 s\n",
            "Took: 0.01 s\n",
            "Took: 0.01 s\n",
            "Took: 0.01 s\n",
            "Took: 0.01 s\n",
            "Took: 0.01 s\n",
            "Took: 0.01 s\n",
            "Took: 0.01 s\n",
            "Took: 0.01 s\n",
            "Took: 0.01 s\n",
            "Took: 0.01 s\n",
            "Took: 0.01 s\n",
            "Took: 0.01 s\n",
            "Took: 0.01 s\n",
            "Took: 0.01 s\n",
            "Took: 0.01 s\n",
            "Took: 0.01 s\n",
            "Took: 0.01 s\n",
            "Took: 0.01 s\n",
            "Took: 0.01 s\n",
            "Took: 0.01 s\n",
            "Took: 0.01 s\n",
            "Took: 0.01 s\n",
            "Took: 0.01 s\n",
            "Took: 0.01 s\n",
            "Took: 0.01 s\n",
            "Took: 0.01 s\n",
            "Took: 0.01 s\n",
            "Took: 0.01 s\n",
            "Took: 0.01 s\n",
            "Took: 0.01 s\n",
            "Took: 0.01 s\n",
            "Took: 0.01 s\n",
            "Took: 0.01 s\n",
            "Took: 0.01 s\n",
            "Took: 0.01 s\n",
            "Took: 0.01 s\n",
            "Took: 0.01 s\n",
            "Took: 0.01 s\n",
            "Took: 0.01 s\n",
            "Took: 0.01 s\n",
            "Took: 0.01 s\n",
            "Took: 0.01 s\n",
            "Took: 0.01 s\n",
            "Took: 0.01 s\n",
            "Took: 0.01 s\n",
            "Took: 0.01 s\n",
            "Took: 0.01 s\n",
            "Took: 0.01 s\n",
            "Took: 0.01 s\n",
            "Took: 0.01 s\n",
            "Took: 0.01 s\n",
            "Took: 0.01 s\n",
            "Took: 0.01 s\n",
            "Took: 0.01 s\n",
            "Took: 0.01 s\n",
            "Took: 0.01 s\n",
            "Took: 0.01 s\n",
            "Took: 0.01 s\n",
            "Took: 0.01 s\n",
            "Took: 0.01 s\n",
            "Took: 0.01 s\n",
            "Took: 0.01 s\n",
            "Took: 0.01 s\n",
            "Took: 0.01 s\n",
            "Took: 0.01 s\n",
            "Took: 0.01 s\n",
            "Took: 0.01 s\n",
            "Took: 0.01 s\n",
            "Took: 0.01 s\n",
            "Took: 0.01 s\n",
            "Took: 0.01 s\n",
            "Took: 0.01 s\n",
            "Took: 0.01 s\n",
            "Took: 0.01 s\n",
            "Took: 0.01 s\n",
            "Took: 0.01 s\n",
            "Took: 0.01 s\n",
            "Took: 0.01 s\n",
            "Took: 0.01 s\n",
            "Took: 0.01 s\n",
            "Took: 0.01 s\n",
            "Took: 0.01 s\n",
            "Took: 0.01 s\n",
            "Took: 0.01 s\n",
            "Took: 0.01 s\n",
            "Took: 0.01 s\n",
            "Took: 0.01 s\n",
            "Took: 0.01 s\n",
            "Took: 0.01 s\n",
            "Took: 0.01 s\n",
            "Took: 0.01 s\n",
            "Took: 0.01 s\n",
            "Took: 0.01 s\n",
            "Took: 0.01 s\n",
            "Took: 0.01 s\n",
            "Took: 0.01 s\n",
            "Took: 0.01 s\n",
            "Took: 0.01 s\n",
            "Took: 0.01 s\n",
            "Took: 0.01 s\n",
            "Took: 0.01 s\n",
            "Took: 0.01 s\n",
            "Took: 0.01 s\n",
            "Took: 0.01 s\n",
            "Took: 0.01 s\n",
            "Took: 0.01 s\n",
            "Took: 0.01 s\n",
            "Took: 0.01 s\n",
            "Took: 0.01 s\n",
            "Took: 0.01 s\n",
            "Took: 0.01 s\n",
            "Took: 0.01 s\n",
            "Took: 0.01 s\n",
            "Took: 0.01 s\n",
            "Took: 0.01 s\n",
            "Took: 0.01 s\n",
            "Took: 0.01 s\n",
            "Took: 0.01 s\n",
            "Took: 0.01 s\n",
            "Took: 0.01 s\n",
            "Took: 0.01 s\n",
            "Took: 0.01 s\n",
            "Took: 0.01 s\n",
            "Took: 0.01 s\n",
            "Took: 0.01 s\n",
            "Took: 0.01 s\n",
            "Took: 0.01 s\n",
            "Took: 0.01 s\n",
            "Took: 0.01 s\n",
            "Took: 0.01 s\n",
            "Took: 0.01 s\n",
            "Took: 0.01 s\n",
            "Took: 0.01 s\n",
            "Took: 0.01 s\n",
            "Took: 0.01 s\n",
            "Took: 0.01 s\n",
            "Took: 0.01 s\n",
            "Took: 0.01 s\n",
            "Took: 0.01 s\n",
            "Took: 0.01 s\n",
            "Took: 0.01 s\n",
            "Took: 0.01 s\n",
            "Took: 0.01 s\n",
            "Took: 0.01 s\n",
            "Took: 0.01 s\n",
            "Took: 0.01 s\n",
            "Took: 0.01 s\n",
            "Took: 0.01 s\n",
            "Took: 0.01 s\n",
            "Took: 0.01 s\n",
            "Took: 0.01 s\n",
            "Took: 0.01 s\n",
            "Took: 0.01 s\n",
            "Took: 0.01 s\n",
            "Took: 0.01 s\n",
            "Took: 0.01 s\n",
            "Took: 0.01 s\n",
            "Took: 0.01 s\n",
            "Took: 0.01 s\n",
            "Took: 0.01 s\n",
            "Took: 0.01 s\n",
            "Took: 0.01 s\n",
            "Took: 0.01 s\n",
            "Took: 0.01 s\n",
            "Took: 0.01 s\n",
            "Took: 0.01 s\n",
            "Took: 0.01 s\n",
            "Took: 0.01 s\n",
            "Took: 0.01 s\n",
            "Took: 0.01 s\n",
            "Took: 0.01 s\n",
            "Took: 0.01 s\n",
            "Took: 0.01 s\n",
            "Took: 0.01 s\n",
            "Took: 0.01 s\n",
            "Took: 0.01 s\n",
            "Took: 0.01 s\n",
            "Took: 0.01 s\n",
            "Took: 0.01 s\n",
            "Took: 0.01 s\n",
            "Took: 0.01 s\n",
            "Took: 0.01 s\n",
            "Took: 0.01 s\n",
            "Took: 0.01 s\n",
            "Took: 0.01 s\n",
            "Took: 0.01 s\n",
            "Took: 0.01 s\n",
            "Took: 0.01 s\n",
            "Took: 0.01 s\n",
            "Took: 0.01 s\n",
            "Took: 0.01 s\n",
            "Took: 0.01 s\n",
            "Took: 0.01 s\n",
            "Took: 0.01 s\n",
            "Took: 0.01 s\n",
            "Took: 0.01 s\n",
            "Took: 0.01 s\n",
            "Took: 0.01 s\n",
            "Took: 0.01 s\n",
            "Took: 0.01 s\n",
            "Took: 0.01 s\n",
            "Took: 0.01 s\n",
            "Took: 0.01 s\n",
            "Took: 0.01 s\n",
            "Took: 0.01 s\n",
            "Took: 0.01 s\n",
            "Took: 0.01 s\n",
            "Took: 0.01 s\n",
            "Took: 0.01 s\n",
            "Took: 0.01 s\n",
            "Took: 0.01 s\n",
            "Took: 0.01 s\n",
            "Took: 0.01 s\n",
            "Took: 0.01 s\n",
            "Took: 0.01 s\n",
            "Took: 0.01 s\n",
            "Took: 0.01 s\n",
            "Took: 0.01 s\n",
            "Took: 0.01 s\n",
            "Took: 0.01 s\n",
            "Took: 0.01 s\n",
            "Took: 0.01 s\n",
            "Took: 0.01 s\n",
            "Took: 0.01 s\n",
            "Took: 0.01 s\n",
            "Took: 0.01 s\n",
            "Took: 0.01 s\n",
            "Took: 0.01 s\n",
            "Took: 0.01 s\n",
            "Took: 0.01 s\n",
            "Took: 0.01 s\n",
            "Took: 0.01 s\n",
            "Took: 0.01 s\n",
            "Took: 0.01 s\n",
            "Took: 0.01 s\n",
            "Took: 0.01 s\n",
            "Took: 0.01 s\n",
            "Took: 0.01 s\n",
            "Took: 0.01 s\n",
            "Took: 0.01 s\n",
            "Took: 0.01 s\n",
            "Took: 0.01 s\n",
            "Took: 0.01 s\n",
            "Took: 0.01 s\n",
            "Took: 0.01 s\n",
            "Took: 0.01 s\n",
            "Took: 0.01 s\n",
            "Took: 0.01 s\n",
            "Took: 0.01 s\n",
            "Took: 0.01 s\n",
            "Took: 0.01 s\n",
            "Took: 0.01 s\n",
            "Took: 0.01 s\n",
            "Took: 0.01 s\n",
            "Took: 0.01 s\n",
            "Took: 0.01 s\n",
            "Took: 0.01 s\n",
            "Took: 0.01 s\n",
            "Took: 0.01 s\n",
            "Took: 0.01 s\n",
            "Took: 0.01 s\n",
            "Took: 0.01 s\n",
            "Took: 0.01 s\n",
            "Took: 0.01 s\n",
            "Took: 0.01 s\n",
            "Took: 0.01 s\n",
            "Took: 0.01 s\n",
            "Took: 0.01 s\n",
            "Took: 0.01 s\n",
            "Took: 0.01 s\n",
            "Took: 0.01 s\n",
            "Took: 0.01 s\n",
            "Took: 0.01 s\n",
            "Took: 0.01 s\n",
            "Took: 0.01 s\n",
            "Took: 0.01 s\n",
            "Took: 0.01 s\n",
            "Took: 0.01 s\n",
            "Took: 0.01 s\n",
            "Took: 0.01 s\n",
            "Took: 0.01 s\n",
            "Took: 0.01 s\n",
            "Took: 0.01 s\n",
            "Took: 0.01 s\n",
            "Took: 0.01 s\n",
            "Took: 0.01 s\n",
            "Took: 0.01 s\n",
            "Took: 0.01 s\n",
            "Took: 0.01 s\n",
            "Took: 0.01 s\n",
            "Took: 0.01 s\n",
            "Took: 0.01 s\n",
            "Took: 0.01 s\n",
            "Took: 0.01 s\n",
            "Took: 0.01 s\n",
            "Took: 0.01 s\n",
            "Took: 0.01 s\n",
            "Took: 0.01 s\n",
            "Took: 0.01 s\n",
            "Took: 0.01 s\n",
            "Took: 0.01 s\n",
            "Took: 0.01 s\n",
            "Took: 0.01 s\n",
            "Took: 0.01 s\n",
            "Took: 0.01 s\n",
            "Took: 0.01 s\n",
            "Took: 0.01 s\n",
            "Took: 0.01 s\n",
            "Took: 0.01 s\n",
            "Took: 0.01 s\n",
            "Took: 0.01 s\n",
            "Took: 0.01 s\n",
            "Took: 0.01 s\n",
            "Took: 0.01 s\n",
            "Took: 0.01 s\n",
            "Took: 0.01 s\n",
            "Took: 0.01 s\n",
            "Took: 0.01 s\n",
            "Took: 0.01 s\n",
            "Took: 0.01 s\n",
            "Took: 0.01 s\n",
            "Took: 0.01 s\n",
            "Took: 0.01 s\n",
            "Took: 0.01 s\n",
            "Took: 0.01 s\n",
            "Took: 0.01 s\n",
            "Took: 0.01 s\n",
            "Took: 0.01 s\n",
            "Took: 0.01 s\n",
            "Took: 0.01 s\n",
            "Took: 0.01 s\n",
            "Took: 0.01 s\n",
            "Took: 0.01 s\n",
            "Took: 0.01 s\n",
            "Took: 0.01 s\n",
            "Took: 0.01 s\n",
            "Took: 0.01 s\n",
            "Took: 0.01 s\n",
            "Took: 0.01 s\n",
            "Took: 0.01 s\n",
            "Took: 0.01 s\n",
            "Took: 0.01 s\n",
            "Took: 0.01 s\n",
            "Took: 0.01 s\n",
            "Took: 0.01 s\n",
            "Took: 0.01 s\n",
            "Took: 0.01 s\n",
            "Took: 0.01 s\n",
            "Took: 0.01 s\n",
            "Took: 0.01 s\n",
            "Took: 0.01 s\n",
            "Took: 0.01 s\n",
            "Took: 0.01 s\n",
            "Took: 0.01 s\n",
            "Took: 0.01 s\n",
            "Took: 0.01 s\n",
            "Took: 0.01 s\n",
            "Took: 0.01 s\n",
            "Took: 0.01 s\n",
            "Took: 0.01 s\n",
            "Took: 0.01 s\n",
            "Took: 0.01 s\n",
            "Took: 0.01 s\n",
            "Took: 0.01 s\n",
            "Took: 0.01 s\n",
            "Took: 0.01 s\n",
            "Took: 0.01 s\n",
            "Took: 0.01 s\n",
            "Took: 0.01 s\n",
            "Took: 0.01 s\n",
            "Took: 0.01 s\n",
            "Took: 0.01 s\n",
            "Took: 0.01 s\n",
            "Took: 0.01 s\n",
            "Took: 0.01 s\n",
            "Took: 0.01 s\n",
            "Took: 0.01 s\n",
            "Took: 0.01 s\n",
            "Took: 0.01 s\n",
            "Took: 0.01 s\n",
            "Took: 0.01 s\n",
            "Took: 0.01 s\n",
            "Took: 0.01 s\n",
            "Took: 0.01 s\n",
            "Took: 0.01 s\n",
            "Took: 0.01 s\n",
            "Took: 0.01 s\n",
            "Took: 0.01 s\n",
            "Took: 0.01 s\n",
            "Took: 0.01 s\n",
            "Took: 0.01 s\n",
            "Took: 0.01 s\n",
            "Took: 0.01 s\n",
            "Took: 0.01 s\n",
            "Took: 0.01 s\n",
            "Took: 0.01 s\n",
            "Took: 0.01 s\n",
            "Took: 0.01 s\n",
            "Took: 0.01 s\n",
            "Took: 0.01 s\n",
            "Took: 0.01 s\n",
            "Took: 0.01 s\n",
            "Took: 0.01 s\n",
            "Took: 0.01 s\n",
            "Took: 0.01 s\n",
            "Took: 0.01 s\n",
            "Took: 0.01 s\n",
            "Took: 0.01 s\n",
            "Took: 0.01 s\n",
            "Took: 0.01 s\n",
            "Took: 0.01 s\n",
            "Took: 0.01 s\n",
            "Took: 0.01 s\n",
            "Took: 0.01 s\n",
            "Took: 0.01 s\n",
            "Took: 0.01 s\n",
            "Took: 0.01 s\n",
            "Took: 0.01 s\n",
            "Took: 0.01 s\n",
            "Took: 0.01 s\n",
            "Took: 0.01 s\n",
            "Took: 0.01 s\n",
            "Took: 0.01 s\n",
            "Took: 0.01 s\n",
            "Took: 0.01 s\n",
            "Took: 0.01 s\n",
            "Took: 0.01 s\n",
            "Took: 0.01 s\n",
            "Took: 0.01 s\n",
            "Took: 0.01 s\n",
            "Took: 0.01 s\n",
            "Took: 0.01 s\n",
            "Took: 0.01 s\n",
            "Took: 0.01 s\n",
            "Took: 0.01 s\n",
            "Took: 0.01 s\n",
            "Took: 0.01 s\n",
            "Took: 0.01 s\n",
            "Took: 0.01 s\n",
            "Took: 0.01 s\n",
            "Took: 0.01 s\n",
            "Took: 0.01 s\n",
            "Took: 0.01 s\n",
            "Took: 0.01 s\n",
            "Took: 0.01 s\n",
            "Took: 0.01 s\n",
            "Took: 0.01 s\n",
            "Took: 0.01 s\n",
            "Took: 0.01 s\n",
            "Took: 0.01 s\n",
            "Took: 0.01 s\n",
            "Took: 0.01 s\n",
            "Took: 0.01 s\n",
            "Took: 0.01 s\n",
            "Took: 0.01 s\n",
            "Took: 0.01 s\n",
            "Took: 0.01 s\n",
            "Took: 0.01 s\n",
            "Took: 0.01 s\n",
            "Took: 0.01 s\n",
            "Took: 0.01 s\n",
            "Took: 0.01 s\n",
            "Took: 0.01 s\n",
            "Took: 0.01 s\n",
            "Took: 0.01 s\n",
            "Took: 0.01 s\n",
            "Took: 0.01 s\n",
            "Took: 0.01 s\n",
            "Took: 0.01 s\n",
            "Took: 0.01 s\n",
            "Took: 0.01 s\n",
            "Took: 0.01 s\n",
            "Took: 0.01 s\n",
            "Took: 0.01 s\n",
            "Took: 0.01 s\n",
            "Took: 0.01 s\n",
            "Took: 0.01 s\n",
            "Took: 0.01 s\n",
            "Took: 0.01 s\n",
            "Took: 0.01 s\n",
            "Took: 0.01 s\n",
            "Took: 0.01 s\n",
            "Took: 0.01 s\n",
            "Took: 0.01 s\n",
            "Took: 0.01 s\n",
            "Took: 0.01 s\n",
            "Took: 0.01 s\n",
            "Took: 0.01 s\n",
            "Took: 0.01 s\n",
            "Took: 0.01 s\n",
            "Took: 0.01 s\n",
            "Took: 0.01 s\n",
            "Took: 0.01 s\n",
            "Took: 0.01 s\n",
            "Took: 0.01 s\n",
            "Took: 0.01 s\n",
            "Took: 0.01 s\n",
            "Took: 0.01 s\n",
            "Took: 0.01 s\n",
            "Took: 0.01 s\n",
            "Took: 0.01 s\n",
            "Took: 0.01 s\n",
            "Took: 0.01 s\n",
            "Took: 0.01 s\n",
            "Took: 0.01 s\n",
            "Took: 0.01 s\n",
            "Took: 0.01 s\n",
            "Took: 0.01 s\n",
            "Took: 0.01 s\n",
            "Took: 0.01 s\n",
            "Took: 0.01 s\n",
            "Took: 0.01 s\n",
            "Took: 0.01 s\n",
            "Took: 0.01 s\n",
            "Took: 0.01 s\n",
            "Took: 0.01 s\n",
            "Took: 0.01 s\n",
            "Took: 0.01 s\n",
            "Took: 0.01 s\n",
            "Took: 0.01 s\n",
            "Took: 0.01 s\n",
            "Took: 0.01 s\n",
            "Took: 0.01 s\n",
            "Took: 0.01 s\n",
            "Took: 0.01 s\n",
            "Took: 0.01 s\n",
            "Took: 0.01 s\n",
            "Took: 0.01 s\n",
            "Took: 0.01 s\n",
            "Took: 0.01 s\n",
            "Took: 0.01 s\n",
            "Took: 0.01 s\n",
            "Took: 0.01 s\n",
            "Took: 0.01 s\n",
            "Took: 0.01 s\n",
            "Took: 0.01 s\n",
            "Took: 0.01 s\n",
            "Took: 0.01 s\n",
            "Took: 0.01 s\n",
            "Took: 0.01 s\n",
            "Took: 0.01 s\n",
            "Took: 0.01 s\n",
            "Took: 0.01 s\n",
            "Took: 0.01 s\n",
            "Took: 0.01 s\n",
            "Took: 0.01 s\n",
            "Took: 0.01 s\n",
            "Took: 0.01 s\n",
            "Took: 0.01 s\n",
            "Took: 0.01 s\n",
            "Took: 0.01 s\n",
            "Took: 0.01 s\n",
            "Took: 0.01 s\n",
            "Took: 0.01 s\n",
            "Took: 0.01 s\n",
            "Took: 0.01 s\n",
            "Took: 0.01 s\n",
            "Took: 0.01 s\n",
            "Took: 0.01 s\n",
            "Took: 0.01 s\n",
            "Took: 0.01 s\n",
            "Took: 0.01 s\n",
            "Took: 0.01 s\n",
            "Took: 0.01 s\n",
            "Took: 0.01 s\n",
            "Took: 0.01 s\n",
            "Took: 0.01 s\n",
            "Took: 0.01 s\n",
            "Took: 0.01 s\n",
            "Took: 0.01 s\n",
            "Took: 0.01 s\n",
            "Took: 0.01 s\n",
            "Took: 0.01 s\n",
            "Took: 0.01 s\n",
            "Took: 0.01 s\n",
            "Took: 0.01 s\n",
            "Took: 0.01 s\n",
            "Took: 0.01 s\n",
            "Took: 0.01 s\n",
            "Took: 0.01 s\n",
            "Took: 0.01 s\n",
            "Took: 0.01 s\n",
            "Took: 0.01 s\n",
            "Took: 0.01 s\n",
            "Took: 0.01 s\n",
            "Took: 0.01 s\n",
            "Took: 0.01 s\n",
            "Took: 0.01 s\n",
            "Took: 0.01 s\n",
            "Took: 0.01 s\n",
            "Took: 0.01 s\n",
            "Took: 0.01 s\n",
            "Took: 0.01 s\n",
            "Took: 0.01 s\n",
            "Took: 0.01 s\n",
            "Took: 0.01 s\n",
            "Took: 0.01 s\n",
            "Took: 0.01 s\n",
            "Took: 0.01 s\n",
            "Took: 0.01 s\n",
            "Took: 0.01 s\n",
            "Took: 0.01 s\n",
            "Took: 0.01 s\n",
            "Took: 0.01 s\n",
            "Took: 0.01 s\n",
            "Took: 0.01 s\n",
            "Took: 0.01 s\n",
            "Took: 0.01 s\n",
            "Took: 0.01 s\n",
            "Took: 0.01 s\n",
            "Took: 0.01 s\n",
            "Took: 0.01 s\n",
            "Took: 0.01 s\n",
            "Took: 0.01 s\n",
            "Took: 0.01 s\n",
            "Took: 0.01 s\n",
            "Took: 0.01 s\n",
            "Took: 0.01 s\n",
            "Took: 0.01 s\n",
            "Took: 0.01 s\n",
            "Took: 0.01 s\n",
            "Took: 0.01 s\n",
            "Took: 0.01 s\n",
            "Took: 0.01 s\n",
            "Took: 0.01 s\n",
            "Took: 0.01 s\n",
            "Took: 0.01 s\n",
            "Took: 0.01 s\n",
            "Took: 0.01 s\n",
            "Took: 0.01 s\n",
            "Took: 0.01 s\n",
            "Took: 0.01 s\n",
            "Took: 0.01 s\n",
            "Took: 0.01 s\n",
            "Took: 0.01 s\n",
            "Took: 0.01 s\n",
            "Took: 0.01 s\n",
            "Took: 0.01 s\n",
            "Took: 0.01 s\n",
            "Took: 0.01 s\n",
            "Took: 0.01 s\n",
            "Took: 0.01 s\n",
            "Took: 0.01 s\n",
            "Took: 0.01 s\n",
            "Took: 0.01 s\n",
            "Took: 0.01 s\n",
            "Took: 0.01 s\n"
          ]
        }
      ]
    },
    {
      "cell_type": "code",
      "source": [
        "t0 = time.time()\n",
        "for _ in range(1000):\n",
        "  z = naive_add(x,y)\n",
        "  z = naive_relu(z)\n",
        "print(\"Took: {0:.2f} s\".format(time.time() - t0))"
      ],
      "metadata": {
        "colab": {
          "base_uri": "https://localhost:8080/"
        },
        "id": "b8fV5oQKfhBX",
        "outputId": "8c51680e-e43b-4bd9-b36f-58595d0eb506"
      },
      "execution_count": null,
      "outputs": [
        {
          "output_type": "stream",
          "name": "stdout",
          "text": [
            "Took: 1.86 s\n"
          ]
        }
      ]
    },
    {
      "cell_type": "markdown",
      "source": [
        "# Broadcast\n",
        "\n",
        "farklı shape'e ve boyuta sahip tensörlerde işlem yapmak. 2D bir tensor ile 1D vektör toplanacaksa, vektör tüm 2D elemanlarına uygulanır (broadcast edilir).\n"
      ],
      "metadata": {
        "id": "Chrigm1oggYA"
      }
    },
    {
      "cell_type": "code",
      "source": [
        "import numpy as np\n",
        "x = np.random.random((32, 10)) # 32 x 10 matris\n",
        "y = np.random.random((10,)) # 10 x 1 vector\n",
        "print(f\"x_dim : {x.ndim} and x_shape : {x.shape}\\ny_dim : {y.ndim} and y_shape : {y.shape}\")\n",
        "y"
      ],
      "metadata": {
        "colab": {
          "base_uri": "https://localhost:8080/"
        },
        "id": "Sw6T3bZ2f1WZ",
        "outputId": "14bfc1dd-aec4-479e-9cc5-6ab5bce10667"
      },
      "execution_count": null,
      "outputs": [
        {
          "output_type": "stream",
          "name": "stdout",
          "text": [
            "x_dim : 2 and x_shape : (32, 10)\n",
            "y_dim : 1 and y_shape : (10,)\n"
          ]
        },
        {
          "output_type": "execute_result",
          "data": {
            "text/plain": [
              "array([0.35797921, 0.41214668, 0.66052297, 0.91704308, 0.53350239,\n",
              "       0.02771112, 0.60856278, 0.52241871, 0.73281581, 0.56373615])"
            ]
          },
          "metadata": {},
          "execution_count": 47
        }
      ]
    },
    {
      "cell_type": "code",
      "source": [
        "y = np.expand_dims(y, axis = 0)\n",
        "print(f\"y_dim : {y.ndim} and y_shape : {y.shape}\")"
      ],
      "metadata": {
        "colab": {
          "base_uri": "https://localhost:8080/"
        },
        "id": "34565VWTg0Lo",
        "outputId": "16a507bb-a944-4462-d90b-b822c4c762dd"
      },
      "execution_count": null,
      "outputs": [
        {
          "output_type": "stream",
          "name": "stdout",
          "text": [
            "y_dim : 2 and y_shape : (1, 10)\n"
          ]
        }
      ]
    },
    {
      "cell_type": "code",
      "source": [
        "y"
      ],
      "metadata": {
        "colab": {
          "base_uri": "https://localhost:8080/"
        },
        "id": "mDghtQyfhF7n",
        "outputId": "7b2088c7-0d7a-4119-db41-3d593c658d87"
      },
      "execution_count": null,
      "outputs": [
        {
          "output_type": "execute_result",
          "data": {
            "text/plain": [
              "array([[0.35797921, 0.41214668, 0.66052297, 0.91704308, 0.53350239,\n",
              "        0.02771112, 0.60856278, 0.52241871, 0.73281581, 0.56373615]])"
            ]
          },
          "metadata": {},
          "execution_count": 49
        }
      ]
    },
    {
      "cell_type": "code",
      "source": [
        "y = np.concatenate([y] * 32, axis=0)\n",
        "print(f\"y_dim : {y.ndim} and y_shape : {y.shape}\")\n",
        "y"
      ],
      "metadata": {
        "colab": {
          "base_uri": "https://localhost:8080/"
        },
        "id": "5I_9VYr2g0Z6",
        "outputId": "ca2fb498-b3d4-4d86-ea55-28ac40e0405d"
      },
      "execution_count": null,
      "outputs": [
        {
          "output_type": "stream",
          "name": "stdout",
          "text": [
            "y_dim : 2 and y_shape : (32, 10)\n"
          ]
        },
        {
          "output_type": "execute_result",
          "data": {
            "text/plain": [
              "array([[0.35797921, 0.41214668, 0.66052297, 0.91704308, 0.53350239,\n",
              "        0.02771112, 0.60856278, 0.52241871, 0.73281581, 0.56373615],\n",
              "       [0.35797921, 0.41214668, 0.66052297, 0.91704308, 0.53350239,\n",
              "        0.02771112, 0.60856278, 0.52241871, 0.73281581, 0.56373615],\n",
              "       [0.35797921, 0.41214668, 0.66052297, 0.91704308, 0.53350239,\n",
              "        0.02771112, 0.60856278, 0.52241871, 0.73281581, 0.56373615],\n",
              "       [0.35797921, 0.41214668, 0.66052297, 0.91704308, 0.53350239,\n",
              "        0.02771112, 0.60856278, 0.52241871, 0.73281581, 0.56373615],\n",
              "       [0.35797921, 0.41214668, 0.66052297, 0.91704308, 0.53350239,\n",
              "        0.02771112, 0.60856278, 0.52241871, 0.73281581, 0.56373615],\n",
              "       [0.35797921, 0.41214668, 0.66052297, 0.91704308, 0.53350239,\n",
              "        0.02771112, 0.60856278, 0.52241871, 0.73281581, 0.56373615],\n",
              "       [0.35797921, 0.41214668, 0.66052297, 0.91704308, 0.53350239,\n",
              "        0.02771112, 0.60856278, 0.52241871, 0.73281581, 0.56373615],\n",
              "       [0.35797921, 0.41214668, 0.66052297, 0.91704308, 0.53350239,\n",
              "        0.02771112, 0.60856278, 0.52241871, 0.73281581, 0.56373615],\n",
              "       [0.35797921, 0.41214668, 0.66052297, 0.91704308, 0.53350239,\n",
              "        0.02771112, 0.60856278, 0.52241871, 0.73281581, 0.56373615],\n",
              "       [0.35797921, 0.41214668, 0.66052297, 0.91704308, 0.53350239,\n",
              "        0.02771112, 0.60856278, 0.52241871, 0.73281581, 0.56373615],\n",
              "       [0.35797921, 0.41214668, 0.66052297, 0.91704308, 0.53350239,\n",
              "        0.02771112, 0.60856278, 0.52241871, 0.73281581, 0.56373615],\n",
              "       [0.35797921, 0.41214668, 0.66052297, 0.91704308, 0.53350239,\n",
              "        0.02771112, 0.60856278, 0.52241871, 0.73281581, 0.56373615],\n",
              "       [0.35797921, 0.41214668, 0.66052297, 0.91704308, 0.53350239,\n",
              "        0.02771112, 0.60856278, 0.52241871, 0.73281581, 0.56373615],\n",
              "       [0.35797921, 0.41214668, 0.66052297, 0.91704308, 0.53350239,\n",
              "        0.02771112, 0.60856278, 0.52241871, 0.73281581, 0.56373615],\n",
              "       [0.35797921, 0.41214668, 0.66052297, 0.91704308, 0.53350239,\n",
              "        0.02771112, 0.60856278, 0.52241871, 0.73281581, 0.56373615],\n",
              "       [0.35797921, 0.41214668, 0.66052297, 0.91704308, 0.53350239,\n",
              "        0.02771112, 0.60856278, 0.52241871, 0.73281581, 0.56373615],\n",
              "       [0.35797921, 0.41214668, 0.66052297, 0.91704308, 0.53350239,\n",
              "        0.02771112, 0.60856278, 0.52241871, 0.73281581, 0.56373615],\n",
              "       [0.35797921, 0.41214668, 0.66052297, 0.91704308, 0.53350239,\n",
              "        0.02771112, 0.60856278, 0.52241871, 0.73281581, 0.56373615],\n",
              "       [0.35797921, 0.41214668, 0.66052297, 0.91704308, 0.53350239,\n",
              "        0.02771112, 0.60856278, 0.52241871, 0.73281581, 0.56373615],\n",
              "       [0.35797921, 0.41214668, 0.66052297, 0.91704308, 0.53350239,\n",
              "        0.02771112, 0.60856278, 0.52241871, 0.73281581, 0.56373615],\n",
              "       [0.35797921, 0.41214668, 0.66052297, 0.91704308, 0.53350239,\n",
              "        0.02771112, 0.60856278, 0.52241871, 0.73281581, 0.56373615],\n",
              "       [0.35797921, 0.41214668, 0.66052297, 0.91704308, 0.53350239,\n",
              "        0.02771112, 0.60856278, 0.52241871, 0.73281581, 0.56373615],\n",
              "       [0.35797921, 0.41214668, 0.66052297, 0.91704308, 0.53350239,\n",
              "        0.02771112, 0.60856278, 0.52241871, 0.73281581, 0.56373615],\n",
              "       [0.35797921, 0.41214668, 0.66052297, 0.91704308, 0.53350239,\n",
              "        0.02771112, 0.60856278, 0.52241871, 0.73281581, 0.56373615],\n",
              "       [0.35797921, 0.41214668, 0.66052297, 0.91704308, 0.53350239,\n",
              "        0.02771112, 0.60856278, 0.52241871, 0.73281581, 0.56373615],\n",
              "       [0.35797921, 0.41214668, 0.66052297, 0.91704308, 0.53350239,\n",
              "        0.02771112, 0.60856278, 0.52241871, 0.73281581, 0.56373615],\n",
              "       [0.35797921, 0.41214668, 0.66052297, 0.91704308, 0.53350239,\n",
              "        0.02771112, 0.60856278, 0.52241871, 0.73281581, 0.56373615],\n",
              "       [0.35797921, 0.41214668, 0.66052297, 0.91704308, 0.53350239,\n",
              "        0.02771112, 0.60856278, 0.52241871, 0.73281581, 0.56373615],\n",
              "       [0.35797921, 0.41214668, 0.66052297, 0.91704308, 0.53350239,\n",
              "        0.02771112, 0.60856278, 0.52241871, 0.73281581, 0.56373615],\n",
              "       [0.35797921, 0.41214668, 0.66052297, 0.91704308, 0.53350239,\n",
              "        0.02771112, 0.60856278, 0.52241871, 0.73281581, 0.56373615],\n",
              "       [0.35797921, 0.41214668, 0.66052297, 0.91704308, 0.53350239,\n",
              "        0.02771112, 0.60856278, 0.52241871, 0.73281581, 0.56373615],\n",
              "       [0.35797921, 0.41214668, 0.66052297, 0.91704308, 0.53350239,\n",
              "        0.02771112, 0.60856278, 0.52241871, 0.73281581, 0.56373615]])"
            ]
          },
          "metadata": {},
          "execution_count": 50
        }
      ]
    },
    {
      "cell_type": "code",
      "source": [
        "def naive_add_matrix_and_vector(x,y):\n",
        "  assert len(x.shape) == 2\n",
        "  assert len(y.shape) == 1\n",
        "  x = x.copy()\n",
        "\n",
        "  for i in range(x.shape[0]):\n",
        "    for j in range(x.shape[1]):\n",
        "      x[i, j] += y[i, j]\n",
        "  return x"
      ],
      "metadata": {
        "id": "kZhjNgDSiRU3"
      },
      "execution_count": null,
      "outputs": []
    },
    {
      "cell_type": "code",
      "source": [
        "# peki hangi değişken broadcast yapılmasına daha uygun\n",
        "\n",
        "x = np.random.random((64, 3, 32, 10))\n",
        "y = np.random.random((32,10))\n",
        "z = np.maximum(x,y)\n",
        "print(z.shape)"
      ],
      "metadata": {
        "colab": {
          "base_uri": "https://localhost:8080/"
        },
        "id": "g1EUFtrh2KyF",
        "outputId": "5e397dbb-ed68-44d3-f0a4-f041261fee6a"
      },
      "execution_count": null,
      "outputs": [
        {
          "output_type": "stream",
          "name": "stdout",
          "text": [
            "(64, 3, 32, 10)\n"
          ]
        }
      ]
    },
    {
      "cell_type": "markdown",
      "source": [
        "# tensor çarpımı -> nokta çarpımı\n"
      ],
      "metadata": {
        "id": "Eck87hVn2rF-"
      }
    },
    {
      "cell_type": "code",
      "source": [
        "x = np.random.random((32,))\n",
        "y = np.random.random((32,))\n",
        "z = np.dot(x,y)\n",
        "print(f\"z.shape: {z.shape} çünkü z.ndim: {z.ndim} -> skaler bir sayı\")"
      ],
      "metadata": {
        "colab": {
          "base_uri": "https://localhost:8080/"
        },
        "id": "h0y7pZ_v2ta2",
        "outputId": "0973edcb-ae6f-4483-97b3-10523ecd4769"
      },
      "execution_count": null,
      "outputs": [
        {
          "output_type": "stream",
          "name": "stdout",
          "text": [
            "z.shape: () çünkü z.ndim: 0 -> skaler bir sayı\n"
          ]
        }
      ]
    },
    {
      "cell_type": "code",
      "source": [
        "def naive_vector_dot(x,y):\n",
        "  assert len(x.shape) == 1\n",
        "  assert len(y.shape) == 1\n",
        "  assert x.shape[0] == y.shape[0]\n",
        "  z = 0.\n",
        "  for i in range(x.shape[0]):\n",
        "    z += x[i] * y[i]\n",
        "  return z\n",
        "\n",
        "print(f\"{naive_vector_dot(x,y)} vs {np.dot(x,y)}\")\n"
      ],
      "metadata": {
        "colab": {
          "base_uri": "https://localhost:8080/"
        },
        "id": "Cq-KIrPy24O-",
        "outputId": "fc35c82e-3d63-43ff-aaaf-b069c9ba9187"
      },
      "execution_count": null,
      "outputs": [
        {
          "output_type": "stream",
          "name": "stdout",
          "text": [
            "9.383818047803189 vs 9.383818047803189\n"
          ]
        }
      ]
    },
    {
      "cell_type": "code",
      "source": [
        "a = np.array([3,2,1])\n",
        "b = np.array([4,5,6])\n",
        "c = np.array([[7,2,5], [4, 1, 6]])\n",
        "print(np.dot(a,b))"
      ],
      "metadata": {
        "colab": {
          "base_uri": "https://localhost:8080/"
        },
        "id": "ko143ARB33qn",
        "outputId": "2e4c21de-67bd-4310-c254-8f1289ac7167"
      },
      "execution_count": null,
      "outputs": [
        {
          "output_type": "stream",
          "name": "stdout",
          "text": [
            "28\n"
          ]
        }
      ]
    },
    {
      "cell_type": "code",
      "source": [
        "a.shape, b.shape, c.shape\n"
      ],
      "metadata": {
        "colab": {
          "base_uri": "https://localhost:8080/"
        },
        "id": "U0Ie8evY4vNq",
        "outputId": "b78cdff2-b55c-48ce-fea9-9f405bd4170b"
      },
      "execution_count": null,
      "outputs": [
        {
          "output_type": "execute_result",
          "data": {
            "text/plain": [
              "((3,), (3,), (2, 3))"
            ]
          },
          "metadata": {},
          "execution_count": 56
        }
      ]
    },
    {
      "cell_type": "code",
      "source": [
        "def naive_matrix_vector_dot(x,y):\n",
        "  assert len(x.shape) == 2\n",
        "  assert len(y.shape) == 1\n",
        "  assert x.shape[1] == y.shape[0]\n",
        "  z = np.zeros(x.shape[0])\n",
        "  for i in range(x.shape[0]):\n",
        "    for j in range(x.shape[1]):\n",
        "      z[i] += x[i, j] * y[j]\n",
        "  return z\n",
        "\n",
        "naive_matrix_vector_dot(c,a)"
      ],
      "metadata": {
        "colab": {
          "base_uri": "https://localhost:8080/"
        },
        "id": "n1Sd8GtZ6gXw",
        "outputId": "a6f9f592-5f57-4518-95e7-6975d533d410"
      },
      "execution_count": null,
      "outputs": [
        {
          "output_type": "execute_result",
          "data": {
            "text/plain": [
              "array([30., 20.])"
            ]
          },
          "metadata": {},
          "execution_count": 57
        }
      ]
    },
    {
      "cell_type": "code",
      "source": [
        "def naive_matrix_vector_dot(x,y):\n",
        "  z = np.zeros(x.shape[0])\n",
        "  for i in range(x.shape[0]):\n",
        "    z[i] = naive_vector_dot(x[i,:], y)\n",
        "  return z\n",
        "\n",
        "naive_matrix_vector_dot(c,a)"
      ],
      "metadata": {
        "colab": {
          "base_uri": "https://localhost:8080/"
        },
        "id": "Qp27FApe7OOM",
        "outputId": "f1aa854b-04b4-48f4-9b18-a5a180540748"
      },
      "execution_count": null,
      "outputs": [
        {
          "output_type": "execute_result",
          "data": {
            "text/plain": [
              "array([30., 20.])"
            ]
          },
          "metadata": {},
          "execution_count": 58
        }
      ]
    },
    {
      "cell_type": "code",
      "source": [
        "c = np.array([[7,2], [4, 1]])\n",
        "d = np.array([[3,1,6], [7, 4, 9]])\n",
        "\n",
        "def naive_matrix_dot(x,y):\n",
        "  assert x.shape[0] == 2\n",
        "  assert y.shape[0] == 2\n",
        "  assert x.shape[1] == y.shape[0]\n",
        "  z = np.zeros((x.shape[0],  y.shape[1]))\n",
        "\n",
        "  for i in range(x.shape[0],):\n",
        "    for j in range(y.shape[1]):\n",
        "      row_x = x[i, : ]\n",
        "      column_y = y[:, j]\n",
        "      z[i, j] = naive_vector_dot(row_x, column_y)\n",
        "  return z\n",
        "\n",
        "\n",
        "naive_matrix_dot(c,d)"
      ],
      "metadata": {
        "colab": {
          "base_uri": "https://localhost:8080/"
        },
        "id": "hpJijbHK9EyX",
        "outputId": "eb35be58-681d-460e-d651-df8f4e418d01"
      },
      "execution_count": null,
      "outputs": [
        {
          "output_type": "execute_result",
          "data": {
            "text/plain": [
              "array([[35., 15., 60.],\n",
              "       [19.,  8., 33.]])"
            ]
          },
          "metadata": {},
          "execution_count": 59
        }
      ]
    },
    {
      "cell_type": "code",
      "source": [],
      "metadata": {
        "id": "Aw12R_xb9gZ9"
      },
      "execution_count": null,
      "outputs": []
    },
    {
      "cell_type": "markdown",
      "source": [
        "# MATRİSLERDE İŞLEMLERİ DAHA İYİ ANLAMAK İÇİN EGZERSİZLER\n",
        "Matrislerde işlem yapmaya daha da aşina olabilmek için uygulamalı lineer cebir kitabındaki örnekleri çözüyorum"
      ],
      "metadata": {
        "id": "wR5f3XYdCJp5"
      }
    },
    {
      "cell_type": "code",
      "source": [
        "# matrislerde toplama\n",
        "\n",
        "A = np.array([[1,-2,3],\n",
        "              [2,-1,4]\n",
        "              ])\n",
        "B = np.array([[0,2,1],\n",
        "              [1,3,-4]\n",
        "              ])\n",
        "\n",
        "print(f\"A: {A.shape} vs B: {B.shape}\")\n",
        "\n",
        "print(f\"{A + B}\")\n",
        "\n",
        "z = np.zeros((A.shape[0], A.shape[1]))\n",
        "for i in range(A.shape[0]):\n",
        "  for j in range(A.shape[1]):\n",
        "    z[i, j] = A[i, j] + B[i, j]\n",
        "print(f\"{z}\")\n"
      ],
      "metadata": {
        "colab": {
          "base_uri": "https://localhost:8080/"
        },
        "id": "pdIwblh8CStH",
        "outputId": "948ce321-db1a-4d0a-92ab-13416bbf87e1"
      },
      "execution_count": null,
      "outputs": [
        {
          "output_type": "stream",
          "name": "stdout",
          "text": [
            "A: (2, 3) vs B: (2, 3)\n",
            "[[1 0 4]\n",
            " [3 2 0]]\n",
            "[[1. 0. 4.]\n",
            " [3. 2. 0.]]\n"
          ]
        }
      ]
    },
    {
      "cell_type": "code",
      "source": [
        "# skalar çarpım\n",
        "A = np.array(-2)\n",
        "B = np.array([[4,-2,-3],\n",
        "              [7,-3,2]\n",
        "              ])\n",
        "\n",
        "z = np.zeros((B.shape[0], B.shape[1]))\n",
        "for i in range(B.shape[0]):\n",
        "  for j in range(B.shape[1]):\n",
        "    z[i,j] += A * B[i,j]\n",
        "print(z)\n",
        "\n",
        "\n",
        "print(A*B)"
      ],
      "metadata": {
        "colab": {
          "base_uri": "https://localhost:8080/"
        },
        "id": "5mJBG3bfCr-0",
        "outputId": "de995ff8-ecf1-4635-ef35-4012dfdbf8ec"
      },
      "execution_count": null,
      "outputs": [
        {
          "output_type": "stream",
          "name": "stdout",
          "text": [
            "[[ -8.   4.   6.]\n",
            " [-14.   6.  -4.]]\n",
            "[[ -8   4   6]\n",
            " [-14   6  -4]]\n"
          ]
        }
      ]
    },
    {
      "cell_type": "code",
      "source": [
        "# matris farkı\n",
        "A = np.array([[2,3,-5],\n",
        "              [4,2,1]\n",
        "              ])\n",
        "\n",
        "B = np.array([[2,-1,3],\n",
        "              [3,5,-2]\n",
        "              ])\n",
        "\n",
        "A = A.copy()\n",
        "\n",
        "for i in range(A.shape[0]):\n",
        "  for j in range(A.shape[1]):\n",
        "      A[i, j] -= B[i, j]\n",
        "\n",
        "A"
      ],
      "metadata": {
        "colab": {
          "base_uri": "https://localhost:8080/"
        },
        "id": "XzPwEfeUEErK",
        "outputId": "d35cf4d6-5e90-4e10-e2bb-42c1cd66baf9"
      },
      "execution_count": null,
      "outputs": [
        {
          "output_type": "execute_result",
          "data": {
            "text/plain": [
              "array([[ 0,  4, -8],\n",
              "       [ 1, -3,  3]])"
            ]
          },
          "metadata": {},
          "execution_count": 62
        }
      ]
    },
    {
      "cell_type": "code",
      "source": [
        "A = np.array([\n",
        "    [0, -3, 5],\n",
        "    [2,3,4],\n",
        "    [1,-2,-3]])\n",
        "\n",
        "B = np.array([\n",
        "    [5, 2, 3],\n",
        "    [6,2,3],\n",
        "    [-1,-2,3]\n",
        "])\n",
        "\n",
        "z = np.dot(3,A) - np.dot(0.5, B)\n",
        "z"
      ],
      "metadata": {
        "colab": {
          "base_uri": "https://localhost:8080/"
        },
        "id": "XSg-wR-8Gc6k",
        "outputId": "9667d17f-4e62-456f-9ac7-4436c08e1208"
      },
      "execution_count": null,
      "outputs": [
        {
          "output_type": "execute_result",
          "data": {
            "text/plain": [
              "array([[ -2.5, -10. ,  13.5],\n",
              "       [  3. ,   8. ,  10.5],\n",
              "       [  3.5,  -5. , -10.5]])"
            ]
          },
          "metadata": {},
          "execution_count": 63
        }
      ]
    },
    {
      "cell_type": "code",
      "source": [],
      "metadata": {
        "id": "X1gU4q4HHdnM"
      },
      "execution_count": null,
      "outputs": []
    },
    {
      "cell_type": "markdown",
      "source": [
        "# Tensor reshaping\n",
        "satır ve sütunları tekrardan düzenliyoruz\n"
      ],
      "metadata": {
        "id": "qxQEdZ3CIjUD"
      }
    },
    {
      "cell_type": "code",
      "source": [
        "x = np.array([\n",
        "    [0., 1.],\n",
        "    [2., 3.],\n",
        "    [4., 5.]\n",
        "])\n",
        "\n",
        "print(x.shape,end=\"\\n--------------\\n\")\n",
        "x = x.reshape((6,1))\n",
        "print(x)\n",
        "print(x.shape,end=\"\\n--------------\\n\")\n",
        "x = x.reshape((2,3))\n",
        "print(x)\n",
        "print(x.shape,end=\"\\n--------------\\n\")\n",
        "\n",
        "# burada\n",
        "# 0 2 4\n",
        "# 1 3 5\n",
        "\n",
        "# şeklinde transpoz almak yerine\n",
        "\n",
        "# 0 1 2\n",
        "# 3 4 5\n",
        "\n",
        "# geldi çünkü reshape öncelikle hepsini tek bir satıra alıyor \"flatten\" yapıyor\n",
        "# [0 1 2 3 4 5] oluyor ve sonrasında ayırıyor\n"
      ],
      "metadata": {
        "colab": {
          "base_uri": "https://localhost:8080/"
        },
        "id": "Du9Dz7hLIoQr",
        "outputId": "69cb5d61-8c30-4807-bb76-8c628011d5e7"
      },
      "execution_count": null,
      "outputs": [
        {
          "output_type": "stream",
          "name": "stdout",
          "text": [
            "(3, 2)\n",
            "--------------\n",
            "[[0.]\n",
            " [1.]\n",
            " [2.]\n",
            " [3.]\n",
            " [4.]\n",
            " [5.]]\n",
            "(6, 1)\n",
            "--------------\n",
            "[[0. 1. 2.]\n",
            " [3. 4. 5.]]\n",
            "(2, 3)\n",
            "--------------\n"
          ]
        }
      ]
    },
    {
      "cell_type": "code",
      "source": [
        "x = np.zeros((300, 20))\n",
        "x = np.transpose(x)\n",
        "x.shape"
      ],
      "metadata": {
        "colab": {
          "base_uri": "https://localhost:8080/"
        },
        "id": "3tlkn2KGI4I8",
        "outputId": "4adc28a9-b07e-4624-f8f1-d59cc00b4b45"
      },
      "execution_count": null,
      "outputs": [
        {
          "output_type": "execute_result",
          "data": {
            "text/plain": [
              "(20, 300)"
            ]
          },
          "metadata": {},
          "execution_count": 66
        }
      ]
    },
    {
      "cell_type": "code",
      "source": [
        "import numpy as np\n",
        "x = np.array([\n",
        "    [0., 1.],\n",
        "    [2., 3.],\n",
        "    [4., 5.]\n",
        "])\n",
        "\n",
        "print(x,end=\"\\n------------\\n\")\n",
        "\n",
        "print(np.transpose(x))"
      ],
      "metadata": {
        "colab": {
          "base_uri": "https://localhost:8080/"
        },
        "id": "EY4_DxASK7Zm",
        "outputId": "ba26ea59-f9e0-481a-c0e4-d20f4ab90f58"
      },
      "execution_count": 3,
      "outputs": [
        {
          "output_type": "stream",
          "name": "stdout",
          "text": [
            "[[0. 1.]\n",
            " [2. 3.]\n",
            " [4. 5.]]\n",
            "------------\n",
            "[[0. 2. 4.]\n",
            " [1. 3. 5.]]\n"
          ]
        }
      ]
    },
    {
      "cell_type": "code",
      "source": [],
      "metadata": {
        "id": "gTdjjicfLDoc"
      },
      "execution_count": null,
      "outputs": []
    },
    {
      "cell_type": "markdown",
      "source": [
        "# Geometrik olarak tensor operasyonları\n",
        "**translation**: vektörü bozmadan onu belirli bir yatay ve/veya dikey düzlemde taşımak (*vektör toplaması*)\n",
        "\n",
        "**rotation**: vektörü yine bozmadan belli bir açı ile saat yönünün tersinde çevirmek\n",
        "\n",
        "**scaling**: dikey ve/veya yatay uzunlukları belli çarpanlar ile çarparak değiştirip boyutunu düzenlemek\n",
        "\n",
        "**linear transform**: *nokta çarpımı* ile matriste değişiklik yapmak (rotation ve scaling birer linear transform örneği)\n",
        "\n",
        "**affine transform**: linear transform ile translation'ın (*vektör toplaması ve nokta çarpımı*) kombinasyonudur.\n",
        "örnek olarak ->  y = w . x + b\n",
        "\n",
        "\n",
        "\n"
      ],
      "metadata": {
        "id": "JZt-8mj3gpuS"
      }
    },
    {
      "cell_type": "code",
      "source": [],
      "metadata": {
        "id": "Ys8cXivYgsPh"
      },
      "execution_count": null,
      "outputs": []
    },
    {
      "cell_type": "markdown",
      "source": [
        "# Gradient-based optimization\n",
        "\n",
        "Modelin çalışması sonucunda:\n",
        "1. Eğitim verileri belirli adımlardan geçerek bir tahmin oluşturur. (y_tahmin)\n",
        "2. Edilen tahminin gerçek değerden (y_gercek) ne kadar uzak olduğunu anlamak için arasındaki farka bakarız: loss function\n",
        "3. Arasındaki fark tatmin eder durumda değilse ağırlıklar (w) değişerek tekrardan eğitim gerçekleştirilir ve tekrardan tahmin edilip loss'un ne kadar olduğuna bakılır.\n",
        "\n",
        "w: 0.3 iken loss: 0.5\n",
        "\n",
        "w: 0.35 iken loss: 0.6 (aradaki fark daha da açıldı)\n",
        "\n",
        "w: 0.25 iken loss: 0.4\n",
        "\n",
        "yani *-0.05* azalması gerekiyor ağırlığın.\n",
        "\n",
        "\n",
        "Fakat yüzlerce, binlerce ağırlığın olduğu bir durumda tek tek hepsinin hesaplanması çok büyük bir işlemsel yük. Bu sebeple gradient-descent algoritması geliştiriliyor. Bu yöntem türevi baz alıyor. Türevin pozitif ya da negatif olmasını kullanarak w değerinin artması ya da azalmasını sağlıyor. Böylelikle ekstra hangi yöne gitmeliyim sorusunun önüne geçilmiş oluyor. Her zaman minimumu hedefliyor.\n",
        "\n",
        "![1_G1v2WBigWmNzoMuKOYQV_g.png](data:image/png;base64,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)\n",
        "\n"
      ],
      "metadata": {
        "id": "y0EzGe1Olbu6"
      }
    },
    {
      "cell_type": "code",
      "source": [],
      "metadata": {
        "id": "WRvRe06tmzny"
      },
      "execution_count": null,
      "outputs": []
    },
    {
      "cell_type": "markdown",
      "source": [
        "\n",
        "# stochastic gradient descent\n",
        "bu yöntem ise yine aynı şekilde çalışıyor. Fakat yerel minimumlar varsa onların daha da düşükleri var mı diye kontrol ediyor. Böylelikle yerel minimum değil, global minimum hedefleniyor.\n",
        "\n",
        "\n",
        "1. x veri setini aldık ve y_gercek değerlerine baktık\n",
        "2. Tahminleri elde etmek için modeli x üzerinde çalıştırdık, y_tahmin elde ettik (forward pass)\n",
        "3. y_tahmin ve y_gercek arasındaki farka baktık: loss hesapladık\n",
        "4. modelin parametresine göre kaybın gradyanını hesaplayın. türevine baktık ne tarafa gidersek daha az loss elde edeceğiz (backforward pass)\n",
        "5. parametreleri greadient'in biraz tersi yönde hareket ettirin, böylece loss biraz azaldı. learning rate, bizim hareket etme anındaki adımımızın büyüklüğü"
      ],
      "metadata": {
        "id": "XixRIVNunRDp"
      }
    },
    {
      "cell_type": "code",
      "source": [],
      "metadata": {
        "id": "_1rgKHH7oQiF"
      },
      "execution_count": null,
      "outputs": []
    },
    {
      "cell_type": "markdown",
      "source": [
        "# gradient tape in tensorflow"
      ],
      "metadata": {
        "id": "67SO27UWznkg"
      }
    },
    {
      "cell_type": "code",
      "source": [
        "import tensorflow as tf\n",
        "x = tf.Variable(0.)\n",
        "with tf.GradientTape() as tape:\n",
        "  y = 2 * x + 3\n",
        "grad_of_y_wrt_x = tape.gradient(y,x)\n",
        "grad_of_y_wrt_x"
      ],
      "metadata": {
        "colab": {
          "base_uri": "https://localhost:8080/"
        },
        "id": "A_wKLDB0zpf7",
        "outputId": "3d6067f3-ee5e-4e63-c9f6-03c5c1bf6259"
      },
      "execution_count": 11,
      "outputs": [
        {
          "output_type": "execute_result",
          "data": {
            "text/plain": [
              "<tf.Tensor: shape=(), dtype=float32, numpy=2.0>"
            ]
          },
          "metadata": {},
          "execution_count": 11
        }
      ]
    },
    {
      "cell_type": "code",
      "source": [
        "x = tf.Variable(tf.random.uniform((2, 2)))\n",
        "print(x)\n",
        "with tf.GradientTape() as tape:\n",
        "  y = 2 * x + 3\n",
        "grad_of_y_wrt_x = tape.gradient(y,x)\n",
        "grad_of_y_wrt_x"
      ],
      "metadata": {
        "colab": {
          "base_uri": "https://localhost:8080/"
        },
        "id": "8JcETwFQzzmv",
        "outputId": "2b4c8714-d95f-46bf-f5dc-1bafbe3d280f"
      },
      "execution_count": 12,
      "outputs": [
        {
          "output_type": "stream",
          "name": "stdout",
          "text": [
            "<tf.Variable 'Variable:0' shape=(2, 2) dtype=float32, numpy=\n",
            "array([[0.96409047, 0.85221016],\n",
            "       [0.56967556, 0.49751258]], dtype=float32)>\n"
          ]
        },
        {
          "output_type": "execute_result",
          "data": {
            "text/plain": [
              "<tf.Tensor: shape=(2, 2), dtype=float32, numpy=\n",
              "array([[2., 2.],\n",
              "       [2., 2.]], dtype=float32)>"
            ]
          },
          "metadata": {},
          "execution_count": 12
        }
      ]
    },
    {
      "cell_type": "code",
      "source": [
        "W = tf.Variable(tf.random.uniform((2, 2)))\n",
        "b = tf.Variable(tf.zeros((2, )))\n",
        "x = tf.random.uniform((2, 2))\n",
        "\n",
        "print(W)\n",
        "print(b)\n",
        "print(x)\n",
        "\n",
        "with tf.GradientTape() as tape:\n",
        "  y = tf.matmul(x, W) + b\n",
        "grad_of_y_wrt_W_and_b = tape.gradient(y, [W,b])\n",
        "print(\"--------------\")\n",
        "grad_of_y_wrt_W_and_b"
      ],
      "metadata": {
        "colab": {
          "base_uri": "https://localhost:8080/"
        },
        "id": "RvbE7dsu0Ar9",
        "outputId": "53568bf0-c64d-4a3a-8d44-e4f6e3b81d72"
      },
      "execution_count": 16,
      "outputs": [
        {
          "output_type": "stream",
          "name": "stdout",
          "text": [
            "<tf.Variable 'Variable:0' shape=(2, 2) dtype=float32, numpy=\n",
            "array([[0.53560925, 0.6566154 ],\n",
            "       [0.6366582 , 0.6737045 ]], dtype=float32)>\n",
            "<tf.Variable 'Variable:0' shape=(2,) dtype=float32, numpy=array([0., 0.], dtype=float32)>\n",
            "tf.Tensor(\n",
            "[[0.7733587  0.8298502 ]\n",
            " [0.50094545 0.385028  ]], shape=(2, 2), dtype=float32)\n",
            "--------------\n"
          ]
        },
        {
          "output_type": "execute_result",
          "data": {
            "text/plain": [
              "[<tf.Tensor: shape=(2, 2), dtype=float32, numpy=\n",
              " array([[1.2743042, 1.2743042],\n",
              "        [1.2148782, 1.2148782]], dtype=float32)>,\n",
              " <tf.Tensor: shape=(2,), dtype=float32, numpy=array([2., 2.], dtype=float32)>]"
            ]
          },
          "metadata": {},
          "execution_count": 16
        }
      ]
    },
    {
      "cell_type": "code",
      "source": [],
      "metadata": {
        "id": "mJtVa38b0W8G"
      },
      "execution_count": null,
      "outputs": []
    },
    {
      "cell_type": "markdown",
      "source": [
        "# SIFIRDAN MNIST için model geliştirme"
      ],
      "metadata": {
        "id": "wAdLERuR104l"
      }
    },
    {
      "cell_type": "markdown",
      "source": [
        "## dense oluşturma\n",
        "output = activation(dot(W, input) + b )"
      ],
      "metadata": {
        "id": "kP8fdqLw17mI"
      }
    },
    {
      "cell_type": "code",
      "source": [
        "import tensorflow as tf\n",
        "\n",
        "class NaiveDense:\n",
        "    def __init__(self, input_size, output_size, activation):\n",
        "      self.activation = activation\n",
        "\n",
        "      w_shape = (input_size, output_size)\n",
        "      w_initial_value = tf.random.uniform(w_shape, minval=0, maxval=1e-1)\n",
        "      self.W = tf.Variable(w_initial_value)\n",
        "\n",
        "      b_shape = (output_size)\n",
        "      b_initial_value = tf.zeros(b_shape)\n",
        "      self.b = tf.Variable(b_initial_value)\n",
        "\n",
        "    def __call__(self, inputs):\n",
        "      return self.activation(tf.matmul(inputs, self.W) + self.b)\n",
        "\n",
        "    @property\n",
        "    def weights(self):\n",
        "      return [self.W, self.b]\n",
        ""
      ],
      "metadata": {
        "id": "UTEtcTKT14IR"
      },
      "execution_count": 26,
      "outputs": []
    },
    {
      "cell_type": "code",
      "source": [],
      "metadata": {
        "id": "AsQwmrid2c8e"
      },
      "execution_count": null,
      "outputs": []
    },
    {
      "cell_type": "markdown",
      "source": [
        "## sequential class"
      ],
      "metadata": {
        "id": "_pJroXB22eHl"
      }
    },
    {
      "cell_type": "code",
      "source": [
        "class NaiveSequential:\n",
        "  def __init__(self, layers):\n",
        "    self.layers = layers\n",
        "\n",
        "  def __call__(self, inputs):\n",
        "    x = inputs\n",
        "    for layer in self.layers:\n",
        "      x = layer(x)\n",
        "    return x\n",
        "\n",
        "  @property\n",
        "  def weights(self):\n",
        "    weights = []\n",
        "    for layer in self.layers:\n",
        "      weights += layer.weights\n",
        "    return weights"
      ],
      "metadata": {
        "id": "rTu9_nBT2gWn"
      },
      "execution_count": 27,
      "outputs": []
    },
    {
      "cell_type": "code",
      "source": [
        "model = NaiveSequential([\n",
        "  NaiveDense(input_size=28 * 28, output_size=512, activation=tf.nn.relu),\n",
        "  NaiveDense(input_size=512, output_size=10, activation=tf.nn.softmax)\n",
        "  ])\n",
        "assert len(model.weights) == 4"
      ],
      "metadata": {
        "id": "nWPEFbsR209l"
      },
      "execution_count": 28,
      "outputs": []
    },
    {
      "cell_type": "markdown",
      "source": [
        "## batch generator"
      ],
      "metadata": {
        "id": "CnE-GVEd26VY"
      }
    },
    {
      "cell_type": "code",
      "source": [
        "import math\n",
        "\n",
        "class BatchGenerator:\n",
        "  def __init__(self, images, labels, batch_size=128):\n",
        "    assert len(images) == len(labels)\n",
        "    self.index = 0\n",
        "    self.images = images\n",
        "    self.labels = labels\n",
        "    self.batch_size = batch_size\n",
        "    self.num_batches = math.ceil(len(images) / batch_size)\n",
        "\n",
        "  def next(self):\n",
        "    images = self.images[self.index : self.index + self.batch_size]\n",
        "    labels = self.labels[self.index : self.index + self.batch_size]\n",
        "    self.index += self.batch_size\n",
        "    return images, labels"
      ],
      "metadata": {
        "id": "nhcoycmR277L"
      },
      "execution_count": 29,
      "outputs": []
    },
    {
      "cell_type": "code",
      "source": [],
      "metadata": {
        "id": "fqNfugPe3E_W"
      },
      "execution_count": 29,
      "outputs": []
    },
    {
      "cell_type": "markdown",
      "source": [
        "## Running one training step\n",
        "\n",
        "1. Compute the predictions of the model for the images in the batch.\n",
        "2. Compute the loss value for these predictions, given the actual labels.\n",
        "3. Compute the gradient of the loss with regard to the model’s weights.\n",
        "4. Move the weights by a small amount in the direction opposite to the gradient."
      ],
      "metadata": {
        "id": "iZDPyDAy3Jca"
      }
    },
    {
      "cell_type": "code",
      "source": [
        "def one_training_step(model, images_batch, labels_batch):\n",
        "    with tf.GradientTape() as tape:\n",
        "      predictions = model(images_batch)\n",
        "      per_sample_losses = tf.keras.losses.sparse_categorical_crossentropy(\n",
        "          labels_batch, predictions)\n",
        "      average_loss = tf.reduce_mean(per_sample_losses)\n",
        "    gradients = tape.gradient(average_loss, model.weights)\n",
        "    update_weights(gradients, model.weights)\n",
        "    return average_loss"
      ],
      "metadata": {
        "id": "1joltvSr3K0_"
      },
      "execution_count": 30,
      "outputs": []
    },
    {
      "cell_type": "code",
      "source": [
        "learning_rate = 1e-3\n",
        "\n",
        "def update_weights(gradients, weights):\n",
        "  for g, w in zip(gradients, weights):\n",
        "    w.assign_sub(g * learning_rate)"
      ],
      "metadata": {
        "id": "AIlWP4Js3nA2"
      },
      "execution_count": 31,
      "outputs": []
    },
    {
      "cell_type": "code",
      "source": [
        "# from tensorflow.keras import optimizers\n",
        "# optimizer = optimizers.SGD(learning_rate=1e-3)\n",
        "#def update_weights(gradients, weights):\n",
        "# optimizer.apply_gradients(zip(gradients, weights)"
      ],
      "metadata": {
        "id": "hy6xIaAg3ucB"
      },
      "execution_count": 32,
      "outputs": []
    },
    {
      "cell_type": "markdown",
      "source": [
        "## full training loop"
      ],
      "metadata": {
        "id": "WXQDgKf434bF"
      }
    },
    {
      "cell_type": "code",
      "source": [
        "def fit(model, images, labels, epochs, batch_size=128):\n",
        "  for epoch_counter in range(epochs):\n",
        "    print(f\"Epoch {epoch_counter}\")\n",
        "    batch_generator = BatchGenerator(images, labels)\n",
        "    for batch_counter in range(batch_generator.num_batches):\n",
        "      images_batch, labels_batch = batch_generator.next()\n",
        "      loss = one_training_step(model, images_batch, labels_batch)\n",
        "      if batch_counter % 100 == 0:\n",
        "        print(f\"loss at batch {batch_counter}: {loss:.2f}\")\n"
      ],
      "metadata": {
        "id": "VIbidLTc37Iu"
      },
      "execution_count": 33,
      "outputs": []
    },
    {
      "cell_type": "code",
      "source": [
        "from tensorflow.keras.datasets import mnist\n",
        "\n",
        "(train_images, train_labels), (test_images, test_labels) = mnist.load_data()\n",
        "train_images = train_images.reshape((60000, 28 * 28))\n",
        "train_images = train_images.astype(\"float32\") / 255\n",
        "test_images = test_images.reshape((10000, 28 * 28))\n",
        "test_images = test_images.astype(\"float32\") / 255\n",
        "\n",
        "fit(model, train_images, train_labels, epochs=10, batch_size=128)"
      ],
      "metadata": {
        "colab": {
          "base_uri": "https://localhost:8080/"
        },
        "id": "OuZ92OvE4Erq",
        "outputId": "a14fa876-7e16-42d5-8767-74dd5f66fbe7"
      },
      "execution_count": 34,
      "outputs": [
        {
          "output_type": "stream",
          "name": "stdout",
          "text": [
            "Epoch 0\n",
            "loss at batch 0: 6.02\n",
            "loss at batch 100: 2.25\n",
            "loss at batch 200: 2.22\n",
            "loss at batch 300: 2.09\n",
            "loss at batch 400: 2.22\n",
            "Epoch 1\n",
            "loss at batch 0: 1.91\n",
            "loss at batch 100: 1.89\n",
            "loss at batch 200: 1.83\n",
            "loss at batch 300: 1.71\n",
            "loss at batch 400: 1.84\n",
            "Epoch 2\n",
            "loss at batch 0: 1.58\n",
            "loss at batch 100: 1.59\n",
            "loss at batch 200: 1.50\n",
            "loss at batch 300: 1.42\n",
            "loss at batch 400: 1.52\n",
            "Epoch 3\n",
            "loss at batch 0: 1.33\n",
            "loss at batch 100: 1.35\n",
            "loss at batch 200: 1.24\n",
            "loss at batch 300: 1.20\n",
            "loss at batch 400: 1.29\n",
            "Epoch 4\n",
            "loss at batch 0: 1.13\n",
            "loss at batch 100: 1.17\n",
            "loss at batch 200: 1.04\n",
            "loss at batch 300: 1.04\n",
            "loss at batch 400: 1.13\n",
            "Epoch 5\n",
            "loss at batch 0: 0.99\n",
            "loss at batch 100: 1.03\n",
            "loss at batch 200: 0.91\n",
            "loss at batch 300: 0.93\n",
            "loss at batch 400: 1.00\n",
            "Epoch 6\n",
            "loss at batch 0: 0.88\n",
            "loss at batch 100: 0.93\n",
            "loss at batch 200: 0.80\n",
            "loss at batch 300: 0.84\n",
            "loss at batch 400: 0.91\n",
            "Epoch 7\n",
            "loss at batch 0: 0.80\n",
            "loss at batch 100: 0.84\n",
            "loss at batch 200: 0.73\n",
            "loss at batch 300: 0.77\n",
            "loss at batch 400: 0.85\n",
            "Epoch 8\n",
            "loss at batch 0: 0.74\n",
            "loss at batch 100: 0.77\n",
            "loss at batch 200: 0.66\n",
            "loss at batch 300: 0.71\n",
            "loss at batch 400: 0.79\n",
            "Epoch 9\n",
            "loss at batch 0: 0.69\n",
            "loss at batch 100: 0.72\n",
            "loss at batch 200: 0.61\n",
            "loss at batch 300: 0.67\n",
            "loss at batch 400: 0.75\n"
          ]
        }
      ]
    },
    {
      "cell_type": "markdown",
      "source": [
        "## evaluating model"
      ],
      "metadata": {
        "id": "PhghFxSM4ylx"
      }
    },
    {
      "cell_type": "code",
      "source": [
        "predictions = model(test_images)\n",
        "predictions = predictions.numpy()\n",
        "predicted_labels = np.argmax(predictions, axis=1)\n",
        "matches = predicted_labels == test_labels\n",
        "print(f\"accuracy: {matches.mean():.2f}\")"
      ],
      "metadata": {
        "colab": {
          "base_uri": "https://localhost:8080/"
        },
        "id": "ySTj4l2k41Fv",
        "outputId": "61b0fef5-8b96-445b-cc5a-c40c950ef4a0"
      },
      "execution_count": 35,
      "outputs": [
        {
          "output_type": "stream",
          "name": "stdout",
          "text": [
            "accuracy: 0.81\n"
          ]
        }
      ]
    },
    {
      "cell_type": "code",
      "source": [],
      "metadata": {
        "id": "IEGuFiCL5IBS"
      },
      "execution_count": null,
      "outputs": []
    }
  ]
}