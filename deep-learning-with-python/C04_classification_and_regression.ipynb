{
  "nbformat": 4,
  "nbformat_minor": 0,
  "metadata": {
    "colab": {
      "provenance": [],
      "toc_visible": true
    },
    "kernelspec": {
      "name": "python3",
      "display_name": "Python 3"
    },
    "language_info": {
      "name": "python"
    }
  },
  "cells": [
    {
      "cell_type": "markdown",
      "source": [
        "# Film yorumlarını sınıflandırmak : binary (ikili) sınıflandırma\n",
        "\n",
        "Film yorumlarını iki sınıf üzerinden (pozitif - negatif) sınıflandıracağız."
      ],
      "metadata": {
        "id": "tVIVm0jxmORC"
      }
    },
    {
      "cell_type": "code",
      "execution_count": 1,
      "metadata": {
        "colab": {
          "base_uri": "https://localhost:8080/"
        },
        "id": "G7SoPfdrl1VU",
        "outputId": "4abb87eb-3cbb-421c-9a18-67d4b0851421"
      },
      "outputs": [
        {
          "output_type": "stream",
          "name": "stdout",
          "text": [
            "Downloading data from https://storage.googleapis.com/tensorflow/tf-keras-datasets/imdb.npz\n",
            "\u001b[1m17464789/17464789\u001b[0m \u001b[32m━━━━━━━━━━━━━━━━━━━━\u001b[0m\u001b[37m\u001b[0m \u001b[1m0s\u001b[0m 0us/step\n"
          ]
        }
      ],
      "source": [
        "# The IMDB dataset\n",
        "from tensorflow.keras.datasets import imdb\n",
        "(train_data, train_labels), (test_data, test_labels) = imdb.load_data(num_words=10000)\n",
        "# num words, en sık geçen 10000 kelimeyi içeren verileri yükler."
      ]
    },
    {
      "cell_type": "code",
      "source": [
        "train_data[0]\n",
        "# kelimeler yerine sayılar görüyoruz.\n",
        "# veri setinde her kelimenin bir sayı karşılığı var\n",
        "# bu sayısal da o kelimelerin indislerini veriyor."
      ],
      "metadata": {
        "colab": {
          "base_uri": "https://localhost:8080/"
        },
        "id": "UXI2qbgVnAsp",
        "outputId": "d56ca1a2-271c-45ce-c68e-075e0ef9cb45"
      },
      "execution_count": 3,
      "outputs": [
        {
          "output_type": "execute_result",
          "data": {
            "text/plain": [
              "[1,\n",
              " 14,\n",
              " 22,\n",
              " 16,\n",
              " 43,\n",
              " 530,\n",
              " 973,\n",
              " 1622,\n",
              " 1385,\n",
              " 65,\n",
              " 458,\n",
              " 4468,\n",
              " 66,\n",
              " 3941,\n",
              " 4,\n",
              " 173,\n",
              " 36,\n",
              " 256,\n",
              " 5,\n",
              " 25,\n",
              " 100,\n",
              " 43,\n",
              " 838,\n",
              " 112,\n",
              " 50,\n",
              " 670,\n",
              " 2,\n",
              " 9,\n",
              " 35,\n",
              " 480,\n",
              " 284,\n",
              " 5,\n",
              " 150,\n",
              " 4,\n",
              " 172,\n",
              " 112,\n",
              " 167,\n",
              " 2,\n",
              " 336,\n",
              " 385,\n",
              " 39,\n",
              " 4,\n",
              " 172,\n",
              " 4536,\n",
              " 1111,\n",
              " 17,\n",
              " 546,\n",
              " 38,\n",
              " 13,\n",
              " 447,\n",
              " 4,\n",
              " 192,\n",
              " 50,\n",
              " 16,\n",
              " 6,\n",
              " 147,\n",
              " 2025,\n",
              " 19,\n",
              " 14,\n",
              " 22,\n",
              " 4,\n",
              " 1920,\n",
              " 4613,\n",
              " 469,\n",
              " 4,\n",
              " 22,\n",
              " 71,\n",
              " 87,\n",
              " 12,\n",
              " 16,\n",
              " 43,\n",
              " 530,\n",
              " 38,\n",
              " 76,\n",
              " 15,\n",
              " 13,\n",
              " 1247,\n",
              " 4,\n",
              " 22,\n",
              " 17,\n",
              " 515,\n",
              " 17,\n",
              " 12,\n",
              " 16,\n",
              " 626,\n",
              " 18,\n",
              " 2,\n",
              " 5,\n",
              " 62,\n",
              " 386,\n",
              " 12,\n",
              " 8,\n",
              " 316,\n",
              " 8,\n",
              " 106,\n",
              " 5,\n",
              " 4,\n",
              " 2223,\n",
              " 5244,\n",
              " 16,\n",
              " 480,\n",
              " 66,\n",
              " 3785,\n",
              " 33,\n",
              " 4,\n",
              " 130,\n",
              " 12,\n",
              " 16,\n",
              " 38,\n",
              " 619,\n",
              " 5,\n",
              " 25,\n",
              " 124,\n",
              " 51,\n",
              " 36,\n",
              " 135,\n",
              " 48,\n",
              " 25,\n",
              " 1415,\n",
              " 33,\n",
              " 6,\n",
              " 22,\n",
              " 12,\n",
              " 215,\n",
              " 28,\n",
              " 77,\n",
              " 52,\n",
              " 5,\n",
              " 14,\n",
              " 407,\n",
              " 16,\n",
              " 82,\n",
              " 2,\n",
              " 8,\n",
              " 4,\n",
              " 107,\n",
              " 117,\n",
              " 5952,\n",
              " 15,\n",
              " 256,\n",
              " 4,\n",
              " 2,\n",
              " 7,\n",
              " 3766,\n",
              " 5,\n",
              " 723,\n",
              " 36,\n",
              " 71,\n",
              " 43,\n",
              " 530,\n",
              " 476,\n",
              " 26,\n",
              " 400,\n",
              " 317,\n",
              " 46,\n",
              " 7,\n",
              " 4,\n",
              " 2,\n",
              " 1029,\n",
              " 13,\n",
              " 104,\n",
              " 88,\n",
              " 4,\n",
              " 381,\n",
              " 15,\n",
              " 297,\n",
              " 98,\n",
              " 32,\n",
              " 2071,\n",
              " 56,\n",
              " 26,\n",
              " 141,\n",
              " 6,\n",
              " 194,\n",
              " 7486,\n",
              " 18,\n",
              " 4,\n",
              " 226,\n",
              " 22,\n",
              " 21,\n",
              " 134,\n",
              " 476,\n",
              " 26,\n",
              " 480,\n",
              " 5,\n",
              " 144,\n",
              " 30,\n",
              " 5535,\n",
              " 18,\n",
              " 51,\n",
              " 36,\n",
              " 28,\n",
              " 224,\n",
              " 92,\n",
              " 25,\n",
              " 104,\n",
              " 4,\n",
              " 226,\n",
              " 65,\n",
              " 16,\n",
              " 38,\n",
              " 1334,\n",
              " 88,\n",
              " 12,\n",
              " 16,\n",
              " 283,\n",
              " 5,\n",
              " 16,\n",
              " 4472,\n",
              " 113,\n",
              " 103,\n",
              " 32,\n",
              " 15,\n",
              " 16,\n",
              " 5345,\n",
              " 19,\n",
              " 178,\n",
              " 32]"
            ]
          },
          "metadata": {},
          "execution_count": 3
        }
      ]
    },
    {
      "cell_type": "code",
      "source": [
        "train_labels[0]\n",
        "# negatif: 0 - pozitif: 1\n",
        "# eğitim veri setindeki ilk yorum pozitifmiş"
      ],
      "metadata": {
        "colab": {
          "base_uri": "https://localhost:8080/"
        },
        "id": "sF2Ev_k0nE_W",
        "outputId": "4af3735d-950d-4631-ebe9-2947213d803b"
      },
      "execution_count": 5,
      "outputs": [
        {
          "output_type": "execute_result",
          "data": {
            "text/plain": [
              "np.int64(1)"
            ]
          },
          "metadata": {},
          "execution_count": 5
        }
      ]
    },
    {
      "cell_type": "code",
      "source": [
        "# 10000 kelime ile kendimi sınırlamıştık\n",
        "max([max(sequence) for sequence in train_data])\n"
      ],
      "metadata": {
        "colab": {
          "base_uri": "https://localhost:8080/"
        },
        "id": "jWyQVd96nZs4",
        "outputId": "a50f97c0-2e5f-41de-e46b-dc35286d2741"
      },
      "execution_count": 6,
      "outputs": [
        {
          "output_type": "execute_result",
          "data": {
            "text/plain": [
              "9999"
            ]
          },
          "metadata": {},
          "execution_count": 6
        }
      ]
    },
    {
      "cell_type": "code",
      "source": [
        "# sayıları tekrardan kelimelere dönüştürme\n",
        "\n",
        "word_index = imdb.get_word_index()\n",
        "reverse_word_index = dict([(value, key) for (key, value) in word_index.items()])\n",
        "decoded_review = ' '.join(\n",
        "    [reverse_word_index.get(i - 3, '?') for i in train_data[0]])\n",
        "# ilk 3 indisi (0: padding, 1: start of sequence, 2: unknown) veri seti kendi aldığı için\n",
        "# her sayının indisinden 3 çıkarıyoruz"
      ],
      "metadata": {
        "id": "xdY5hYF0oEVK"
      },
      "execution_count": 9,
      "outputs": []
    },
    {
      "cell_type": "code",
      "source": [
        "word_index[\"the\"]"
      ],
      "metadata": {
        "colab": {
          "base_uri": "https://localhost:8080/"
        },
        "id": "OjfQyBmwoSX3",
        "outputId": "5e268ee6-a4fb-4036-a9c5-a1c05ba51bd3"
      },
      "execution_count": 10,
      "outputs": [
        {
          "output_type": "execute_result",
          "data": {
            "text/plain": [
              "1"
            ]
          },
          "metadata": {},
          "execution_count": 10
        }
      ]
    },
    {
      "cell_type": "code",
      "source": [
        "# ilk örnekteki ikinci sayımız 14'tü fakat bundan üç çıkarmamız gerekiyor\n",
        "reverse_word_index[14-3]"
      ],
      "metadata": {
        "colab": {
          "base_uri": "https://localhost:8080/",
          "height": 35
        },
        "id": "u2tuj1H4pV-K",
        "outputId": "79e63cfd-ee09-4d8b-c09e-2e82b66e3f46"
      },
      "execution_count": 14,
      "outputs": [
        {
          "output_type": "execute_result",
          "data": {
            "text/plain": [
              "'this'"
            ],
            "application/vnd.google.colaboratory.intrinsic+json": {
              "type": "string"
            }
          },
          "metadata": {},
          "execution_count": 14
        }
      ]
    },
    {
      "cell_type": "markdown",
      "source": [
        "Girişteki tensorumuzun sabit uzunlukta olmasını istiyoruz. Çünkü bazı yorumlar 10 farklı kelimeden oluşuyor, bazıları 100 farklı kelimeden oluşuyor. Bunların boyutlarının aynı olmasını istiyoruz. Bunu da `multi-hot encoding` ile yapıyoruz.\n",
        "\n",
        "Elimizde 10000 farklı kelime var toplamda. Tensorların boyutu 10000 olacak.\n",
        "* Bu 10.000 kelimedeki kelimelerden hangileri bizim yorumumuzda varsa onların indisleri 1 olarak işaretlenecek, olmayanlar 0 olarak işaretlenecek.\n",
        "\n",
        "Böylelikle 100 farklı kelime olan yorumun tensorunda 100 adet 1, 10.000-100 kadar da sıfır olacak.\n",
        "\n",
        "Benzer şekilde 10 farklı kelime olan yorumun tensorunde 10 adet 1, 10.000 - 10 adet sıfır bulunacak.\n",
        "\n",
        "Böylelikle tensorların boyutları eşitlendi"
      ],
      "metadata": {
        "id": "FE6vJyMusJXJ"
      }
    },
    {
      "cell_type": "code",
      "source": [
        "import numpy as np\n",
        "def vectorize_sequences(sequences, dimension=10000):\n",
        "    results = np.zeros((len(sequences), dimension))  # len(sequences) : toplam yorum sayısı\n",
        "    for i, sequence in enumerate(sequences):\n",
        "        results[i, sequence] = 1.\n",
        "    return results\n",
        "\n",
        "x_train = vectorize_sequences(train_data)\n",
        "x_test = vectorize_sequences(test_data)"
      ],
      "metadata": {
        "id": "rcL-ApUcpp-9"
      },
      "execution_count": 16,
      "outputs": []
    },
    {
      "cell_type": "markdown",
      "source": [
        "Yukarıdaki kodda for döngüsünde tüm yorumlar teker teker geziliyor. i, bizim yorum indeksimiz\n",
        "\n",
        "i = 0 için\n",
        "* 1. yorumdaki kelimelerin indeksleri [1,14,20] alınıyor\n",
        "* result[0, 1],result[0,14], result[1,20] 1 yapılıyor\n",
        "böylelikle ilk yorum için 3 adet bir oluşturuldu diğerleri sıfır"
      ],
      "metadata": {
        "id": "lMB8kQIHt75y"
      }
    },
    {
      "cell_type": "code",
      "source": [
        "x_train[0]"
      ],
      "metadata": {
        "colab": {
          "base_uri": "https://localhost:8080/"
        },
        "id": "3xUILwSArVi0",
        "outputId": "50e06278-123f-45d2-c5d5-5b80d211e6f3"
      },
      "execution_count": 17,
      "outputs": [
        {
          "output_type": "execute_result",
          "data": {
            "text/plain": [
              "array([0., 1., 1., ..., 0., 0., 0.])"
            ]
          },
          "metadata": {},
          "execution_count": 17
        }
      ]
    },
    {
      "cell_type": "code",
      "source": [
        "# aynı şekilde etiketlerimizi de vektörize etmemiz gerekiyor\n",
        "y_train = np.asarray(train_labels).astype(\"float32\")\n",
        "y_test = np.asarray(test_labels).astype(\"float32\")"
      ],
      "metadata": {
        "id": "eG09ZYSFuUvM"
      },
      "execution_count": 20,
      "outputs": []
    },
    {
      "cell_type": "markdown",
      "source": [
        "# Modeli inşa etmek\n",
        "Artık giriş verilerimizi sinir ağına girebilecek şekilde vektörize ettik. Girişlerimiz vektör, etiketlerimiz ise skalar (0-1).\n",
        "\n",
        "Bu problem için dense katmanı ve relu aktivasyon fonksiyonu kullanacağız.\n",
        "\n",
        "Dense için karar vermemiz gereken 2 şey var. Bunlar:\n",
        "- kaç katman (layer) kullanacağız\n",
        "- her katmanda kaç tane unit kullanacağız\n",
        "\n",
        "\n",
        "Bunun detayları 5. bölümde\n",
        "\n",
        "Şimdilik biz 2 adet 16 unit'lik katman kullanacağız.\n",
        "\n",
        "üçüncü ve son katman ise bizim çıkış katmanımız olacak ve bize pozitif (1) ya da negatif (0) sonucunu verecek\n"
      ],
      "metadata": {
        "id": "9rH8Uix1uw7r"
      }
    },
    {
      "cell_type": "code",
      "source": [
        "# klasik model formatı\n",
        "\n",
        "from tensorflow import keras\n",
        "from tensorflow.keras import layers\n",
        "\n",
        "model = keras.Sequential([\n",
        "    layers.Dense(16, activation=\"relu\"),\n",
        "    layers.Dense(16, activation=\"relu\"),\n",
        "    layers.Dense(1, activation=\"sigmoid\")\n",
        "])\n",
        "\n",
        "# 16 unit olması, 16 adet ağırlık (w) olması anlamına geliyor.\n",
        "# w_shape = (input_dimension, 16)"
      ],
      "metadata": {
        "id": "FVilg89OufpM"
      },
      "execution_count": 22,
      "outputs": []
    },
    {
      "cell_type": "markdown",
      "source": [
        "Modelimizi oluşturduk, bir sonraki adım ise loss fonksiyonu ve optimizer seçmek.\n",
        "\n",
        "Binary classification yaptığımız için en uygun olan\n",
        "- loss fonksiyonu: `binary_crossentropy` ya da `mean_squared_error`. Fakat crossentropy çok daha iyi.\n",
        "- optimizer için ise `rmsprop`\n",
        "\n",
        "\n",
        "metric olarak ise doğruluğu `accuracy` alıyoruz."
      ],
      "metadata": {
        "id": "nq8zuh7HwDAk"
      }
    },
    {
      "cell_type": "code",
      "source": [
        "model.compile(optimizer=\"rmsprop\",\n",
        "              loss=\"binary_crossentropy\",\n",
        "              metrics=[\"accuracy\"])"
      ],
      "metadata": {
        "id": "FM6a8BVrunJC"
      },
      "execution_count": 23,
      "outputs": []
    },
    {
      "cell_type": "markdown",
      "source": [
        "# Validation verilerinin hazırlanması"
      ],
      "metadata": {
        "id": "gdgPNiuswu_d"
      }
    },
    {
      "cell_type": "code",
      "source": [
        "print(x_train.shape)\n",
        "\n",
        "x_val = x_train[:10000]\n",
        "print(x_train[:10000].shape)\n",
        "\n",
        "partial_x_train = x_train[10000:]\n",
        "print(x_train[10000:].shape)\n",
        "\n",
        "y_val = y_train[:10000]\n",
        "partial_y_train = y_train[10000:]"
      ],
      "metadata": {
        "colab": {
          "base_uri": "https://localhost:8080/"
        },
        "id": "p_RsctPKwstg",
        "outputId": "e199e488-05bc-40cb-a882-5713eb8d1367"
      },
      "execution_count": 29,
      "outputs": [
        {
          "output_type": "stream",
          "name": "stdout",
          "text": [
            "(25000, 10000)\n",
            "(10000, 10000)\n",
            "(15000, 10000)\n"
          ]
        }
      ]
    },
    {
      "cell_type": "code",
      "source": [
        "# eğitimde 20 epochs kullanacağız. toplamda 20 kez eğitim olacak,\n",
        "# her bir eğitimde ise batch_size olarak 512 kullanacağız\n",
        "# 20 * 512 = 10240\n",
        "\n",
        "history = model.fit(partial_x_train,\n",
        "                    partial_y_train,\n",
        "                    epochs=20,\n",
        "                    batch_size=512,\n",
        "                    validation_data=(x_val, y_val))"
      ],
      "metadata": {
        "colab": {
          "base_uri": "https://localhost:8080/"
        },
        "id": "PWH5DRGww5m4",
        "outputId": "71c10e29-5a09-4328-d9e8-4f9846536390"
      },
      "execution_count": 30,
      "outputs": [
        {
          "output_type": "stream",
          "name": "stdout",
          "text": [
            "Epoch 1/20\n",
            "\u001b[1m30/30\u001b[0m \u001b[32m━━━━━━━━━━━━━━━━━━━━\u001b[0m\u001b[37m\u001b[0m \u001b[1m5s\u001b[0m 113ms/step - accuracy: 0.6857 - loss: 0.5982 - val_accuracy: 0.8691 - val_loss: 0.3790\n",
            "Epoch 2/20\n",
            "\u001b[1m30/30\u001b[0m \u001b[32m━━━━━━━━━━━━━━━━━━━━\u001b[0m\u001b[37m\u001b[0m \u001b[1m2s\u001b[0m 49ms/step - accuracy: 0.8941 - loss: 0.3274 - val_accuracy: 0.8490 - val_loss: 0.3483\n",
            "Epoch 3/20\n",
            "\u001b[1m30/30\u001b[0m \u001b[32m━━━━━━━━━━━━━━━━━━━━\u001b[0m\u001b[37m\u001b[0m \u001b[1m1s\u001b[0m 48ms/step - accuracy: 0.9176 - loss: 0.2446 - val_accuracy: 0.8891 - val_loss: 0.2788\n",
            "Epoch 4/20\n",
            "\u001b[1m30/30\u001b[0m \u001b[32m━━━━━━━━━━━━━━━━━━━━\u001b[0m\u001b[37m\u001b[0m \u001b[1m1s\u001b[0m 47ms/step - accuracy: 0.9415 - loss: 0.1865 - val_accuracy: 0.8736 - val_loss: 0.3132\n",
            "Epoch 5/20\n",
            "\u001b[1m30/30\u001b[0m \u001b[32m━━━━━━━━━━━━━━━━━━━━\u001b[0m\u001b[37m\u001b[0m \u001b[1m3s\u001b[0m 86ms/step - accuracy: 0.9459 - loss: 0.1600 - val_accuracy: 0.8855 - val_loss: 0.2802\n",
            "Epoch 6/20\n",
            "\u001b[1m30/30\u001b[0m \u001b[32m━━━━━━━━━━━━━━━━━━━━\u001b[0m\u001b[37m\u001b[0m \u001b[1m2s\u001b[0m 65ms/step - accuracy: 0.9602 - loss: 0.1297 - val_accuracy: 0.8803 - val_loss: 0.3091\n",
            "Epoch 7/20\n",
            "\u001b[1m30/30\u001b[0m \u001b[32m━━━━━━━━━━━━━━━━━━━━\u001b[0m\u001b[37m\u001b[0m \u001b[1m2s\u001b[0m 56ms/step - accuracy: 0.9665 - loss: 0.1140 - val_accuracy: 0.8832 - val_loss: 0.3098\n",
            "Epoch 8/20\n",
            "\u001b[1m30/30\u001b[0m \u001b[32m━━━━━━━━━━━━━━━━━━━━\u001b[0m\u001b[37m\u001b[0m \u001b[1m2s\u001b[0m 54ms/step - accuracy: 0.9729 - loss: 0.0990 - val_accuracy: 0.8799 - val_loss: 0.3307\n",
            "Epoch 9/20\n",
            "\u001b[1m30/30\u001b[0m \u001b[32m━━━━━━━━━━━━━━━━━━━━\u001b[0m\u001b[37m\u001b[0m \u001b[1m1s\u001b[0m 47ms/step - accuracy: 0.9784 - loss: 0.0820 - val_accuracy: 0.8791 - val_loss: 0.3316\n",
            "Epoch 10/20\n",
            "\u001b[1m30/30\u001b[0m \u001b[32m━━━━━━━━━━━━━━━━━━━━\u001b[0m\u001b[37m\u001b[0m \u001b[1m2s\u001b[0m 45ms/step - accuracy: 0.9816 - loss: 0.0699 - val_accuracy: 0.8774 - val_loss: 0.3498\n",
            "Epoch 11/20\n",
            "\u001b[1m30/30\u001b[0m \u001b[32m━━━━━━━━━━━━━━━━━━━━\u001b[0m\u001b[37m\u001b[0m \u001b[1m4s\u001b[0m 93ms/step - accuracy: 0.9846 - loss: 0.0605 - val_accuracy: 0.8812 - val_loss: 0.3672\n",
            "Epoch 12/20\n",
            "\u001b[1m30/30\u001b[0m \u001b[32m━━━━━━━━━━━━━━━━━━━━\u001b[0m\u001b[37m\u001b[0m \u001b[1m4s\u001b[0m 55ms/step - accuracy: 0.9899 - loss: 0.0489 - val_accuracy: 0.8783 - val_loss: 0.3822\n",
            "Epoch 13/20\n",
            "\u001b[1m30/30\u001b[0m \u001b[32m━━━━━━━━━━━━━━━━━━━━\u001b[0m\u001b[37m\u001b[0m \u001b[1m3s\u001b[0m 54ms/step - accuracy: 0.9923 - loss: 0.0408 - val_accuracy: 0.8693 - val_loss: 0.4535\n",
            "Epoch 14/20\n",
            "\u001b[1m30/30\u001b[0m \u001b[32m━━━━━━━━━━━━━━━━━━━━\u001b[0m\u001b[37m\u001b[0m \u001b[1m2s\u001b[0m 46ms/step - accuracy: 0.9932 - loss: 0.0357 - val_accuracy: 0.8761 - val_loss: 0.4251\n",
            "Epoch 15/20\n",
            "\u001b[1m30/30\u001b[0m \u001b[32m━━━━━━━━━━━━━━━━━━━━\u001b[0m\u001b[37m\u001b[0m \u001b[1m3s\u001b[0m 72ms/step - accuracy: 0.9956 - loss: 0.0274 - val_accuracy: 0.8739 - val_loss: 0.4513\n",
            "Epoch 16/20\n",
            "\u001b[1m30/30\u001b[0m \u001b[32m━━━━━━━━━━━━━━━━━━━━\u001b[0m\u001b[37m\u001b[0m \u001b[1m2s\u001b[0m 53ms/step - accuracy: 0.9980 - loss: 0.0216 - val_accuracy: 0.8697 - val_loss: 0.5004\n",
            "Epoch 17/20\n",
            "\u001b[1m30/30\u001b[0m \u001b[32m━━━━━━━━━━━━━━━━━━━━\u001b[0m\u001b[37m\u001b[0m \u001b[1m2s\u001b[0m 45ms/step - accuracy: 0.9973 - loss: 0.0213 - val_accuracy: 0.8737 - val_loss: 0.4954\n",
            "Epoch 18/20\n",
            "\u001b[1m30/30\u001b[0m \u001b[32m━━━━━━━━━━━━━━━━━━━━\u001b[0m\u001b[37m\u001b[0m \u001b[1m2s\u001b[0m 56ms/step - accuracy: 0.9984 - loss: 0.0162 - val_accuracy: 0.8723 - val_loss: 0.5217\n",
            "Epoch 19/20\n",
            "\u001b[1m30/30\u001b[0m \u001b[32m━━━━━━━━━━━━━━━━━━━━\u001b[0m\u001b[37m\u001b[0m \u001b[1m2s\u001b[0m 56ms/step - accuracy: 0.9978 - loss: 0.0155 - val_accuracy: 0.8705 - val_loss: 0.5459\n",
            "Epoch 20/20\n",
            "\u001b[1m30/30\u001b[0m \u001b[32m━━━━━━━━━━━━━━━━━━━━\u001b[0m\u001b[37m\u001b[0m \u001b[1m1s\u001b[0m 48ms/step - accuracy: 0.9977 - loss: 0.0147 - val_accuracy: 0.8709 - val_loss: 0.5602\n"
          ]
        }
      ]
    },
    {
      "cell_type": "code",
      "source": [
        "history_dict = history.history # eğitim geçmişini tutmak\n",
        "history_dict.keys() # history dict olarak kaydedildiğin için anahtar:değer (key:value) olarak çalışıyor. hangi anahtarlar var?\n"
      ],
      "metadata": {
        "colab": {
          "base_uri": "https://localhost:8080/"
        },
        "id": "8Nlf8Pb9xh9x",
        "outputId": "4be518ba-3cfa-410a-cdc5-15b2a6d43f4c"
      },
      "execution_count": 31,
      "outputs": [
        {
          "output_type": "execute_result",
          "data": {
            "text/plain": [
              "dict_keys(['accuracy', 'loss', 'val_accuracy', 'val_loss'])"
            ]
          },
          "metadata": {},
          "execution_count": 31
        }
      ]
    },
    {
      "cell_type": "code",
      "source": [
        "# eğitim ve geçerleme (validation) kayıplarının (loss) grafiğe dökülmesi\n",
        "\n",
        "import matplotlib.pyplot as plt\n",
        "# history_dict = history.history # yukarıda yapmıştık\n",
        "loss_values = history_dict[\"loss\"]\n",
        "val_loss_values = history_dict[\"val_loss\"]\n",
        "epochs = range(1, len(loss_values) + 1)\n",
        "\n",
        "plt.plot(epochs, loss_values, \"bo\", label=\"Training loss\") # bo: blue dot\n",
        "plt.plot(epochs, val_loss_values, \"b\", label=\"Validation loss\") # b: solid blue line\n",
        "plt.title(\"Training and validation loss\")\n",
        "plt.xlabel(\"Epochs\")\n",
        "plt.ylabel(\"Loss\")\n",
        "plt.legend()\n",
        "plt.show()\n",
        "\n",
        "\n"
      ],
      "metadata": {
        "colab": {
          "base_uri": "https://localhost:8080/",
          "height": 472
        },
        "id": "ct7fzZ8Tx_XF",
        "outputId": "298f1577-4c0d-4ec9-8c48-10cabcde286c"
      },
      "execution_count": 36,
      "outputs": [
        {
          "output_type": "display_data",
          "data": {
            "text/plain": [
              "<Figure size 640x480 with 1 Axes>"
            ],
            "image/png": "[encoded data removed]"
          },
          "metadata": {}
        }
      ]
    },
    {
      "cell_type": "code",
      "source": [
        "# eğitim ve geçerleme doğruluğu\n",
        "\n",
        "plt.clf() # figürü temizle\n",
        "\n",
        "acc = history_dict[\"accuracy\"]\n",
        "val_acc = history_dict[\"val_accuracy\"]\n",
        "plt.plot(epochs, acc, \"bo\", label=\"Training acc\")\n",
        "plt.plot(epochs, val_acc, \"b\", label=\"Validation acc\")\n",
        "plt.title(\"Training and validation accuracy\")\n",
        "plt.xlabel(\"Epochs\")\n",
        "plt.ylabel(\"Accuracy\")\n",
        "plt.legend()\n",
        "plt.show()"
      ],
      "metadata": {
        "colab": {
          "base_uri": "https://localhost:8080/",
          "height": 472
        },
        "id": "MO0JNP-0yTQc",
        "outputId": "32580065-950f-4cec-98e0-51dd805b888e"
      },
      "execution_count": 39,
      "outputs": [
        {
          "output_type": "display_data",
          "data": {
            "text/plain": [
              "<Figure size 640x480 with 1 Axes>"
            ],
            "image/png": "[encoded data removed]"
          },
          "metadata": {}
        }
      ]
    },
    {
      "cell_type": "markdown",
      "source": [
        "Grafiklere baktığımızda validation ve eğitim arasında çok fazla fark olduğunu görüyoruz. Bu modelin artık eğitim verilerini ezberlediğini, ilk kez gördüğü validation veri setinde ise afalladığını gösteriyor: `OVERFITTING`.\n",
        "\n",
        "\n",
        "Modelin kötüye gittiği nokta olarak epoch'un 4 olduğu noktayı alabiliriz. Bu sebeple epochs=4 alarak modeli tekrardan eğitelim."
      ],
      "metadata": {
        "id": "oPoxFCsA0t7S"
      }
    },
    {
      "cell_type": "code",
      "source": [
        "model = keras.Sequential([\n",
        "    layers.Dense(16, activation=\"relu\"),\n",
        "    layers.Dense(16, activation=\"relu\"),\n",
        "    layers.Dense(1, activation=\"sigmoid\")\n",
        "])\n",
        "\n",
        "model.compile(optimizer=\"rmsprop\",\n",
        "              loss=\"binary_crossentropy\",\n",
        "              metrics=[\"accuracy\"])\n",
        "\n",
        "model.fit(x_train, y_train, epochs=4, batch_size=512)\n",
        "results = model.evaluate(x_test, y_test)"
      ],
      "metadata": {
        "colab": {
          "base_uri": "https://localhost:8080/"
        },
        "id": "-g34WHiOztlD",
        "outputId": "956a31a7-8b3a-4e0e-f565-44c742c9693a"
      },
      "execution_count": 40,
      "outputs": [
        {
          "output_type": "stream",
          "name": "stdout",
          "text": [
            "Epoch 1/4\n",
            "\u001b[1m49/49\u001b[0m \u001b[32m━━━━━━━━━━━━━━━━━━━━\u001b[0m\u001b[37m\u001b[0m \u001b[1m3s\u001b[0m 38ms/step - accuracy: 0.6448 - loss: 0.6177\n",
            "Epoch 2/4\n",
            "\u001b[1m49/49\u001b[0m \u001b[32m━━━━━━━━━━━━━━━━━━━━\u001b[0m\u001b[37m\u001b[0m \u001b[1m3s\u001b[0m 37ms/step - accuracy: 0.8891 - loss: 0.3589\n",
            "Epoch 3/4\n",
            "\u001b[1m49/49\u001b[0m \u001b[32m━━━━━━━━━━━━━━━━━━━━\u001b[0m\u001b[37m\u001b[0m \u001b[1m2s\u001b[0m 35ms/step - accuracy: 0.9150 - loss: 0.2523\n",
            "Epoch 4/4\n",
            "\u001b[1m49/49\u001b[0m \u001b[32m━━━━━━━━━━━━━━━━━━━━\u001b[0m\u001b[37m\u001b[0m \u001b[1m3s\u001b[0m 54ms/step - accuracy: 0.9294 - loss: 0.2051\n",
            "\u001b[1m782/782\u001b[0m \u001b[32m━━━━━━━━━━━━━━━━━━━━\u001b[0m\u001b[37m\u001b[0m \u001b[1m3s\u001b[0m 3ms/step - accuracy: 0.8854 - loss: 0.2871\n"
          ]
        }
      ]
    },
    {
      "cell_type": "code",
      "source": [
        "results # loss: 0.29 - acc: 0.89\n",
        "\n",
        "# fakat %89 yeterli değil, %95'e olabildiğince yaklaşmayı isteriz.\n",
        "\n"
      ],
      "metadata": {
        "colab": {
          "base_uri": "https://localhost:8080/"
        },
        "id": "UxF4yauZ1Pb0",
        "outputId": "61bc2802-8bc8-4b77-d742-84f26d92636e"
      },
      "execution_count": 42,
      "outputs": [
        {
          "output_type": "execute_result",
          "data": {
            "text/plain": [
              "[0.28588661551475525, 0.8870400190353394]"
            ]
          },
          "metadata": {},
          "execution_count": 42
        }
      ]
    },
    {
      "cell_type": "markdown",
      "source": [
        "# eğitilmiş model ile yeni veriler üzerinde tahminlerde bulunma"
      ],
      "metadata": {
        "id": "iGjUn0KM1w6i"
      }
    },
    {
      "cell_type": "code",
      "source": [
        "model.predict(x_test)"
      ],
      "metadata": {
        "colab": {
          "base_uri": "https://localhost:8080/"
        },
        "id": "WK87DUu31UGw",
        "outputId": "7cd3a7a0-ce46-4bd6-e39a-513e2e125a8b"
      },
      "execution_count": 43,
      "outputs": [
        {
          "output_type": "stream",
          "name": "stdout",
          "text": [
            "\u001b[1m782/782\u001b[0m \u001b[32m━━━━━━━━━━━━━━━━━━━━\u001b[0m\u001b[37m\u001b[0m \u001b[1m2s\u001b[0m 2ms/step\n"
          ]
        },
        {
          "output_type": "execute_result",
          "data": {
            "text/plain": [
              "array([[0.21798524],\n",
              "       [0.99993783],\n",
              "       [0.86166596],\n",
              "       ...,\n",
              "       [0.12418988],\n",
              "       [0.10897428],\n",
              "       [0.47421545]], dtype=float32)"
            ]
          },
          "metadata": {},
          "execution_count": 43
        }
      ]
    },
    {
      "cell_type": "markdown",
      "source": [
        "Görüldüğü üzere tahminlerinde 0.99993783 gibi çok yüksek oranda emin olduğu tahminler varken daha az emin olduğu 0.47421545 gibi tahminleri de var.\n",
        "\n",
        "**TODO**:\n",
        "- 2 katman kullandık. Bunu 1 ve 3 katman ile dene\n",
        "- Her katmana daha fazla ya da daha az units ekle: 32, 64...\n",
        "- loss fonksiyon olarak binary_crossentropy yerine mse koy\n",
        "- relu yerine tanh kullan\n",
        "\n",
        "ve loss'un, accuracy'nin nasıl değiştiğine bak (tablo haline getirilebilir)\n",
        "\n"
      ],
      "metadata": {
        "id": "2vA7Dv_r1-85"
      }
    },
    {
      "cell_type": "code",
      "source": [],
      "metadata": {
        "id": "nCKuoUvn1yEM"
      },
      "execution_count": null,
      "outputs": []
    }
  ]
}