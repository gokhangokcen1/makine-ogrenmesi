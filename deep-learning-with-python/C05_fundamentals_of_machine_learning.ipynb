{
  "nbformat": 4,
  "nbformat_minor": 0,
  "metadata": {
    "colab": {
      "provenance": []
    },
    "kernelspec": {
      "name": "python3",
      "display_name": "Python 3"
    },
    "language_info": {
      "name": "python"
    }
  },
  "cells": [
    {
      "cell_type": "markdown",
      "source": [
        "# underfitting - overfitting\n",
        "underfitting, eğitimin yetersi olması durumu. Model yeterince eğitilmedi, eğitim verilerinde de geçerleme verilerinde de kötü başarı\n",
        "\n",
        "overfitting, eğitim verilerindeki başarı ile geçerleme verileri arasındaki yüksek fark. Model eğitim verilerindeki patternleri ezberledi fakat ilk kez gördüğü yapılardakileri anlamakta zorlanıyor.\n",
        "\n",
        "\n",
        "Veri setindeki az sayıda olan veriler de eğitimin başarısı etkiler. Bir örnekten çok az görürse onun hakkında yanlış \"genelleme\" yapabilir. Fakat bu genelleme her zaman doğru ilişkiyi vermeyebilir.\n",
        "\n",
        "Aynı şekilde gürültü de modelin başarısında büyük bir etkidir, açık veya belirgin olmayan bazı görüntülerdeki patternleri bulmak ve algılamak bir o kadar zordur."
      ],
      "metadata": {
        "id": "EvGXqe2UicAo"
      }
    },
    {
      "cell_type": "code",
      "execution_count": 8,
      "metadata": {
        "id": "KP8pZC7ThA1q"
      },
      "outputs": [],
      "source": [
        "# MNIST veri setine biraz gürültü ekliyoruz\n",
        "\n",
        "from tensorflow.keras.datasets import mnist\n",
        "import numpy as np\n",
        "\n",
        "(train_images, train_labels), _ = mnist.load_data()\n",
        "train_images = train_images.reshape((60000, 28 * 28))\n",
        "train_images = train_images.astype(\"float32\") / 255\n",
        "\n",
        "train_images_with_noise_channels = np.concatenate(\n",
        "  [train_images, np.random.random((len(train_images), 784))], axis=1) # gürültü eklendi\n",
        "\n",
        "\n",
        "train_images_with_zeros_channels = np.concatenate(\n",
        "  [train_images, np.zeros((len(train_images), 784))], axis=1) # gürültüsüz"
      ]
    },
    {
      "cell_type": "code",
      "source": [
        "from tensorflow import keras\n",
        "from tensorflow.keras import layers\n",
        "\n",
        "def get_model():\n",
        "  model = keras.Sequential([\n",
        "      layers.Dense(512, activation=\"relu\"),\n",
        "      layers.Dense(10, activation=\"softmax\")\n",
        "  ])\n",
        "\n",
        "  model.compile(optimizer=\"rmsprop\",\n",
        "                loss=\"sparse_categorical_crossentropy\",\n",
        "                metrics=[\"accuracy\"])\n",
        "\n",
        "  return model\n",
        "\n",
        "model = get_model()\n",
        "\n",
        "history_noise = model.fit(\n",
        "    train_images_with_noise_channels,\n",
        "    train_labels,\n",
        "    epochs=10,\n",
        "    batch_size=128,\n",
        "    validation_split=0.2\n",
        ")\n",
        "\n",
        "model = get_model()\n",
        "\n",
        "history_zeros = model.fit(\n",
        "    train_images_with_zeros_channels,\n",
        "    train_labels,\n",
        "    epochs=10,\n",
        "    batch_size=128,\n",
        "    validation_split=0.2\n",
        ")"
      ],
      "metadata": {
        "colab": {
          "base_uri": "https://localhost:8080/"
        },
        "id": "DfbOV1M8jUy4",
        "outputId": "d551a283-1617-4eed-8b01-a222849b1151"
      },
      "execution_count": 9,
      "outputs": [
        {
          "output_type": "stream",
          "name": "stdout",
          "text": [
            "Epoch 1/10\n",
            "\u001b[1m375/375\u001b[0m \u001b[32m━━━━━━━━━━━━━━━━━━━━\u001b[0m\u001b[37m\u001b[0m \u001b[1m9s\u001b[0m 21ms/step - accuracy: 0.6947 - loss: 1.0549 - val_accuracy: 0.9080 - val_loss: 0.3085\n",
            "Epoch 2/10\n",
            "\u001b[1m375/375\u001b[0m \u001b[32m━━━━━━━━━━━━━━━━━━━━\u001b[0m\u001b[37m\u001b[0m \u001b[1m8s\u001b[0m 21ms/step - accuracy: 0.9077 - loss: 0.2935 - val_accuracy: 0.9433 - val_loss: 0.1910\n",
            "Epoch 3/10\n",
            "\u001b[1m375/375\u001b[0m \u001b[32m━━━━━━━━━━━━━━━━━━━━\u001b[0m\u001b[37m\u001b[0m \u001b[1m10s\u001b[0m 26ms/step - accuracy: 0.9428 - loss: 0.1848 - val_accuracy: 0.9428 - val_loss: 0.1910\n",
            "Epoch 4/10\n",
            "\u001b[1m375/375\u001b[0m \u001b[32m━━━━━━━━━━━━━━━━━━━━\u001b[0m\u001b[37m\u001b[0m \u001b[1m8s\u001b[0m 21ms/step - accuracy: 0.9624 - loss: 0.1240 - val_accuracy: 0.9578 - val_loss: 0.1487\n",
            "Epoch 5/10\n",
            "\u001b[1m375/375\u001b[0m \u001b[32m━━━━━━━━━━━━━━━━━━━━\u001b[0m\u001b[37m\u001b[0m \u001b[1m10s\u001b[0m 20ms/step - accuracy: 0.9713 - loss: 0.0919 - val_accuracy: 0.9510 - val_loss: 0.1721\n",
            "Epoch 6/10\n",
            "\u001b[1m375/375\u001b[0m \u001b[32m━━━━━━━━━━━━━━━━━━━━\u001b[0m\u001b[37m\u001b[0m \u001b[1m11s\u001b[0m 22ms/step - accuracy: 0.9787 - loss: 0.0699 - val_accuracy: 0.9595 - val_loss: 0.1372\n",
            "Epoch 7/10\n",
            "\u001b[1m375/375\u001b[0m \u001b[32m━━━━━━━━━━━━━━━━━━━━\u001b[0m\u001b[37m\u001b[0m \u001b[1m8s\u001b[0m 22ms/step - accuracy: 0.9845 - loss: 0.0497 - val_accuracy: 0.9590 - val_loss: 0.1501\n",
            "Epoch 8/10\n",
            "\u001b[1m375/375\u001b[0m \u001b[32m━━━━━━━━━━━━━━━━━━━━\u001b[0m\u001b[37m\u001b[0m \u001b[1m10s\u001b[0m 27ms/step - accuracy: 0.9897 - loss: 0.0343 - val_accuracy: 0.9660 - val_loss: 0.1272\n",
            "Epoch 9/10\n",
            "\u001b[1m375/375\u001b[0m \u001b[32m━━━━━━━━━━━━━━━━━━━━\u001b[0m\u001b[37m\u001b[0m \u001b[1m14s\u001b[0m 37ms/step - accuracy: 0.9916 - loss: 0.0274 - val_accuracy: 0.9521 - val_loss: 0.1860\n",
            "Epoch 10/10\n",
            "\u001b[1m375/375\u001b[0m \u001b[32m━━━━━━━━━━━━━━━━━━━━\u001b[0m\u001b[37m\u001b[0m \u001b[1m8s\u001b[0m 22ms/step - accuracy: 0.9944 - loss: 0.0189 - val_accuracy: 0.9668 - val_loss: 0.1415\n",
            "Epoch 1/10\n",
            "\u001b[1m375/375\u001b[0m \u001b[32m━━━━━━━━━━━━━━━━━━━━\u001b[0m\u001b[37m\u001b[0m \u001b[1m11s\u001b[0m 25ms/step - accuracy: 0.8547 - loss: 0.4926 - val_accuracy: 0.9572 - val_loss: 0.1498\n",
            "Epoch 2/10\n",
            "\u001b[1m375/375\u001b[0m \u001b[32m━━━━━━━━━━━━━━━━━━━━\u001b[0m\u001b[37m\u001b[0m \u001b[1m10s\u001b[0m 26ms/step - accuracy: 0.9602 - loss: 0.1359 - val_accuracy: 0.9653 - val_loss: 0.1150\n",
            "Epoch 3/10\n",
            "\u001b[1m375/375\u001b[0m \u001b[32m━━━━━━━━━━━━━━━━━━━━\u001b[0m\u001b[37m\u001b[0m \u001b[1m8s\u001b[0m 21ms/step - accuracy: 0.9744 - loss: 0.0865 - val_accuracy: 0.9742 - val_loss: 0.0878\n",
            "Epoch 4/10\n",
            "\u001b[1m375/375\u001b[0m \u001b[32m━━━━━━━━━━━━━━━━━━━━\u001b[0m\u001b[37m\u001b[0m \u001b[1m10s\u001b[0m 21ms/step - accuracy: 0.9811 - loss: 0.0621 - val_accuracy: 0.9765 - val_loss: 0.0804\n",
            "Epoch 5/10\n",
            "\u001b[1m375/375\u001b[0m \u001b[32m━━━━━━━━━━━━━━━━━━━━\u001b[0m\u001b[37m\u001b[0m \u001b[1m10s\u001b[0m 20ms/step - accuracy: 0.9866 - loss: 0.0436 - val_accuracy: 0.9758 - val_loss: 0.0779\n",
            "Epoch 6/10\n",
            "\u001b[1m375/375\u001b[0m \u001b[32m━━━━━━━━━━━━━━━━━━━━\u001b[0m\u001b[37m\u001b[0m \u001b[1m11s\u001b[0m 22ms/step - accuracy: 0.9894 - loss: 0.0363 - val_accuracy: 0.9788 - val_loss: 0.0732\n",
            "Epoch 7/10\n",
            "\u001b[1m375/375\u001b[0m \u001b[32m━━━━━━━━━━━━━━━━━━━━\u001b[0m\u001b[37m\u001b[0m \u001b[1m8s\u001b[0m 21ms/step - accuracy: 0.9931 - loss: 0.0256 - val_accuracy: 0.9797 - val_loss: 0.0726\n",
            "Epoch 8/10\n",
            "\u001b[1m375/375\u001b[0m \u001b[32m━━━━━━━━━━━━━━━━━━━━\u001b[0m\u001b[37m\u001b[0m \u001b[1m8s\u001b[0m 22ms/step - accuracy: 0.9948 - loss: 0.0200 - val_accuracy: 0.9788 - val_loss: 0.0758\n",
            "Epoch 9/10\n",
            "\u001b[1m375/375\u001b[0m \u001b[32m━━━━━━━━━━━━━━━━━━━━\u001b[0m\u001b[37m\u001b[0m \u001b[1m9s\u001b[0m 25ms/step - accuracy: 0.9966 - loss: 0.0131 - val_accuracy: 0.9787 - val_loss: 0.0725\n",
            "Epoch 10/10\n",
            "\u001b[1m375/375\u001b[0m \u001b[32m━━━━━━━━━━━━━━━━━━━━\u001b[0m\u001b[37m\u001b[0m \u001b[1m8s\u001b[0m 21ms/step - accuracy: 0.9978 - loss: 0.0100 - val_accuracy: 0.9788 - val_loss: 0.0789\n"
          ]
        }
      ]
    },
    {
      "cell_type": "code",
      "source": [
        "import matplotlib.pyplot as plt\n",
        "\n",
        "val_acc_noise = history_noise.history[\"val_accuracy\"]\n",
        "val_acc_zero = history_zeros.history[\"val_accuracy\"]\n",
        "epochs = range(1, 11)\n",
        "plt.plot(epochs, val_acc_noise, \"b-\",\n",
        "         label = \"Validation accuracy with noise channels\")\n",
        "plt.plot(epochs, val_acc_zero, \"b--\",\n",
        "         label = \"Validation accuracy with zeros channels\")\n",
        "\n",
        "plt.title(\"Effect of noise channels on validation accuracy\")\n",
        "plt.xlabel(\"Epochs\")\n",
        "plt.ylabel(\"Validation accuracy\")\n",
        "plt.legend()"
      ],
      "metadata": {
        "colab": {
          "base_uri": "https://localhost:8080/",
          "height": 490
        },
        "id": "MgSORBp0lClg",
        "outputId": "c9f73993-e6f3-4b4a-93b6-a57ad1138b35"
      },
      "execution_count": 10,
      "outputs": [
        {
          "output_type": "execute_result",
          "data": {
            "text/plain": [
              "<matplotlib.legend.Legend at 0x7aa827dd1090>"
            ]
          },
          "metadata": {},
          "execution_count": 10
        },
        {
          "output_type": "display_data",
          "data": {
            "text/plain": [
              "<Figure size 640x480 with 1 Axes>"
            ],
            "image/png": "[encoded data removed]"
          },
          "metadata": {}
        }
      ]
    },
    {
      "cell_type": "markdown",
      "source": [
        "görüldüğü üzere gürültü olduğunda modelin doğruluk başarısı düşüyor. Bu feature'ların hangilerinin gürültülü olduğu ve dikkat dağıttığını bilmiyoruz. Bunları eleyebilsek daha doğru sonuçlar elde edebilirdik, bu yönteme `feature selection` deniyor.\n",
        "\n",
        "IMDB filmlerinde en çok kullanılan 10.000 kelimeyi seçmek bir feature selection'dır."
      ],
      "metadata": {
        "id": "F0mNl4jnl8oQ"
      }
    },
    {
      "cell_type": "markdown",
      "source": [
        "# Genellemenin yapısı"
      ],
      "metadata": {
        "id": "IYDLa4FZmaDR"
      }
    },
    {
      "cell_type": "code",
      "source": [
        "(train_images, train_labels), _ = mnist.load_data()\n",
        "train_images = train_images.reshape((60000, 28 * 28))\n",
        "train_images = train_images.astype('float32') / 255\n",
        "\n",
        "# etiketleri kopyaladık\n",
        "random_train_labels = train_labels[:]\n",
        "\n",
        "# etiketleri karıştır, her görselin etiketi artık yanlış\n",
        "np.random.shuffle(random_train_labels)\n",
        "\n",
        "model = keras.Sequential([\n",
        "    layers.Dense(512, activation=\"relu\"),\n",
        "    layers.Dense(10, activation=\"softmax\")\n",
        "\n",
        "])\n",
        "\n",
        "model.compile(optimizer=\"rmsprop\",\n",
        "              loss=\"sparse_categorical_crossentropy\",\n",
        "              metrics=[\"accuracy\"])\n",
        "\n",
        "model.fit(train_images, random_train_labels,\n",
        "          epochs=100,\n",
        "          batch_size=128,\n",
        "          validation_split=0.2)\n",
        "\n"
      ],
      "metadata": {
        "colab": {
          "base_uri": "https://localhost:8080/"
        },
        "id": "9qlnSwqJlsba",
        "outputId": "8db499de-336f-49eb-9ab5-6b09c0885149"
      },
      "execution_count": 12,
      "outputs": [
        {
          "output_type": "stream",
          "name": "stdout",
          "text": [
            "Epoch 1/100\n",
            "\u001b[1m375/375\u001b[0m \u001b[32m━━━━━━━━━━━━━━━━━━━━\u001b[0m\u001b[37m\u001b[0m \u001b[1m7s\u001b[0m 15ms/step - accuracy: 0.1033 - loss: 2.3319 - val_accuracy: 0.1032 - val_loss: 2.3107\n",
            "Epoch 2/100\n",
            "\u001b[1m375/375\u001b[0m \u001b[32m━━━━━━━━━━━━━━━━━━━━\u001b[0m\u001b[37m\u001b[0m \u001b[1m9s\u001b[0m 11ms/step - accuracy: 0.1198 - loss: 2.2967 - val_accuracy: 0.0971 - val_loss: 2.3154\n",
            "Epoch 3/100\n",
            "\u001b[1m375/375\u001b[0m \u001b[32m━━━━━━━━━━━━━━━━━━━━\u001b[0m\u001b[37m\u001b[0m \u001b[1m5s\u001b[0m 11ms/step - accuracy: 0.1286 - loss: 2.2879 - val_accuracy: 0.0992 - val_loss: 2.3192\n",
            "Epoch 4/100\n",
            "\u001b[1m375/375\u001b[0m \u001b[32m━━━━━━━━━━━━━━━━━━━━\u001b[0m\u001b[37m\u001b[0m \u001b[1m6s\u001b[0m 13ms/step - accuracy: 0.1419 - loss: 2.2742 - val_accuracy: 0.0985 - val_loss: 2.3271\n",
            "Epoch 5/100\n",
            "\u001b[1m375/375\u001b[0m \u001b[32m━━━━━━━━━━━━━━━━━━━━\u001b[0m\u001b[37m\u001b[0m \u001b[1m5s\u001b[0m 13ms/step - accuracy: 0.1569 - loss: 2.2593 - val_accuracy: 0.1013 - val_loss: 2.3351\n",
            "Epoch 6/100\n",
            "\u001b[1m375/375\u001b[0m \u001b[32m━━━━━━━━━━━━━━━━━━━━\u001b[0m\u001b[37m\u001b[0m \u001b[1m5s\u001b[0m 14ms/step - accuracy: 0.1725 - loss: 2.2384 - val_accuracy: 0.1003 - val_loss: 2.3494\n",
            "Epoch 7/100\n",
            "\u001b[1m375/375\u001b[0m \u001b[32m━━━━━━━━━━━━━━━━━━━━\u001b[0m\u001b[37m\u001b[0m \u001b[1m9s\u001b[0m 11ms/step - accuracy: 0.1866 - loss: 2.2124 - val_accuracy: 0.1025 - val_loss: 2.3600\n",
            "Epoch 8/100\n",
            "\u001b[1m375/375\u001b[0m \u001b[32m━━━━━━━━━━━━━━━━━━━━\u001b[0m\u001b[37m\u001b[0m \u001b[1m6s\u001b[0m 12ms/step - accuracy: 0.2025 - loss: 2.1818 - val_accuracy: 0.0963 - val_loss: 2.3852\n",
            "Epoch 9/100\n",
            "\u001b[1m375/375\u001b[0m \u001b[32m━━━━━━━━━━━━━━━━━━━━\u001b[0m\u001b[37m\u001b[0m \u001b[1m5s\u001b[0m 11ms/step - accuracy: 0.2185 - loss: 2.1508 - val_accuracy: 0.1012 - val_loss: 2.4070\n",
            "Epoch 10/100\n",
            "\u001b[1m375/375\u001b[0m \u001b[32m━━━━━━━━━━━━━━━━━━━━\u001b[0m\u001b[37m\u001b[0m \u001b[1m6s\u001b[0m 14ms/step - accuracy: 0.2390 - loss: 2.1186 - val_accuracy: 0.1003 - val_loss: 2.4284\n",
            "Epoch 11/100\n",
            "\u001b[1m375/375\u001b[0m \u001b[32m━━━━━━━━━━━━━━━━━━━━\u001b[0m\u001b[37m\u001b[0m \u001b[1m9s\u001b[0m 11ms/step - accuracy: 0.2551 - loss: 2.0832 - val_accuracy: 0.1015 - val_loss: 2.4556\n",
            "Epoch 12/100\n",
            "\u001b[1m375/375\u001b[0m \u001b[32m━━━━━━━━━━━━━━━━━━━━\u001b[0m\u001b[37m\u001b[0m \u001b[1m6s\u001b[0m 12ms/step - accuracy: 0.2751 - loss: 2.0471 - val_accuracy: 0.0978 - val_loss: 2.4849\n",
            "Epoch 13/100\n",
            "\u001b[1m375/375\u001b[0m \u001b[32m━━━━━━━━━━━━━━━━━━━━\u001b[0m\u001b[37m\u001b[0m \u001b[1m5s\u001b[0m 12ms/step - accuracy: 0.2900 - loss: 2.0043 - val_accuracy: 0.1026 - val_loss: 2.5129\n",
            "Epoch 14/100\n",
            "\u001b[1m375/375\u001b[0m \u001b[32m━━━━━━━━━━━━━━━━━━━━\u001b[0m\u001b[37m\u001b[0m \u001b[1m5s\u001b[0m 14ms/step - accuracy: 0.3060 - loss: 1.9714 - val_accuracy: 0.0962 - val_loss: 2.5462\n",
            "Epoch 15/100\n",
            "\u001b[1m375/375\u001b[0m \u001b[32m━━━━━━━━━━━━━━━━━━━━\u001b[0m\u001b[37m\u001b[0m \u001b[1m9s\u001b[0m 11ms/step - accuracy: 0.3255 - loss: 1.9246 - val_accuracy: 0.0984 - val_loss: 2.5682\n",
            "Epoch 16/100\n",
            "\u001b[1m375/375\u001b[0m \u001b[32m━━━━━━━━━━━━━━━━━━━━\u001b[0m\u001b[37m\u001b[0m \u001b[1m6s\u001b[0m 15ms/step - accuracy: 0.3431 - loss: 1.8853 - val_accuracy: 0.0957 - val_loss: 2.6096\n",
            "Epoch 17/100\n",
            "\u001b[1m375/375\u001b[0m \u001b[32m━━━━━━━━━━━━━━━━━━━━\u001b[0m\u001b[37m\u001b[0m \u001b[1m5s\u001b[0m 12ms/step - accuracy: 0.3608 - loss: 1.8474 - val_accuracy: 0.0992 - val_loss: 2.6424\n",
            "Epoch 18/100\n",
            "\u001b[1m375/375\u001b[0m \u001b[32m━━━━━━━━━━━━━━━━━━━━\u001b[0m\u001b[37m\u001b[0m \u001b[1m6s\u001b[0m 15ms/step - accuracy: 0.3769 - loss: 1.8013 - val_accuracy: 0.0991 - val_loss: 2.6817\n",
            "Epoch 19/100\n",
            "\u001b[1m375/375\u001b[0m \u001b[32m━━━━━━━━━━━━━━━━━━━━\u001b[0m\u001b[37m\u001b[0m \u001b[1m4s\u001b[0m 10ms/step - accuracy: 0.3913 - loss: 1.7643 - val_accuracy: 0.0978 - val_loss: 2.7342\n",
            "Epoch 20/100\n",
            "\u001b[1m375/375\u001b[0m \u001b[32m━━━━━━━━━━━━━━━━━━━━\u001b[0m\u001b[37m\u001b[0m \u001b[1m4s\u001b[0m 12ms/step - accuracy: 0.4066 - loss: 1.7286 - val_accuracy: 0.0955 - val_loss: 2.7609\n",
            "Epoch 21/100\n",
            "\u001b[1m375/375\u001b[0m \u001b[32m━━━━━━━━━━━━━━━━━━━━\u001b[0m\u001b[37m\u001b[0m \u001b[1m6s\u001b[0m 15ms/step - accuracy: 0.4252 - loss: 1.6831 - val_accuracy: 0.1007 - val_loss: 2.8188\n",
            "Epoch 22/100\n",
            "\u001b[1m375/375\u001b[0m \u001b[32m━━━━━━━━━━━━━━━━━━━━\u001b[0m\u001b[37m\u001b[0m \u001b[1m9s\u001b[0m 12ms/step - accuracy: 0.4359 - loss: 1.6417 - val_accuracy: 0.0979 - val_loss: 2.8551\n",
            "Epoch 23/100\n",
            "\u001b[1m375/375\u001b[0m \u001b[32m━━━━━━━━━━━━━━━━━━━━\u001b[0m\u001b[37m\u001b[0m \u001b[1m6s\u001b[0m 14ms/step - accuracy: 0.4535 - loss: 1.6120 - val_accuracy: 0.0966 - val_loss: 2.8992\n",
            "Epoch 24/100\n",
            "\u001b[1m375/375\u001b[0m \u001b[32m━━━━━━━━━━━━━━━━━━━━\u001b[0m\u001b[37m\u001b[0m \u001b[1m11s\u001b[0m 15ms/step - accuracy: 0.4622 - loss: 1.5759 - val_accuracy: 0.0950 - val_loss: 2.9300\n",
            "Epoch 25/100\n",
            "\u001b[1m375/375\u001b[0m \u001b[32m━━━━━━━━━━━━━━━━━━━━\u001b[0m\u001b[37m\u001b[0m \u001b[1m9s\u001b[0m 11ms/step - accuracy: 0.4756 - loss: 1.5394 - val_accuracy: 0.0967 - val_loss: 2.9769\n",
            "Epoch 26/100\n",
            "\u001b[1m375/375\u001b[0m \u001b[32m━━━━━━━━━━━━━━━━━━━━\u001b[0m\u001b[37m\u001b[0m \u001b[1m6s\u001b[0m 13ms/step - accuracy: 0.4909 - loss: 1.5033 - val_accuracy: 0.1017 - val_loss: 3.0697\n",
            "Epoch 27/100\n",
            "\u001b[1m375/375\u001b[0m \u001b[32m━━━━━━━━━━━━━━━━━━━━\u001b[0m\u001b[37m\u001b[0m \u001b[1m4s\u001b[0m 11ms/step - accuracy: 0.5052 - loss: 1.4725 - val_accuracy: 0.0960 - val_loss: 3.0899\n",
            "Epoch 28/100\n",
            "\u001b[1m375/375\u001b[0m \u001b[32m━━━━━━━━━━━━━━━━━━━━\u001b[0m\u001b[37m\u001b[0m \u001b[1m6s\u001b[0m 14ms/step - accuracy: 0.5164 - loss: 1.4369 - val_accuracy: 0.1002 - val_loss: 3.1225\n",
            "Epoch 29/100\n",
            "\u001b[1m375/375\u001b[0m \u001b[32m━━━━━━━━━━━━━━━━━━━━\u001b[0m\u001b[37m\u001b[0m \u001b[1m9s\u001b[0m 11ms/step - accuracy: 0.5290 - loss: 1.4038 - val_accuracy: 0.0994 - val_loss: 3.1672\n",
            "Epoch 30/100\n",
            "\u001b[1m375/375\u001b[0m \u001b[32m━━━━━━━━━━━━━━━━━━━━\u001b[0m\u001b[37m\u001b[0m \u001b[1m6s\u001b[0m 13ms/step - accuracy: 0.5445 - loss: 1.3663 - val_accuracy: 0.0997 - val_loss: 3.2285\n",
            "Epoch 31/100\n",
            "\u001b[1m375/375\u001b[0m \u001b[32m━━━━━━━━━━━━━━━━━━━━\u001b[0m\u001b[37m\u001b[0m \u001b[1m5s\u001b[0m 11ms/step - accuracy: 0.5486 - loss: 1.3491 - val_accuracy: 0.0955 - val_loss: 3.3096\n",
            "Epoch 32/100\n",
            "\u001b[1m375/375\u001b[0m \u001b[32m━━━━━━━━━━━━━━━━━━━━\u001b[0m\u001b[37m\u001b[0m \u001b[1m5s\u001b[0m 14ms/step - accuracy: 0.5623 - loss: 1.3121 - val_accuracy: 0.0981 - val_loss: 3.3313\n",
            "Epoch 33/100\n",
            "\u001b[1m375/375\u001b[0m \u001b[32m━━━━━━━━━━━━━━━━━━━━\u001b[0m\u001b[37m\u001b[0m \u001b[1m9s\u001b[0m 12ms/step - accuracy: 0.5749 - loss: 1.2822 - val_accuracy: 0.0981 - val_loss: 3.3766\n",
            "Epoch 34/100\n",
            "\u001b[1m375/375\u001b[0m \u001b[32m━━━━━━━━━━━━━━━━━━━━\u001b[0m\u001b[37m\u001b[0m \u001b[1m6s\u001b[0m 13ms/step - accuracy: 0.5811 - loss: 1.2619 - val_accuracy: 0.0993 - val_loss: 3.4580\n",
            "Epoch 35/100\n",
            "\u001b[1m375/375\u001b[0m \u001b[32m━━━━━━━━━━━━━━━━━━━━\u001b[0m\u001b[37m\u001b[0m \u001b[1m4s\u001b[0m 11ms/step - accuracy: 0.5956 - loss: 1.2218 - val_accuracy: 0.1002 - val_loss: 3.5043\n",
            "Epoch 36/100\n",
            "\u001b[1m375/375\u001b[0m \u001b[32m━━━━━━━━━━━━━━━━━━━━\u001b[0m\u001b[37m\u001b[0m \u001b[1m6s\u001b[0m 15ms/step - accuracy: 0.6029 - loss: 1.2014 - val_accuracy: 0.0965 - val_loss: 3.5412\n",
            "Epoch 37/100\n",
            "\u001b[1m375/375\u001b[0m \u001b[32m━━━━━━━━━━━━━━━━━━━━\u001b[0m\u001b[37m\u001b[0m \u001b[1m4s\u001b[0m 11ms/step - accuracy: 0.6142 - loss: 1.1689 - val_accuracy: 0.0983 - val_loss: 3.6138\n",
            "Epoch 38/100\n",
            "\u001b[1m375/375\u001b[0m \u001b[32m━━━━━━━━━━━━━━━━━━━━\u001b[0m\u001b[37m\u001b[0m \u001b[1m4s\u001b[0m 11ms/step - accuracy: 0.6159 - loss: 1.1539 - val_accuracy: 0.0967 - val_loss: 3.6741\n",
            "Epoch 39/100\n",
            "\u001b[1m375/375\u001b[0m \u001b[32m━━━━━━━━━━━━━━━━━━━━\u001b[0m\u001b[37m\u001b[0m \u001b[1m6s\u001b[0m 14ms/step - accuracy: 0.6276 - loss: 1.1280 - val_accuracy: 0.0996 - val_loss: 3.7180\n",
            "Epoch 40/100\n",
            "\u001b[1m375/375\u001b[0m \u001b[32m━━━━━━━━━━━━━━━━━━━━\u001b[0m\u001b[37m\u001b[0m \u001b[1m4s\u001b[0m 11ms/step - accuracy: 0.6354 - loss: 1.1034 - val_accuracy: 0.0989 - val_loss: 3.7955\n",
            "Epoch 41/100\n",
            "\u001b[1m375/375\u001b[0m \u001b[32m━━━━━━━━━━━━━━━━━━━━\u001b[0m\u001b[37m\u001b[0m \u001b[1m7s\u001b[0m 15ms/step - accuracy: 0.6415 - loss: 1.0785 - val_accuracy: 0.1001 - val_loss: 3.8387\n",
            "Epoch 42/100\n",
            "\u001b[1m375/375\u001b[0m \u001b[32m━━━━━━━━━━━━━━━━━━━━\u001b[0m\u001b[37m\u001b[0m \u001b[1m4s\u001b[0m 12ms/step - accuracy: 0.6549 - loss: 1.0542 - val_accuracy: 0.0982 - val_loss: 3.9083\n",
            "Epoch 43/100\n",
            "\u001b[1m375/375\u001b[0m \u001b[32m━━━━━━━━━━━━━━━━━━━━\u001b[0m\u001b[37m\u001b[0m \u001b[1m4s\u001b[0m 12ms/step - accuracy: 0.6652 - loss: 1.0300 - val_accuracy: 0.0983 - val_loss: 3.9894\n",
            "Epoch 44/100\n",
            "\u001b[1m375/375\u001b[0m \u001b[32m━━━━━━━━━━━━━━━━━━━━\u001b[0m\u001b[37m\u001b[0m \u001b[1m6s\u001b[0m 15ms/step - accuracy: 0.6691 - loss: 1.0150 - val_accuracy: 0.1000 - val_loss: 4.0239\n",
            "Epoch 45/100\n",
            "\u001b[1m375/375\u001b[0m \u001b[32m━━━━━━━━━━━━━━━━━━━━\u001b[0m\u001b[37m\u001b[0m \u001b[1m9s\u001b[0m 11ms/step - accuracy: 0.6786 - loss: 0.9895 - val_accuracy: 0.0999 - val_loss: 4.0685\n",
            "Epoch 46/100\n",
            "\u001b[1m375/375\u001b[0m \u001b[32m━━━━━━━━━━━━━━━━━━━━\u001b[0m\u001b[37m\u001b[0m \u001b[1m5s\u001b[0m 14ms/step - accuracy: 0.6811 - loss: 0.9774 - val_accuracy: 0.0988 - val_loss: 4.1382\n",
            "Epoch 47/100\n",
            "\u001b[1m375/375\u001b[0m \u001b[32m━━━━━━━━━━━━━━━━━━━━\u001b[0m\u001b[37m\u001b[0m \u001b[1m10s\u001b[0m 14ms/step - accuracy: 0.6917 - loss: 0.9490 - val_accuracy: 0.1020 - val_loss: 4.2445\n",
            "Epoch 48/100\n",
            "\u001b[1m375/375\u001b[0m \u001b[32m━━━━━━━━━━━━━━━━━━━━\u001b[0m\u001b[37m\u001b[0m \u001b[1m9s\u001b[0m 11ms/step - accuracy: 0.7000 - loss: 0.9264 - val_accuracy: 0.1014 - val_loss: 4.2899\n",
            "Epoch 49/100\n",
            "\u001b[1m375/375\u001b[0m \u001b[32m━━━━━━━━━━━━━━━━━━━━\u001b[0m\u001b[37m\u001b[0m \u001b[1m6s\u001b[0m 15ms/step - accuracy: 0.7049 - loss: 0.9011 - val_accuracy: 0.0992 - val_loss: 4.3341\n",
            "Epoch 50/100\n",
            "\u001b[1m375/375\u001b[0m \u001b[32m━━━━━━━━━━━━━━━━━━━━\u001b[0m\u001b[37m\u001b[0m \u001b[1m4s\u001b[0m 11ms/step - accuracy: 0.7109 - loss: 0.8831 - val_accuracy: 0.0984 - val_loss: 4.3769\n",
            "Epoch 51/100\n",
            "\u001b[1m375/375\u001b[0m \u001b[32m━━━━━━━━━━━━━━━━━━━━\u001b[0m\u001b[37m\u001b[0m \u001b[1m5s\u001b[0m 14ms/step - accuracy: 0.7182 - loss: 0.8712 - val_accuracy: 0.0990 - val_loss: 4.4569\n",
            "Epoch 52/100\n",
            "\u001b[1m375/375\u001b[0m \u001b[32m━━━━━━━━━━━━━━━━━━━━\u001b[0m\u001b[37m\u001b[0m \u001b[1m9s\u001b[0m 12ms/step - accuracy: 0.7234 - loss: 0.8555 - val_accuracy: 0.0998 - val_loss: 4.5503\n",
            "Epoch 53/100\n",
            "\u001b[1m375/375\u001b[0m \u001b[32m━━━━━━━━━━━━━━━━━━━━\u001b[0m\u001b[37m\u001b[0m \u001b[1m5s\u001b[0m 15ms/step - accuracy: 0.7312 - loss: 0.8286 - val_accuracy: 0.1042 - val_loss: 4.6151\n",
            "Epoch 54/100\n",
            "\u001b[1m375/375\u001b[0m \u001b[32m━━━━━━━━━━━━━━━━━━━━\u001b[0m\u001b[37m\u001b[0m \u001b[1m4s\u001b[0m 12ms/step - accuracy: 0.7357 - loss: 0.8112 - val_accuracy: 0.0983 - val_loss: 4.6352\n",
            "Epoch 55/100\n",
            "\u001b[1m375/375\u001b[0m \u001b[32m━━━━━━━━━━━━━━━━━━━━\u001b[0m\u001b[37m\u001b[0m \u001b[1m6s\u001b[0m 14ms/step - accuracy: 0.7431 - loss: 0.7982 - val_accuracy: 0.0987 - val_loss: 4.7082\n",
            "Epoch 56/100\n",
            "\u001b[1m375/375\u001b[0m \u001b[32m━━━━━━━━━━━━━━━━━━━━\u001b[0m\u001b[37m\u001b[0m \u001b[1m9s\u001b[0m 11ms/step - accuracy: 0.7488 - loss: 0.7843 - val_accuracy: 0.1032 - val_loss: 4.7624\n",
            "Epoch 57/100\n",
            "\u001b[1m375/375\u001b[0m \u001b[32m━━━━━━━━━━━━━━━━━━━━\u001b[0m\u001b[37m\u001b[0m \u001b[1m6s\u001b[0m 16ms/step - accuracy: 0.7520 - loss: 0.7653 - val_accuracy: 0.1003 - val_loss: 4.8766\n",
            "Epoch 58/100\n",
            "\u001b[1m375/375\u001b[0m \u001b[32m━━━━━━━━━━━━━━━━━━━━\u001b[0m\u001b[37m\u001b[0m \u001b[1m5s\u001b[0m 12ms/step - accuracy: 0.7588 - loss: 0.7521 - val_accuracy: 0.1020 - val_loss: 4.9452\n",
            "Epoch 59/100\n",
            "\u001b[1m375/375\u001b[0m \u001b[32m━━━━━━━━━━━━━━━━━━━━\u001b[0m\u001b[37m\u001b[0m \u001b[1m6s\u001b[0m 14ms/step - accuracy: 0.7621 - loss: 0.7371 - val_accuracy: 0.1003 - val_loss: 5.0313\n",
            "Epoch 60/100\n",
            "\u001b[1m375/375\u001b[0m \u001b[32m━━━━━━━━━━━━━━━━━━━━\u001b[0m\u001b[37m\u001b[0m \u001b[1m9s\u001b[0m 11ms/step - accuracy: 0.7697 - loss: 0.7214 - val_accuracy: 0.0987 - val_loss: 5.0786\n",
            "Epoch 61/100\n",
            "\u001b[1m375/375\u001b[0m \u001b[32m━━━━━━━━━━━━━━━━━━━━\u001b[0m\u001b[37m\u001b[0m \u001b[1m6s\u001b[0m 14ms/step - accuracy: 0.7732 - loss: 0.7080 - val_accuracy: 0.1012 - val_loss: 5.1721\n",
            "Epoch 62/100\n",
            "\u001b[1m375/375\u001b[0m \u001b[32m━━━━━━━━━━━━━━━━━━━━\u001b[0m\u001b[37m\u001b[0m \u001b[1m10s\u001b[0m 14ms/step - accuracy: 0.7779 - loss: 0.6910 - val_accuracy: 0.1004 - val_loss: 5.2002\n",
            "Epoch 63/100\n",
            "\u001b[1m375/375\u001b[0m \u001b[32m━━━━━━━━━━━━━━━━━━━━\u001b[0m\u001b[37m\u001b[0m \u001b[1m4s\u001b[0m 12ms/step - accuracy: 0.7839 - loss: 0.6777 - val_accuracy: 0.1002 - val_loss: 5.3316\n",
            "Epoch 64/100\n",
            "\u001b[1m375/375\u001b[0m \u001b[32m━━━━━━━━━━━━━━━━━━━━\u001b[0m\u001b[37m\u001b[0m \u001b[1m5s\u001b[0m 11ms/step - accuracy: 0.7878 - loss: 0.6689 - val_accuracy: 0.1013 - val_loss: 5.3411\n",
            "Epoch 65/100\n",
            "\u001b[1m375/375\u001b[0m \u001b[32m━━━━━━━━━━━━━━━━━━━━\u001b[0m\u001b[37m\u001b[0m \u001b[1m7s\u001b[0m 15ms/step - accuracy: 0.7953 - loss: 0.6543 - val_accuracy: 0.0991 - val_loss: 5.4480\n",
            "Epoch 66/100\n",
            "\u001b[1m375/375\u001b[0m \u001b[32m━━━━━━━━━━━━━━━━━━━━\u001b[0m\u001b[37m\u001b[0m \u001b[1m10s\u001b[0m 14ms/step - accuracy: 0.7998 - loss: 0.6347 - val_accuracy: 0.0971 - val_loss: 5.4907\n",
            "Epoch 67/100\n",
            "\u001b[1m375/375\u001b[0m \u001b[32m━━━━━━━━━━━━━━━━━━━━\u001b[0m\u001b[37m\u001b[0m \u001b[1m5s\u001b[0m 12ms/step - accuracy: 0.8020 - loss: 0.6224 - val_accuracy: 0.1002 - val_loss: 5.5450\n",
            "Epoch 68/100\n",
            "\u001b[1m375/375\u001b[0m \u001b[32m━━━━━━━━━━━━━━━━━━━━\u001b[0m\u001b[37m\u001b[0m \u001b[1m4s\u001b[0m 11ms/step - accuracy: 0.8075 - loss: 0.6074 - val_accuracy: 0.0969 - val_loss: 5.6271\n",
            "Epoch 69/100\n",
            "\u001b[1m375/375\u001b[0m \u001b[32m━━━━━━━━━━━━━━━━━━━━\u001b[0m\u001b[37m\u001b[0m \u001b[1m6s\u001b[0m 14ms/step - accuracy: 0.8114 - loss: 0.5939 - val_accuracy: 0.0991 - val_loss: 5.7375\n",
            "Epoch 70/100\n",
            "\u001b[1m375/375\u001b[0m \u001b[32m━━━━━━━━━━━━━━━━━━━━\u001b[0m\u001b[37m\u001b[0m \u001b[1m4s\u001b[0m 11ms/step - accuracy: 0.8186 - loss: 0.5793 - val_accuracy: 0.0998 - val_loss: 5.7815\n",
            "Epoch 71/100\n",
            "\u001b[1m375/375\u001b[0m \u001b[32m━━━━━━━━━━━━━━━━━━━━\u001b[0m\u001b[37m\u001b[0m \u001b[1m6s\u001b[0m 13ms/step - accuracy: 0.8209 - loss: 0.5727 - val_accuracy: 0.0983 - val_loss: 5.8560\n",
            "Epoch 72/100\n",
            "\u001b[1m375/375\u001b[0m \u001b[32m━━━━━━━━━━━━━━━━━━━━\u001b[0m\u001b[37m\u001b[0m \u001b[1m4s\u001b[0m 12ms/step - accuracy: 0.8229 - loss: 0.5640 - val_accuracy: 0.0993 - val_loss: 5.9209\n",
            "Epoch 73/100\n",
            "\u001b[1m375/375\u001b[0m \u001b[32m━━━━━━━━━━━━━━━━━━━━\u001b[0m\u001b[37m\u001b[0m \u001b[1m4s\u001b[0m 11ms/step - accuracy: 0.8283 - loss: 0.5468 - val_accuracy: 0.1008 - val_loss: 5.9940\n",
            "Epoch 74/100\n",
            "\u001b[1m375/375\u001b[0m \u001b[32m━━━━━━━━━━━━━━━━━━━━\u001b[0m\u001b[37m\u001b[0m \u001b[1m6s\u001b[0m 15ms/step - accuracy: 0.8302 - loss: 0.5361 - val_accuracy: 0.0999 - val_loss: 6.0601\n",
            "Epoch 75/100\n",
            "\u001b[1m375/375\u001b[0m \u001b[32m━━━━━━━━━━━━━━━━━━━━\u001b[0m\u001b[37m\u001b[0m \u001b[1m4s\u001b[0m 11ms/step - accuracy: 0.8363 - loss: 0.5232 - val_accuracy: 0.1018 - val_loss: 6.1528\n",
            "Epoch 76/100\n",
            "\u001b[1m375/375\u001b[0m \u001b[32m━━━━━━━━━━━━━━━━━━━━\u001b[0m\u001b[37m\u001b[0m \u001b[1m6s\u001b[0m 15ms/step - accuracy: 0.8355 - loss: 0.5211 - val_accuracy: 0.0974 - val_loss: 6.2225\n",
            "Epoch 77/100\n",
            "\u001b[1m375/375\u001b[0m \u001b[32m━━━━━━━━━━━━━━━━━━━━\u001b[0m\u001b[37m\u001b[0m \u001b[1m5s\u001b[0m 12ms/step - accuracy: 0.8407 - loss: 0.5052 - val_accuracy: 0.0991 - val_loss: 6.2729\n",
            "Epoch 78/100\n",
            "\u001b[1m375/375\u001b[0m \u001b[32m━━━━━━━━━━━━━━━━━━━━\u001b[0m\u001b[37m\u001b[0m \u001b[1m5s\u001b[0m 12ms/step - accuracy: 0.8449 - loss: 0.4975 - val_accuracy: 0.1009 - val_loss: 6.3513\n",
            "Epoch 79/100\n",
            "\u001b[1m375/375\u001b[0m \u001b[32m━━━━━━━━━━━━━━━━━━━━\u001b[0m\u001b[37m\u001b[0m \u001b[1m6s\u001b[0m 15ms/step - accuracy: 0.8476 - loss: 0.4890 - val_accuracy: 0.0976 - val_loss: 6.3960\n",
            "Epoch 80/100\n",
            "\u001b[1m375/375\u001b[0m \u001b[32m━━━━━━━━━━━━━━━━━━━━\u001b[0m\u001b[37m\u001b[0m \u001b[1m4s\u001b[0m 12ms/step - accuracy: 0.8498 - loss: 0.4801 - val_accuracy: 0.0992 - val_loss: 6.4943\n",
            "Epoch 81/100\n",
            "\u001b[1m375/375\u001b[0m \u001b[32m━━━━━━━━━━━━━━━━━━━━\u001b[0m\u001b[37m\u001b[0m \u001b[1m4s\u001b[0m 11ms/step - accuracy: 0.8536 - loss: 0.4676 - val_accuracy: 0.0995 - val_loss: 6.5886\n",
            "Epoch 82/100\n",
            "\u001b[1m375/375\u001b[0m \u001b[32m━━━━━━━━━━━━━━━━━━━━\u001b[0m\u001b[37m\u001b[0m \u001b[1m6s\u001b[0m 15ms/step - accuracy: 0.8554 - loss: 0.4602 - val_accuracy: 0.1016 - val_loss: 6.6838\n",
            "Epoch 83/100\n",
            "\u001b[1m375/375\u001b[0m \u001b[32m━━━━━━━━━━━━━━━━━━━━\u001b[0m\u001b[37m\u001b[0m \u001b[1m5s\u001b[0m 12ms/step - accuracy: 0.8619 - loss: 0.4487 - val_accuracy: 0.0987 - val_loss: 6.6915\n",
            "Epoch 84/100\n",
            "\u001b[1m375/375\u001b[0m \u001b[32m━━━━━━━━━━━━━━━━━━━━\u001b[0m\u001b[37m\u001b[0m \u001b[1m7s\u001b[0m 16ms/step - accuracy: 0.8616 - loss: 0.4459 - val_accuracy: 0.0979 - val_loss: 6.7952\n",
            "Epoch 85/100\n",
            "\u001b[1m375/375\u001b[0m \u001b[32m━━━━━━━━━━━━━━━━━━━━\u001b[0m\u001b[37m\u001b[0m \u001b[1m4s\u001b[0m 11ms/step - accuracy: 0.8643 - loss: 0.4366 - val_accuracy: 0.0982 - val_loss: 6.8413\n",
            "Epoch 86/100\n",
            "\u001b[1m375/375\u001b[0m \u001b[32m━━━━━━━━━━━━━━━━━━━━\u001b[0m\u001b[37m\u001b[0m \u001b[1m4s\u001b[0m 11ms/step - accuracy: 0.8698 - loss: 0.4214 - val_accuracy: 0.0988 - val_loss: 6.9721\n",
            "Epoch 87/100\n",
            "\u001b[1m375/375\u001b[0m \u001b[32m━━━━━━━━━━━━━━━━━━━━\u001b[0m\u001b[37m\u001b[0m \u001b[1m5s\u001b[0m 14ms/step - accuracy: 0.8691 - loss: 0.4210 - val_accuracy: 0.0991 - val_loss: 7.0298\n",
            "Epoch 88/100\n",
            "\u001b[1m375/375\u001b[0m \u001b[32m━━━━━━━━━━━━━━━━━━━━\u001b[0m\u001b[37m\u001b[0m \u001b[1m5s\u001b[0m 12ms/step - accuracy: 0.8758 - loss: 0.4075 - val_accuracy: 0.1014 - val_loss: 7.1336\n",
            "Epoch 89/100\n",
            "\u001b[1m375/375\u001b[0m \u001b[32m━━━━━━━━━━━━━━━━━━━━\u001b[0m\u001b[37m\u001b[0m \u001b[1m6s\u001b[0m 15ms/step - accuracy: 0.8768 - loss: 0.4061 - val_accuracy: 0.0987 - val_loss: 7.1748\n",
            "Epoch 90/100\n",
            "\u001b[1m375/375\u001b[0m \u001b[32m━━━━━━━━━━━━━━━━━━━━\u001b[0m\u001b[37m\u001b[0m \u001b[1m5s\u001b[0m 12ms/step - accuracy: 0.8789 - loss: 0.3972 - val_accuracy: 0.1023 - val_loss: 7.2067\n",
            "Epoch 91/100\n",
            "\u001b[1m375/375\u001b[0m \u001b[32m━━━━━━━━━━━━━━━━━━━━\u001b[0m\u001b[37m\u001b[0m \u001b[1m5s\u001b[0m 12ms/step - accuracy: 0.8812 - loss: 0.3883 - val_accuracy: 0.0983 - val_loss: 7.3165\n",
            "Epoch 92/100\n",
            "\u001b[1m375/375\u001b[0m \u001b[32m━━━━━━━━━━━━━━━━━━━━\u001b[0m\u001b[37m\u001b[0m \u001b[1m5s\u001b[0m 14ms/step - accuracy: 0.8825 - loss: 0.3861 - val_accuracy: 0.1005 - val_loss: 7.4166\n",
            "Epoch 93/100\n",
            "\u001b[1m375/375\u001b[0m \u001b[32m━━━━━━━━━━━━━━━━━━━━\u001b[0m\u001b[37m\u001b[0m \u001b[1m5s\u001b[0m 13ms/step - accuracy: 0.8869 - loss: 0.3761 - val_accuracy: 0.1007 - val_loss: 7.4810\n",
            "Epoch 94/100\n",
            "\u001b[1m375/375\u001b[0m \u001b[32m━━━━━━━━━━━━━━━━━━━━\u001b[0m\u001b[37m\u001b[0m \u001b[1m6s\u001b[0m 16ms/step - accuracy: 0.8882 - loss: 0.3617 - val_accuracy: 0.1013 - val_loss: 7.5740\n",
            "Epoch 95/100\n",
            "\u001b[1m375/375\u001b[0m \u001b[32m━━━━━━━━━━━━━━━━━━━━\u001b[0m\u001b[37m\u001b[0m \u001b[1m5s\u001b[0m 13ms/step - accuracy: 0.8896 - loss: 0.3594 - val_accuracy: 0.1008 - val_loss: 7.5575\n",
            "Epoch 96/100\n",
            "\u001b[1m375/375\u001b[0m \u001b[32m━━━━━━━━━━━━━━━━━━━━\u001b[0m\u001b[37m\u001b[0m \u001b[1m5s\u001b[0m 12ms/step - accuracy: 0.8925 - loss: 0.3497 - val_accuracy: 0.1023 - val_loss: 7.7075\n",
            "Epoch 97/100\n",
            "\u001b[1m375/375\u001b[0m \u001b[32m━━━━━━━━━━━━━━━━━━━━\u001b[0m\u001b[37m\u001b[0m \u001b[1m6s\u001b[0m 14ms/step - accuracy: 0.8948 - loss: 0.3495 - val_accuracy: 0.1013 - val_loss: 7.7013\n",
            "Epoch 98/100\n",
            "\u001b[1m375/375\u001b[0m \u001b[32m━━━━━━━━━━━━━━━━━━━━\u001b[0m\u001b[37m\u001b[0m \u001b[1m5s\u001b[0m 13ms/step - accuracy: 0.8978 - loss: 0.3361 - val_accuracy: 0.1006 - val_loss: 7.8208\n",
            "Epoch 99/100\n",
            "\u001b[1m375/375\u001b[0m \u001b[32m━━━━━━━━━━━━━━━━━━━━\u001b[0m\u001b[37m\u001b[0m \u001b[1m6s\u001b[0m 15ms/step - accuracy: 0.8997 - loss: 0.3343 - val_accuracy: 0.1009 - val_loss: 7.8865\n",
            "Epoch 100/100\n",
            "\u001b[1m375/375\u001b[0m \u001b[32m━━━━━━━━━━━━━━━━━━━━\u001b[0m\u001b[37m\u001b[0m \u001b[1m9s\u001b[0m 11ms/step - accuracy: 0.8985 - loss: 0.3322 - val_accuracy: 0.0962 - val_loss: 7.9500\n"
          ]
        },
        {
          "output_type": "execute_result",
          "data": {
            "text/plain": [
              "<keras.src.callbacks.history.History at 0x7aa820f7d790>"
            ]
          },
          "metadata": {},
          "execution_count": 12
        }
      ]
    },
    {
      "cell_type": "markdown",
      "source": [
        "# manifold hipotezi\n",
        "Her bir görsel MNIST veri setinde 28x28 pikselden oluşuyor. Yani toplamda 784 adet piksel. Bu piksellerin de hepsi 0-255 arasında değerler alıyor. Yani 784^256 adet değer yapar bu. Bu bizim uzayımız fakat üzerinde çalışmak istediğim rakamlar bundan çok çok daha küçük bir `subspace` (alt-uzay) içerisinde. Bu alt uzay:\n",
        "- **süreklidir**. Bir rakam üzerinde ufak oynamalar yapsanız dahi o rakam gibi görünmeye devam eder.\n",
        "- **bağlantılıdır**. İki rakam arasında belli bir geçiş vardır.\n",
        "\n",
        "## Manifold nedir?\n",
        "**Manifold, yüksek boyutlu bir uzayın içindeki ama daha az boyutlu ve yerel olarak düz gibi davranan bir yapıdır. **\n",
        "\n",
        "Örnek olarak 1 boyutlu manifoldu düşünelim. \"O\" harfi gibi bir eğri iki boyutlu düzlemde bulunur (x ve y ekseni). Fakat kendi üzerinde yalnızca ileri-geri hareket edebilirsiniz. Bu da onu 1 boyutlu yapar.\n",
        "\n",
        "2 boyutlu manifold için bir küre yüzeyi düşünelim, örneğin Dünya. Küre aslında üç boyutlu uzaydadır (x, y ve z) ama yüzeyinde dolaşan biri için dünya iki boyutludur: enlem ve boylam. Bu da onu iki boyutlu yapar.\n",
        "\n",
        "## Peki bu manifold hipotezi makine öğrenmesinde ne anlama geliyor?\n",
        "- Doğal veriler, yüksek boyutlu uzayda düşük boyutlu ve düzenli manifoldlar üzerinde yer alır.\n",
        "- Bu yalnızca MNIST veri seti için değil; insan yüzleri, ağaç yapıları, sesler için de geçerlidir.\n",
        "\n",
        "\n",
        "##  Manifold hipotezinin sonuçları\n",
        "- Makine öğrenmesi modelleri, tüm giriş uzayını değil, sadece basit, düşük boyutlu ve düzenli alt uzayları öğrenmek zorunda. **İndirgiyor** aslında. Bu alt uzaylara `latent manifold` nedir\n",
        "- Aynı manifold üzerinde yer alan iki örnek arasında süreçli dönüşümler (`interpolation`) yapılabilir. Yani bir görüntü, bir diğerine yavaşça dönüştürülebilir ve bu dönüşüm boyunca tüm örnekler hala anlamlı olur\n",
        "\n",
        "\n"
      ],
      "metadata": {
        "id": "OE4DI2LmpypM"
      }
    },
    {
      "cell_type": "markdown",
      "source": [
        "# İnterpolasyon ile genelleme\n",
        "Amacımız, veri üzerinde genelleme yapabilmek, yani daha önce hiç görmediğimiz bir şeyi, daha önce gördüğümüz örnekler üzerinden tahmin edebilmek.\n",
        "Bunu da, verilerin yer aldığı manifold üzerindeki yakın noktaları ilişkilendirerek yapabiliriz.\n",
        "\n",
        "Ancak, interpolasyon temelli genelleme yalnızca birbirine benzeyen iki örnek arasında düzgün ve sürekli bir geçiş yapılabiliyorsa işe yarar. Buna `yerel genelleme` denir.\n",
        "\n",
        "Fakat insan bundan çok daha beceriklidir, insan `ekstrem (uç) genelleme` yapabilir. Hiç görmediği bir şehre gittiğinde hayatta kalabilmesinin, yolunu bulabilmesinin sebebi bu uç genelleme, soyutlama, mantık ve sezgi becerileri sayesindedir."
      ],
      "metadata": {
        "id": "7YLMj7YSwoES"
      }
    },
    {
      "cell_type": "markdown",
      "source": [
        "# Derin öğrenme neden işe yarıyor?\n",
        "\n",
        "Bir kağıdı buruşturup top yaptığımızı hayal edelim. Kağıt normalde 2 boyutlu fakat, top yaptığımız için artık 3 boyutlu oldu. Bize gerekli olan, asıl anlamlı olan kısım 2 boyutlu olan kısım. Bu sebeple bu topu kıvrılma yerlerinden açıp düzleştirerek istediğimiz forma getirip sonrasında bilgileri almamız gerekiyor. Derin öğrenme de tam olarak bu şekilde çalışıyor.\n",
        "\n",
        "## Modelin görevi\n",
        "- girdiyi al -> doğru çıktıyı üret\n",
        "\n",
        "- Girdimiz 28x28 bir resim, 3 rakamı yazıyor diyelim\n",
        "\n",
        "- Beklenen çıktı: 3\n",
        "\n",
        "Model bunu yapabilmek için kendi içinde bir fonksiyon öğreniyor. Bu fonksiyonu çok boyutlu bir eğri olarak düşünebiliriz.\n",
        "\n",
        "\n",
        "Bu eğri bize hangi girdinin hangi çıktıyı verdiğini söylüyor fakat en başta doğru eğriyi bilmiyoruz. Bu yüzden rastgele başlıyoruz.\n",
        "\n",
        "\n",
        "Eğrinin doğru değerleri gösterebilmesi için belli oranlarda ve yönlerde değişmesi gerekiyor. Bu eğrinin ne yönde ne kadar değişeceğini de gradyan inişi ile tespit ediyoruz.\n",
        "\n",
        "Bu işlem tekrar tekrar uygulanıyor ve istenilen sonuçlar elde edildikçe eğrimiz şekilleniyor. Yani topumuz yavaş yavaş açılıyor ve a4 şekline geliyor. Üzerinde bazı kırışıklıklar olsa da genel olarak istediğimiz hedefe ulaştık.\n"
      ],
      "metadata": {
        "id": "mc_K9Bt8xfuG"
      }
    },
    {
      "cell_type": "markdown",
      "source": [
        "# Modelin eğitim süreci\n",
        "\n",
        "## Tuning (ayarlama)\n",
        "**hiperparametre:** kaç katman olacağı ve katmanların boyutları, learning rate\n",
        "**parametre:** ağırlıklar\n",
        "\n",
        "Bunları validation sonuca göre değiştirerek, overfit'in önüne geçilebilir. Bunu validation setine göre yapmamız, validation'dan bazı bilgileri modele aktarıyoruz anlamına geliyor, buna `information leaks` deniyor. Bu bir kez yapılırsa sorun değil fakat biz sürekli hiperparametre değiştirirsek çok fazla bilgi aktarılmış olur ve overfitting gerçekleşir.\n",
        "\n",
        "\n",
        "Bu sebeple model tamamen oturana kadar test verileri hiç gösterilmez. Tamamen ilk kez göreceği verileri görmeli.\n",
        "\n",
        "Veriyi eğitim ve geçerleme olarak bölme yöntemleri:\n",
        "1. Simple Holdout Validation\n",
        "  - Veriyi: Eğitim / Doğrulama / Test olarak böl\n",
        "  - En basit yöntem\n",
        "\n",
        "```\n",
        "validation_data = data[:num_validation_samples]\n",
        "training_data = data[num_validation_samples:]\n",
        "model = get_model()\n",
        "model.fit(training_data, ...)\n",
        "validation_score = model.evaluate(validation_data, ...)\n",
        "... # tune yapılacak yer\n",
        "model = get_model()\n",
        "model.fit(np.concatenate([training_data,\n",
        "validation_data]), ...)\n",
        "test_score = model.evaluate(test_data, ...)\n",
        "\n",
        "```\n",
        "\n",
        "\n",
        "  2. K-Fold Validation\n",
        "  - Veriyi K parçaya böl\n",
        "  - Her seferinde 1 parça validation, diğerleri eğitim olur\n",
        "  - Daha az veriyle daha iyi sonuç verir\n",
        "\n",
        "```\n",
        "k = 3\n",
        "num_validation_samples = len(data) // k\n",
        "np.random.shuffle(data)\n",
        "validation_scores = []\n",
        "\n",
        "for fold in range(k):\n",
        "    validation_data = data[num_validation_samples * fold:\n",
        "                           num_validation_samples * (fold + 1)]\n",
        "    training_data = np.concatenate(\n",
        "        [data[:num_validation_samples * fold],\n",
        "         data[num_validation_samples * (fold + 1):]])\n",
        "    \n",
        "    model = get_model()\n",
        "    model.fit(training_data, ...)\n",
        "    validation_score = model.evaluate(validation_data, ...)\n",
        "    validation_scores.append(validation_score)\n",
        "\n",
        "validation_score = np.average(validation_scores)\n",
        "\n",
        "model = get_model()\n",
        "model.fit(data, ...)\n",
        "test_score = model.evaluate(test_data, ...)\n",
        "\n",
        "```\n",
        "\n",
        "\n",
        "  3. Iterated K-Fold + Shuffling\n",
        "\n",
        "  - K-Fold’un her tekrarında veri karıştırılır\n",
        "  - Az veriyle daha kararlı sonuçlar sağlar\n",
        "\n"
      ],
      "metadata": {
        "id": "VdCOT6iAC9Z3"
      }
    },
    {
      "cell_type": "markdown",
      "source": [
        "# common-sense baseline\n",
        "Model düzgün çalışıyor mu diye belirlediğimiz bir referans aslında. Bu referansı geçebiliyor mu geçemiyor mu diye bakıyoruz"
      ],
      "metadata": {
        "id": "Yq9o880wH0CA"
      }
    },
    {
      "cell_type": "code",
      "source": [],
      "metadata": {
        "id": "K5j6-4BKH7LO"
      },
      "execution_count": null,
      "outputs": []
    },
    {
      "cell_type": "markdown",
      "source": [
        "# modeli değerlendirirken göz önüne alınacaklar\n",
        "* Verinin nasıl olduğu: test - eğitim verileri rastgele ve homojen dağılmalı\n",
        "* zaman: geleceği tahmin etmeye çalışıyorsun verileri karmamak daha mantıklı.\n",
        "* veri tekrarı: bazen aynı verilerden birden fazla olabilir. Bunların biri eğitim verilerinde, biri de test verilerinde olursa model daha önceden gördüğü ve ezberlediği şeyi tekrarlamış olur. Bu iki veri seti birbirinden ayrı (disjoint) olmalı.\n",
        "\n",
        "\n",
        "# Model uyumunu değiştirme (fit)\n",
        "- Sınırları bilebilmek için öncelikle modeli overfit'e zorlamak gerekir.\n",
        "\n",
        "üç yaygın problem:\n",
        "1. training loss zamanla düşmüyorsa, model hiçbir şey öğrenmiyor demektir.\n",
        "2. Eğitim başlıyor ama baseline referansımız değişmiyor.\n",
        "3. Model genelleme yapıyor referansı geçiyor ama yine de yeteri kadar iyi değil, underfit. Kapasite yetersiz.\n",
        "\n"
      ],
      "metadata": {
        "id": "lFHOpL5PH-eI"
      }
    },
    {
      "cell_type": "code",
      "source": [],
      "metadata": {
        "id": "4_5TtyhbJjyK"
      },
      "execution_count": null,
      "outputs": []
    }
  ]
}