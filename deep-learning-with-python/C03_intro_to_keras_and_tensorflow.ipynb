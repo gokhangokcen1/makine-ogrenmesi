{
  "nbformat": 4,
  "nbformat_minor": 0,
  "metadata": {
    "colab": {
      "provenance": []
    },
    "kernelspec": {
      "name": "python3",
      "display_name": "Python 3"
    },
    "language_info": {
      "name": "python"
    }
  },
  "cells": [
    {
      "cell_type": "code",
      "execution_count": 3,
      "metadata": {
        "colab": {
          "base_uri": "https://localhost:8080/"
        },
        "id": "09hjNPAVWI-y",
        "outputId": "d6478ed2-4561-44c7-8ce2-ba25aafc224d"
      },
      "outputs": [
        {
          "output_type": "stream",
          "name": "stdout",
          "text": [
            "tf.Tensor(\n",
            "[[1.]\n",
            " [1.]], shape=(2, 1), dtype=float32)\n"
          ]
        }
      ],
      "source": [
        "import tensorflow as tf\n",
        "x = tf.ones(shape=(2,1)) # 2 x 1'lik birler matrisi\n",
        "print(x)"
      ]
    },
    {
      "cell_type": "code",
      "source": [
        "x = tf.zeros(shape=(2,1)) # 2 x 1'lik sıfırlar matrisi\n",
        "print(x)"
      ],
      "metadata": {
        "colab": {
          "base_uri": "https://localhost:8080/"
        },
        "id": "fPQDTrMRXxaw",
        "outputId": "d0f364b9-64f5-4e27-a5f9-f68e16ec6d80"
      },
      "execution_count": 4,
      "outputs": [
        {
          "output_type": "stream",
          "name": "stdout",
          "text": [
            "tf.Tensor(\n",
            "[[0.]\n",
            " [0.]], shape=(2, 1), dtype=float32)\n"
          ]
        }
      ]
    },
    {
      "cell_type": "code",
      "source": [
        "x = tf.random.normal(shape=(3,1), mean=0., stddev=1.) # ortalaması 0,\n",
        "# standart sapması 1 olan 3x1 boyutunda rastgele bir tensor (normal distribution)\n",
        "print(x)"
      ],
      "metadata": {
        "colab": {
          "base_uri": "https://localhost:8080/"
        },
        "id": "sWIWyqWZX239",
        "outputId": "a2398eaa-5d97-4176-85ab-3f5f69db0ea7"
      },
      "execution_count": 12,
      "outputs": [
        {
          "output_type": "stream",
          "name": "stdout",
          "text": [
            "tf.Tensor(\n",
            "[[-0.31075934]\n",
            " [-0.0623241 ]\n",
            " [ 0.84930634]], shape=(3, 1), dtype=float32)\n"
          ]
        }
      ]
    },
    {
      "cell_type": "code",
      "source": [
        "x = tf.random.uniform(shape=(3,1), minval=0., maxval=1.)\n",
        "# 0 ile 1 arasında rastgele bir tensor (uniform distribution)\n",
        "print(x)"
      ],
      "metadata": {
        "colab": {
          "base_uri": "https://localhost:8080/"
        },
        "id": "08-tH6rsYEEP",
        "outputId": "5d71fd5b-3b89-4f17-ded7-9871b4d780fe"
      },
      "execution_count": 13,
      "outputs": [
        {
          "output_type": "stream",
          "name": "stdout",
          "text": [
            "tf.Tensor(\n",
            "[[0.3207345 ]\n",
            " [0.40132582]\n",
            " [0.6137203 ]], shape=(3, 1), dtype=float32)\n"
          ]
        }
      ]
    },
    {
      "cell_type": "markdown",
      "source": [
        "Numpy array'leri değiştirilebilirken tensorflow tensorları değiştirilemezdir.\n"
      ],
      "metadata": {
        "id": "SfrznJdAZoRB"
      }
    },
    {
      "cell_type": "code",
      "source": [
        "import numpy as np\n",
        "x = np.ones(shape=(2,2))\n",
        "print(x)\n",
        "x[0,0] = 0.\n",
        "print(x)"
      ],
      "metadata": {
        "colab": {
          "base_uri": "https://localhost:8080/"
        },
        "id": "Ze2nFcweYiQm",
        "outputId": "0e341c65-f490-4480-f866-7caf52274ead"
      },
      "execution_count": 15,
      "outputs": [
        {
          "output_type": "stream",
          "name": "stdout",
          "text": [
            "[[1. 1.]\n",
            " [1. 1.]]\n",
            "[[0. 1.]\n",
            " [1. 1.]]\n"
          ]
        }
      ]
    },
    {
      "cell_type": "code",
      "source": [
        "x = tf.ones(shape=(2,2))\n",
        "x[0,0] = 0"
      ],
      "metadata": {
        "colab": {
          "base_uri": "https://localhost:8080/",
          "height": 162
        },
        "id": "cUB9ehOvZdth",
        "outputId": "66cd60b2-c59d-46bd-d850-660d94ae4317"
      },
      "execution_count": 17,
      "outputs": [
        {
          "output_type": "error",
          "ename": "TypeError",
          "evalue": "'tensorflow.python.framework.ops.EagerTensor' object does not support item assignment",
          "traceback": [
            "\u001b[0;31m---------------------------------------------------------------------------\u001b[0m",
            "\u001b[0;31mTypeError\u001b[0m                                 Traceback (most recent call last)",
            "\u001b[0;32m/tmp/ipython-input-17-248115137.py\u001b[0m in \u001b[0;36m<cell line: 0>\u001b[0;34m()\u001b[0m\n\u001b[1;32m      1\u001b[0m \u001b[0mx\u001b[0m \u001b[0;34m=\u001b[0m \u001b[0mtf\u001b[0m\u001b[0;34m.\u001b[0m\u001b[0mones\u001b[0m\u001b[0;34m(\u001b[0m\u001b[0mshape\u001b[0m\u001b[0;34m=\u001b[0m\u001b[0;34m(\u001b[0m\u001b[0;36m2\u001b[0m\u001b[0;34m,\u001b[0m\u001b[0;36m2\u001b[0m\u001b[0;34m)\u001b[0m\u001b[0;34m)\u001b[0m\u001b[0;34m\u001b[0m\u001b[0;34m\u001b[0m\u001b[0m\n\u001b[0;32m----> 2\u001b[0;31m \u001b[0mx\u001b[0m\u001b[0;34m[\u001b[0m\u001b[0;36m0\u001b[0m\u001b[0;34m,\u001b[0m\u001b[0;36m0\u001b[0m\u001b[0;34m]\u001b[0m \u001b[0;34m=\u001b[0m \u001b[0;36m0\u001b[0m\u001b[0;34m\u001b[0m\u001b[0;34m\u001b[0m\u001b[0m\n\u001b[0m",
            "\u001b[0;31mTypeError\u001b[0m: 'tensorflow.python.framework.ops.EagerTensor' object does not support item assignment"
          ]
        }
      ]
    },
    {
      "cell_type": "markdown",
      "source": [
        "Fakat örneğin modelimizde ağırlıklar (w) gibi değiştirmemiz gereken array'ler\n",
        "olacak. Bu durumda yapacağımız şey tensorflow'da değişken (Variable) olarak\n",
        "atamak. Bu o array'in daha sonra değiştirilebileceği anlamına gelir."
      ],
      "metadata": {
        "id": "y9ueAXGPZ6O0"
      }
    },
    {
      "cell_type": "code",
      "source": [
        "v = tf.Variable(initial_value=tf.random.normal(shape=(3,1)))\n",
        "#initial value: başlangıc değerimiz\n",
        "print(v)"
      ],
      "metadata": {
        "colab": {
          "base_uri": "https://localhost:8080/"
        },
        "id": "eYJSx8h3ZkOx",
        "outputId": "ce8a9cd9-74c0-41ac-e9d5-4063ccae4257"
      },
      "execution_count": 18,
      "outputs": [
        {
          "output_type": "stream",
          "name": "stdout",
          "text": [
            "<tf.Variable 'Variable:0' shape=(3, 1) dtype=float32, numpy=\n",
            "array([[ 0.3990925 ],\n",
            "       [-0.43444774],\n",
            "       [-0.529121  ]], dtype=float32)>\n"
          ]
        }
      ]
    },
    {
      "cell_type": "code",
      "source": [
        "# bu Variable'lar assign ile değiştirilebilir\n",
        "v.assign(tf.ones((3,1)))\n",
        "print(v)"
      ],
      "metadata": {
        "colab": {
          "base_uri": "https://localhost:8080/"
        },
        "id": "0xwsYFlQaQfe",
        "outputId": "6306717e-513d-4991-8e16-35a6da5529fd"
      },
      "execution_count": 19,
      "outputs": [
        {
          "output_type": "stream",
          "name": "stdout",
          "text": [
            "<tf.Variable 'Variable:0' shape=(3, 1) dtype=float32, numpy=\n",
            "array([[1.],\n",
            "       [1.],\n",
            "       [1.]], dtype=float32)>\n"
          ]
        }
      ]
    },
    {
      "cell_type": "code",
      "source": [
        "# direkt olarak değişkenin tamamını değiştirmek yerine belirli indeksi değiştirme\n",
        "v[0,0].assign(3.)"
      ],
      "metadata": {
        "colab": {
          "base_uri": "https://localhost:8080/"
        },
        "id": "6Ln27U7yaZUU",
        "outputId": "b113ae6d-2fdf-4c34-8353-5a17bf611453"
      },
      "execution_count": 21,
      "outputs": [
        {
          "output_type": "execute_result",
          "data": {
            "text/plain": [
              "<tf.Variable 'UnreadVariable' shape=(3, 1) dtype=float32, numpy=\n",
              "array([[3.],\n",
              "       [1.],\n",
              "       [1.]], dtype=float32)>"
            ]
          },
          "metadata": {},
          "execution_count": 21
        }
      ]
    },
    {
      "cell_type": "code",
      "source": [
        "# assign_add() +=\n",
        "# assign_sub() -=\n",
        "\n",
        "v.assign_add(tf.ones((3,1)))"
      ],
      "metadata": {
        "colab": {
          "base_uri": "https://localhost:8080/"
        },
        "id": "azcSqL5ia2Ux",
        "outputId": "886224e0-d117-4cbb-ed5d-92f35c32e329"
      },
      "execution_count": 22,
      "outputs": [
        {
          "output_type": "execute_result",
          "data": {
            "text/plain": [
              "<tf.Variable 'UnreadVariable' shape=(3, 1) dtype=float32, numpy=\n",
              "array([[4.],\n",
              "       [2.],\n",
              "       [2.]], dtype=float32)>"
            ]
          },
          "metadata": {},
          "execution_count": 22
        }
      ]
    },
    {
      "cell_type": "code",
      "source": [
        "v.assign_sub(tf.ones((3,1)))"
      ],
      "metadata": {
        "colab": {
          "base_uri": "https://localhost:8080/"
        },
        "id": "paIg2Mk4bA2D",
        "outputId": "57893a6b-b8ba-45f5-995d-00a61f3ea18d"
      },
      "execution_count": 23,
      "outputs": [
        {
          "output_type": "execute_result",
          "data": {
            "text/plain": [
              "<tf.Variable 'UnreadVariable' shape=(3, 1) dtype=float32, numpy=\n",
              "array([[3.],\n",
              "       [1.],\n",
              "       [1.]], dtype=float32)>"
            ]
          },
          "metadata": {},
          "execution_count": 23
        }
      ]
    },
    {
      "cell_type": "markdown",
      "source": [
        "# Tensorflow'da matematiksel işlemler: tensor operasyonları"
      ],
      "metadata": {
        "id": "NtshuAFJbGvo"
      }
    },
    {
      "cell_type": "code",
      "source": [
        "a = tf.ones((2,2)) #2x2 birler matrisi\n",
        "print(a)\n",
        "b = tf.square(a) # her bir elemanın karesi\n",
        "print(b)\n",
        "c = tf.sqrt(a) # her bir elemanın karekökü\n",
        "print(c)\n",
        "d = b + c\n",
        "print(d)\n",
        "e = tf.matmul(a,b) # matris çarpımı\n",
        "print(e)\n",
        "e *= d\n",
        "print(e)"
      ],
      "metadata": {
        "colab": {
          "base_uri": "https://localhost:8080/"
        },
        "id": "4CiAO_ddbD_P",
        "outputId": "2f6850ca-e6aa-4fb6-a4b8-f4dff12b7679"
      },
      "execution_count": 25,
      "outputs": [
        {
          "output_type": "stream",
          "name": "stdout",
          "text": [
            "tf.Tensor(\n",
            "[[1. 1.]\n",
            " [1. 1.]], shape=(2, 2), dtype=float32)\n",
            "tf.Tensor(\n",
            "[[1. 1.]\n",
            " [1. 1.]], shape=(2, 2), dtype=float32)\n",
            "tf.Tensor(\n",
            "[[1. 1.]\n",
            " [1. 1.]], shape=(2, 2), dtype=float32)\n",
            "tf.Tensor(\n",
            "[[2. 2.]\n",
            " [2. 2.]], shape=(2, 2), dtype=float32)\n",
            "tf.Tensor(\n",
            "[[2. 2.]\n",
            " [2. 2.]], shape=(2, 2), dtype=float32)\n",
            "tf.Tensor(\n",
            "[[4. 4.]\n",
            " [4. 4.]], shape=(2, 2), dtype=float32)\n"
          ]
        }
      ]
    },
    {
      "cell_type": "markdown",
      "source": [
        "# gradienttape"
      ],
      "metadata": {
        "id": "_DMyhSzSbj2z"
      }
    },
    {
      "cell_type": "code",
      "source": [
        "input_var = tf.Variable(initial_value=3.) # 3 değeri ile başladık\n",
        "# sonuna nokta koymamızın sebebi veri tipi olarak float istememiz\n",
        "with tf.GradientTape() as tape:\n",
        "    result = tf.square(input_var) # 3'ün karesini aldık = 9\n",
        "gradient = tape.gradient(result, input_var) # 9 ile 3 arasındaki fark = 6\n",
        "print(gradient)"
      ],
      "metadata": {
        "colab": {
          "base_uri": "https://localhost:8080/"
        },
        "id": "SWS9YwWhbMr9",
        "outputId": "cf525760-526d-48af-db0a-06c955a7fece"
      },
      "execution_count": 32,
      "outputs": [
        {
          "output_type": "stream",
          "name": "stdout",
          "text": [
            "tf.Tensor(6.0, shape=(), dtype=float32)\n"
          ]
        }
      ]
    },
    {
      "cell_type": "code",
      "source": [
        "# variable gibi değişebilen bir yapı ile değil de constant gibi değişmez\n",
        "# bir yapı ile çalışalım\n",
        "\n",
        "input_const = tf.constant(3.)\n",
        "with tf.GradientTape() as tape:\n",
        "    tape.watch(input_const)\n",
        "    result = tf.square(input_const)\n",
        "gradient = tape.gradient(result, input_const)\n",
        "print(gradient)\n",
        "\n",
        "# yine aynı sonucu veriyor\n",
        "# fakat constant yapılarda tape.watch() ile izlemek gerekir.\n",
        "# her veriyi tek tek izlemek yerine, bizim söylediğimizi izledi."
      ],
      "metadata": {
        "colab": {
          "base_uri": "https://localhost:8080/"
        },
        "id": "03jkDQoWbtNk",
        "outputId": "c850c901-6f3a-4788-ecc4-93782b502f54"
      },
      "execution_count": 31,
      "outputs": [
        {
          "output_type": "stream",
          "name": "stdout",
          "text": [
            "tf.Tensor(6.0, shape=(), dtype=float32)\n"
          ]
        }
      ]
    },
    {
      "cell_type": "code",
      "source": [
        "# ikinci dereceden türev\n",
        "\n",
        "time = tf.Variable(0.)\n",
        "with tf.GradientTape() as outer_tape:\n",
        "    with tf.GradientTape() as tape:\n",
        "        position = 4.9 * time ** 2\n",
        "    speed = tape.gradient(position, time)\n",
        "acceleration = outer_tape.gradient(speed, time)\n",
        "\n",
        "print(speed)\n",
        "print(acceleration)\n",
        "\n",
        "# burada olan şey şu yolun formülü 4.9 * t ^ 2\n",
        "# bunun türevi bize hızı verecek = 9.8 * t | t = 0 alırsak da hız = 0\n",
        "# hızın türevi ivmeyi verir = 9.8 | t'ye bağlı olmadığı, sabit olduğu için 9.8\n",
        "\n"
      ],
      "metadata": {
        "colab": {
          "base_uri": "https://localhost:8080/"
        },
        "id": "GWZX11KVcEHX",
        "outputId": "7c4a1e21-b8f2-4f84-d1ae-43a638010815"
      },
      "execution_count": 36,
      "outputs": [
        {
          "output_type": "stream",
          "name": "stdout",
          "text": [
            "tf.Tensor(0.0, shape=(), dtype=float32)\n",
            "tf.Tensor(9.8, shape=(), dtype=float32)\n"
          ]
        }
      ]
    },
    {
      "cell_type": "markdown",
      "source": [
        "# lineer sınıflandırıcı yazmak"
      ],
      "metadata": {
        "id": "uXMhMfdSeHfk"
      }
    },
    {
      "cell_type": "code",
      "source": [],
      "metadata": {
        "id": "eaizyy7AcvVN"
      },
      "execution_count": null,
      "outputs": []
    }
  ]
}