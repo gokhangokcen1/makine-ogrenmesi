{
  "nbformat": 4,
  "nbformat_minor": 0,
  "metadata": {
    "colab": {
      "provenance": [],
      "toc_visible": true,
      "gpuType": "T4"
    },
    "kernelspec": {
      "name": "python3",
      "display_name": "Python 3"
    },
    "language_info": {
      "name": "python"
    },
    "accelerator": "GPU"
  },
  "cells": [
    {
      "cell_type": "markdown",
      "source": [
        "# 1) Film yorumlarını sınıflandırmak : binary (ikili) sınıflandırma\n",
        "\n",
        "Film yorumlarını iki sınıf üzerinden (pozitif - negatif) sınıflandıracağız."
      ],
      "metadata": {
        "id": "tVIVm0jxmORC"
      }
    },
    {
      "cell_type": "code",
      "execution_count": 1,
      "metadata": {
        "colab": {
          "base_uri": "https://localhost:8080/"
        },
        "id": "G7SoPfdrl1VU",
        "outputId": "b7c3d7ea-bb00-43f9-dae2-cd02ebda2fdc"
      },
      "outputs": [
        {
          "output_type": "stream",
          "name": "stdout",
          "text": [
            "Downloading data from https://storage.googleapis.com/tensorflow/tf-keras-datasets/imdb.npz\n",
            "\u001b[1m17464789/17464789\u001b[0m \u001b[32m━━━━━━━━━━━━━━━━━━━━\u001b[0m\u001b[37m\u001b[0m \u001b[1m0s\u001b[0m 0us/step\n"
          ]
        }
      ],
      "source": [
        "# The IMDB dataset\n",
        "from tensorflow.keras.datasets import imdb\n",
        "(train_data, train_labels), (test_data, test_labels) = imdb.load_data(num_words=10000)\n",
        "# num words, en sık geçen 10000 kelimeyi içeren verileri yükler."
      ]
    },
    {
      "cell_type": "code",
      "source": [
        "train_data[0]\n",
        "# kelimeler yerine sayılar görüyoruz.\n",
        "# veri setinde her kelimenin bir sayı karşılığı var\n",
        "# bu sayısal da o kelimelerin indislerini veriyor."
      ],
      "metadata": {
        "colab": {
          "base_uri": "https://localhost:8080/"
        },
        "id": "UXI2qbgVnAsp",
        "outputId": "d56ca1a2-271c-45ce-c68e-075e0ef9cb45"
      },
      "execution_count": null,
      "outputs": [
        {
          "output_type": "execute_result",
          "data": {
            "text/plain": [
              "[1,\n",
              " 14,\n",
              " 22,\n",
              " 16,\n",
              " 43,\n",
              " 530,\n",
              " 973,\n",
              " 1622,\n",
              " 1385,\n",
              " 65,\n",
              " 458,\n",
              " 4468,\n",
              " 66,\n",
              " 3941,\n",
              " 4,\n",
              " 173,\n",
              " 36,\n",
              " 256,\n",
              " 5,\n",
              " 25,\n",
              " 100,\n",
              " 43,\n",
              " 838,\n",
              " 112,\n",
              " 50,\n",
              " 670,\n",
              " 2,\n",
              " 9,\n",
              " 35,\n",
              " 480,\n",
              " 284,\n",
              " 5,\n",
              " 150,\n",
              " 4,\n",
              " 172,\n",
              " 112,\n",
              " 167,\n",
              " 2,\n",
              " 336,\n",
              " 385,\n",
              " 39,\n",
              " 4,\n",
              " 172,\n",
              " 4536,\n",
              " 1111,\n",
              " 17,\n",
              " 546,\n",
              " 38,\n",
              " 13,\n",
              " 447,\n",
              " 4,\n",
              " 192,\n",
              " 50,\n",
              " 16,\n",
              " 6,\n",
              " 147,\n",
              " 2025,\n",
              " 19,\n",
              " 14,\n",
              " 22,\n",
              " 4,\n",
              " 1920,\n",
              " 4613,\n",
              " 469,\n",
              " 4,\n",
              " 22,\n",
              " 71,\n",
              " 87,\n",
              " 12,\n",
              " 16,\n",
              " 43,\n",
              " 530,\n",
              " 38,\n",
              " 76,\n",
              " 15,\n",
              " 13,\n",
              " 1247,\n",
              " 4,\n",
              " 22,\n",
              " 17,\n",
              " 515,\n",
              " 17,\n",
              " 12,\n",
              " 16,\n",
              " 626,\n",
              " 18,\n",
              " 2,\n",
              " 5,\n",
              " 62,\n",
              " 386,\n",
              " 12,\n",
              " 8,\n",
              " 316,\n",
              " 8,\n",
              " 106,\n",
              " 5,\n",
              " 4,\n",
              " 2223,\n",
              " 5244,\n",
              " 16,\n",
              " 480,\n",
              " 66,\n",
              " 3785,\n",
              " 33,\n",
              " 4,\n",
              " 130,\n",
              " 12,\n",
              " 16,\n",
              " 38,\n",
              " 619,\n",
              " 5,\n",
              " 25,\n",
              " 124,\n",
              " 51,\n",
              " 36,\n",
              " 135,\n",
              " 48,\n",
              " 25,\n",
              " 1415,\n",
              " 33,\n",
              " 6,\n",
              " 22,\n",
              " 12,\n",
              " 215,\n",
              " 28,\n",
              " 77,\n",
              " 52,\n",
              " 5,\n",
              " 14,\n",
              " 407,\n",
              " 16,\n",
              " 82,\n",
              " 2,\n",
              " 8,\n",
              " 4,\n",
              " 107,\n",
              " 117,\n",
              " 5952,\n",
              " 15,\n",
              " 256,\n",
              " 4,\n",
              " 2,\n",
              " 7,\n",
              " 3766,\n",
              " 5,\n",
              " 723,\n",
              " 36,\n",
              " 71,\n",
              " 43,\n",
              " 530,\n",
              " 476,\n",
              " 26,\n",
              " 400,\n",
              " 317,\n",
              " 46,\n",
              " 7,\n",
              " 4,\n",
              " 2,\n",
              " 1029,\n",
              " 13,\n",
              " 104,\n",
              " 88,\n",
              " 4,\n",
              " 381,\n",
              " 15,\n",
              " 297,\n",
              " 98,\n",
              " 32,\n",
              " 2071,\n",
              " 56,\n",
              " 26,\n",
              " 141,\n",
              " 6,\n",
              " 194,\n",
              " 7486,\n",
              " 18,\n",
              " 4,\n",
              " 226,\n",
              " 22,\n",
              " 21,\n",
              " 134,\n",
              " 476,\n",
              " 26,\n",
              " 480,\n",
              " 5,\n",
              " 144,\n",
              " 30,\n",
              " 5535,\n",
              " 18,\n",
              " 51,\n",
              " 36,\n",
              " 28,\n",
              " 224,\n",
              " 92,\n",
              " 25,\n",
              " 104,\n",
              " 4,\n",
              " 226,\n",
              " 65,\n",
              " 16,\n",
              " 38,\n",
              " 1334,\n",
              " 88,\n",
              " 12,\n",
              " 16,\n",
              " 283,\n",
              " 5,\n",
              " 16,\n",
              " 4472,\n",
              " 113,\n",
              " 103,\n",
              " 32,\n",
              " 15,\n",
              " 16,\n",
              " 5345,\n",
              " 19,\n",
              " 178,\n",
              " 32]"
            ]
          },
          "metadata": {},
          "execution_count": 3
        }
      ]
    },
    {
      "cell_type": "code",
      "source": [
        "train_labels[0]\n",
        "# negatif: 0 - pozitif: 1\n",
        "# eğitim veri setindeki ilk yorum pozitifmiş"
      ],
      "metadata": {
        "colab": {
          "base_uri": "https://localhost:8080/"
        },
        "id": "sF2Ev_k0nE_W",
        "outputId": "4af3735d-950d-4631-ebe9-2947213d803b"
      },
      "execution_count": null,
      "outputs": [
        {
          "output_type": "execute_result",
          "data": {
            "text/plain": [
              "np.int64(1)"
            ]
          },
          "metadata": {},
          "execution_count": 5
        }
      ]
    },
    {
      "cell_type": "code",
      "source": [
        "# 10000 kelime ile kendimi sınırlamıştık\n",
        "max([max(sequence) for sequence in train_data])\n"
      ],
      "metadata": {
        "colab": {
          "base_uri": "https://localhost:8080/"
        },
        "id": "jWyQVd96nZs4",
        "outputId": "a50f97c0-2e5f-41de-e46b-dc35286d2741"
      },
      "execution_count": null,
      "outputs": [
        {
          "output_type": "execute_result",
          "data": {
            "text/plain": [
              "9999"
            ]
          },
          "metadata": {},
          "execution_count": 6
        }
      ]
    },
    {
      "cell_type": "code",
      "source": [
        "# sayıları tekrardan kelimelere dönüştürme\n",
        "\n",
        "word_index = imdb.get_word_index()\n",
        "reverse_word_index = dict([(value, key) for (key, value) in word_index.items()])\n",
        "decoded_review = ' '.join(\n",
        "    [reverse_word_index.get(i - 3, '?') for i in train_data[0]])\n",
        "# ilk 3 indisi (0: padding, 1: start of sequence, 2: unknown) veri seti kendi aldığı için\n",
        "# her sayının indisinden 3 çıkarıyoruz"
      ],
      "metadata": {
        "id": "xdY5hYF0oEVK"
      },
      "execution_count": null,
      "outputs": []
    },
    {
      "cell_type": "code",
      "source": [
        "word_index[\"the\"]"
      ],
      "metadata": {
        "colab": {
          "base_uri": "https://localhost:8080/"
        },
        "id": "OjfQyBmwoSX3",
        "outputId": "5e268ee6-a4fb-4036-a9c5-a1c05ba51bd3"
      },
      "execution_count": null,
      "outputs": [
        {
          "output_type": "execute_result",
          "data": {
            "text/plain": [
              "1"
            ]
          },
          "metadata": {},
          "execution_count": 10
        }
      ]
    },
    {
      "cell_type": "code",
      "source": [
        "# ilk örnekteki ikinci sayımız 14'tü fakat bundan üç çıkarmamız gerekiyor\n",
        "reverse_word_index[14-3]"
      ],
      "metadata": {
        "colab": {
          "base_uri": "https://localhost:8080/",
          "height": 35
        },
        "id": "u2tuj1H4pV-K",
        "outputId": "79e63cfd-ee09-4d8b-c09e-2e82b66e3f46"
      },
      "execution_count": null,
      "outputs": [
        {
          "output_type": "execute_result",
          "data": {
            "text/plain": [
              "'this'"
            ],
            "application/vnd.google.colaboratory.intrinsic+json": {
              "type": "string"
            }
          },
          "metadata": {},
          "execution_count": 14
        }
      ]
    },
    {
      "cell_type": "markdown",
      "source": [
        "Girişteki tensorumuzun sabit uzunlukta olmasını istiyoruz. Çünkü bazı yorumlar 10 farklı kelimeden oluşuyor, bazıları 100 farklı kelimeden oluşuyor. Bunların boyutlarının aynı olmasını istiyoruz. Bunu da `multi-hot encoding` ile yapıyoruz.\n",
        "\n",
        "Elimizde 10000 farklı kelime var toplamda. Tensorların boyutu 10000 olacak.\n",
        "* Bu 10.000 kelimedeki kelimelerden hangileri bizim yorumumuzda varsa onların indisleri 1 olarak işaretlenecek, olmayanlar 0 olarak işaretlenecek.\n",
        "\n",
        "Böylelikle 100 farklı kelime olan yorumun tensorunda 100 adet 1, 10.000-100 kadar da sıfır olacak.\n",
        "\n",
        "Benzer şekilde 10 farklı kelime olan yorumun tensorunde 10 adet 1, 10.000 - 10 adet sıfır bulunacak.\n",
        "\n",
        "Böylelikle tensorların boyutları eşitlendi"
      ],
      "metadata": {
        "id": "FE6vJyMusJXJ"
      }
    },
    {
      "cell_type": "code",
      "source": [
        "import numpy as np\n",
        "def vectorize_sequences(sequences, dimension=10000):\n",
        "    results = np.zeros((len(sequences), dimension))  # len(sequences) : toplam yorum sayısı\n",
        "    for i, sequence in enumerate(sequences):\n",
        "        results[i, sequence] = 1.\n",
        "    return results\n",
        "\n",
        "x_train = vectorize_sequences(train_data)\n",
        "x_test = vectorize_sequences(test_data)"
      ],
      "metadata": {
        "id": "rcL-ApUcpp-9"
      },
      "execution_count": null,
      "outputs": []
    },
    {
      "cell_type": "markdown",
      "source": [
        "Yukarıdaki kodda for döngüsünde tüm yorumlar teker teker geziliyor. i, bizim yorum indeksimiz\n",
        "\n",
        "i = 0 için\n",
        "* 1. yorumdaki kelimelerin indeksleri [1,14,20] alınıyor\n",
        "* result[0, 1],result[0,14], result[1,20] 1 yapılıyor\n",
        "böylelikle ilk yorum için 3 adet bir oluşturuldu diğerleri sıfır"
      ],
      "metadata": {
        "id": "lMB8kQIHt75y"
      }
    },
    {
      "cell_type": "code",
      "source": [
        "x_train[0]"
      ],
      "metadata": {
        "colab": {
          "base_uri": "https://localhost:8080/"
        },
        "id": "3xUILwSArVi0",
        "outputId": "50e06278-123f-45d2-c5d5-5b80d211e6f3"
      },
      "execution_count": null,
      "outputs": [
        {
          "output_type": "execute_result",
          "data": {
            "text/plain": [
              "array([0., 1., 1., ..., 0., 0., 0.])"
            ]
          },
          "metadata": {},
          "execution_count": 17
        }
      ]
    },
    {
      "cell_type": "code",
      "source": [
        "# aynı şekilde etiketlerimizi de vektörize etmemiz gerekiyor\n",
        "y_train = np.asarray(train_labels).astype(\"float32\")\n",
        "y_test = np.asarray(test_labels).astype(\"float32\")"
      ],
      "metadata": {
        "id": "eG09ZYSFuUvM"
      },
      "execution_count": null,
      "outputs": []
    },
    {
      "cell_type": "markdown",
      "source": [
        "## Modeli inşa etmek\n",
        "Artık giriş verilerimizi sinir ağına girebilecek şekilde vektörize ettik. Girişlerimiz vektör, etiketlerimiz ise skalar (0-1).\n",
        "\n",
        "Bu problem için dense katmanı ve relu aktivasyon fonksiyonu kullanacağız.\n",
        "\n",
        "Dense için karar vermemiz gereken 2 şey var. Bunlar:\n",
        "- kaç katman (layer) kullanacağız\n",
        "- her katmanda kaç tane unit kullanacağız\n",
        "\n",
        "\n",
        "Bunun detayları 5. bölümde\n",
        "\n",
        "Şimdilik biz 2 adet 16 unit'lik katman kullanacağız.\n",
        "\n",
        "üçüncü ve son katman ise bizim çıkış katmanımız olacak ve bize pozitif (1) ya da negatif (0) sonucunu verecek\n"
      ],
      "metadata": {
        "id": "9rH8Uix1uw7r"
      }
    },
    {
      "cell_type": "code",
      "source": [
        "# klasik model formatı\n",
        "\n",
        "from tensorflow import keras\n",
        "from tensorflow.keras import layers\n",
        "\n",
        "model = keras.Sequential([\n",
        "    layers.Dense(16, activation=\"relu\"),\n",
        "    layers.Dense(16, activation=\"relu\"),\n",
        "    layers.Dense(1, activation=\"sigmoid\")\n",
        "])\n",
        "\n",
        "# 16 unit olması, 16 adet ağırlık (w) olması anlamına geliyor.\n",
        "# w_shape = (input_dimension, 16)"
      ],
      "metadata": {
        "id": "FVilg89OufpM"
      },
      "execution_count": null,
      "outputs": []
    },
    {
      "cell_type": "markdown",
      "source": [
        "Modelimizi oluşturduk, bir sonraki adım ise loss fonksiyonu ve optimizer seçmek.\n",
        "\n",
        "Binary classification yaptığımız için en uygun olan\n",
        "- loss fonksiyonu: `binary_crossentropy` ya da `mean_squared_error`. Fakat crossentropy çok daha iyi.\n",
        "- optimizer için ise `rmsprop`\n",
        "\n",
        "\n",
        "metric olarak ise doğruluğu `accuracy` alıyoruz."
      ],
      "metadata": {
        "id": "nq8zuh7HwDAk"
      }
    },
    {
      "cell_type": "code",
      "source": [
        "model.compile(optimizer=\"rmsprop\",\n",
        "              loss=\"binary_crossentropy\",\n",
        "              metrics=[\"accuracy\"])"
      ],
      "metadata": {
        "id": "FM6a8BVrunJC"
      },
      "execution_count": null,
      "outputs": []
    },
    {
      "cell_type": "markdown",
      "source": [
        "## Validation verilerinin hazırlanması"
      ],
      "metadata": {
        "id": "gdgPNiuswu_d"
      }
    },
    {
      "cell_type": "code",
      "source": [
        "print(x_train.shape)\n",
        "\n",
        "x_val = x_train[:10000]\n",
        "print(x_train[:10000].shape)\n",
        "\n",
        "partial_x_train = x_train[10000:]\n",
        "print(x_train[10000:].shape)\n",
        "\n",
        "y_val = y_train[:10000]\n",
        "partial_y_train = y_train[10000:]"
      ],
      "metadata": {
        "colab": {
          "base_uri": "https://localhost:8080/"
        },
        "id": "p_RsctPKwstg",
        "outputId": "e199e488-05bc-40cb-a882-5713eb8d1367"
      },
      "execution_count": null,
      "outputs": [
        {
          "output_type": "stream",
          "name": "stdout",
          "text": [
            "(25000, 10000)\n",
            "(10000, 10000)\n",
            "(15000, 10000)\n"
          ]
        }
      ]
    },
    {
      "cell_type": "code",
      "source": [
        "# eğitimde 20 epochs kullanacağız. toplamda 20 kez eğitim olacak,\n",
        "# her bir eğitimde ise batch_size olarak 512 kullanacağız\n",
        "# 20 * 512 = 10240\n",
        "\n",
        "history = model.fit(partial_x_train,\n",
        "                    partial_y_train,\n",
        "                    epochs=20,\n",
        "                    batch_size=512,\n",
        "                    validation_data=(x_val, y_val))"
      ],
      "metadata": {
        "colab": {
          "base_uri": "https://localhost:8080/"
        },
        "id": "PWH5DRGww5m4",
        "outputId": "71c10e29-5a09-4328-d9e8-4f9846536390"
      },
      "execution_count": null,
      "outputs": [
        {
          "output_type": "stream",
          "name": "stdout",
          "text": [
            "Epoch 1/20\n",
            "\u001b[1m30/30\u001b[0m \u001b[32m━━━━━━━━━━━━━━━━━━━━\u001b[0m\u001b[37m\u001b[0m \u001b[1m5s\u001b[0m 113ms/step - accuracy: 0.6857 - loss: 0.5982 - val_accuracy: 0.8691 - val_loss: 0.3790\n",
            "Epoch 2/20\n",
            "\u001b[1m30/30\u001b[0m \u001b[32m━━━━━━━━━━━━━━━━━━━━\u001b[0m\u001b[37m\u001b[0m \u001b[1m2s\u001b[0m 49ms/step - accuracy: 0.8941 - loss: 0.3274 - val_accuracy: 0.8490 - val_loss: 0.3483\n",
            "Epoch 3/20\n",
            "\u001b[1m30/30\u001b[0m \u001b[32m━━━━━━━━━━━━━━━━━━━━\u001b[0m\u001b[37m\u001b[0m \u001b[1m1s\u001b[0m 48ms/step - accuracy: 0.9176 - loss: 0.2446 - val_accuracy: 0.8891 - val_loss: 0.2788\n",
            "Epoch 4/20\n",
            "\u001b[1m30/30\u001b[0m \u001b[32m━━━━━━━━━━━━━━━━━━━━\u001b[0m\u001b[37m\u001b[0m \u001b[1m1s\u001b[0m 47ms/step - accuracy: 0.9415 - loss: 0.1865 - val_accuracy: 0.8736 - val_loss: 0.3132\n",
            "Epoch 5/20\n",
            "\u001b[1m30/30\u001b[0m \u001b[32m━━━━━━━━━━━━━━━━━━━━\u001b[0m\u001b[37m\u001b[0m \u001b[1m3s\u001b[0m 86ms/step - accuracy: 0.9459 - loss: 0.1600 - val_accuracy: 0.8855 - val_loss: 0.2802\n",
            "Epoch 6/20\n",
            "\u001b[1m30/30\u001b[0m \u001b[32m━━━━━━━━━━━━━━━━━━━━\u001b[0m\u001b[37m\u001b[0m \u001b[1m2s\u001b[0m 65ms/step - accuracy: 0.9602 - loss: 0.1297 - val_accuracy: 0.8803 - val_loss: 0.3091\n",
            "Epoch 7/20\n",
            "\u001b[1m30/30\u001b[0m \u001b[32m━━━━━━━━━━━━━━━━━━━━\u001b[0m\u001b[37m\u001b[0m \u001b[1m2s\u001b[0m 56ms/step - accuracy: 0.9665 - loss: 0.1140 - val_accuracy: 0.8832 - val_loss: 0.3098\n",
            "Epoch 8/20\n",
            "\u001b[1m30/30\u001b[0m \u001b[32m━━━━━━━━━━━━━━━━━━━━\u001b[0m\u001b[37m\u001b[0m \u001b[1m2s\u001b[0m 54ms/step - accuracy: 0.9729 - loss: 0.0990 - val_accuracy: 0.8799 - val_loss: 0.3307\n",
            "Epoch 9/20\n",
            "\u001b[1m30/30\u001b[0m \u001b[32m━━━━━━━━━━━━━━━━━━━━\u001b[0m\u001b[37m\u001b[0m \u001b[1m1s\u001b[0m 47ms/step - accuracy: 0.9784 - loss: 0.0820 - val_accuracy: 0.8791 - val_loss: 0.3316\n",
            "Epoch 10/20\n",
            "\u001b[1m30/30\u001b[0m \u001b[32m━━━━━━━━━━━━━━━━━━━━\u001b[0m\u001b[37m\u001b[0m \u001b[1m2s\u001b[0m 45ms/step - accuracy: 0.9816 - loss: 0.0699 - val_accuracy: 0.8774 - val_loss: 0.3498\n",
            "Epoch 11/20\n",
            "\u001b[1m30/30\u001b[0m \u001b[32m━━━━━━━━━━━━━━━━━━━━\u001b[0m\u001b[37m\u001b[0m \u001b[1m4s\u001b[0m 93ms/step - accuracy: 0.9846 - loss: 0.0605 - val_accuracy: 0.8812 - val_loss: 0.3672\n",
            "Epoch 12/20\n",
            "\u001b[1m30/30\u001b[0m \u001b[32m━━━━━━━━━━━━━━━━━━━━\u001b[0m\u001b[37m\u001b[0m \u001b[1m4s\u001b[0m 55ms/step - accuracy: 0.9899 - loss: 0.0489 - val_accuracy: 0.8783 - val_loss: 0.3822\n",
            "Epoch 13/20\n",
            "\u001b[1m30/30\u001b[0m \u001b[32m━━━━━━━━━━━━━━━━━━━━\u001b[0m\u001b[37m\u001b[0m \u001b[1m3s\u001b[0m 54ms/step - accuracy: 0.9923 - loss: 0.0408 - val_accuracy: 0.8693 - val_loss: 0.4535\n",
            "Epoch 14/20\n",
            "\u001b[1m30/30\u001b[0m \u001b[32m━━━━━━━━━━━━━━━━━━━━\u001b[0m\u001b[37m\u001b[0m \u001b[1m2s\u001b[0m 46ms/step - accuracy: 0.9932 - loss: 0.0357 - val_accuracy: 0.8761 - val_loss: 0.4251\n",
            "Epoch 15/20\n",
            "\u001b[1m30/30\u001b[0m \u001b[32m━━━━━━━━━━━━━━━━━━━━\u001b[0m\u001b[37m\u001b[0m \u001b[1m3s\u001b[0m 72ms/step - accuracy: 0.9956 - loss: 0.0274 - val_accuracy: 0.8739 - val_loss: 0.4513\n",
            "Epoch 16/20\n",
            "\u001b[1m30/30\u001b[0m \u001b[32m━━━━━━━━━━━━━━━━━━━━\u001b[0m\u001b[37m\u001b[0m \u001b[1m2s\u001b[0m 53ms/step - accuracy: 0.9980 - loss: 0.0216 - val_accuracy: 0.8697 - val_loss: 0.5004\n",
            "Epoch 17/20\n",
            "\u001b[1m30/30\u001b[0m \u001b[32m━━━━━━━━━━━━━━━━━━━━\u001b[0m\u001b[37m\u001b[0m \u001b[1m2s\u001b[0m 45ms/step - accuracy: 0.9973 - loss: 0.0213 - val_accuracy: 0.8737 - val_loss: 0.4954\n",
            "Epoch 18/20\n",
            "\u001b[1m30/30\u001b[0m \u001b[32m━━━━━━━━━━━━━━━━━━━━\u001b[0m\u001b[37m\u001b[0m \u001b[1m2s\u001b[0m 56ms/step - accuracy: 0.9984 - loss: 0.0162 - val_accuracy: 0.8723 - val_loss: 0.5217\n",
            "Epoch 19/20\n",
            "\u001b[1m30/30\u001b[0m \u001b[32m━━━━━━━━━━━━━━━━━━━━\u001b[0m\u001b[37m\u001b[0m \u001b[1m2s\u001b[0m 56ms/step - accuracy: 0.9978 - loss: 0.0155 - val_accuracy: 0.8705 - val_loss: 0.5459\n",
            "Epoch 20/20\n",
            "\u001b[1m30/30\u001b[0m \u001b[32m━━━━━━━━━━━━━━━━━━━━\u001b[0m\u001b[37m\u001b[0m \u001b[1m1s\u001b[0m 48ms/step - accuracy: 0.9977 - loss: 0.0147 - val_accuracy: 0.8709 - val_loss: 0.5602\n"
          ]
        }
      ]
    },
    {
      "cell_type": "code",
      "source": [
        "history_dict = history.history # eğitim geçmişini tutmak\n",
        "history_dict.keys() # history dict olarak kaydedildiğin için anahtar:değer (key:value) olarak çalışıyor. hangi anahtarlar var?\n"
      ],
      "metadata": {
        "colab": {
          "base_uri": "https://localhost:8080/"
        },
        "id": "8Nlf8Pb9xh9x",
        "outputId": "4be518ba-3cfa-410a-cdc5-15b2a6d43f4c"
      },
      "execution_count": null,
      "outputs": [
        {
          "output_type": "execute_result",
          "data": {
            "text/plain": [
              "dict_keys(['accuracy', 'loss', 'val_accuracy', 'val_loss'])"
            ]
          },
          "metadata": {},
          "execution_count": 31
        }
      ]
    },
    {
      "cell_type": "code",
      "source": [
        "# eğitim ve geçerleme (validation) kayıplarının (loss) grafiğe dökülmesi\n",
        "\n",
        "import matplotlib.pyplot as plt\n",
        "# history_dict = history.history # yukarıda yapmıştık\n",
        "loss_values = history_dict[\"loss\"]\n",
        "val_loss_values = history_dict[\"val_loss\"]\n",
        "epochs = range(1, len(loss_values) + 1)\n",
        "\n",
        "plt.plot(epochs, loss_values, \"bo\", label=\"Training loss\") # bo: blue dot\n",
        "plt.plot(epochs, val_loss_values, \"b\", label=\"Validation loss\") # b: solid blue line\n",
        "plt.title(\"Training and validation loss\")\n",
        "plt.xlabel(\"Epochs\")\n",
        "plt.ylabel(\"Loss\")\n",
        "plt.legend()\n",
        "plt.show()\n",
        "\n",
        "\n"
      ],
      "metadata": {
        "colab": {
          "base_uri": "https://localhost:8080/",
          "height": 472
        },
        "id": "ct7fzZ8Tx_XF",
        "outputId": "298f1577-4c0d-4ec9-8c48-10cabcde286c"
      },
      "execution_count": null,
      "outputs": [
        {
          "output_type": "display_data",
          "data": {
            "text/plain": [
              "<Figure size 640x480 with 1 Axes>"
            ],
            "image/png": "[encoded data removed]"
          },
          "metadata": {}
        }
      ]
    },
    {
      "cell_type": "code",
      "source": [
        "# eğitim ve geçerleme doğruluğu\n",
        "\n",
        "plt.clf() # figürü temizle\n",
        "\n",
        "acc = history_dict[\"accuracy\"]\n",
        "val_acc = history_dict[\"val_accuracy\"]\n",
        "plt.plot(epochs, acc, \"bo\", label=\"Training acc\")\n",
        "plt.plot(epochs, val_acc, \"b\", label=\"Validation acc\")\n",
        "plt.title(\"Training and validation accuracy\")\n",
        "plt.xlabel(\"Epochs\")\n",
        "plt.ylabel(\"Accuracy\")\n",
        "plt.legend()\n",
        "plt.show()"
      ],
      "metadata": {
        "colab": {
          "base_uri": "https://localhost:8080/",
          "height": 472
        },
        "id": "MO0JNP-0yTQc",
        "outputId": "32580065-950f-4cec-98e0-51dd805b888e"
      },
      "execution_count": null,
      "outputs": [
        {
          "output_type": "display_data",
          "data": {
            "text/plain": [
              "<Figure size 640x480 with 1 Axes>"
            ],
            "image/png": "[encoded data removed]"
          },
          "metadata": {}
        }
      ]
    },
    {
      "cell_type": "markdown",
      "source": [
        "Grafiklere baktığımızda validation ve eğitim arasında çok fazla fark olduğunu görüyoruz. Bu modelin artık eğitim verilerini ezberlediğini, ilk kez gördüğü validation veri setinde ise afalladığını gösteriyor: `OVERFITTING`.\n",
        "\n",
        "\n",
        "Modelin kötüye gittiği nokta olarak epoch'un 4 olduğu noktayı alabiliriz. Bu sebeple epochs=4 alarak modeli tekrardan eğitelim."
      ],
      "metadata": {
        "id": "oPoxFCsA0t7S"
      }
    },
    {
      "cell_type": "code",
      "source": [
        "model = keras.Sequential([\n",
        "    layers.Dense(16, activation=\"relu\"),\n",
        "    layers.Dense(16, activation=\"relu\"),\n",
        "    layers.Dense(1, activation=\"sigmoid\")\n",
        "])\n",
        "\n",
        "model.compile(optimizer=\"rmsprop\",\n",
        "              loss=\"binary_crossentropy\",\n",
        "              metrics=[\"accuracy\"])\n",
        "\n",
        "model.fit(x_train, y_train, epochs=4, batch_size=512)\n",
        "results = model.evaluate(x_test, y_test)"
      ],
      "metadata": {
        "colab": {
          "base_uri": "https://localhost:8080/"
        },
        "id": "-g34WHiOztlD",
        "outputId": "956a31a7-8b3a-4e0e-f565-44c742c9693a"
      },
      "execution_count": null,
      "outputs": [
        {
          "output_type": "stream",
          "name": "stdout",
          "text": [
            "Epoch 1/4\n",
            "\u001b[1m49/49\u001b[0m \u001b[32m━━━━━━━━━━━━━━━━━━━━\u001b[0m\u001b[37m\u001b[0m \u001b[1m3s\u001b[0m 38ms/step - accuracy: 0.6448 - loss: 0.6177\n",
            "Epoch 2/4\n",
            "\u001b[1m49/49\u001b[0m \u001b[32m━━━━━━━━━━━━━━━━━━━━\u001b[0m\u001b[37m\u001b[0m \u001b[1m3s\u001b[0m 37ms/step - accuracy: 0.8891 - loss: 0.3589\n",
            "Epoch 3/4\n",
            "\u001b[1m49/49\u001b[0m \u001b[32m━━━━━━━━━━━━━━━━━━━━\u001b[0m\u001b[37m\u001b[0m \u001b[1m2s\u001b[0m 35ms/step - accuracy: 0.9150 - loss: 0.2523\n",
            "Epoch 4/4\n",
            "\u001b[1m49/49\u001b[0m \u001b[32m━━━━━━━━━━━━━━━━━━━━\u001b[0m\u001b[37m\u001b[0m \u001b[1m3s\u001b[0m 54ms/step - accuracy: 0.9294 - loss: 0.2051\n",
            "\u001b[1m782/782\u001b[0m \u001b[32m━━━━━━━━━━━━━━━━━━━━\u001b[0m\u001b[37m\u001b[0m \u001b[1m3s\u001b[0m 3ms/step - accuracy: 0.8854 - loss: 0.2871\n"
          ]
        }
      ]
    },
    {
      "cell_type": "code",
      "source": [
        "results # loss: 0.29 - acc: 0.89\n",
        "\n",
        "# fakat %89 yeterli değil, %95'e olabildiğince yaklaşmayı isteriz.\n",
        "\n"
      ],
      "metadata": {
        "colab": {
          "base_uri": "https://localhost:8080/"
        },
        "id": "UxF4yauZ1Pb0",
        "outputId": "61bc2802-8bc8-4b77-d742-84f26d92636e"
      },
      "execution_count": null,
      "outputs": [
        {
          "output_type": "execute_result",
          "data": {
            "text/plain": [
              "[0.28588661551475525, 0.8870400190353394]"
            ]
          },
          "metadata": {},
          "execution_count": 42
        }
      ]
    },
    {
      "cell_type": "markdown",
      "source": [
        "## eğitilmiş model ile yeni veriler üzerinde tahminlerde bulunma"
      ],
      "metadata": {
        "id": "iGjUn0KM1w6i"
      }
    },
    {
      "cell_type": "code",
      "source": [
        "model.predict(x_test)"
      ],
      "metadata": {
        "colab": {
          "base_uri": "https://localhost:8080/"
        },
        "id": "WK87DUu31UGw",
        "outputId": "7cd3a7a0-ce46-4bd6-e39a-513e2e125a8b"
      },
      "execution_count": null,
      "outputs": [
        {
          "output_type": "stream",
          "name": "stdout",
          "text": [
            "\u001b[1m782/782\u001b[0m \u001b[32m━━━━━━━━━━━━━━━━━━━━\u001b[0m\u001b[37m\u001b[0m \u001b[1m2s\u001b[0m 2ms/step\n"
          ]
        },
        {
          "output_type": "execute_result",
          "data": {
            "text/plain": [
              "array([[0.21798524],\n",
              "       [0.99993783],\n",
              "       [0.86166596],\n",
              "       ...,\n",
              "       [0.12418988],\n",
              "       [0.10897428],\n",
              "       [0.47421545]], dtype=float32)"
            ]
          },
          "metadata": {},
          "execution_count": 43
        }
      ]
    },
    {
      "cell_type": "markdown",
      "source": [
        "Görüldüğü üzere tahminlerinde 0.99993783 gibi çok yüksek oranda emin olduğu tahminler varken daha az emin olduğu 0.47421545 gibi tahminleri de var.\n",
        "\n",
        "\n"
      ],
      "metadata": {
        "id": "2vA7Dv_r1-85"
      }
    },
    {
      "cell_type": "markdown",
      "source": [
        "# **TODO**:\n",
        "- 2 katman kullandık. Bunu 1 ve 3 katman ile dene\n",
        "- Her katmana daha fazla ya da daha az units ekle: 32, 64...\n",
        "- loss fonksiyon olarak binary_crossentropy yerine mse koy\n",
        "- relu yerine tanh kullan\n",
        "\n",
        "ve loss'un, accuracy'nin nasıl değiştiğine bak (tablo haline getirilebilir)"
      ],
      "metadata": {
        "id": "P-e5GTXmwCKA"
      }
    },
    {
      "cell_type": "markdown",
      "source": [
        "# 2) Haber bültenlerini sınıflandırmak: çok-sınıflı (multiclass) sınıflandırma\n",
        "\n",
        "eğer ki her bir veri yalnızca bir sınıfa ait ise: single-label multiclass classification\n",
        "\n",
        "birden fazla sınıfa/kategoriye aitse multilabel multiclass classification\n"
      ],
      "metadata": {
        "id": "gD2SxHjXnhIQ"
      }
    },
    {
      "cell_type": "code",
      "source": [
        "from tensorflow.keras.datasets import reuters\n",
        "(train_data, train_labels), (test_data, test_labels) = reuters.load_data(num_words=10000)"
      ],
      "metadata": {
        "id": "nCKuoUvn1yEM",
        "colab": {
          "base_uri": "https://localhost:8080/"
        },
        "outputId": "a1d1baba-ac6a-4bef-91d1-11e409175da6"
      },
      "execution_count": 2,
      "outputs": [
        {
          "output_type": "stream",
          "name": "stdout",
          "text": [
            "Downloading data from https://storage.googleapis.com/tensorflow/tf-keras-datasets/reuters.npz\n",
            "\u001b[1m2110848/2110848\u001b[0m \u001b[32m━━━━━━━━━━━━━━━━━━━━\u001b[0m\u001b[37m\u001b[0m \u001b[1m0s\u001b[0m 0us/step\n"
          ]
        }
      ]
    },
    {
      "cell_type": "code",
      "source": [
        "len(train_data)"
      ],
      "metadata": {
        "colab": {
          "base_uri": "https://localhost:8080/"
        },
        "id": "m9NeTtwLoY3x",
        "outputId": "24b48593-3339-4dac-bd79-eb2915fe2e93"
      },
      "execution_count": 3,
      "outputs": [
        {
          "output_type": "execute_result",
          "data": {
            "text/plain": [
              "8982"
            ]
          },
          "metadata": {},
          "execution_count": 3
        }
      ]
    },
    {
      "cell_type": "code",
      "source": [
        "train_labels"
      ],
      "metadata": {
        "colab": {
          "base_uri": "https://localhost:8080/"
        },
        "id": "2lKCkDdxoesJ",
        "outputId": "a3144e82-042c-4cd9-b737-abb79460593c"
      },
      "execution_count": 6,
      "outputs": [
        {
          "output_type": "execute_result",
          "data": {
            "text/plain": [
              "array([ 3,  4,  3, ..., 25,  3, 25])"
            ]
          },
          "metadata": {},
          "execution_count": 6
        }
      ]
    },
    {
      "cell_type": "code",
      "source": [
        "len(test_data)"
      ],
      "metadata": {
        "colab": {
          "base_uri": "https://localhost:8080/"
        },
        "id": "4wloDTC_ocAC",
        "outputId": "bc2ebdf8-555f-4afb-f4f3-2e07a0825e19"
      },
      "execution_count": 4,
      "outputs": [
        {
          "output_type": "execute_result",
          "data": {
            "text/plain": [
              "2246"
            ]
          },
          "metadata": {},
          "execution_count": 4
        }
      ]
    },
    {
      "cell_type": "code",
      "source": [
        "train_data[10] # yine kelimeler belli sayılar ile eşleşmiş."
      ],
      "metadata": {
        "colab": {
          "base_uri": "https://localhost:8080/"
        },
        "id": "5slmaIbJodMb",
        "outputId": "113dbc2c-c372-444b-a5c8-63a8ffef544a"
      },
      "execution_count": 9,
      "outputs": [
        {
          "output_type": "execute_result",
          "data": {
            "text/plain": [
              "[1,\n",
              " 245,\n",
              " 273,\n",
              " 207,\n",
              " 156,\n",
              " 53,\n",
              " 74,\n",
              " 160,\n",
              " 26,\n",
              " 14,\n",
              " 46,\n",
              " 296,\n",
              " 26,\n",
              " 39,\n",
              " 74,\n",
              " 2979,\n",
              " 3554,\n",
              " 14,\n",
              " 46,\n",
              " 4689,\n",
              " 4329,\n",
              " 86,\n",
              " 61,\n",
              " 3499,\n",
              " 4795,\n",
              " 14,\n",
              " 61,\n",
              " 451,\n",
              " 4329,\n",
              " 17,\n",
              " 12]"
            ]
          },
          "metadata": {},
          "execution_count": 9
        }
      ]
    },
    {
      "cell_type": "code",
      "source": [
        "word_index = reuters.get_word_index()\n",
        "reverse_word_index = dict([(value, key) for (key, value) in word_index.items()])\n",
        "decoded_newswire = \" \".join(\n",
        "    [reverse_word_index.get(i - 3, \"?\") for i in train_data[0]]\n",
        ")"
      ],
      "metadata": {
        "colab": {
          "base_uri": "https://localhost:8080/"
        },
        "id": "ZOc0XaTAooBO",
        "outputId": "273c5a11-8ec5-4c16-f18b-06470bfff20f"
      },
      "execution_count": 10,
      "outputs": [
        {
          "output_type": "stream",
          "name": "stdout",
          "text": [
            "Downloading data from https://storage.googleapis.com/tensorflow/tf-keras-datasets/reuters_word_index.json\n",
            "\u001b[1m550378/550378\u001b[0m \u001b[32m━━━━━━━━━━━━━━━━━━━━\u001b[0m\u001b[37m\u001b[0m \u001b[1m0s\u001b[0m 0us/step\n"
          ]
        }
      ]
    },
    {
      "cell_type": "code",
      "source": [
        "train_labels[10] # konular 0 - 45 arasında sayılarla ifade ediliyor"
      ],
      "metadata": {
        "colab": {
          "base_uri": "https://localhost:8080/"
        },
        "id": "NcynjDcAo1hm",
        "outputId": "82891e92-9b80-4974-d5e0-c93c3c40c77e"
      },
      "execution_count": 12,
      "outputs": [
        {
          "output_type": "execute_result",
          "data": {
            "text/plain": [
              "np.int64(3)"
            ]
          },
          "metadata": {},
          "execution_count": 12
        }
      ]
    },
    {
      "cell_type": "markdown",
      "source": [
        "## verinin hazırlanması\n",
        "verileri vektör haline getiriyoruz"
      ],
      "metadata": {
        "id": "kjK2IOeUpY1T"
      }
    },
    {
      "cell_type": "code",
      "source": [
        "import numpy as np\n",
        "def vectorize_sequences(sequences, dimension=10000):\n",
        "    results = np.zeros((len(sequences), dimension))\n",
        "    for i, sequence in enumerate(sequences):\n",
        "        results[i, sequence] = 1.\n",
        "    return results"
      ],
      "metadata": {
        "id": "n3ra5T5Fplnq"
      },
      "execution_count": 14,
      "outputs": []
    },
    {
      "cell_type": "code",
      "source": [
        "x_train = vectorize_sequences(train_data)\n",
        "x_test = vectorize_sequences(test_data)"
      ],
      "metadata": {
        "id": "8uMR7AnRo83Q"
      },
      "execution_count": 16,
      "outputs": []
    },
    {
      "cell_type": "code",
      "source": [
        "# aynı şekilde etiketlerimizi de vektör haline getireceğiz [0,0,0,0,0,0,0,1,0,0,0,0] gibi\n",
        "# burada da yöntem olarak \"one-hot encoding\" kullanılacak\n",
        "\n",
        "def to_one_hot(labels, dimension=46):\n",
        "  results = np.zeros((len(labels), dimension))\n",
        "  for i, label in enumerate(labels):\n",
        "    results[i, label] = 1.\n",
        "  return results\n",
        "\n",
        "y_train = to_one_hot(train_labels)\n",
        "y_test = to_one_hot(test_labels)"
      ],
      "metadata": {
        "id": "6KDtaEbgqII9"
      },
      "execution_count": 18,
      "outputs": []
    },
    {
      "cell_type": "code",
      "source": [
        "# direkt olarak bunu yapan bir fonksiyon keras'ta mevcut\n",
        "\n",
        "# from tensorflow.keras.utils import to_categorical\n",
        "# y_train = to_categorical(train_labels)\n",
        "# y_test = to_categorical(test_labels)"
      ],
      "metadata": {
        "id": "rpwTLN8EphaO"
      },
      "execution_count": 19,
      "outputs": []
    },
    {
      "cell_type": "markdown",
      "source": [
        "## modelin oluşturulması"
      ],
      "metadata": {
        "id": "sQfgu4yUq5Sy"
      }
    },
    {
      "cell_type": "code",
      "source": [
        "from tensorflow import keras\n",
        "from tensorflow.keras import layers\n",
        "\n",
        "model = keras.Sequential([\n",
        "    layers.Dense(64, activation=\"relu\"),\n",
        "    layers.Dense(64, activation=\"relu\"),\n",
        "    layers.Dense(46, activation=\"softmax\")\n",
        "])"
      ],
      "metadata": {
        "id": "6lessSapq4WU"
      },
      "execution_count": 21,
      "outputs": []
    },
    {
      "cell_type": "code",
      "source": [
        "model.compile(optimizer=\"rmsprop\",\n",
        "              loss=\"categorical_crossentropy\",\n",
        "              metrics=[\"accuracy\"])"
      ],
      "metadata": {
        "id": "_S063SAvq_j1"
      },
      "execution_count": 22,
      "outputs": []
    },
    {
      "cell_type": "markdown",
      "source": [
        "## validation veri setinin hazırlanması"
      ],
      "metadata": {
        "id": "l-kpQeg2rRGJ"
      }
    },
    {
      "cell_type": "code",
      "source": [
        "x_val = x_train[:1000]\n",
        "partial_x_train = x_train[1000:]\n",
        "\n",
        "y_val = y_train[:1000]\n",
        "partial_y_train = y_train[1000:]"
      ],
      "metadata": {
        "id": "llJotGvurP5t"
      },
      "execution_count": 23,
      "outputs": []
    },
    {
      "cell_type": "code",
      "source": [
        "history = model.fit(partial_x_train,\n",
        "                    partial_y_train,\n",
        "                    epochs=20,\n",
        "                    batch_size=512,\n",
        "                    validation_data=(x_val, y_val))\n"
      ],
      "metadata": {
        "colab": {
          "base_uri": "https://localhost:8080/"
        },
        "id": "3mBj6GQUrXMy",
        "outputId": "ffb47ae0-9969-4179-cd03-a6ba6d151f73"
      },
      "execution_count": 24,
      "outputs": [
        {
          "output_type": "stream",
          "name": "stdout",
          "text": [
            "Epoch 1/20\n",
            "\u001b[1m16/16\u001b[0m \u001b[32m━━━━━━━━━━━━━━━━━━━━\u001b[0m\u001b[37m\u001b[0m \u001b[1m2s\u001b[0m 74ms/step - accuracy: 0.4335 - loss: 3.0549 - val_accuracy: 0.6180 - val_loss: 1.7451\n",
            "Epoch 2/20\n",
            "\u001b[1m16/16\u001b[0m \u001b[32m━━━━━━━━━━━━━━━━━━━━\u001b[0m\u001b[37m\u001b[0m \u001b[1m1s\u001b[0m 51ms/step - accuracy: 0.6607 - loss: 1.5771 - val_accuracy: 0.6870 - val_loss: 1.3823\n",
            "Epoch 3/20\n",
            "\u001b[1m16/16\u001b[0m \u001b[32m━━━━━━━━━━━━━━━━━━━━\u001b[0m\u001b[37m\u001b[0m \u001b[1m1s\u001b[0m 46ms/step - accuracy: 0.7402 - loss: 1.1990 - val_accuracy: 0.7320 - val_loss: 1.1995\n",
            "Epoch 4/20\n",
            "\u001b[1m16/16\u001b[0m \u001b[32m━━━━━━━━━━━━━━━━━━━━\u001b[0m\u001b[37m\u001b[0m \u001b[1m1s\u001b[0m 47ms/step - accuracy: 0.7794 - loss: 0.9893 - val_accuracy: 0.7630 - val_loss: 1.0969\n",
            "Epoch 5/20\n",
            "\u001b[1m16/16\u001b[0m \u001b[32m━━━━━━━━━━━━━━━━━━━━\u001b[0m\u001b[37m\u001b[0m \u001b[1m1s\u001b[0m 45ms/step - accuracy: 0.8190 - loss: 0.8113 - val_accuracy: 0.7720 - val_loss: 1.0210\n",
            "Epoch 6/20\n",
            "\u001b[1m16/16\u001b[0m \u001b[32m━━━━━━━━━━━━━━━━━━━━\u001b[0m\u001b[37m\u001b[0m \u001b[1m1s\u001b[0m 44ms/step - accuracy: 0.8521 - loss: 0.6764 - val_accuracy: 0.7930 - val_loss: 0.9622\n",
            "Epoch 7/20\n",
            "\u001b[1m16/16\u001b[0m \u001b[32m━━━━━━━━━━━━━━━━━━━━\u001b[0m\u001b[37m\u001b[0m \u001b[1m1s\u001b[0m 48ms/step - accuracy: 0.8826 - loss: 0.5701 - val_accuracy: 0.8060 - val_loss: 0.9083\n",
            "Epoch 8/20\n",
            "\u001b[1m16/16\u001b[0m \u001b[32m━━━━━━━━━━━━━━━━━━━━\u001b[0m\u001b[37m\u001b[0m \u001b[1m2s\u001b[0m 73ms/step - accuracy: 0.9096 - loss: 0.4686 - val_accuracy: 0.8110 - val_loss: 0.8811\n",
            "Epoch 9/20\n",
            "\u001b[1m16/16\u001b[0m \u001b[32m━━━━━━━━━━━━━━━━━━━━\u001b[0m\u001b[37m\u001b[0m \u001b[1m1s\u001b[0m 80ms/step - accuracy: 0.9200 - loss: 0.3854 - val_accuracy: 0.8210 - val_loss: 0.8589\n",
            "Epoch 10/20\n",
            "\u001b[1m16/16\u001b[0m \u001b[32m━━━━━━━━━━━━━━━━━━━━\u001b[0m\u001b[37m\u001b[0m \u001b[1m2s\u001b[0m 47ms/step - accuracy: 0.9341 - loss: 0.3238 - val_accuracy: 0.8100 - val_loss: 0.8806\n",
            "Epoch 11/20\n",
            "\u001b[1m16/16\u001b[0m \u001b[32m━━━━━━━━━━━━━━━━━━━━\u001b[0m\u001b[37m\u001b[0m \u001b[1m1s\u001b[0m 47ms/step - accuracy: 0.9386 - loss: 0.2944 - val_accuracy: 0.8110 - val_loss: 0.8713\n",
            "Epoch 12/20\n",
            "\u001b[1m16/16\u001b[0m \u001b[32m━━━━━━━━━━━━━━━━━━━━\u001b[0m\u001b[37m\u001b[0m \u001b[1m1s\u001b[0m 46ms/step - accuracy: 0.9435 - loss: 0.2502 - val_accuracy: 0.8210 - val_loss: 0.8486\n",
            "Epoch 13/20\n",
            "\u001b[1m16/16\u001b[0m \u001b[32m━━━━━━━━━━━━━━━━━━━━\u001b[0m\u001b[37m\u001b[0m \u001b[1m1s\u001b[0m 47ms/step - accuracy: 0.9504 - loss: 0.2178 - val_accuracy: 0.8180 - val_loss: 0.8615\n",
            "Epoch 14/20\n",
            "\u001b[1m16/16\u001b[0m \u001b[32m━━━━━━━━━━━━━━━━━━━━\u001b[0m\u001b[37m\u001b[0m \u001b[1m1s\u001b[0m 47ms/step - accuracy: 0.9567 - loss: 0.1843 - val_accuracy: 0.8220 - val_loss: 0.8884\n",
            "Epoch 15/20\n",
            "\u001b[1m16/16\u001b[0m \u001b[32m━━━━━━━━━━━━━━━━━━━━\u001b[0m\u001b[37m\u001b[0m \u001b[1m1s\u001b[0m 44ms/step - accuracy: 0.9523 - loss: 0.1784 - val_accuracy: 0.8210 - val_loss: 0.8960\n",
            "Epoch 16/20\n",
            "\u001b[1m16/16\u001b[0m \u001b[32m━━━━━━━━━━━━━━━━━━━━\u001b[0m\u001b[37m\u001b[0m \u001b[1m1s\u001b[0m 47ms/step - accuracy: 0.9555 - loss: 0.1603 - val_accuracy: 0.8080 - val_loss: 0.9356\n",
            "Epoch 17/20\n",
            "\u001b[1m16/16\u001b[0m \u001b[32m━━━━━━━━━━━━━━━━━━━━\u001b[0m\u001b[37m\u001b[0m \u001b[1m1s\u001b[0m 46ms/step - accuracy: 0.9581 - loss: 0.1496 - val_accuracy: 0.8190 - val_loss: 0.9050\n",
            "Epoch 18/20\n",
            "\u001b[1m16/16\u001b[0m \u001b[32m━━━━━━━━━━━━━━━━━━━━\u001b[0m\u001b[37m\u001b[0m \u001b[1m1s\u001b[0m 47ms/step - accuracy: 0.9584 - loss: 0.1462 - val_accuracy: 0.8180 - val_loss: 0.9266\n",
            "Epoch 19/20\n",
            "\u001b[1m16/16\u001b[0m \u001b[32m━━━━━━━━━━━━━━━━━━━━\u001b[0m\u001b[37m\u001b[0m \u001b[1m2s\u001b[0m 84ms/step - accuracy: 0.9605 - loss: 0.1347 - val_accuracy: 0.8210 - val_loss: 0.9404\n",
            "Epoch 20/20\n",
            "\u001b[1m16/16\u001b[0m \u001b[32m━━━━━━━━━━━━━━━━━━━━\u001b[0m\u001b[37m\u001b[0m \u001b[1m1s\u001b[0m 58ms/step - accuracy: 0.9580 - loss: 0.1253 - val_accuracy: 0.8110 - val_loss: 0.9340\n"
          ]
        }
      ]
    },
    {
      "cell_type": "markdown",
      "source": [
        "## grafikler ile sonuçlara bakma"
      ],
      "metadata": {
        "id": "ZPh4KiEorvia"
      }
    },
    {
      "cell_type": "code",
      "source": [
        "import matplotlib.pyplot as plt"
      ],
      "metadata": {
        "id": "QqQNldoRr_bo"
      },
      "execution_count": 27,
      "outputs": []
    },
    {
      "cell_type": "code",
      "source": [
        "# eğitim ve validation loss\n",
        "loss = history.history[\"loss\"]\n",
        "val_loss = history.history[\"val_loss\"]\n",
        "epochs = range(1, len(loss) + 1)\n",
        "\n",
        "plt.plot(epochs, loss, \"bo\", label=\"Training loss\")\n",
        "plt.plot(epochs, val_loss, \"b\", label=\"Validation loss\")\n",
        "plt.title(\"Training and validation loss\")\n",
        "plt.xlabel(\"Epochs\")\n",
        "plt.ylabel(\"Loss\")\n",
        "plt.legend()\n",
        "plt.show()"
      ],
      "metadata": {
        "colab": {
          "base_uri": "https://localhost:8080/",
          "height": 472
        },
        "id": "HZOHQAhWrePY",
        "outputId": "a1bd5c4f-38d9-481a-b96a-9f341c865dc9"
      },
      "execution_count": 28,
      "outputs": [
        {
          "output_type": "display_data",
          "data": {
            "text/plain": [
              "<Figure size 640x480 with 1 Axes>"
            ],
            "image/png": "[encoded data removed]"
          },
          "metadata": {}
        }
      ]
    },
    {
      "cell_type": "code",
      "source": [
        "# eğitim ve validation doğruluğu\n",
        "plt.clf()\n",
        "\n",
        "acc=history.history[\"accuracy\"]\n",
        "val_acc=history.history[\"val_accuracy\"]\n",
        "plt.plot(epochs, acc, \"bo\", label=\"Training acc\")\n",
        "plt.plot(epochs, val_acc, \"b\", label=\"Validation acc\")\n",
        "plt.title(\"Training and validation accuracy\")\n",
        "plt.xlabel(\"Epochs\")\n",
        "plt.ylabel(\"Accuracy\")\n",
        "plt.legend()\n",
        "plt.show()"
      ],
      "metadata": {
        "colab": {
          "base_uri": "https://localhost:8080/",
          "height": 472
        },
        "id": "iUv_8dTur6hK",
        "outputId": "0a38d65b-434a-4289-a3d6-6fc298be9ad5"
      },
      "execution_count": 29,
      "outputs": [
        {
          "output_type": "display_data",
          "data": {
            "text/plain": [
              "<Figure size 640x480 with 1 Axes>"
            ],
            "image/png": "[encoded data removed]"
          },
          "metadata": {}
        }
      ]
    },
    {
      "cell_type": "markdown",
      "source": [
        "Görüyoruz ki 9 epcoh'tan sonra `overfit` oluyor modelimiz. Biz de ona göre epoch'u 9'a sınırlayarak tekrardan yazalım"
      ],
      "metadata": {
        "id": "JZAAxQZ4sNdj"
      }
    },
    {
      "cell_type": "code",
      "source": [
        "model = keras.Sequential([\n",
        "    layers.Dense(64, activation=\"relu\"),\n",
        "    layers.Dense(64, activation=\"relu\"),\n",
        "    layers.Dense(46, activation=\"softmax\")\n",
        "])\n",
        "\n",
        "model.compile(optimizer=\"rmsprop\",\n",
        "              loss=\"categorical_crossentropy\",\n",
        "              metrics=[\"accuracy\"])\n",
        "\n",
        "model.fit(x_train,\n",
        "          y_train,\n",
        "          epochs=9,\n",
        "          batch_size=512)\n"
      ],
      "metadata": {
        "colab": {
          "base_uri": "https://localhost:8080/"
        },
        "id": "fSIRBIgYsHkE",
        "outputId": "64aa06d8-a285-4a8e-b038-134e87c86e45"
      },
      "execution_count": 30,
      "outputs": [
        {
          "output_type": "stream",
          "name": "stdout",
          "text": [
            "Epoch 1/9\n",
            "\u001b[1m18/18\u001b[0m \u001b[32m━━━━━━━━━━━━━━━━━━━━\u001b[0m\u001b[37m\u001b[0m \u001b[1m4s\u001b[0m 130ms/step - accuracy: 0.4220 - loss: 3.0731\n",
            "Epoch 2/9\n",
            "\u001b[1m18/18\u001b[0m \u001b[32m━━━━━━━━━━━━━━━━━━━━\u001b[0m\u001b[37m\u001b[0m \u001b[1m2s\u001b[0m 101ms/step - accuracy: 0.6795 - loss: 1.5240\n",
            "Epoch 3/9\n",
            "\u001b[1m18/18\u001b[0m \u001b[32m━━━━━━━━━━━━━━━━━━━━\u001b[0m\u001b[37m\u001b[0m \u001b[1m2s\u001b[0m 85ms/step - accuracy: 0.7426 - loss: 1.1538\n",
            "Epoch 4/9\n",
            "\u001b[1m18/18\u001b[0m \u001b[32m━━━━━━━━━━━━━━━━━━━━\u001b[0m\u001b[37m\u001b[0m \u001b[1m2s\u001b[0m 53ms/step - accuracy: 0.7968 - loss: 0.9287\n",
            "Epoch 5/9\n",
            "\u001b[1m18/18\u001b[0m \u001b[32m━━━━━━━━━━━━━━━━━━━━\u001b[0m\u001b[37m\u001b[0m \u001b[1m1s\u001b[0m 41ms/step - accuracy: 0.8323 - loss: 0.7668\n",
            "Epoch 6/9\n",
            "\u001b[1m18/18\u001b[0m \u001b[32m━━━━━━━━━━━━━━━━━━━━\u001b[0m\u001b[37m\u001b[0m \u001b[1m1s\u001b[0m 47ms/step - accuracy: 0.8684 - loss: 0.6259\n",
            "Epoch 7/9\n",
            "\u001b[1m18/18\u001b[0m \u001b[32m━━━━━━━━━━━━━━━━━━━━\u001b[0m\u001b[37m\u001b[0m \u001b[1m1s\u001b[0m 48ms/step - accuracy: 0.8971 - loss: 0.4978\n",
            "Epoch 8/9\n",
            "\u001b[1m18/18\u001b[0m \u001b[32m━━━━━━━━━━━━━━━━━━━━\u001b[0m\u001b[37m\u001b[0m \u001b[1m1s\u001b[0m 71ms/step - accuracy: 0.9124 - loss: 0.4192\n",
            "Epoch 9/9\n",
            "\u001b[1m18/18\u001b[0m \u001b[32m━━━━━━━━━━━━━━━━━━━━\u001b[0m\u001b[37m\u001b[0m \u001b[1m2s\u001b[0m 44ms/step - accuracy: 0.9270 - loss: 0.3535\n"
          ]
        },
        {
          "output_type": "execute_result",
          "data": {
            "text/plain": [
              "<keras.src.callbacks.history.History at 0x7ca23547a910>"
            ]
          },
          "metadata": {},
          "execution_count": 30
        }
      ]
    },
    {
      "cell_type": "code",
      "source": [
        "results = model.evaluate(x_test, y_test)\n",
        "# evaluate şöyle çalışıyor\n",
        "# x_test ile y_tahminler üret\n",
        "# bu tahminleri y_test ile karşılaştır\n",
        "# bu değerler üzerinden loss ve accuracy testi yap\n",
        "# metrics farklı seçilirse onun üzerinden test yapar"
      ],
      "metadata": {
        "colab": {
          "base_uri": "https://localhost:8080/"
        },
        "id": "V-EfSAkvss1C",
        "outputId": "59542404-56fe-4536-9f72-8ad25a07f46b"
      },
      "execution_count": 34,
      "outputs": [
        {
          "output_type": "stream",
          "name": "stdout",
          "text": [
            "\u001b[1m71/71\u001b[0m \u001b[32m━━━━━━━━━━━━━━━━━━━━\u001b[0m\u001b[37m\u001b[0m \u001b[1m0s\u001b[0m 4ms/step - accuracy: 0.8054 - loss: 0.8766\n"
          ]
        }
      ]
    },
    {
      "cell_type": "code",
      "source": [
        "results"
      ],
      "metadata": {
        "colab": {
          "base_uri": "https://localhost:8080/"
        },
        "id": "A1K_G8V1sx-J",
        "outputId": "0794c882-d2ce-46aa-df40-373d4ae82388"
      },
      "execution_count": 32,
      "outputs": [
        {
          "output_type": "execute_result",
          "data": {
            "text/plain": [
              "[0.909360408782959, 0.7943009734153748]"
            ]
          },
          "metadata": {},
          "execution_count": 32
        }
      ]
    },
    {
      "cell_type": "markdown",
      "source": [
        "## Rastgele tahminler ile doğruluk test etme\n",
        "\n",
        "sonuçlarımızda\n",
        "- loss: 0.9\n",
        "- accuracy: 0.79 çıktı\n",
        "\n",
        "peki bunlar çok mu kötü?\n",
        "\n",
        "Rastgele tahmin yapan bir modelin ne kadar doğru sonuç vereceğini test edelim"
      ],
      "metadata": {
        "id": "_tN2QqoHuIIY"
      }
    },
    {
      "cell_type": "code",
      "source": [
        "import copy\n",
        "test_labels_copy = copy.copy(test_labels)\n",
        "np.random.shuffle(test_labels_copy)\n",
        "hits_array = np.array(test_labels) == np.array(test_labels_copy)\n",
        "hits_array.mean()\n",
        "\n",
        "# %19 doğruluk verdi, bizim modelimiz ise %79 vermişti. iyi gidiyoruz"
      ],
      "metadata": {
        "colab": {
          "base_uri": "https://localhost:8080/"
        },
        "id": "iq9J8QzJtFUu",
        "outputId": "0e021617-90af-459d-faba-f99bc67b7153"
      },
      "execution_count": 36,
      "outputs": [
        {
          "output_type": "execute_result",
          "data": {
            "text/plain": [
              "np.float64(0.1892252894033838)"
            ]
          },
          "metadata": {},
          "execution_count": 36
        }
      ]
    },
    {
      "cell_type": "markdown",
      "source": [
        "## Yeni veri üzerinde tahminler oluşturma"
      ],
      "metadata": {
        "id": "UabO3sCGuinJ"
      }
    },
    {
      "cell_type": "code",
      "source": [
        "predictions = model.predict(x_test)"
      ],
      "metadata": {
        "colab": {
          "base_uri": "https://localhost:8080/"
        },
        "id": "ONbg0e_8tTOI",
        "outputId": "f5a1402c-a22d-4b64-d118-b88432dd1f00"
      },
      "execution_count": 37,
      "outputs": [
        {
          "output_type": "stream",
          "name": "stdout",
          "text": [
            "\u001b[1m71/71\u001b[0m \u001b[32m━━━━━━━━━━━━━━━━━━━━\u001b[0m\u001b[37m\u001b[0m \u001b[1m0s\u001b[0m 4ms/step\n"
          ]
        }
      ]
    },
    {
      "cell_type": "code",
      "source": [
        "predictions[0].shape # 46 sonuç geldi çünkü 46 kategori var.\n",
        "# her bir kategoriye ne kadar ait olduğunun oranları var"
      ],
      "metadata": {
        "colab": {
          "base_uri": "https://localhost:8080/"
        },
        "id": "Q_KsPzvBussQ",
        "outputId": "178d3d1f-570b-4130-bf36-a0c4767c824c"
      },
      "execution_count": 41,
      "outputs": [
        {
          "output_type": "execute_result",
          "data": {
            "text/plain": [
              "(46,)"
            ]
          },
          "metadata": {},
          "execution_count": 41
        }
      ]
    },
    {
      "cell_type": "code",
      "source": [
        "np.sum(predictions[0])\n",
        "# tüm bu oranlar 0 - 1 arasında sayılar olduğu için. toplamları 1 çıkıyor"
      ],
      "metadata": {
        "colab": {
          "base_uri": "https://localhost:8080/"
        },
        "id": "ldjYV18autuF",
        "outputId": "664442e3-9981-4bf6-af22-9389ae37987f"
      },
      "execution_count": 40,
      "outputs": [
        {
          "output_type": "execute_result",
          "data": {
            "text/plain": [
              "np.float32(1.0000001)"
            ]
          },
          "metadata": {},
          "execution_count": 40
        }
      ]
    },
    {
      "cell_type": "markdown",
      "source": [
        "1 çıkmasının sebebi:\n",
        "\n",
        "elimizde 46 adet kategori var. bir örneği alıyoruz ve diyoruz ki %3 ihtimalle bu 1. kategoriye ait, %7 ikinci kategoriye ait. Tüm bu olasılıkların toplamının %100 olması gerekir.\n",
        "\n",
        "Biz softmax kullandığımız ve 0-1 arasına normalize ettiğimiz için 100 gibi bir değer çıkmıyor da toplam olasılık 1 çıkıyor"
      ],
      "metadata": {
        "id": "NW-APoa6vmFl"
      }
    },
    {
      "cell_type": "code",
      "source": [
        "np.argmax(predictions[0]) # en yüksek olasılık hangi sınıf/kategori\n",
        "# bu bize değer değil indeks veriyor"
      ],
      "metadata": {
        "colab": {
          "base_uri": "https://localhost:8080/"
        },
        "id": "QpcgHRH3uyL8",
        "outputId": "0d7fc189-7ee6-4406-9713-1ef83188c2c0"
      },
      "execution_count": 43,
      "outputs": [
        {
          "output_type": "execute_result",
          "data": {
            "text/plain": [
              "np.int64(3)"
            ]
          },
          "metadata": {},
          "execution_count": 43
        }
      ]
    },
    {
      "cell_type": "code",
      "source": [
        "predictions[0][3]"
      ],
      "metadata": {
        "colab": {
          "base_uri": "https://localhost:8080/"
        },
        "id": "y9bXQXxywKT3",
        "outputId": "55ad5bb0-30fd-480f-d142-11f944946c5d"
      },
      "execution_count": 44,
      "outputs": [
        {
          "output_type": "execute_result",
          "data": {
            "text/plain": [
              "np.float32(0.5628971)"
            ]
          },
          "metadata": {},
          "execution_count": 44
        }
      ]
    },
    {
      "cell_type": "markdown",
      "source": [
        "## etiketleri ve loss'u elde etmenin farkı yolu\n"
      ],
      "metadata": {
        "id": "Kof3rBYQwgxd"
      }
    },
    {
      "cell_type": "code",
      "source": [
        "y_train = np.array(train_labels)\n",
        "y_test = np.array(test_labels)\n",
        "\n",
        "# etiketleri bir integer tensörüne dönüştürdük.\n",
        "# Compile ederken değiştirmemiz gereken tek şey ise loss fonksiyonu: sparse_categorical_crossentropy\n",
        "\n",
        "model.compile(optimizer=\"rmsprop\",\n",
        "              loss=\"sparse_categorical_crossentropy\",\n",
        "              metrics=[\"accuracy\"])"
      ],
      "metadata": {
        "id": "nEpzu3fcwXcK"
      },
      "execution_count": 46,
      "outputs": []
    },
    {
      "cell_type": "markdown",
      "source": [
        "## gizli katmanların sayısı\n",
        "Çıkış katmanımızda 46 birim var. Biz ara katmanlarda, gizli katmanlarda 46'dan - genel olarak çıkış katmanından - daha unit olmamasını isteriz.\n",
        "\n",
        "Sebebini 4-boyutlu bir gizli katman kullanarak görelim"
      ],
      "metadata": {
        "id": "U-iSmnLMxDHT"
      }
    },
    {
      "cell_type": "code",
      "source": [
        "model = keras.Sequential([\n",
        "    layers.Dense(64, activation=\"relu\"),\n",
        "    layers.Dense(4, activation=\"relu\"),\n",
        "    layers.Dense(46, activation=\"softmax\")\n",
        "])\n",
        "\n",
        "model.compile(optimizer=\"rmsprop\",\n",
        "              loss=\"categorical_crossentropy\",\n",
        "              metrics=[\"accuracy\"])\n",
        "\n",
        "model.fit(partial_x_train,\n",
        "          partial_y_train,\n",
        "          epochs=20,\n",
        "          batch_size=128,\n",
        "          validation_data=(x_val, y_val))"
      ],
      "metadata": {
        "colab": {
          "base_uri": "https://localhost:8080/"
        },
        "id": "r6hQXC_twzUh",
        "outputId": "ea71a65a-5f3f-4aa3-c189-11b9343c7ad5"
      },
      "execution_count": 47,
      "outputs": [
        {
          "output_type": "stream",
          "name": "stdout",
          "text": [
            "Epoch 1/20\n",
            "\u001b[1m63/63\u001b[0m \u001b[32m━━━━━━━━━━━━━━━━━━━━\u001b[0m\u001b[37m\u001b[0m \u001b[1m4s\u001b[0m 31ms/step - accuracy: 0.1499 - loss: 3.3564 - val_accuracy: 0.3730 - val_loss: 2.4625\n",
            "Epoch 2/20\n",
            "\u001b[1m63/63\u001b[0m \u001b[32m━━━━━━━━━━━━━━━━━━━━\u001b[0m\u001b[37m\u001b[0m \u001b[1m2s\u001b[0m 20ms/step - accuracy: 0.3790 - loss: 2.3087 - val_accuracy: 0.3980 - val_loss: 2.0340\n",
            "Epoch 3/20\n",
            "\u001b[1m63/63\u001b[0m \u001b[32m━━━━━━━━━━━━━━━━━━━━\u001b[0m\u001b[37m\u001b[0m \u001b[1m2s\u001b[0m 16ms/step - accuracy: 0.4514 - loss: 1.8220 - val_accuracy: 0.6390 - val_loss: 1.5925\n",
            "Epoch 4/20\n",
            "\u001b[1m63/63\u001b[0m \u001b[32m━━━━━━━━━━━━━━━━━━━━\u001b[0m\u001b[37m\u001b[0m \u001b[1m1s\u001b[0m 16ms/step - accuracy: 0.6788 - loss: 1.4488 - val_accuracy: 0.6620 - val_loss: 1.3964\n",
            "Epoch 5/20\n",
            "\u001b[1m63/63\u001b[0m \u001b[32m━━━━━━━━━━━━━━━━━━━━\u001b[0m\u001b[37m\u001b[0m \u001b[1m1s\u001b[0m 18ms/step - accuracy: 0.7045 - loss: 1.2212 - val_accuracy: 0.6920 - val_loss: 1.3411\n",
            "Epoch 6/20\n",
            "\u001b[1m63/63\u001b[0m \u001b[32m━━━━━━━━━━━━━━━━━━━━\u001b[0m\u001b[37m\u001b[0m \u001b[1m1s\u001b[0m 16ms/step - accuracy: 0.7297 - loss: 1.1122 - val_accuracy: 0.6950 - val_loss: 1.3267\n",
            "Epoch 7/20\n",
            "\u001b[1m63/63\u001b[0m \u001b[32m━━━━━━━━━━━━━━━━━━━━\u001b[0m\u001b[37m\u001b[0m \u001b[1m1s\u001b[0m 16ms/step - accuracy: 0.7440 - loss: 1.0640 - val_accuracy: 0.7010 - val_loss: 1.3135\n",
            "Epoch 8/20\n",
            "\u001b[1m63/63\u001b[0m \u001b[32m━━━━━━━━━━━━━━━━━━━━\u001b[0m\u001b[37m\u001b[0m \u001b[1m1s\u001b[0m 22ms/step - accuracy: 0.7462 - loss: 1.0166 - val_accuracy: 0.6930 - val_loss: 1.3247\n",
            "Epoch 9/20\n",
            "\u001b[1m63/63\u001b[0m \u001b[32m━━━━━━━━━━━━━━━━━━━━\u001b[0m\u001b[37m\u001b[0m \u001b[1m4s\u001b[0m 46ms/step - accuracy: 0.7565 - loss: 0.9603 - val_accuracy: 0.6940 - val_loss: 1.3246\n",
            "Epoch 10/20\n",
            "\u001b[1m63/63\u001b[0m \u001b[32m━━━━━━━━━━━━━━━━━━━━\u001b[0m\u001b[37m\u001b[0m \u001b[1m2s\u001b[0m 37ms/step - accuracy: 0.7619 - loss: 0.9022 - val_accuracy: 0.6870 - val_loss: 1.3204\n",
            "Epoch 11/20\n",
            "\u001b[1m63/63\u001b[0m \u001b[32m━━━━━━━━━━━━━━━━━━━━\u001b[0m\u001b[37m\u001b[0m \u001b[1m1s\u001b[0m 17ms/step - accuracy: 0.7655 - loss: 0.8752 - val_accuracy: 0.6990 - val_loss: 1.3462\n",
            "Epoch 12/20\n",
            "\u001b[1m63/63\u001b[0m \u001b[32m━━━━━━━━━━━━━━━━━━━━\u001b[0m\u001b[37m\u001b[0m \u001b[1m1s\u001b[0m 17ms/step - accuracy: 0.7653 - loss: 0.8608 - val_accuracy: 0.6960 - val_loss: 1.3703\n",
            "Epoch 13/20\n",
            "\u001b[1m63/63\u001b[0m \u001b[32m━━━━━━━━━━━━━━━━━━━━\u001b[0m\u001b[37m\u001b[0m \u001b[1m1s\u001b[0m 18ms/step - accuracy: 0.7695 - loss: 0.8146 - val_accuracy: 0.6940 - val_loss: 1.3560\n",
            "Epoch 14/20\n",
            "\u001b[1m63/63\u001b[0m \u001b[32m━━━━━━━━━━━━━━━━━━━━\u001b[0m\u001b[37m\u001b[0m \u001b[1m1s\u001b[0m 17ms/step - accuracy: 0.7697 - loss: 0.8008 - val_accuracy: 0.6910 - val_loss: 1.3873\n",
            "Epoch 15/20\n",
            "\u001b[1m63/63\u001b[0m \u001b[32m━━━━━━━━━━━━━━━━━━━━\u001b[0m\u001b[37m\u001b[0m \u001b[1m1s\u001b[0m 20ms/step - accuracy: 0.7721 - loss: 0.7806 - val_accuracy: 0.6930 - val_loss: 1.4088\n",
            "Epoch 16/20\n",
            "\u001b[1m63/63\u001b[0m \u001b[32m━━━━━━━━━━━━━━━━━━━━\u001b[0m\u001b[37m\u001b[0m \u001b[1m2s\u001b[0m 26ms/step - accuracy: 0.7752 - loss: 0.7655 - val_accuracy: 0.6890 - val_loss: 1.4444\n",
            "Epoch 17/20\n",
            "\u001b[1m63/63\u001b[0m \u001b[32m━━━━━━━━━━━━━━━━━━━━\u001b[0m\u001b[37m\u001b[0m \u001b[1m2s\u001b[0m 26ms/step - accuracy: 0.7726 - loss: 0.7583 - val_accuracy: 0.6920 - val_loss: 1.4524\n",
            "Epoch 18/20\n",
            "\u001b[1m63/63\u001b[0m \u001b[32m━━━━━━━━━━━━━━━━━━━━\u001b[0m\u001b[37m\u001b[0m \u001b[1m1s\u001b[0m 16ms/step - accuracy: 0.7722 - loss: 0.7491 - val_accuracy: 0.6940 - val_loss: 1.5202\n",
            "Epoch 19/20\n",
            "\u001b[1m63/63\u001b[0m \u001b[32m━━━━━━━━━━━━━━━━━━━━\u001b[0m\u001b[37m\u001b[0m \u001b[1m1s\u001b[0m 18ms/step - accuracy: 0.7869 - loss: 0.7077 - val_accuracy: 0.6960 - val_loss: 1.5210\n",
            "Epoch 20/20\n",
            "\u001b[1m63/63\u001b[0m \u001b[32m━━━━━━━━━━━━━━━━━━━━\u001b[0m\u001b[37m\u001b[0m \u001b[1m1s\u001b[0m 16ms/step - accuracy: 0.7925 - loss: 0.6934 - val_accuracy: 0.6930 - val_loss: 1.5456\n"
          ]
        },
        {
          "output_type": "execute_result",
          "data": {
            "text/plain": [
              "<keras.src.callbacks.history.History at 0x7ca22ce92910>"
            ]
          },
          "metadata": {},
          "execution_count": 47
        }
      ]
    },
    {
      "cell_type": "markdown",
      "source": [
        "Görüyoruz ki\n",
        "- **accuracy: 0.7925**\n",
        "- loss: 0.6934\n",
        "- val_accuracy: 0.6930\n",
        "- val_loss: 1.5456\n",
        "\n",
        "4 yerine 64 unit olduğunda ise değerlerimiz şöyleydi:\n",
        "- **accuracy: 0.9580**\n",
        "- loss: 0.1253\n",
        "- val_accuracy: 0.8110\n",
        "- val_loss: 0.9340\n",
        "\n",
        "Bariz oranda doğruluk düştü"
      ],
      "metadata": {
        "id": "tTQqanE7x-sE"
      }
    },
    {
      "cell_type": "markdown",
      "source": [
        "# TODO\n",
        "- farklı unitleri dene: 32, 128, ...\n",
        "- şu anda iki hidden layer var. Bir HL veya 3 HL ile dene"
      ],
      "metadata": {
        "id": "at00TzopyXU7"
      }
    },
    {
      "cell_type": "markdown",
      "source": [
        "# 3) Ev fiyatlarını tahmin etme: Regresyon\n",
        "\n",
        "506 örnek var, 404 eğitim, 102 test.\n",
        "\n",
        " feature'lar farklı skalalarda. Bazıları 0-1 arasında değişirken bazıları 1-12 ya da 0-100 gibi değişkenlik gösterebiliyor"
      ],
      "metadata": {
        "id": "WY1J8Neh6F1l"
      }
    },
    {
      "cell_type": "code",
      "source": [
        "from tensorflow.keras.datasets import boston_housing\n",
        "(train_data, train_targets), (test_data, test_targets) = (\n",
        "    boston_housing.load_data()\n",
        ")"
      ],
      "metadata": {
        "colab": {
          "base_uri": "https://localhost:8080/"
        },
        "id": "4IHfQP--xsh6",
        "outputId": "90d2e8c1-aefb-4200-b3df-2ba7b3d78161"
      },
      "execution_count": 3,
      "outputs": [
        {
          "output_type": "stream",
          "name": "stdout",
          "text": [
            "Downloading data from https://storage.googleapis.com/tensorflow/tf-keras-datasets/boston_housing.npz\n",
            "\u001b[1m57026/57026\u001b[0m \u001b[32m━━━━━━━━━━━━━━━━━━━━\u001b[0m\u001b[37m\u001b[0m \u001b[1m0s\u001b[0m 0us/step\n"
          ]
        }
      ]
    },
    {
      "cell_type": "code",
      "source": [
        "train_data.shape # 404 sample, 13 feature"
      ],
      "metadata": {
        "colab": {
          "base_uri": "https://localhost:8080/"
        },
        "id": "dS60v75C6E4i",
        "outputId": "b0fc53bd-d52d-4984-da0b-667b8cbec7cb"
      },
      "execution_count": 4,
      "outputs": [
        {
          "output_type": "execute_result",
          "data": {
            "text/plain": [
              "(404, 13)"
            ]
          },
          "metadata": {},
          "execution_count": 4
        }
      ]
    },
    {
      "cell_type": "code",
      "source": [
        "test_data.shape"
      ],
      "metadata": {
        "colab": {
          "base_uri": "https://localhost:8080/"
        },
        "id": "aennvFZS6m8E",
        "outputId": "c77f049a-23c5-45b5-b087-2ca58eb5a03f"
      },
      "execution_count": 5,
      "outputs": [
        {
          "output_type": "execute_result",
          "data": {
            "text/plain": [
              "(102, 13)"
            ]
          },
          "metadata": {},
          "execution_count": 5
        }
      ]
    },
    {
      "cell_type": "code",
      "source": [
        "train_targets # ortalama fiyatlar (bin dolar seviyesinde)"
      ],
      "metadata": {
        "colab": {
          "base_uri": "https://localhost:8080/"
        },
        "id": "KeTFlBRS6oO3",
        "outputId": "06beed9a-323a-4c6c-cf40-de076e187f8f"
      },
      "execution_count": 6,
      "outputs": [
        {
          "output_type": "execute_result",
          "data": {
            "text/plain": [
              "array([15.2, 42.3, 50. , 21.1, 17.7, 18.5, 11.3, 15.6, 15.6, 14.4, 12.1,\n",
              "       17.9, 23.1, 19.9, 15.7,  8.8, 50. , 22.5, 24.1, 27.5, 10.9, 30.8,\n",
              "       32.9, 24. , 18.5, 13.3, 22.9, 34.7, 16.6, 17.5, 22.3, 16.1, 14.9,\n",
              "       23.1, 34.9, 25. , 13.9, 13.1, 20.4, 20. , 15.2, 24.7, 22.2, 16.7,\n",
              "       12.7, 15.6, 18.4, 21. , 30.1, 15.1, 18.7,  9.6, 31.5, 24.8, 19.1,\n",
              "       22. , 14.5, 11. , 32. , 29.4, 20.3, 24.4, 14.6, 19.5, 14.1, 14.3,\n",
              "       15.6, 10.5,  6.3, 19.3, 19.3, 13.4, 36.4, 17.8, 13.5, 16.5,  8.3,\n",
              "       14.3, 16. , 13.4, 28.6, 43.5, 20.2, 22. , 23. , 20.7, 12.5, 48.5,\n",
              "       14.6, 13.4, 23.7, 50. , 21.7, 39.8, 38.7, 22.2, 34.9, 22.5, 31.1,\n",
              "       28.7, 46. , 41.7, 21. , 26.6, 15. , 24.4, 13.3, 21.2, 11.7, 21.7,\n",
              "       19.4, 50. , 22.8, 19.7, 24.7, 36.2, 14.2, 18.9, 18.3, 20.6, 24.6,\n",
              "       18.2,  8.7, 44. , 10.4, 13.2, 21.2, 37. , 30.7, 22.9, 20. , 19.3,\n",
              "       31.7, 32. , 23.1, 18.8, 10.9, 50. , 19.6,  5. , 14.4, 19.8, 13.8,\n",
              "       19.6, 23.9, 24.5, 25. , 19.9, 17.2, 24.6, 13.5, 26.6, 21.4, 11.9,\n",
              "       22.6, 19.6,  8.5, 23.7, 23.1, 22.4, 20.5, 23.6, 18.4, 35.2, 23.1,\n",
              "       27.9, 20.6, 23.7, 28. , 13.6, 27.1, 23.6, 20.6, 18.2, 21.7, 17.1,\n",
              "        8.4, 25.3, 13.8, 22.2, 18.4, 20.7, 31.6, 30.5, 20.3,  8.8, 19.2,\n",
              "       19.4, 23.1, 23. , 14.8, 48.8, 22.6, 33.4, 21.1, 13.6, 32.2, 13.1,\n",
              "       23.4, 18.9, 23.9, 11.8, 23.3, 22.8, 19.6, 16.7, 13.4, 22.2, 20.4,\n",
              "       21.8, 26.4, 14.9, 24.1, 23.8, 12.3, 29.1, 21. , 19.5, 23.3, 23.8,\n",
              "       17.8, 11.5, 21.7, 19.9, 25. , 33.4, 28.5, 21.4, 24.3, 27.5, 33.1,\n",
              "       16.2, 23.3, 48.3, 22.9, 22.8, 13.1, 12.7, 22.6, 15. , 15.3, 10.5,\n",
              "       24. , 18.5, 21.7, 19.5, 33.2, 23.2,  5. , 19.1, 12.7, 22.3, 10.2,\n",
              "       13.9, 16.3, 17. , 20.1, 29.9, 17.2, 37.3, 45.4, 17.8, 23.2, 29. ,\n",
              "       22. , 18. , 17.4, 34.6, 20.1, 25. , 15.6, 24.8, 28.2, 21.2, 21.4,\n",
              "       23.8, 31. , 26.2, 17.4, 37.9, 17.5, 20. ,  8.3, 23.9,  8.4, 13.8,\n",
              "        7.2, 11.7, 17.1, 21.6, 50. , 16.1, 20.4, 20.6, 21.4, 20.6, 36.5,\n",
              "        8.5, 24.8, 10.8, 21.9, 17.3, 18.9, 36.2, 14.9, 18.2, 33.3, 21.8,\n",
              "       19.7, 31.6, 24.8, 19.4, 22.8,  7.5, 44.8, 16.8, 18.7, 50. , 50. ,\n",
              "       19.5, 20.1, 50. , 17.2, 20.8, 19.3, 41.3, 20.4, 20.5, 13.8, 16.5,\n",
              "       23.9, 20.6, 31.5, 23.3, 16.8, 14. , 33.8, 36.1, 12.8, 18.3, 18.7,\n",
              "       19.1, 29. , 30.1, 50. , 50. , 22. , 11.9, 37.6, 50. , 22.7, 20.8,\n",
              "       23.5, 27.9, 50. , 19.3, 23.9, 22.6, 15.2, 21.7, 19.2, 43.8, 20.3,\n",
              "       33.2, 19.9, 22.5, 32.7, 22. , 17.1, 19. , 15. , 16.1, 25.1, 23.7,\n",
              "       28.7, 37.2, 22.6, 16.4, 25. , 29.8, 22.1, 17.4, 18.1, 30.3, 17.5,\n",
              "       24.7, 12.6, 26.5, 28.7, 13.3, 10.4, 24.4, 23. , 20. , 17.8,  7. ,\n",
              "       11.8, 24.4, 13.8, 19.4, 25.2, 19.4, 19.4, 29.1])"
            ]
          },
          "metadata": {},
          "execution_count": 6
        }
      ]
    },
    {
      "cell_type": "markdown",
      "source": [
        "## veriyi hazırlama"
      ],
      "metadata": {
        "id": "yeqCpcoR64iB"
      }
    },
    {
      "cell_type": "code",
      "source": [
        "mean = train_data.mean(axis=0)\n",
        "train_data -= mean\n",
        "std = train_data.std(axis=0)\n",
        "train_data /= std\n",
        "test_data -= mean\n",
        "test_data /= std"
      ],
      "metadata": {
        "id": "YtPe6WwV6xf9"
      },
      "execution_count": 7,
      "outputs": []
    },
    {
      "cell_type": "markdown",
      "source": [
        "## Normalize etmek (normalization)\n",
        "Yukarıda anlamsız gibi görünen çok fazla şey yaptık fakat bu modelimizin daha iyi çalışmasını sağlayacak.\n",
        "\n",
        "Bahsettiğimiz üzere feature'ların değer skalaları çok farklı olabiliyor, bazılarında 0-1 arasında değişirken bazıları 100 olabiliyor. Bu da bazı feature'ların doğal olarak gereksiz bir şekilde diğerlerini çok fazla baskılayabileceği anlamına geliyor. Belki de önemsiz bir veri fakat doğal olarak diğerlerinden çok büyük olduğu için onları baskılayacak. Amacımız tüm bu feature değerlerini belli bir aralığa oturtmak.\n",
        "\n",
        "İlk adım: `mean` yani ortalama `axis=0` anlamı sütun bazında işlem yapılması gerektiğidir.\n",
        "\n",
        "|Feature index| Oda sayısı | suç oranı |\n",
        "|---|---|---|\n",
        "|1|5|0.1|\n",
        "|2|7|0.5|\n",
        "|3|9|0.9|\n",
        "\n",
        "Bu durumda bu ikisini birbirine yaklaştıracağız. Sütun bazında ortalama alıyoruz\n",
        "\n",
        "Oda sayısı için: ( 5 + 7 + 9 ) / 3 = 7.0\n",
        "\n",
        "Suç oranı için ( 0.1 + 0.5 + 0.9 ) / 3 = 0.5\n",
        "\n",
        "sonrasında bunu 2. satırda eğitim_setinden ortalamaları çıkarıyoruz.\n",
        "\n",
        "|Feature index| Oda sayısı | suç oranı |\n",
        "|---|---|---|\n",
        "|1|5-7.0|0.1-0.5|\n",
        "|2|7-7.0|0.5-0.5|\n",
        "|3|9-7.0|0.9-0.5|\n",
        "\n",
        "böylelikle\n",
        "\n",
        "|Feature index| Oda sayısı | suç oranı |\n",
        "|---|---|---|\n",
        "|1|-2|-0.4|\n",
        "|2|0|0.0|\n",
        "|3|2|0.4|\n",
        "\n",
        "Bu adıma \"**ortalama sıfırlama (zero-mean)\"** denir\n",
        "\n",
        "Adım 3. Standart sapma (std)\n",
        "\n",
        "Buradaki amacımız ise o verinin ortalamadan ne kadar uzakta olduğunu anlamak\n",
        "\n",
        "oda sayısındaki değişim çok fazla ise -> std büyük\n",
        "\n",
        "suç oranı değişimi az ise -> std küçük\n",
        "\n",
        "Bu yöntemle ortalamadan ne kadar \"iyi\" ya da ne kadar \"kötü\" olduğunu öğreneceğiz. Her bir sütun için birer sayı verecek bize.\n",
        "\n",
        "Örneğin: `[1.632, 0.326]` verdi\n",
        "\n",
        "eğitim verisini std'ye bölüyoruz\n",
        "\n",
        "|Feature index| Oda sayısı | suç oranı |\n",
        "|---|---|---|\n",
        "|1|-2/1.632|-0.4/0.326|\n",
        "|2|0/1.632|0.0/0.326|\n",
        "|3|2/1.632|0.4/0.326|\n",
        "\n",
        "Böylelikle sonucumuz\n",
        "\n",
        "|Feature index| Oda sayısı | suç oranı |\n",
        "|---|---|---|\n",
        "|1|-1.22|-1.22|\n",
        "|2|0|0|\n",
        "|3|+1.22|+1.22|\n",
        "\n",
        "\n",
        "Başlangıçta 5 ile 0.1 şeklinde arada 50 katlık bir fark vardı, normalizasyon sonrasında ise artık birbirlerine çok yakınlar (bu örnekte aynılar fakat her zaman böyle olması gerekmez)"
      ],
      "metadata": {
        "id": "Q42Jd1Xz8pOz"
      }
    },
    {
      "cell_type": "markdown",
      "source": [
        "## modeli oluşturma\n",
        "Aynı modeli birden fazla kez oluşturmamız gerektiği için (K-fold cross-validation) fonksiyon içine yazıyoruz. Tekrar tekrar kullanabilelim diye.\n",
        "\n",
        "çıkış katmanında sadece 1 birim var ve aktivasyon fonksiyonu yok. Çünkü biz bir fiyat tahmini yapıyoruz, hangi sınıfa ait olduğunu bilmemize gerek yok, skalar bir sayı elde edeceğiz.\n",
        "\n",
        "MAE: mean absolute error. Yani tahminimiz ile gerçek değer arasındaki fark. Bu örnek için 0.5'lik bir fark 500 dolara karşılık gelir"
      ],
      "metadata": {
        "id": "Vb1FpFxJ_Oed"
      }
    },
    {
      "cell_type": "code",
      "source": [
        "def build_model():\n",
        "  model = keras.Sequential([\n",
        "      layers.Dense(64, activation=\"relu\"),\n",
        "      layers.Dense(64, activation=\"relu\"),\n",
        "      layers.Dense(1)\n",
        "  ])\n",
        "\n",
        "  model.compile(optimizer=\"rmsprop\",\n",
        "                loss=\"mse\",  # mean squared error, regresyon için çok kullanılır\n",
        "                metrics=[\"mae\"]) # MAE: mean absolute error\n",
        "  return model\n",
        "\n"
      ],
      "metadata": {
        "id": "5H7VtNsc7Dpl"
      },
      "execution_count": 8,
      "outputs": []
    },
    {
      "cell_type": "markdown",
      "source": [
        "## K-fold validation ile geçerleme\n",
        "\n",
        "Modeli eğitirken bazı parametrelerin güncellenmesi gerekir (epoch gibi), bu sebeple eğitim ve geçerlemeyi hep ayırdık. Fakat burada verilerimizin sayısı çok az ve başarı hangi verilerin eğitimde, hangilerinin geçerlemede kullanıldığına göre çok büyük farklarla ortaya çıkabilir.\n",
        "\n",
        "Bunu çözebilmek için de K-fold validation kullanılıyor.\n",
        "\n",
        "Bu şöyle çalışıyor:\n",
        "\n",
        "- Tüm veri setini K kadar bölüyor (K=3 diyelim)\n",
        "\n",
        "| Validation | Training   | Training   |\n",
        "\n",
        "| Training   | Validation | Training   |\n",
        "\n",
        "| Training   | Training   | Validation |\n",
        "\n",
        "- Her seferinde bir parça doğrulama (validation) için kullanılırken, kalan K−1 parça eğitim (training) için kullanılır.\n",
        "\n",
        "- Bu işlem K kez tekrarlanır; her veri parçası bir kez doğrulama verisi olarak kullanılmış olur.\n",
        "\n",
        "\n",
        "Böylelikle daha güvenilir ve kararlı bir sonuç elde edilir.\n"
      ],
      "metadata": {
        "id": "VVXFre-NAYZk"
      }
    },
    {
      "cell_type": "code",
      "source": [
        "import numpy as np\n",
        "from tensorflow import keras\n",
        "from tensorflow.keras import layers\n",
        "\n",
        "k = 4\n",
        "num_val_samples = len(train_data) // k # 4'e tam olarak kaçar kaçar bölündüğüne bakıyor\n",
        "num_epochs = 100\n",
        "all_scores = []\n",
        "\n",
        "for i in range(k):\n",
        "  print(f\"Processing fold #{i}\")\n",
        "  val_data = train_data[i * num_val_samples: (i+1) * num_val_samples]\n",
        "  val_targets = train_targets[i * num_val_samples: (i+1) * num_val_samples]\n",
        "  partial_train_data = np.concatenate(\n",
        "      [train_data[:i * num_val_samples],\n",
        "       train_data[(i+1) * num_val_samples:]],\n",
        "       axis=0)\n",
        "  partial_train_targets = np.concatenate(\n",
        "      [train_targets[:i * num_val_samples],\n",
        "       train_targets[(i+1) * num_val_samples:]],\n",
        "       axis=0)\n",
        "  model = build_model()\n",
        "  model.fit(partial_train_data,\n",
        "            partial_train_targets,\n",
        "            epochs=num_epochs,\n",
        "            batch_size=1,\n",
        "            verbose=0)\n",
        "  val_mse, val_mae = model.evaluate(val_data, val_targets, verbose=0) # verbose=0 sessizce yap, her adımı bildirme\n",
        "  all_scores.append(val_mae)"
      ],
      "metadata": {
        "colab": {
          "base_uri": "https://localhost:8080/"
        },
        "id": "0BlC7AmqACOP",
        "outputId": "35c2b1e4-3d21-482f-ba0f-7a00d0b8065b"
      },
      "execution_count": 11,
      "outputs": [
        {
          "output_type": "stream",
          "name": "stdout",
          "text": [
            "Processing fold #0\n",
            "Processing fold #1\n",
            "Processing fold #2\n",
            "Processing fold #3\n"
          ]
        }
      ]
    },
    {
      "cell_type": "code",
      "source": [
        "all_scores"
      ],
      "metadata": {
        "colab": {
          "base_uri": "https://localhost:8080/"
        },
        "id": "kBMajMUqC3Cn",
        "outputId": "2d037012-0fe6-4f7a-b966-c604a09994ee"
      },
      "execution_count": 13,
      "outputs": [
        {
          "output_type": "execute_result",
          "data": {
            "text/plain": [
              "[2.016282558441162, 2.3395931720733643, 2.851806402206421, 2.1586432456970215]"
            ]
          },
          "metadata": {},
          "execution_count": 13
        }
      ]
    },
    {
      "cell_type": "code",
      "source": [
        "np.mean(all_scores) # 2.35 yani yaklaşık $2.350 bir hata payımız var\n",
        "# veri setindeki evlerin fiyatları $10.000 ile $50.000 dolar arası"
      ],
      "metadata": {
        "colab": {
          "base_uri": "https://localhost:8080/"
        },
        "id": "aefXfqLkD6xg",
        "outputId": "be3f1027-231d-4718-c03b-026b64fc069d"
      },
      "execution_count": 14,
      "outputs": [
        {
          "output_type": "execute_result",
          "data": {
            "text/plain": [
              "np.float64(2.341581344604492)"
            ]
          },
          "metadata": {},
          "execution_count": 14
        }
      ]
    },
    {
      "cell_type": "code",
      "source": [
        "# her bir fold'daki değerlerin kaydedilmesi\n",
        "\n",
        "num_epochs = 500\n",
        "all_mae_histories = []\n",
        "\n",
        "for i in range(k):\n",
        "    print(f\"Processing fold #{i}\")\n",
        "    val_data = train_data[i * num_val_samples: (i + 1) * num_val_samples]\n",
        "    val_targets = train_targets[i * num_val_samples: (i + 1) * num_val_samples]\n",
        "\n",
        "    partial_train_data = np.concatenate(\n",
        "        [train_data[:i * num_val_samples],\n",
        "         train_data[(i + 1) * num_val_samples:]],\n",
        "        axis=0\n",
        "    )\n",
        "    partial_train_targets = np.concatenate(\n",
        "        [train_targets[:i * num_val_samples],\n",
        "         train_targets[(i + 1) * num_val_samples:]],\n",
        "        axis=0\n",
        "    )\n",
        "\n",
        "    model = build_model()\n",
        "    history = model.fit(\n",
        "        partial_train_data, partial_train_targets,\n",
        "        validation_data=(val_data, val_targets),\n",
        "        epochs=num_epochs, batch_size=16, verbose=0\n",
        "    )\n",
        "    mae_history = history.history[\"val_mae\"]\n",
        "    all_mae_histories.append(mae_history)\n"
      ],
      "metadata": {
        "colab": {
          "base_uri": "https://localhost:8080/"
        },
        "id": "a8fyJMi_D7w7",
        "outputId": "d6d5042f-d05a-48d5-d399-50d8ce8d37fc"
      },
      "execution_count": 15,
      "outputs": [
        {
          "output_type": "stream",
          "name": "stdout",
          "text": [
            "Processing fold #0\n",
            "Processing fold #1\n",
            "Processing fold #2\n",
            "Processing fold #3\n"
          ]
        }
      ]
    },
    {
      "cell_type": "code",
      "source": [
        "average_mae_history = [\n",
        "    np.mean([x[i] for x in all_mae_histories]) for i in range(num_epochs)\n",
        "]"
      ],
      "metadata": {
        "id": "Pr1AsstuEsxo"
      },
      "execution_count": 16,
      "outputs": []
    },
    {
      "cell_type": "markdown",
      "source": [
        "## grafik"
      ],
      "metadata": {
        "id": "7vJxkZpFHjva"
      }
    },
    {
      "cell_type": "code",
      "source": [
        "import matplotlib.pyplot as plt\n",
        "\n",
        "plt.plot(range(1, len(average_mae_history) + 1), average_mae_history)\n",
        "plt.xlabel(\"Epochs\")\n",
        "plt.ylabel(\"Validation MAE\")\n",
        "plt.show()"
      ],
      "metadata": {
        "colab": {
          "base_uri": "https://localhost:8080/",
          "height": 451
        },
        "id": "sCtJ1I0YHa79",
        "outputId": "178f6441-bfe9-405d-fbff-33e2979525d4"
      },
      "execution_count": 17,
      "outputs": [
        {
          "output_type": "display_data",
          "data": {
            "text/plain": [
              "<Figure size 640x480 with 1 Axes>"
            ],
            "image/png": "[encoded data removed]"
          },
          "metadata": {}
        }
      ]
    },
    {
      "cell_type": "code",
      "source": [
        "# ilk 10 değer için validation skoruna bakma\n",
        "truncated_mae_history = average_mae_history[10:]\n",
        "\n",
        "plt.plot(range(1, len(truncated_mae_history) + 1), truncated_mae_history)\n",
        "plt.xlabel(\"Epochs\")\n",
        "plt.ylabel(\"Validation MAE\")\n",
        "plt.show()"
      ],
      "metadata": {
        "colab": {
          "base_uri": "https://localhost:8080/",
          "height": 449
        },
        "id": "hYMN0HINHr2F",
        "outputId": "f6daa6b4-20ed-494e-fdc2-121a2e19192c"
      },
      "execution_count": 18,
      "outputs": [
        {
          "output_type": "display_data",
          "data": {
            "text/plain": [
              "<Figure size 640x480 with 1 Axes>"
            ],
            "image/png": "[encoded data removed]"
          },
          "metadata": {}
        }
      ]
    },
    {
      "cell_type": "code",
      "source": [
        "# 120 - 140'tan sonra gelişmeyi bırakmış. Sonrasında overfitting başlamış\n",
        "# epoch'u 130'a sınırlayalım\n",
        "\n",
        "model = build_model()\n",
        "\n",
        "model.fit(train_data, train_targets, epochs=130, batch_size=16, verbose=0)\n",
        "test_mse_score, test_mae_score = model.evaluate(test_data, test_targets)"
      ],
      "metadata": {
        "colab": {
          "base_uri": "https://localhost:8080/"
        },
        "id": "gpJA9b_NH2BY",
        "outputId": "b5be385d-1e37-4aa2-ca53-3b951d871913"
      },
      "execution_count": 19,
      "outputs": [
        {
          "output_type": "stream",
          "name": "stdout",
          "text": [
            "\u001b[1m4/4\u001b[0m \u001b[32m━━━━━━━━━━━━━━━━━━━━\u001b[0m\u001b[37m\u001b[0m \u001b[1m0s\u001b[0m 76ms/step - loss: 11.5671 - mae: 2.3543\n"
          ]
        }
      ]
    },
    {
      "cell_type": "code",
      "source": [
        "test_mae_score"
      ],
      "metadata": {
        "colab": {
          "base_uri": "https://localhost:8080/"
        },
        "id": "GnwAHDXAIFx4",
        "outputId": "10c8b8fb-9668-43e6-ac49-7bac0d7ffd60"
      },
      "execution_count": 20,
      "outputs": [
        {
          "output_type": "execute_result",
          "data": {
            "text/plain": [
              "2.525979995727539"
            ]
          },
          "metadata": {},
          "execution_count": 20
        }
      ]
    },
    {
      "cell_type": "markdown",
      "source": [
        "## tahmin oluşturma"
      ],
      "metadata": {
        "id": "GNsyPQ9DIPPp"
      }
    },
    {
      "cell_type": "code",
      "source": [
        "predictions = model.predict(test_data)\n",
        "predictions[0]"
      ],
      "metadata": {
        "colab": {
          "base_uri": "https://localhost:8080/"
        },
        "id": "nXX5DyGrIMS1",
        "outputId": "2a2b95bb-2c14-4473-911c-7af13a2984da"
      },
      "execution_count": 27,
      "outputs": [
        {
          "output_type": "stream",
          "name": "stdout",
          "text": [
            "\u001b[1m4/4\u001b[0m \u001b[32m━━━━━━━━━━━━━━━━━━━━\u001b[0m\u001b[37m\u001b[0m \u001b[1m0s\u001b[0m 6ms/step \n"
          ]
        },
        {
          "output_type": "execute_result",
          "data": {
            "text/plain": [
              "array([7.775895], dtype=float32)"
            ]
          },
          "metadata": {},
          "execution_count": 27
        }
      ]
    },
    {
      "cell_type": "code",
      "source": [
        "test_targets[0] # orijinal değer 7.2 bizim bulduğumuz 7.77"
      ],
      "metadata": {
        "colab": {
          "base_uri": "https://localhost:8080/"
        },
        "id": "RwNWRIC1IVbq",
        "outputId": "d5f18ad3-3180-449a-d66d-6f47539a2e60"
      },
      "execution_count": 28,
      "outputs": [
        {
          "output_type": "execute_result",
          "data": {
            "text/plain": [
              "np.float64(7.2)"
            ]
          },
          "metadata": {},
          "execution_count": 28
        }
      ]
    },
    {
      "cell_type": "code",
      "source": [],
      "metadata": {
        "id": "5WZAYtmvIZ8C"
      },
      "execution_count": null,
      "outputs": []
    }
  ]
}