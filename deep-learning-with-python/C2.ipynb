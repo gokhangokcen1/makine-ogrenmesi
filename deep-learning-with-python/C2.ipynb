{
  "nbformat": 4,
  "nbformat_minor": 0,
  "metadata": {
    "colab": {
      "provenance": [],
      "toc_visible": true
    },
    "kernelspec": {
      "name": "python3",
      "display_name": "Python 3"
    },
    "language_info": {
      "name": "python"
    }
  },
  "cells": [
    {
      "cell_type": "markdown",
      "source": [
        "# MNIST VERİ SETİ\n",
        "0'dan 9'a kadar olan rakamların el yazısı görselleri."
      ],
      "metadata": {
        "id": "eERRKr8oOn0F"
      }
    },
    {
      "cell_type": "code",
      "source": [
        "from tensorflow.keras.datasets import mnist\n",
        "(train_images, train_labels), (test_images, test_labels) = mnist.load_data()"
      ],
      "metadata": {
        "id": "AZYqqjv1MHv6",
        "colab": {
          "base_uri": "https://localhost:8080/"
        },
        "outputId": "3140535e-9340-4372-d0b3-e7c323b27167"
      },
      "execution_count": 2,
      "outputs": [
        {
          "output_type": "stream",
          "name": "stdout",
          "text": [
            "Downloading data from https://storage.googleapis.com/tensorflow/tf-keras-datasets/mnist.npz\n",
            "\u001b[1m11490434/11490434\u001b[0m \u001b[32m━━━━━━━━━━━━━━━━━━━━\u001b[0m\u001b[37m\u001b[0m \u001b[1m0s\u001b[0m 0us/step\n"
          ]
        }
      ]
    },
    {
      "cell_type": "code",
      "source": [
        "train_images.shape #array'in biçimini gösteriyor\n",
        "# genel olarak (sample, feature) formatında oluyor\n",
        "# resimler için (sample, height, width, color_depth)\n",
        "# bu eğitim görselleri için: 60000 fotoğraf, 28x28 boyutunda\n",
        "# video için (samples, frames, height, width, color_depth)"
      ],
      "metadata": {
        "colab": {
          "base_uri": "https://localhost:8080/"
        },
        "id": "hMOR_XZZMWtG",
        "outputId": "4b7072f7-57b6-485f-a5c5-fe3b4ed9b676"
      },
      "execution_count": 41,
      "outputs": [
        {
          "output_type": "execute_result",
          "data": {
            "text/plain": [
              "(60000, 28, 28)"
            ]
          },
          "metadata": {},
          "execution_count": 41
        }
      ]
    },
    {
      "cell_type": "code",
      "source": [
        "len(train_labels) # len ile adet \"sample/örnek\" var"
      ],
      "metadata": {
        "colab": {
          "base_uri": "https://localhost:8080/"
        },
        "id": "xwk-GoxjMZ50",
        "outputId": "c0f0c375-5f1a-4dbc-c20c-b8c85e081c1e"
      },
      "execution_count": 4,
      "outputs": [
        {
          "output_type": "execute_result",
          "data": {
            "text/plain": [
              "60000"
            ]
          },
          "metadata": {},
          "execution_count": 4
        }
      ]
    },
    {
      "cell_type": "code",
      "source": [
        "train_labels # görsellerde hangi resimler olduğu, nasıl \"etiketlendiği\""
      ],
      "metadata": {
        "colab": {
          "base_uri": "https://localhost:8080/"
        },
        "id": "FwiZhGluMdJF",
        "outputId": "138218c0-5c33-4287-9db4-0a7d16fb70de"
      },
      "execution_count": 5,
      "outputs": [
        {
          "output_type": "execute_result",
          "data": {
            "text/plain": [
              "array([5, 0, 4, ..., 5, 6, 8], dtype=uint8)"
            ]
          },
          "metadata": {},
          "execution_count": 5
        }
      ]
    },
    {
      "cell_type": "code",
      "source": [
        "test_images.shape # 10000 adet 28x28 test görseli"
      ],
      "metadata": {
        "colab": {
          "base_uri": "https://localhost:8080/"
        },
        "id": "PivghQFqMeq9",
        "outputId": "781ee0f3-a2f6-4c5c-da11-c44c7c41c8a5"
      },
      "execution_count": 6,
      "outputs": [
        {
          "output_type": "execute_result",
          "data": {
            "text/plain": [
              "(10000, 28, 28)"
            ]
          },
          "metadata": {},
          "execution_count": 6
        }
      ]
    },
    {
      "cell_type": "code",
      "source": [
        "len(test_labels)"
      ],
      "metadata": {
        "colab": {
          "base_uri": "https://localhost:8080/"
        },
        "id": "1S7n3TZDMhHk",
        "outputId": "00c010f3-eb1c-4f3f-c2ad-4b7e0caac880"
      },
      "execution_count": 7,
      "outputs": [
        {
          "output_type": "execute_result",
          "data": {
            "text/plain": [
              "10000"
            ]
          },
          "metadata": {},
          "execution_count": 7
        }
      ]
    },
    {
      "cell_type": "code",
      "source": [
        "test_labels"
      ],
      "metadata": {
        "colab": {
          "base_uri": "https://localhost:8080/"
        },
        "id": "x03hfzD5MjQT",
        "outputId": "ae3753b5-fd33-4c51-c96a-5a5d0378d789"
      },
      "execution_count": 8,
      "outputs": [
        {
          "output_type": "execute_result",
          "data": {
            "text/plain": [
              "array([7, 2, 1, ..., 4, 5, 6], dtype=uint8)"
            ]
          },
          "metadata": {},
          "execution_count": 8
        }
      ]
    },
    {
      "cell_type": "code",
      "source": [
        "from tensorflow import keras # keras, deep learning framework'ü\n",
        "from tensorflow.keras import layers\n",
        "model = keras.Sequential([ # katmanlar oluşturuyoruz\n",
        "    layers.Dense(512, activation=\"relu\"), #units kaç nöron olacağı/çıkış boyutu\n",
        "    layers.Dense(10, activation=\"softmax\")\n",
        "])"
      ],
      "metadata": {
        "id": "CYLo0uDPMkhg"
      },
      "execution_count": 10,
      "outputs": []
    },
    {
      "cell_type": "code",
      "source": [
        "model.compile(optimizer=\"rmsprop\",\n",
        "              loss=\"sparse_categorical_crossentropy\", #gerçek değer - tahmin\n",
        "              metrics=[\"accuracy\"])"
      ],
      "metadata": {
        "id": "sljqJdbHM1Ja"
      },
      "execution_count": 11,
      "outputs": []
    },
    {
      "cell_type": "code",
      "source": [
        "train_images = train_images.reshape((60000, 28 * 28))\n",
        "train_images = train_images.astype(\"float32\") / 255\n",
        "test_images = test_images.reshape((10000, 28 * 28))\n",
        "test_images = test_images.astype(\"float32\") / 255\n",
        "\n",
        "# siyah 0, beyaz 255'tir fakat biz bunu normalleştirip daha ufak sayılarla\n",
        "# uğraşmak isteriz. bu sebeple 255'e bölerek bunu 0-1 arasında sınırlıyoruz.\n",
        "# float'a çevrilme sebebi matris hesaplamalarında ve gradient descent'te\n",
        "# daha doğru sonuçlar alabilmek.\n",
        "\n",
        "# (60000, 28*28) yaparak bunu (60000, 784) haline çeviriyoruz.\n",
        "# Çünkü Dense düzleştirilmiş (flatten) vektörlerle çalışıyor bu yüzden genelde\n",
        "# 2D vektörler verilir. Biz de bunun için 2D vektör haline getirdik."
      ],
      "metadata": {
        "id": "GXITnj5ZNHbk"
      },
      "execution_count": 12,
      "outputs": []
    },
    {
      "cell_type": "code",
      "source": [
        "model.fit(train_images, train_labels, epochs=5, batch_size=128)"
      ],
      "metadata": {
        "colab": {
          "base_uri": "https://localhost:8080/"
        },
        "id": "Nm4OQX_ZM-80",
        "outputId": "12a41f2e-e4ab-4248-b2b8-b12b8cb0dd1b"
      },
      "execution_count": 13,
      "outputs": [
        {
          "output_type": "stream",
          "name": "stdout",
          "text": [
            "Epoch 1/5\n",
            "\u001b[1m469/469\u001b[0m \u001b[32m━━━━━━━━━━━━━━━━━━━━\u001b[0m\u001b[37m\u001b[0m \u001b[1m6s\u001b[0m 11ms/step - accuracy: 0.1690 - loss: 2.2823\n",
            "Epoch 2/5\n",
            "\u001b[1m469/469\u001b[0m \u001b[32m━━━━━━━━━━━━━━━━━━━━\u001b[0m\u001b[37m\u001b[0m \u001b[1m12s\u001b[0m 15ms/step - accuracy: 0.5451 - loss: 1.9064\n",
            "Epoch 3/5\n",
            "\u001b[1m469/469\u001b[0m \u001b[32m━━━━━━━━━━━━━━━━━━━━\u001b[0m\u001b[37m\u001b[0m \u001b[1m9s\u001b[0m 11ms/step - accuracy: 0.7125 - loss: 1.1962\n",
            "Epoch 4/5\n",
            "\u001b[1m469/469\u001b[0m \u001b[32m━━━━━━━━━━━━━━━━━━━━\u001b[0m\u001b[37m\u001b[0m \u001b[1m6s\u001b[0m 13ms/step - accuracy: 0.7924 - loss: 0.8250\n",
            "Epoch 5/5\n",
            "\u001b[1m469/469\u001b[0m \u001b[32m━━━━━━━━━━━━━━━━━━━━\u001b[0m\u001b[37m\u001b[0m \u001b[1m10s\u001b[0m 13ms/step - accuracy: 0.8287 - loss: 0.6489\n"
          ]
        },
        {
          "output_type": "execute_result",
          "data": {
            "text/plain": [
              "<keras.src.callbacks.history.History at 0x7b3df7033ad0>"
            ]
          },
          "metadata": {},
          "execution_count": 13
        }
      ]
    },
    {
      "cell_type": "code",
      "source": [
        "test_digits = test_images[0:10] # ilk 10 örnek 0-9\n",
        "predictions = model.predict(test_digits) # ilk 10 örnek için tahminler oluştu.\n",
        "predictions[0] # 0 indeksindeki (ilk) örnek için tahminler"
      ],
      "metadata": {
        "colab": {
          "base_uri": "https://localhost:8080/"
        },
        "id": "FVrhizThNcMx",
        "outputId": "4af24002-31c8-4ca9-99c0-614e9111b719"
      },
      "execution_count": 14,
      "outputs": [
        {
          "output_type": "stream",
          "name": "stdout",
          "text": [
            "\u001b[1m1/1\u001b[0m \u001b[32m━━━━━━━━━━━━━━━━━━━━\u001b[0m\u001b[37m\u001b[0m \u001b[1m0s\u001b[0m 59ms/step\n"
          ]
        },
        {
          "output_type": "execute_result",
          "data": {
            "text/plain": [
              "array([5.8977620e-04, 4.5605964e-05, 1.0063551e-04, 1.2872067e-03,\n",
              "       1.7258996e-03, 2.5792336e-03, 9.4219286e-06, 9.6636724e-01,\n",
              "       3.9739686e-04, 2.6897451e-02], dtype=float32)"
            ]
          },
          "metadata": {},
          "execution_count": 14
        }
      ]
    },
    {
      "cell_type": "code",
      "source": [
        "predictions[0].argmax() # ilk örnek için tahminlerden en yükseği"
      ],
      "metadata": {
        "colab": {
          "base_uri": "https://localhost:8080/"
        },
        "id": "8Fj8c5D4OLqr",
        "outputId": "eaf74bcf-0fd0-4f1a-8fe7-937b89c919d3"
      },
      "execution_count": 15,
      "outputs": [
        {
          "output_type": "execute_result",
          "data": {
            "text/plain": [
              "np.int64(7)"
            ]
          },
          "metadata": {},
          "execution_count": 15
        }
      ]
    },
    {
      "cell_type": "code",
      "source": [
        "predictions[0][7] # kaç oranla 7 olduğunu tahmin ettiği"
      ],
      "metadata": {
        "colab": {
          "base_uri": "https://localhost:8080/"
        },
        "id": "c02azJmEORds",
        "outputId": "c7e5932c-0fd9-4dfd-f190-66d8e4679244"
      },
      "execution_count": 16,
      "outputs": [
        {
          "output_type": "execute_result",
          "data": {
            "text/plain": [
              "np.float32(0.96636724)"
            ]
          },
          "metadata": {},
          "execution_count": 16
        }
      ]
    },
    {
      "cell_type": "code",
      "source": [
        "test_labels[0] # gerçekte etiketinde ne olduğu (o da 7)"
      ],
      "metadata": {
        "colab": {
          "base_uri": "https://localhost:8080/"
        },
        "id": "gni4FzIjOSo-",
        "outputId": "907325b1-d2d2-4c19-fd53-cb905f877f52"
      },
      "execution_count": 17,
      "outputs": [
        {
          "output_type": "execute_result",
          "data": {
            "text/plain": [
              "np.uint8(7)"
            ]
          },
          "metadata": {},
          "execution_count": 17
        }
      ]
    },
    {
      "cell_type": "code",
      "source": [
        "test_loss, test_acc = model.evaluate(test_images, test_labels)\n",
        "print(f\"test_acc: {test_acc}\")\n",
        "print(f\"test_loss: {test_loss}\")"
      ],
      "metadata": {
        "colab": {
          "base_uri": "https://localhost:8080/"
        },
        "id": "7lj43yY9OUil",
        "outputId": "a8a9d77d-1d6b-42f9-db6d-85d42b6e9184"
      },
      "execution_count": 18,
      "outputs": [
        {
          "output_type": "stream",
          "name": "stdout",
          "text": [
            "\u001b[1m313/313\u001b[0m \u001b[32m━━━━━━━━━━━━━━━━━━━━\u001b[0m\u001b[37m\u001b[0m \u001b[1m1s\u001b[0m 3ms/step - accuracy: 0.8273 - loss: 0.6133\n",
            "test_acc: 0.848800003528595\n",
            "test_loss: 0.5552056431770325\n"
          ]
        }
      ]
    },
    {
      "cell_type": "markdown",
      "source": [
        "# SİNİR AĞLARI İÇİN VERİ GÖSTERİMİ"
      ],
      "metadata": {
        "id": "SPQ7_739Ol41"
      }
    },
    {
      "cell_type": "code",
      "source": [
        "#scalar -> tek boyutlu vektör, rank(0)\n",
        "import numpy as np\n",
        "x = np.array(12)\n",
        "x"
      ],
      "metadata": {
        "colab": {
          "base_uri": "https://localhost:8080/"
        },
        "id": "Z5_KOw3COwja",
        "outputId": "f7672526-3872-4f65-d6fe-2273df87ad54"
      },
      "execution_count": 19,
      "outputs": [
        {
          "output_type": "execute_result",
          "data": {
            "text/plain": [
              "array(12)"
            ]
          },
          "metadata": {},
          "execution_count": 19
        }
      ]
    },
    {
      "cell_type": "code",
      "source": [
        "x.ndim # kaç boyutlu olduğu, skalar olduğu için 0"
      ],
      "metadata": {
        "colab": {
          "base_uri": "https://localhost:8080/"
        },
        "id": "0D5IQaVQPGfY",
        "outputId": "8951b273-878a-4f22-f633-c7f7a339ab33"
      },
      "execution_count": 20,
      "outputs": [
        {
          "output_type": "execute_result",
          "data": {
            "text/plain": [
              "0"
            ]
          },
          "metadata": {},
          "execution_count": 20
        }
      ]
    },
    {
      "cell_type": "code",
      "source": [
        "# \"vektör\" rank 1 tensors\n",
        "x = np.array([12, 3, 6, 14, 7])\n",
        "x"
      ],
      "metadata": {
        "colab": {
          "base_uri": "https://localhost:8080/"
        },
        "id": "HTbj3mwEPHV9",
        "outputId": "4d299eb7-74d5-4693-ed3a-2eb4c62e5aa7"
      },
      "execution_count": 22,
      "outputs": [
        {
          "output_type": "execute_result",
          "data": {
            "text/plain": [
              "array([12,  3,  6, 14,  7])"
            ]
          },
          "metadata": {},
          "execution_count": 22
        }
      ]
    },
    {
      "cell_type": "code",
      "source": [
        "x.ndim # 5 adet verisi var. 5D vector ama 1D tensor,\n",
        "#her bir [] tensör diyebiliriz."
      ],
      "metadata": {
        "colab": {
          "base_uri": "https://localhost:8080/"
        },
        "id": "8qtiG3qWP2zF",
        "outputId": "8d2a6b28-9af3-4cd3-f4a4-e09214e7a047"
      },
      "execution_count": 23,
      "outputs": [
        {
          "output_type": "execute_result",
          "data": {
            "text/plain": [
              "1"
            ]
          },
          "metadata": {},
          "execution_count": 23
        }
      ]
    },
    {
      "cell_type": "code",
      "source": [
        "# matris -> 2D tensors\n",
        "x = np.array([[5, 78, 2, 34, 0],\n",
        "              [6, 79, 3, 35 ,1],\n",
        "              [7, 80, 4, 36, 2]])\n",
        "x.ndim"
      ],
      "metadata": {
        "colab": {
          "base_uri": "https://localhost:8080/"
        },
        "id": "L2zc04cEP38a",
        "outputId": "8c3c297f-645f-463d-baed-6ae001f8d869"
      },
      "execution_count": 24,
      "outputs": [
        {
          "output_type": "execute_result",
          "data": {
            "text/plain": [
              "2"
            ]
          },
          "metadata": {},
          "execution_count": 24
        }
      ]
    },
    {
      "cell_type": "code",
      "source": [
        "# rank 3 -> 3D tensors\n",
        "x = np.array([[[5, 78, 2, 34, 0],\n",
        "              [6, 79, 3, 35 ,1],\n",
        "              [7, 80, 4, 36, 2]],\n",
        "              [[5, 78, 2, 34, 0],\n",
        "              [6, 79, 3, 35 ,1],\n",
        "              [7, 80, 4, 36, 2]],\n",
        "              [[5, 78, 2, 34, 0],\n",
        "              [6, 79, 3, 35 ,1],\n",
        "              [7, 80, 4, 36, 2]]])\n",
        "\n",
        "x.ndim"
      ],
      "metadata": {
        "colab": {
          "base_uri": "https://localhost:8080/"
        },
        "id": "7Wf2pAgwQn0j",
        "outputId": "96c36e84-f635-4f87-f27f-f4ce1983f083"
      },
      "execution_count": 25,
      "outputs": [
        {
          "output_type": "execute_result",
          "data": {
            "text/plain": [
              "3"
            ]
          },
          "metadata": {},
          "execution_count": 25
        }
      ]
    },
    {
      "cell_type": "code",
      "source": [
        "import matplotlib.pyplot as plt\n",
        "(train_images, train_labels), (test_images, test_labels) = mnist.load_data()\n",
        "digit = train_images[4]\n",
        "plt.imshow(digit, cmap=plt.cm.binary) #cmap: colormap. binary -> siyah/beyaz\n",
        "plt.show()"
      ],
      "metadata": {
        "colab": {
          "base_uri": "https://localhost:8080/",
          "height": 430
        },
        "id": "p2xmfTwJQwo3",
        "outputId": "f2d07a9b-ea10-4fc6-c86b-b489cc4ff1da"
      },
      "execution_count": 26,
      "outputs": [
        {
          "output_type": "display_data",
          "data": {
            "text/plain": [
              "<Figure size 640x480 with 1 Axes>"
            ],
            "image/png": "[encoded data removed]"
          },
          "metadata": {}
        }
      ]
    },
    {
      "cell_type": "code",
      "source": [
        "train_labels[4]"
      ],
      "metadata": {
        "colab": {
          "base_uri": "https://localhost:8080/"
        },
        "id": "2mM__eCCSl6O",
        "outputId": "0e199442-dd89-4410-9b98-4ffe8c5ce06c"
      },
      "execution_count": 27,
      "outputs": [
        {
          "output_type": "execute_result",
          "data": {
            "text/plain": [
              "np.uint8(9)"
            ]
          },
          "metadata": {},
          "execution_count": 27
        }
      ]
    },
    {
      "cell_type": "code",
      "source": [
        "my_slice = train_images[10:100]\n",
        "my_slice.shape"
      ],
      "metadata": {
        "colab": {
          "base_uri": "https://localhost:8080/"
        },
        "id": "b40zceP5S1Ge",
        "outputId": "ceaadace-d2c7-4d3d-fe32-90af90558190"
      },
      "execution_count": 28,
      "outputs": [
        {
          "output_type": "execute_result",
          "data": {
            "text/plain": [
              "(90, 28, 28)"
            ]
          },
          "metadata": {},
          "execution_count": 28
        }
      ]
    },
    {
      "cell_type": "code",
      "source": [
        "my_slice = train_images[10:100, : , : ]\n",
        "my_slice.shape"
      ],
      "metadata": {
        "colab": {
          "base_uri": "https://localhost:8080/"
        },
        "id": "KxF-fTKAS_N0",
        "outputId": "23ca1c8b-8726-4de1-ab1b-47d1acfd1bac"
      },
      "execution_count": 29,
      "outputs": [
        {
          "output_type": "execute_result",
          "data": {
            "text/plain": [
              "(90, 28, 28)"
            ]
          },
          "metadata": {},
          "execution_count": 29
        }
      ]
    },
    {
      "cell_type": "code",
      "source": [
        "my_slice = train_images[10:100, 0:28, 0:28]\n",
        "my_slice.shape"
      ],
      "metadata": {
        "colab": {
          "base_uri": "https://localhost:8080/"
        },
        "id": "387FjV-KTH3f",
        "outputId": "6c51df17-4824-4504-bc9e-612c68638e08"
      },
      "execution_count": 30,
      "outputs": [
        {
          "output_type": "execute_result",
          "data": {
            "text/plain": [
              "(90, 28, 28)"
            ]
          },
          "metadata": {},
          "execution_count": 30
        }
      ]
    },
    {
      "cell_type": "code",
      "source": [
        "my_slice = train_images[:, 14:, 14:]\n",
        "my_slice.shape"
      ],
      "metadata": {
        "colab": {
          "base_uri": "https://localhost:8080/"
        },
        "id": "CgHMQC8OTOA_",
        "outputId": "b468b005-aac7-4d55-f65b-7b00de34eadf"
      },
      "execution_count": 31,
      "outputs": [
        {
          "output_type": "execute_result",
          "data": {
            "text/plain": [
              "(60000, 14, 14)"
            ]
          },
          "metadata": {},
          "execution_count": 31
        }
      ]
    },
    {
      "cell_type": "code",
      "source": [
        "train_digit = train_images[4, 7:-7, :-7]\n",
        "plt.imshow(train_digit)\n",
        "plt.show()"
      ],
      "metadata": {
        "colab": {
          "base_uri": "https://localhost:8080/",
          "height": 391
        },
        "id": "24Q9mDxITYr-",
        "outputId": "c657b937-654b-4ac2-a6c8-d1a0288e4dfe"
      },
      "execution_count": 32,
      "outputs": [
        {
          "output_type": "display_data",
          "data": {
            "text/plain": [
              "<Figure size 640x480 with 1 Axes>"
            ],
            "image/png": "[encoded data removed]"
          },
          "metadata": {}
        }
      ]
    },
    {
      "cell_type": "markdown",
      "source": [
        "# BATCH"
      ],
      "metadata": {
        "id": "vW6flsS7UCaY"
      }
    },
    {
      "cell_type": "code",
      "source": [
        "# batchler bir gruplar, model genel olarak datasetini tek seferde işlemez, böler"
      ],
      "metadata": {
        "id": "CxBTiDLNUE9i"
      },
      "execution_count": 33,
      "outputs": []
    },
    {
      "cell_type": "code",
      "source": [
        "batch = train_images[:128] # ilk 128'lik kısım\n",
        "batch = train_images[128:255] #2. 128'lik kısım"
      ],
      "metadata": {
        "id": "hUozR-z8UN8H"
      },
      "execution_count": 35,
      "outputs": []
    },
    {
      "cell_type": "code",
      "source": [
        "batch.shape"
      ],
      "metadata": {
        "colab": {
          "base_uri": "https://localhost:8080/"
        },
        "id": "Q5j0ndt8UUy8",
        "outputId": "749789e7-04bf-4a46-aa12-2daf787ac862"
      },
      "execution_count": 36,
      "outputs": [
        {
          "output_type": "execute_result",
          "data": {
            "text/plain": [
              "(127, 28, 28)"
            ]
          },
          "metadata": {},
          "execution_count": 36
        }
      ]
    },
    {
      "cell_type": "code",
      "source": [
        "# n. batch\n",
        "n = 3\n",
        "batch = train_images[128 * n: 128 * (n+1)]\n",
        "batch.shape\n",
        "\n",
        "\n",
        "# veri setini 128 128 olarak bölüyoruz\n",
        "# kaçıncı 128'lik bölümü aradığımızı bu şekilde buluyoruz\n"
      ],
      "metadata": {
        "colab": {
          "base_uri": "https://localhost:8080/"
        },
        "id": "EbQlfJH3UXur",
        "outputId": "ff822636-1cdf-477e-a0d0-15857d3cd8a1"
      },
      "execution_count": 38,
      "outputs": [
        {
          "output_type": "execute_result",
          "data": {
            "text/plain": [
              "(128, 28, 28)"
            ]
          },
          "metadata": {},
          "execution_count": 38
        }
      ]
    },
    {
      "cell_type": "markdown",
      "source": [
        "# elle relu yazma\n",
        "ReLU: 0'dan önceki değerler 0, 0'dan itibaren lineer olark artıyor"
      ],
      "metadata": {
        "id": "-8wNebSQcbC1"
      }
    },
    {
      "cell_type": "code",
      "source": [
        "X = np.array([\n",
        "    [-1, 2, -3],\n",
        "    [4, -5, 6]\n",
        "])"
      ],
      "metadata": {
        "id": "fCxfJmeeccTq"
      },
      "execution_count": 39,
      "outputs": []
    },
    {
      "cell_type": "code",
      "source": [
        "def naive_relu(x):\n",
        "  assert len(x.shape) == 2\n",
        "  x = x.copy()\n",
        "  for i in range(x.shape[0]):\n",
        "    for j in range(x.shape[1]):\n",
        "      x[i, j] = max(x[i,j], 0) # 0 ile karşılaştırıyor, negatif ise 0 alıyor\n",
        "  return x\n",
        "\n",
        "naive_relu(X)"
      ],
      "metadata": {
        "colab": {
          "base_uri": "https://localhost:8080/"
        },
        "id": "u8NAW2BtciHK",
        "outputId": "d4599582-2b94-4ce7-9c04-846e10ec3dfd"
      },
      "execution_count": 43,
      "outputs": [
        {
          "output_type": "execute_result",
          "data": {
            "text/plain": [
              "array([[0, 2, 0],\n",
              "       [4, 0, 6]])"
            ]
          },
          "metadata": {},
          "execution_count": 43
        }
      ]
    },
    {
      "cell_type": "code",
      "source": [
        "Y = np.array([\n",
        "    [2, -4, 7],\n",
        "    [-2, 9, -1]\n",
        "])\n",
        "\n",
        "# toplama\n",
        "\n",
        "def naive_add(x, y):\n",
        "  assert len(x.shape) == 2\n",
        "  assert x.shape == y.shape\n",
        "  x = x.copy()\n",
        "  for i in range(x.shape[0]):\n",
        "    for j in range(x.shape[1]):\n",
        "      x[i ,j] += y[i, j]\n",
        "\n",
        "  return x\n",
        "\n",
        "print(X)\n",
        "print(Y)\n",
        "naive_add(X,Y)\n"
      ],
      "metadata": {
        "colab": {
          "base_uri": "https://localhost:8080/"
        },
        "id": "wAf24Sw_c3Sx",
        "outputId": "c5fa0727-c719-43b2-d792-1e4b3426b580"
      },
      "execution_count": 44,
      "outputs": [
        {
          "output_type": "stream",
          "name": "stdout",
          "text": [
            "[[-1  2 -3]\n",
            " [ 4 -5  6]]\n",
            "[[ 2 -4  7]\n",
            " [-2  9 -1]]\n"
          ]
        },
        {
          "output_type": "execute_result",
          "data": {
            "text/plain": [
              "array([[ 1, -2,  4],\n",
              "       [ 2,  4,  5]])"
            ]
          },
          "metadata": {},
          "execution_count": 44
        }
      ]
    },
    {
      "cell_type": "code",
      "source": [
        "# döngülerle yazmak ile matris yöntemi arasındaki zaman farkı\n",
        "\n",
        "import time\n",
        "x = np.random.random((20,100))\n",
        "y = np.random.random((20,100))\n",
        "\n",
        "t0 = time.time()\n",
        "for _ in range(1000):\n",
        "  z = x + y\n",
        "  z = np.maximum(z, 0.)\n",
        "  print(\"Took: {0:.2f} s\".format(time.time() - t0))\n"
      ],
      "metadata": {
        "colab": {
          "base_uri": "https://localhost:8080/"
        },
        "id": "1EAgleWve8ig",
        "outputId": "89f3a246-b08b-4709-db1b-d9f16074a82b"
      },
      "execution_count": 45,
      "outputs": [
        {
          "output_type": "stream",
          "name": "stdout",
          "text": [
            "Took: 0.00 s\n",
            "Took: 0.00 s\n",
            "Took: 0.00 s\n",
            "Took: 0.00 s\n",
            "Took: 0.00 s\n",
            "Took: 0.00 s\n",
            "Took: 0.00 s\n",
            "Took: 0.00 s\n",
            "Took: 0.00 s\n",
            "Took: 0.00 s\n",
            "Took: 0.00 s\n",
            "Took: 0.00 s\n",
            "Took: 0.00 s\n",
            "Took: 0.00 s\n",
            "Took: 0.00 s\n",
            "Took: 0.00 s\n",
            "Took: 0.00 s\n",
            "Took: 0.00 s\n",
            "Took: 0.00 s\n",
            "Took: 0.00 s\n",
            "Took: 0.00 s\n",
            "Took: 0.00 s\n",
            "Took: 0.00 s\n",
            "Took: 0.00 s\n",
            "Took: 0.00 s\n",
            "Took: 0.00 s\n",
            "Took: 0.00 s\n",
            "Took: 0.00 s\n",
            "Took: 0.00 s\n",
            "Took: 0.00 s\n",
            "Took: 0.00 s\n",
            "Took: 0.00 s\n",
            "Took: 0.00 s\n",
            "Took: 0.00 s\n",
            "Took: 0.00 s\n",
            "Took: 0.00 s\n",
            "Took: 0.00 s\n",
            "Took: 0.00 s\n",
            "Took: 0.00 s\n",
            "Took: 0.00 s\n",
            "Took: 0.00 s\n",
            "Took: 0.00 s\n",
            "Took: 0.00 s\n",
            "Took: 0.00 s\n",
            "Took: 0.00 s\n",
            "Took: 0.00 s\n",
            "Took: 0.00 s\n",
            "Took: 0.00 s\n",
            "Took: 0.00 s\n",
            "Took: 0.00 s\n",
            "Took: 0.00 s\n",
            "Took: 0.00 s\n",
            "Took: 0.00 s\n",
            "Took: 0.00 s\n",
            "Took: 0.00 s\n",
            "Took: 0.00 s\n",
            "Took: 0.00 s\n",
            "Took: 0.00 s\n",
            "Took: 0.00 s\n",
            "Took: 0.00 s\n",
            "Took: 0.00 s\n",
            "Took: 0.00 s\n",
            "Took: 0.00 s\n",
            "Took: 0.00 s\n",
            "Took: 0.00 s\n",
            "Took: 0.00 s\n",
            "Took: 0.00 s\n",
            "Took: 0.00 s\n",
            "Took: 0.00 s\n",
            "Took: 0.00 s\n",
            "Took: 0.00 s\n",
            "Took: 0.00 s\n",
            "Took: 0.00 s\n",
            "Took: 0.00 s\n",
            "Took: 0.00 s\n",
            "Took: 0.00 s\n",
            "Took: 0.00 s\n",
            "Took: 0.00 s\n",
            "Took: 0.00 s\n",
            "Took: 0.00 s\n",
            "Took: 0.00 s\n",
            "Took: 0.00 s\n",
            "Took: 0.00 s\n",
            "Took: 0.00 s\n",
            "Took: 0.00 s\n",
            "Took: 0.00 s\n",
            "Took: 0.00 s\n",
            "Took: 0.00 s\n",
            "Took: 0.00 s\n",
            "Took: 0.00 s\n",
            "Took: 0.00 s\n",
            "Took: 0.00 s\n",
            "Took: 0.00 s\n",
            "Took: 0.00 s\n",
            "Took: 0.00 s\n",
            "Took: 0.00 s\n",
            "Took: 0.00 s\n",
            "Took: 0.00 s\n",
            "Took: 0.00 s\n",
            "Took: 0.00 s\n",
            "Took: 0.00 s\n",
            "Took: 0.00 s\n",
            "Took: 0.00 s\n",
            "Took: 0.00 s\n",
            "Took: 0.00 s\n",
            "Took: 0.00 s\n",
            "Took: 0.00 s\n",
            "Took: 0.00 s\n",
            "Took: 0.00 s\n",
            "Took: 0.00 s\n",
            "Took: 0.00 s\n",
            "Took: 0.00 s\n",
            "Took: 0.00 s\n",
            "Took: 0.00 s\n",
            "Took: 0.00 s\n",
            "Took: 0.00 s\n",
            "Took: 0.00 s\n",
            "Took: 0.00 s\n",
            "Took: 0.00 s\n",
            "Took: 0.00 s\n",
            "Took: 0.00 s\n",
            "Took: 0.00 s\n",
            "Took: 0.00 s\n",
            "Took: 0.00 s\n",
            "Took: 0.00 s\n",
            "Took: 0.00 s\n",
            "Took: 0.00 s\n",
            "Took: 0.00 s\n",
            "Took: 0.00 s\n",
            "Took: 0.00 s\n",
            "Took: 0.00 s\n",
            "Took: 0.00 s\n",
            "Took: 0.00 s\n",
            "Took: 0.00 s\n",
            "Took: 0.00 s\n",
            "Took: 0.00 s\n",
            "Took: 0.00 s\n",
            "Took: 0.00 s\n",
            "Took: 0.00 s\n",
            "Took: 0.00 s\n",
            "Took: 0.00 s\n",
            "Took: 0.00 s\n",
            "Took: 0.00 s\n",
            "Took: 0.00 s\n",
            "Took: 0.00 s\n",
            "Took: 0.00 s\n",
            "Took: 0.00 s\n",
            "Took: 0.00 s\n",
            "Took: 0.00 s\n",
            "Took: 0.00 s\n",
            "Took: 0.00 s\n",
            "Took: 0.00 s\n",
            "Took: 0.00 s\n",
            "Took: 0.00 s\n",
            "Took: 0.00 s\n",
            "Took: 0.00 s\n",
            "Took: 0.00 s\n",
            "Took: 0.00 s\n",
            "Took: 0.00 s\n",
            "Took: 0.00 s\n",
            "Took: 0.00 s\n",
            "Took: 0.00 s\n",
            "Took: 0.00 s\n",
            "Took: 0.00 s\n",
            "Took: 0.00 s\n",
            "Took: 0.00 s\n",
            "Took: 0.00 s\n",
            "Took: 0.00 s\n",
            "Took: 0.00 s\n",
            "Took: 0.00 s\n",
            "Took: 0.00 s\n",
            "Took: 0.00 s\n",
            "Took: 0.00 s\n",
            "Took: 0.00 s\n",
            "Took: 0.00 s\n",
            "Took: 0.00 s\n",
            "Took: 0.00 s\n",
            "Took: 0.00 s\n",
            "Took: 0.00 s\n",
            "Took: 0.00 s\n",
            "Took: 0.00 s\n",
            "Took: 0.00 s\n",
            "Took: 0.00 s\n",
            "Took: 0.00 s\n",
            "Took: 0.00 s\n",
            "Took: 0.00 s\n",
            "Took: 0.00 s\n",
            "Took: 0.00 s\n",
            "Took: 0.00 s\n",
            "Took: 0.00 s\n",
            "Took: 0.00 s\n",
            "Took: 0.00 s\n",
            "Took: 0.00 s\n",
            "Took: 0.00 s\n",
            "Took: 0.00 s\n",
            "Took: 0.00 s\n",
            "Took: 0.00 s\n",
            "Took: 0.00 s\n",
            "Took: 0.00 s\n",
            "Took: 0.00 s\n",
            "Took: 0.00 s\n",
            "Took: 0.00 s\n",
            "Took: 0.00 s\n",
            "Took: 0.00 s\n",
            "Took: 0.00 s\n",
            "Took: 0.00 s\n",
            "Took: 0.00 s\n",
            "Took: 0.00 s\n",
            "Took: 0.00 s\n",
            "Took: 0.00 s\n",
            "Took: 0.00 s\n",
            "Took: 0.00 s\n",
            "Took: 0.00 s\n",
            "Took: 0.00 s\n",
            "Took: 0.00 s\n",
            "Took: 0.00 s\n",
            "Took: 0.00 s\n",
            "Took: 0.00 s\n",
            "Took: 0.00 s\n",
            "Took: 0.00 s\n",
            "Took: 0.00 s\n",
            "Took: 0.00 s\n",
            "Took: 0.00 s\n",
            "Took: 0.00 s\n",
            "Took: 0.00 s\n",
            "Took: 0.00 s\n",
            "Took: 0.00 s\n",
            "Took: 0.00 s\n",
            "Took: 0.00 s\n",
            "Took: 0.00 s\n",
            "Took: 0.00 s\n",
            "Took: 0.00 s\n",
            "Took: 0.00 s\n",
            "Took: 0.00 s\n",
            "Took: 0.00 s\n",
            "Took: 0.00 s\n",
            "Took: 0.00 s\n",
            "Took: 0.00 s\n",
            "Took: 0.00 s\n",
            "Took: 0.00 s\n",
            "Took: 0.00 s\n",
            "Took: 0.00 s\n",
            "Took: 0.00 s\n",
            "Took: 0.00 s\n",
            "Took: 0.00 s\n",
            "Took: 0.00 s\n",
            "Took: 0.00 s\n",
            "Took: 0.00 s\n",
            "Took: 0.00 s\n",
            "Took: 0.00 s\n",
            "Took: 0.00 s\n",
            "Took: 0.00 s\n",
            "Took: 0.00 s\n",
            "Took: 0.00 s\n",
            "Took: 0.00 s\n",
            "Took: 0.00 s\n",
            "Took: 0.00 s\n",
            "Took: 0.00 s\n",
            "Took: 0.00 s\n",
            "Took: 0.00 s\n",
            "Took: 0.00 s\n",
            "Took: 0.00 s\n",
            "Took: 0.00 s\n",
            "Took: 0.00 s\n",
            "Took: 0.00 s\n",
            "Took: 0.00 s\n",
            "Took: 0.00 s\n",
            "Took: 0.00 s\n",
            "Took: 0.00 s\n",
            "Took: 0.00 s\n",
            "Took: 0.00 s\n",
            "Took: 0.00 s\n",
            "Took: 0.00 s\n",
            "Took: 0.00 s\n",
            "Took: 0.00 s\n",
            "Took: 0.00 s\n",
            "Took: 0.00 s\n",
            "Took: 0.00 s\n",
            "Took: 0.00 s\n",
            "Took: 0.00 s\n",
            "Took: 0.00 s\n",
            "Took: 0.00 s\n",
            "Took: 0.00 s\n",
            "Took: 0.00 s\n",
            "Took: 0.00 s\n",
            "Took: 0.00 s\n",
            "Took: 0.00 s\n",
            "Took: 0.00 s\n",
            "Took: 0.00 s\n",
            "Took: 0.00 s\n",
            "Took: 0.00 s\n",
            "Took: 0.00 s\n",
            "Took: 0.00 s\n",
            "Took: 0.00 s\n",
            "Took: 0.00 s\n",
            "Took: 0.00 s\n",
            "Took: 0.00 s\n",
            "Took: 0.00 s\n",
            "Took: 0.00 s\n",
            "Took: 0.00 s\n",
            "Took: 0.00 s\n",
            "Took: 0.00 s\n",
            "Took: 0.00 s\n",
            "Took: 0.00 s\n",
            "Took: 0.00 s\n",
            "Took: 0.01 s\n",
            "Took: 0.01 s\n",
            "Took: 0.01 s\n",
            "Took: 0.01 s\n",
            "Took: 0.01 s\n",
            "Took: 0.01 s\n",
            "Took: 0.01 s\n",
            "Took: 0.01 s\n",
            "Took: 0.01 s\n",
            "Took: 0.01 s\n",
            "Took: 0.01 s\n",
            "Took: 0.01 s\n",
            "Took: 0.01 s\n",
            "Took: 0.01 s\n",
            "Took: 0.01 s\n",
            "Took: 0.01 s\n",
            "Took: 0.01 s\n",
            "Took: 0.01 s\n",
            "Took: 0.01 s\n",
            "Took: 0.01 s\n",
            "Took: 0.01 s\n",
            "Took: 0.01 s\n",
            "Took: 0.01 s\n",
            "Took: 0.01 s\n",
            "Took: 0.01 s\n",
            "Took: 0.01 s\n",
            "Took: 0.01 s\n",
            "Took: 0.01 s\n",
            "Took: 0.01 s\n",
            "Took: 0.01 s\n",
            "Took: 0.01 s\n",
            "Took: 0.01 s\n",
            "Took: 0.01 s\n",
            "Took: 0.01 s\n",
            "Took: 0.01 s\n",
            "Took: 0.01 s\n",
            "Took: 0.01 s\n",
            "Took: 0.01 s\n",
            "Took: 0.01 s\n",
            "Took: 0.01 s\n",
            "Took: 0.01 s\n",
            "Took: 0.01 s\n",
            "Took: 0.01 s\n",
            "Took: 0.01 s\n",
            "Took: 0.01 s\n",
            "Took: 0.01 s\n",
            "Took: 0.01 s\n",
            "Took: 0.01 s\n",
            "Took: 0.01 s\n",
            "Took: 0.01 s\n",
            "Took: 0.01 s\n",
            "Took: 0.01 s\n",
            "Took: 0.01 s\n",
            "Took: 0.01 s\n",
            "Took: 0.01 s\n",
            "Took: 0.01 s\n",
            "Took: 0.01 s\n",
            "Took: 0.01 s\n",
            "Took: 0.01 s\n",
            "Took: 0.01 s\n",
            "Took: 0.01 s\n",
            "Took: 0.01 s\n",
            "Took: 0.01 s\n",
            "Took: 0.01 s\n",
            "Took: 0.01 s\n",
            "Took: 0.01 s\n",
            "Took: 0.01 s\n",
            "Took: 0.01 s\n",
            "Took: 0.01 s\n",
            "Took: 0.01 s\n",
            "Took: 0.01 s\n",
            "Took: 0.01 s\n",
            "Took: 0.01 s\n",
            "Took: 0.01 s\n",
            "Took: 0.01 s\n",
            "Took: 0.01 s\n",
            "Took: 0.01 s\n",
            "Took: 0.01 s\n",
            "Took: 0.01 s\n",
            "Took: 0.01 s\n",
            "Took: 0.01 s\n",
            "Took: 0.01 s\n",
            "Took: 0.01 s\n",
            "Took: 0.01 s\n",
            "Took: 0.01 s\n",
            "Took: 0.01 s\n",
            "Took: 0.01 s\n",
            "Took: 0.01 s\n",
            "Took: 0.01 s\n",
            "Took: 0.01 s\n",
            "Took: 0.01 s\n",
            "Took: 0.01 s\n",
            "Took: 0.01 s\n",
            "Took: 0.01 s\n",
            "Took: 0.01 s\n",
            "Took: 0.01 s\n",
            "Took: 0.01 s\n",
            "Took: 0.01 s\n",
            "Took: 0.01 s\n",
            "Took: 0.01 s\n",
            "Took: 0.01 s\n",
            "Took: 0.01 s\n",
            "Took: 0.01 s\n",
            "Took: 0.01 s\n",
            "Took: 0.01 s\n",
            "Took: 0.01 s\n",
            "Took: 0.01 s\n",
            "Took: 0.01 s\n",
            "Took: 0.01 s\n",
            "Took: 0.01 s\n",
            "Took: 0.01 s\n",
            "Took: 0.01 s\n",
            "Took: 0.01 s\n",
            "Took: 0.01 s\n",
            "Took: 0.01 s\n",
            "Took: 0.01 s\n",
            "Took: 0.01 s\n",
            "Took: 0.01 s\n",
            "Took: 0.01 s\n",
            "Took: 0.01 s\n",
            "Took: 0.01 s\n",
            "Took: 0.01 s\n",
            "Took: 0.01 s\n",
            "Took: 0.01 s\n",
            "Took: 0.01 s\n",
            "Took: 0.01 s\n",
            "Took: 0.01 s\n",
            "Took: 0.01 s\n",
            "Took: 0.01 s\n",
            "Took: 0.01 s\n",
            "Took: 0.01 s\n",
            "Took: 0.01 s\n",
            "Took: 0.01 s\n",
            "Took: 0.01 s\n",
            "Took: 0.01 s\n",
            "Took: 0.01 s\n",
            "Took: 0.01 s\n",
            "Took: 0.01 s\n",
            "Took: 0.01 s\n",
            "Took: 0.01 s\n",
            "Took: 0.01 s\n",
            "Took: 0.01 s\n",
            "Took: 0.01 s\n",
            "Took: 0.01 s\n",
            "Took: 0.01 s\n",
            "Took: 0.01 s\n",
            "Took: 0.01 s\n",
            "Took: 0.01 s\n",
            "Took: 0.01 s\n",
            "Took: 0.01 s\n",
            "Took: 0.01 s\n",
            "Took: 0.01 s\n",
            "Took: 0.01 s\n",
            "Took: 0.01 s\n",
            "Took: 0.01 s\n",
            "Took: 0.01 s\n",
            "Took: 0.01 s\n",
            "Took: 0.01 s\n",
            "Took: 0.01 s\n",
            "Took: 0.01 s\n",
            "Took: 0.01 s\n",
            "Took: 0.01 s\n",
            "Took: 0.01 s\n",
            "Took: 0.01 s\n",
            "Took: 0.01 s\n",
            "Took: 0.01 s\n",
            "Took: 0.01 s\n",
            "Took: 0.01 s\n",
            "Took: 0.01 s\n",
            "Took: 0.01 s\n",
            "Took: 0.01 s\n",
            "Took: 0.01 s\n",
            "Took: 0.01 s\n",
            "Took: 0.01 s\n",
            "Took: 0.01 s\n",
            "Took: 0.01 s\n",
            "Took: 0.01 s\n",
            "Took: 0.01 s\n",
            "Took: 0.01 s\n",
            "Took: 0.01 s\n",
            "Took: 0.01 s\n",
            "Took: 0.01 s\n",
            "Took: 0.01 s\n",
            "Took: 0.01 s\n",
            "Took: 0.01 s\n",
            "Took: 0.01 s\n",
            "Took: 0.01 s\n",
            "Took: 0.01 s\n",
            "Took: 0.01 s\n",
            "Took: 0.01 s\n",
            "Took: 0.01 s\n",
            "Took: 0.01 s\n",
            "Took: 0.01 s\n",
            "Took: 0.01 s\n",
            "Took: 0.01 s\n",
            "Took: 0.01 s\n",
            "Took: 0.01 s\n",
            "Took: 0.01 s\n",
            "Took: 0.01 s\n",
            "Took: 0.01 s\n",
            "Took: 0.01 s\n",
            "Took: 0.01 s\n",
            "Took: 0.01 s\n",
            "Took: 0.01 s\n",
            "Took: 0.01 s\n",
            "Took: 0.01 s\n",
            "Took: 0.01 s\n",
            "Took: 0.01 s\n",
            "Took: 0.01 s\n",
            "Took: 0.01 s\n",
            "Took: 0.01 s\n",
            "Took: 0.01 s\n",
            "Took: 0.01 s\n",
            "Took: 0.01 s\n",
            "Took: 0.01 s\n",
            "Took: 0.01 s\n",
            "Took: 0.01 s\n",
            "Took: 0.01 s\n",
            "Took: 0.01 s\n",
            "Took: 0.01 s\n",
            "Took: 0.01 s\n",
            "Took: 0.01 s\n",
            "Took: 0.01 s\n",
            "Took: 0.01 s\n",
            "Took: 0.01 s\n",
            "Took: 0.01 s\n",
            "Took: 0.01 s\n",
            "Took: 0.01 s\n",
            "Took: 0.01 s\n",
            "Took: 0.01 s\n",
            "Took: 0.01 s\n",
            "Took: 0.01 s\n",
            "Took: 0.01 s\n",
            "Took: 0.01 s\n",
            "Took: 0.01 s\n",
            "Took: 0.01 s\n",
            "Took: 0.01 s\n",
            "Took: 0.01 s\n",
            "Took: 0.01 s\n",
            "Took: 0.01 s\n",
            "Took: 0.01 s\n",
            "Took: 0.01 s\n",
            "Took: 0.01 s\n",
            "Took: 0.01 s\n",
            "Took: 0.01 s\n",
            "Took: 0.01 s\n",
            "Took: 0.01 s\n",
            "Took: 0.01 s\n",
            "Took: 0.01 s\n",
            "Took: 0.01 s\n",
            "Took: 0.01 s\n",
            "Took: 0.01 s\n",
            "Took: 0.01 s\n",
            "Took: 0.01 s\n",
            "Took: 0.01 s\n",
            "Took: 0.01 s\n",
            "Took: 0.01 s\n",
            "Took: 0.01 s\n",
            "Took: 0.01 s\n",
            "Took: 0.01 s\n",
            "Took: 0.01 s\n",
            "Took: 0.01 s\n",
            "Took: 0.01 s\n",
            "Took: 0.01 s\n",
            "Took: 0.01 s\n",
            "Took: 0.01 s\n",
            "Took: 0.01 s\n",
            "Took: 0.01 s\n",
            "Took: 0.01 s\n",
            "Took: 0.01 s\n",
            "Took: 0.01 s\n",
            "Took: 0.01 s\n",
            "Took: 0.01 s\n",
            "Took: 0.01 s\n",
            "Took: 0.01 s\n",
            "Took: 0.01 s\n",
            "Took: 0.01 s\n",
            "Took: 0.01 s\n",
            "Took: 0.01 s\n",
            "Took: 0.01 s\n",
            "Took: 0.01 s\n",
            "Took: 0.01 s\n",
            "Took: 0.01 s\n",
            "Took: 0.01 s\n",
            "Took: 0.01 s\n",
            "Took: 0.01 s\n",
            "Took: 0.01 s\n",
            "Took: 0.01 s\n",
            "Took: 0.01 s\n",
            "Took: 0.01 s\n",
            "Took: 0.01 s\n",
            "Took: 0.01 s\n",
            "Took: 0.01 s\n",
            "Took: 0.01 s\n",
            "Took: 0.01 s\n",
            "Took: 0.01 s\n",
            "Took: 0.01 s\n",
            "Took: 0.01 s\n",
            "Took: 0.01 s\n",
            "Took: 0.01 s\n",
            "Took: 0.01 s\n",
            "Took: 0.01 s\n",
            "Took: 0.01 s\n",
            "Took: 0.01 s\n",
            "Took: 0.01 s\n",
            "Took: 0.01 s\n",
            "Took: 0.01 s\n",
            "Took: 0.01 s\n",
            "Took: 0.01 s\n",
            "Took: 0.01 s\n",
            "Took: 0.01 s\n",
            "Took: 0.01 s\n",
            "Took: 0.01 s\n",
            "Took: 0.01 s\n",
            "Took: 0.01 s\n",
            "Took: 0.01 s\n",
            "Took: 0.01 s\n",
            "Took: 0.01 s\n",
            "Took: 0.01 s\n",
            "Took: 0.01 s\n",
            "Took: 0.01 s\n",
            "Took: 0.01 s\n",
            "Took: 0.01 s\n",
            "Took: 0.01 s\n",
            "Took: 0.01 s\n",
            "Took: 0.01 s\n",
            "Took: 0.01 s\n",
            "Took: 0.01 s\n",
            "Took: 0.01 s\n",
            "Took: 0.01 s\n",
            "Took: 0.01 s\n",
            "Took: 0.01 s\n",
            "Took: 0.01 s\n",
            "Took: 0.01 s\n",
            "Took: 0.01 s\n",
            "Took: 0.01 s\n",
            "Took: 0.01 s\n",
            "Took: 0.01 s\n",
            "Took: 0.01 s\n",
            "Took: 0.01 s\n",
            "Took: 0.01 s\n",
            "Took: 0.01 s\n",
            "Took: 0.01 s\n",
            "Took: 0.01 s\n",
            "Took: 0.01 s\n",
            "Took: 0.01 s\n",
            "Took: 0.01 s\n",
            "Took: 0.01 s\n",
            "Took: 0.01 s\n",
            "Took: 0.01 s\n",
            "Took: 0.01 s\n",
            "Took: 0.01 s\n",
            "Took: 0.01 s\n",
            "Took: 0.01 s\n",
            "Took: 0.01 s\n",
            "Took: 0.01 s\n",
            "Took: 0.01 s\n",
            "Took: 0.01 s\n",
            "Took: 0.01 s\n",
            "Took: 0.01 s\n",
            "Took: 0.01 s\n",
            "Took: 0.01 s\n",
            "Took: 0.01 s\n",
            "Took: 0.01 s\n",
            "Took: 0.01 s\n",
            "Took: 0.01 s\n",
            "Took: 0.01 s\n",
            "Took: 0.01 s\n",
            "Took: 0.01 s\n",
            "Took: 0.01 s\n",
            "Took: 0.01 s\n",
            "Took: 0.01 s\n",
            "Took: 0.01 s\n",
            "Took: 0.01 s\n",
            "Took: 0.01 s\n",
            "Took: 0.01 s\n",
            "Took: 0.01 s\n",
            "Took: 0.01 s\n",
            "Took: 0.01 s\n",
            "Took: 0.01 s\n",
            "Took: 0.01 s\n",
            "Took: 0.01 s\n",
            "Took: 0.01 s\n",
            "Took: 0.01 s\n",
            "Took: 0.01 s\n",
            "Took: 0.01 s\n",
            "Took: 0.01 s\n",
            "Took: 0.01 s\n",
            "Took: 0.01 s\n",
            "Took: 0.01 s\n",
            "Took: 0.01 s\n",
            "Took: 0.01 s\n",
            "Took: 0.01 s\n",
            "Took: 0.01 s\n",
            "Took: 0.01 s\n",
            "Took: 0.01 s\n",
            "Took: 0.01 s\n",
            "Took: 0.01 s\n",
            "Took: 0.01 s\n",
            "Took: 0.01 s\n",
            "Took: 0.01 s\n",
            "Took: 0.01 s\n",
            "Took: 0.01 s\n",
            "Took: 0.01 s\n",
            "Took: 0.01 s\n",
            "Took: 0.01 s\n",
            "Took: 0.01 s\n",
            "Took: 0.01 s\n",
            "Took: 0.01 s\n",
            "Took: 0.01 s\n",
            "Took: 0.01 s\n",
            "Took: 0.01 s\n",
            "Took: 0.01 s\n",
            "Took: 0.01 s\n",
            "Took: 0.01 s\n",
            "Took: 0.01 s\n",
            "Took: 0.01 s\n",
            "Took: 0.01 s\n",
            "Took: 0.01 s\n",
            "Took: 0.01 s\n",
            "Took: 0.01 s\n",
            "Took: 0.01 s\n",
            "Took: 0.01 s\n",
            "Took: 0.01 s\n",
            "Took: 0.01 s\n",
            "Took: 0.01 s\n",
            "Took: 0.01 s\n",
            "Took: 0.01 s\n",
            "Took: 0.01 s\n",
            "Took: 0.01 s\n",
            "Took: 0.01 s\n",
            "Took: 0.01 s\n",
            "Took: 0.01 s\n",
            "Took: 0.01 s\n",
            "Took: 0.01 s\n",
            "Took: 0.01 s\n",
            "Took: 0.01 s\n",
            "Took: 0.01 s\n",
            "Took: 0.01 s\n",
            "Took: 0.01 s\n",
            "Took: 0.01 s\n",
            "Took: 0.01 s\n",
            "Took: 0.01 s\n",
            "Took: 0.01 s\n",
            "Took: 0.01 s\n",
            "Took: 0.01 s\n",
            "Took: 0.01 s\n",
            "Took: 0.01 s\n",
            "Took: 0.01 s\n",
            "Took: 0.01 s\n",
            "Took: 0.01 s\n",
            "Took: 0.01 s\n",
            "Took: 0.01 s\n",
            "Took: 0.01 s\n",
            "Took: 0.01 s\n",
            "Took: 0.01 s\n",
            "Took: 0.01 s\n",
            "Took: 0.01 s\n",
            "Took: 0.01 s\n",
            "Took: 0.01 s\n",
            "Took: 0.01 s\n",
            "Took: 0.01 s\n",
            "Took: 0.01 s\n",
            "Took: 0.01 s\n",
            "Took: 0.01 s\n",
            "Took: 0.01 s\n",
            "Took: 0.01 s\n",
            "Took: 0.01 s\n",
            "Took: 0.01 s\n",
            "Took: 0.01 s\n",
            "Took: 0.01 s\n",
            "Took: 0.01 s\n",
            "Took: 0.01 s\n",
            "Took: 0.01 s\n",
            "Took: 0.01 s\n",
            "Took: 0.01 s\n",
            "Took: 0.01 s\n",
            "Took: 0.01 s\n",
            "Took: 0.01 s\n",
            "Took: 0.01 s\n",
            "Took: 0.01 s\n",
            "Took: 0.01 s\n",
            "Took: 0.01 s\n",
            "Took: 0.01 s\n",
            "Took: 0.01 s\n",
            "Took: 0.01 s\n",
            "Took: 0.01 s\n",
            "Took: 0.01 s\n",
            "Took: 0.01 s\n",
            "Took: 0.01 s\n",
            "Took: 0.01 s\n",
            "Took: 0.01 s\n",
            "Took: 0.01 s\n",
            "Took: 0.01 s\n",
            "Took: 0.01 s\n",
            "Took: 0.01 s\n",
            "Took: 0.01 s\n",
            "Took: 0.01 s\n",
            "Took: 0.01 s\n",
            "Took: 0.01 s\n",
            "Took: 0.01 s\n",
            "Took: 0.01 s\n",
            "Took: 0.01 s\n",
            "Took: 0.01 s\n",
            "Took: 0.01 s\n",
            "Took: 0.01 s\n",
            "Took: 0.01 s\n",
            "Took: 0.01 s\n",
            "Took: 0.01 s\n",
            "Took: 0.01 s\n",
            "Took: 0.01 s\n",
            "Took: 0.01 s\n",
            "Took: 0.01 s\n",
            "Took: 0.01 s\n",
            "Took: 0.01 s\n",
            "Took: 0.01 s\n",
            "Took: 0.01 s\n",
            "Took: 0.01 s\n",
            "Took: 0.01 s\n",
            "Took: 0.01 s\n",
            "Took: 0.01 s\n",
            "Took: 0.01 s\n",
            "Took: 0.01 s\n",
            "Took: 0.01 s\n",
            "Took: 0.01 s\n",
            "Took: 0.01 s\n",
            "Took: 0.01 s\n",
            "Took: 0.01 s\n",
            "Took: 0.01 s\n",
            "Took: 0.01 s\n",
            "Took: 0.01 s\n",
            "Took: 0.01 s\n",
            "Took: 0.01 s\n",
            "Took: 0.01 s\n",
            "Took: 0.01 s\n",
            "Took: 0.01 s\n",
            "Took: 0.01 s\n",
            "Took: 0.01 s\n",
            "Took: 0.01 s\n",
            "Took: 0.01 s\n",
            "Took: 0.01 s\n",
            "Took: 0.01 s\n",
            "Took: 0.01 s\n",
            "Took: 0.01 s\n",
            "Took: 0.01 s\n",
            "Took: 0.01 s\n",
            "Took: 0.01 s\n",
            "Took: 0.01 s\n",
            "Took: 0.01 s\n",
            "Took: 0.01 s\n",
            "Took: 0.01 s\n",
            "Took: 0.01 s\n",
            "Took: 0.01 s\n",
            "Took: 0.01 s\n",
            "Took: 0.01 s\n",
            "Took: 0.01 s\n",
            "Took: 0.01 s\n",
            "Took: 0.01 s\n",
            "Took: 0.01 s\n",
            "Took: 0.01 s\n",
            "Took: 0.01 s\n",
            "Took: 0.01 s\n",
            "Took: 0.01 s\n",
            "Took: 0.01 s\n",
            "Took: 0.01 s\n",
            "Took: 0.01 s\n",
            "Took: 0.01 s\n",
            "Took: 0.01 s\n",
            "Took: 0.01 s\n",
            "Took: 0.01 s\n",
            "Took: 0.01 s\n",
            "Took: 0.01 s\n",
            "Took: 0.01 s\n",
            "Took: 0.01 s\n",
            "Took: 0.01 s\n",
            "Took: 0.01 s\n",
            "Took: 0.01 s\n",
            "Took: 0.01 s\n",
            "Took: 0.01 s\n",
            "Took: 0.01 s\n",
            "Took: 0.01 s\n",
            "Took: 0.01 s\n",
            "Took: 0.01 s\n",
            "Took: 0.01 s\n",
            "Took: 0.01 s\n",
            "Took: 0.01 s\n",
            "Took: 0.01 s\n",
            "Took: 0.01 s\n",
            "Took: 0.01 s\n",
            "Took: 0.01 s\n",
            "Took: 0.01 s\n",
            "Took: 0.01 s\n",
            "Took: 0.01 s\n",
            "Took: 0.01 s\n",
            "Took: 0.01 s\n",
            "Took: 0.01 s\n",
            "Took: 0.01 s\n",
            "Took: 0.01 s\n",
            "Took: 0.01 s\n",
            "Took: 0.01 s\n",
            "Took: 0.01 s\n",
            "Took: 0.01 s\n",
            "Took: 0.01 s\n",
            "Took: 0.01 s\n",
            "Took: 0.01 s\n",
            "Took: 0.01 s\n",
            "Took: 0.01 s\n",
            "Took: 0.01 s\n",
            "Took: 0.01 s\n",
            "Took: 0.01 s\n",
            "Took: 0.01 s\n",
            "Took: 0.01 s\n",
            "Took: 0.01 s\n",
            "Took: 0.01 s\n",
            "Took: 0.01 s\n",
            "Took: 0.01 s\n",
            "Took: 0.01 s\n",
            "Took: 0.01 s\n",
            "Took: 0.01 s\n",
            "Took: 0.01 s\n",
            "Took: 0.01 s\n",
            "Took: 0.01 s\n",
            "Took: 0.01 s\n",
            "Took: 0.01 s\n",
            "Took: 0.01 s\n",
            "Took: 0.01 s\n",
            "Took: 0.01 s\n",
            "Took: 0.01 s\n",
            "Took: 0.01 s\n",
            "Took: 0.01 s\n",
            "Took: 0.01 s\n",
            "Took: 0.01 s\n",
            "Took: 0.01 s\n",
            "Took: 0.01 s\n",
            "Took: 0.01 s\n",
            "Took: 0.01 s\n",
            "Took: 0.01 s\n",
            "Took: 0.01 s\n",
            "Took: 0.01 s\n",
            "Took: 0.01 s\n",
            "Took: 0.01 s\n",
            "Took: 0.01 s\n",
            "Took: 0.01 s\n",
            "Took: 0.01 s\n",
            "Took: 0.01 s\n",
            "Took: 0.01 s\n",
            "Took: 0.01 s\n",
            "Took: 0.01 s\n",
            "Took: 0.01 s\n",
            "Took: 0.01 s\n",
            "Took: 0.01 s\n",
            "Took: 0.01 s\n",
            "Took: 0.01 s\n",
            "Took: 0.01 s\n",
            "Took: 0.01 s\n",
            "Took: 0.01 s\n",
            "Took: 0.01 s\n",
            "Took: 0.01 s\n",
            "Took: 0.01 s\n",
            "Took: 0.01 s\n",
            "Took: 0.01 s\n",
            "Took: 0.01 s\n",
            "Took: 0.01 s\n",
            "Took: 0.01 s\n",
            "Took: 0.01 s\n",
            "Took: 0.01 s\n",
            "Took: 0.01 s\n",
            "Took: 0.01 s\n",
            "Took: 0.01 s\n",
            "Took: 0.01 s\n",
            "Took: 0.01 s\n",
            "Took: 0.01 s\n",
            "Took: 0.01 s\n",
            "Took: 0.01 s\n",
            "Took: 0.01 s\n",
            "Took: 0.01 s\n",
            "Took: 0.01 s\n",
            "Took: 0.01 s\n",
            "Took: 0.01 s\n",
            "Took: 0.01 s\n",
            "Took: 0.01 s\n",
            "Took: 0.01 s\n",
            "Took: 0.01 s\n",
            "Took: 0.01 s\n",
            "Took: 0.01 s\n",
            "Took: 0.01 s\n",
            "Took: 0.01 s\n",
            "Took: 0.01 s\n",
            "Took: 0.01 s\n",
            "Took: 0.01 s\n",
            "Took: 0.01 s\n",
            "Took: 0.01 s\n",
            "Took: 0.01 s\n",
            "Took: 0.01 s\n",
            "Took: 0.01 s\n"
          ]
        }
      ]
    },
    {
      "cell_type": "code",
      "source": [
        "t0 = time.time()\n",
        "for _ in range(1000):\n",
        "  z = naive_add(x,y)\n",
        "  z = naive_relu(z)\n",
        "print(\"Took: {0:.2f} s\".format(time.time() - t0))"
      ],
      "metadata": {
        "colab": {
          "base_uri": "https://localhost:8080/"
        },
        "id": "b8fV5oQKfhBX",
        "outputId": "8c51680e-e43b-4bd9-b36f-58595d0eb506"
      },
      "execution_count": 46,
      "outputs": [
        {
          "output_type": "stream",
          "name": "stdout",
          "text": [
            "Took: 1.86 s\n"
          ]
        }
      ]
    },
    {
      "cell_type": "markdown",
      "source": [
        "# Broadcast\n",
        "\n",
        "farklı shape'e ve boyuta sahip tensörlerde işlem yapmak. 2D bir tensor ile 1D vektör toplanacaksa, vektör tüm 2D elemanlarına uygulanır (broadcast edilir).\n"
      ],
      "metadata": {
        "id": "Chrigm1oggYA"
      }
    },
    {
      "cell_type": "code",
      "source": [
        "import numpy as np\n",
        "x = np.random.random((32, 10)) # 32 x 10 matris\n",
        "y = np.random.random((10,)) # 10 x 1 vector\n",
        "print(f\"x_dim : {x.ndim} and x_shape : {x.shape}\\ny_dim : {y.ndim} and y_shape : {y.shape}\")\n",
        "y"
      ],
      "metadata": {
        "colab": {
          "base_uri": "https://localhost:8080/"
        },
        "id": "Sw6T3bZ2f1WZ",
        "outputId": "14bfc1dd-aec4-479e-9cc5-6ab5bce10667"
      },
      "execution_count": 47,
      "outputs": [
        {
          "output_type": "stream",
          "name": "stdout",
          "text": [
            "x_dim : 2 and x_shape : (32, 10)\n",
            "y_dim : 1 and y_shape : (10,)\n"
          ]
        },
        {
          "output_type": "execute_result",
          "data": {
            "text/plain": [
              "array([0.35797921, 0.41214668, 0.66052297, 0.91704308, 0.53350239,\n",
              "       0.02771112, 0.60856278, 0.52241871, 0.73281581, 0.56373615])"
            ]
          },
          "metadata": {},
          "execution_count": 47
        }
      ]
    },
    {
      "cell_type": "code",
      "source": [
        "y = np.expand_dims(y, axis = 0)\n",
        "print(f\"y_dim : {y.ndim} and y_shape : {y.shape}\")"
      ],
      "metadata": {
        "colab": {
          "base_uri": "https://localhost:8080/"
        },
        "id": "34565VWTg0Lo",
        "outputId": "16a507bb-a944-4462-d90b-b822c4c762dd"
      },
      "execution_count": 48,
      "outputs": [
        {
          "output_type": "stream",
          "name": "stdout",
          "text": [
            "y_dim : 2 and y_shape : (1, 10)\n"
          ]
        }
      ]
    },
    {
      "cell_type": "code",
      "source": [
        "y"
      ],
      "metadata": {
        "colab": {
          "base_uri": "https://localhost:8080/"
        },
        "id": "mDghtQyfhF7n",
        "outputId": "7b2088c7-0d7a-4119-db41-3d593c658d87"
      },
      "execution_count": 49,
      "outputs": [
        {
          "output_type": "execute_result",
          "data": {
            "text/plain": [
              "array([[0.35797921, 0.41214668, 0.66052297, 0.91704308, 0.53350239,\n",
              "        0.02771112, 0.60856278, 0.52241871, 0.73281581, 0.56373615]])"
            ]
          },
          "metadata": {},
          "execution_count": 49
        }
      ]
    },
    {
      "cell_type": "code",
      "source": [
        "y = np.concatenate([y] * 32, axis=0)\n",
        "print(f\"y_dim : {y.ndim} and y_shape : {y.shape}\")\n",
        "y"
      ],
      "metadata": {
        "colab": {
          "base_uri": "https://localhost:8080/"
        },
        "id": "5I_9VYr2g0Z6",
        "outputId": "ca2fb498-b3d4-4d86-ea55-28ac40e0405d"
      },
      "execution_count": 50,
      "outputs": [
        {
          "output_type": "stream",
          "name": "stdout",
          "text": [
            "y_dim : 2 and y_shape : (32, 10)\n"
          ]
        },
        {
          "output_type": "execute_result",
          "data": {
            "text/plain": [
              "array([[0.35797921, 0.41214668, 0.66052297, 0.91704308, 0.53350239,\n",
              "        0.02771112, 0.60856278, 0.52241871, 0.73281581, 0.56373615],\n",
              "       [0.35797921, 0.41214668, 0.66052297, 0.91704308, 0.53350239,\n",
              "        0.02771112, 0.60856278, 0.52241871, 0.73281581, 0.56373615],\n",
              "       [0.35797921, 0.41214668, 0.66052297, 0.91704308, 0.53350239,\n",
              "        0.02771112, 0.60856278, 0.52241871, 0.73281581, 0.56373615],\n",
              "       [0.35797921, 0.41214668, 0.66052297, 0.91704308, 0.53350239,\n",
              "        0.02771112, 0.60856278, 0.52241871, 0.73281581, 0.56373615],\n",
              "       [0.35797921, 0.41214668, 0.66052297, 0.91704308, 0.53350239,\n",
              "        0.02771112, 0.60856278, 0.52241871, 0.73281581, 0.56373615],\n",
              "       [0.35797921, 0.41214668, 0.66052297, 0.91704308, 0.53350239,\n",
              "        0.02771112, 0.60856278, 0.52241871, 0.73281581, 0.56373615],\n",
              "       [0.35797921, 0.41214668, 0.66052297, 0.91704308, 0.53350239,\n",
              "        0.02771112, 0.60856278, 0.52241871, 0.73281581, 0.56373615],\n",
              "       [0.35797921, 0.41214668, 0.66052297, 0.91704308, 0.53350239,\n",
              "        0.02771112, 0.60856278, 0.52241871, 0.73281581, 0.56373615],\n",
              "       [0.35797921, 0.41214668, 0.66052297, 0.91704308, 0.53350239,\n",
              "        0.02771112, 0.60856278, 0.52241871, 0.73281581, 0.56373615],\n",
              "       [0.35797921, 0.41214668, 0.66052297, 0.91704308, 0.53350239,\n",
              "        0.02771112, 0.60856278, 0.52241871, 0.73281581, 0.56373615],\n",
              "       [0.35797921, 0.41214668, 0.66052297, 0.91704308, 0.53350239,\n",
              "        0.02771112, 0.60856278, 0.52241871, 0.73281581, 0.56373615],\n",
              "       [0.35797921, 0.41214668, 0.66052297, 0.91704308, 0.53350239,\n",
              "        0.02771112, 0.60856278, 0.52241871, 0.73281581, 0.56373615],\n",
              "       [0.35797921, 0.41214668, 0.66052297, 0.91704308, 0.53350239,\n",
              "        0.02771112, 0.60856278, 0.52241871, 0.73281581, 0.56373615],\n",
              "       [0.35797921, 0.41214668, 0.66052297, 0.91704308, 0.53350239,\n",
              "        0.02771112, 0.60856278, 0.52241871, 0.73281581, 0.56373615],\n",
              "       [0.35797921, 0.41214668, 0.66052297, 0.91704308, 0.53350239,\n",
              "        0.02771112, 0.60856278, 0.52241871, 0.73281581, 0.56373615],\n",
              "       [0.35797921, 0.41214668, 0.66052297, 0.91704308, 0.53350239,\n",
              "        0.02771112, 0.60856278, 0.52241871, 0.73281581, 0.56373615],\n",
              "       [0.35797921, 0.41214668, 0.66052297, 0.91704308, 0.53350239,\n",
              "        0.02771112, 0.60856278, 0.52241871, 0.73281581, 0.56373615],\n",
              "       [0.35797921, 0.41214668, 0.66052297, 0.91704308, 0.53350239,\n",
              "        0.02771112, 0.60856278, 0.52241871, 0.73281581, 0.56373615],\n",
              "       [0.35797921, 0.41214668, 0.66052297, 0.91704308, 0.53350239,\n",
              "        0.02771112, 0.60856278, 0.52241871, 0.73281581, 0.56373615],\n",
              "       [0.35797921, 0.41214668, 0.66052297, 0.91704308, 0.53350239,\n",
              "        0.02771112, 0.60856278, 0.52241871, 0.73281581, 0.56373615],\n",
              "       [0.35797921, 0.41214668, 0.66052297, 0.91704308, 0.53350239,\n",
              "        0.02771112, 0.60856278, 0.52241871, 0.73281581, 0.56373615],\n",
              "       [0.35797921, 0.41214668, 0.66052297, 0.91704308, 0.53350239,\n",
              "        0.02771112, 0.60856278, 0.52241871, 0.73281581, 0.56373615],\n",
              "       [0.35797921, 0.41214668, 0.66052297, 0.91704308, 0.53350239,\n",
              "        0.02771112, 0.60856278, 0.52241871, 0.73281581, 0.56373615],\n",
              "       [0.35797921, 0.41214668, 0.66052297, 0.91704308, 0.53350239,\n",
              "        0.02771112, 0.60856278, 0.52241871, 0.73281581, 0.56373615],\n",
              "       [0.35797921, 0.41214668, 0.66052297, 0.91704308, 0.53350239,\n",
              "        0.02771112, 0.60856278, 0.52241871, 0.73281581, 0.56373615],\n",
              "       [0.35797921, 0.41214668, 0.66052297, 0.91704308, 0.53350239,\n",
              "        0.02771112, 0.60856278, 0.52241871, 0.73281581, 0.56373615],\n",
              "       [0.35797921, 0.41214668, 0.66052297, 0.91704308, 0.53350239,\n",
              "        0.02771112, 0.60856278, 0.52241871, 0.73281581, 0.56373615],\n",
              "       [0.35797921, 0.41214668, 0.66052297, 0.91704308, 0.53350239,\n",
              "        0.02771112, 0.60856278, 0.52241871, 0.73281581, 0.56373615],\n",
              "       [0.35797921, 0.41214668, 0.66052297, 0.91704308, 0.53350239,\n",
              "        0.02771112, 0.60856278, 0.52241871, 0.73281581, 0.56373615],\n",
              "       [0.35797921, 0.41214668, 0.66052297, 0.91704308, 0.53350239,\n",
              "        0.02771112, 0.60856278, 0.52241871, 0.73281581, 0.56373615],\n",
              "       [0.35797921, 0.41214668, 0.66052297, 0.91704308, 0.53350239,\n",
              "        0.02771112, 0.60856278, 0.52241871, 0.73281581, 0.56373615],\n",
              "       [0.35797921, 0.41214668, 0.66052297, 0.91704308, 0.53350239,\n",
              "        0.02771112, 0.60856278, 0.52241871, 0.73281581, 0.56373615]])"
            ]
          },
          "metadata": {},
          "execution_count": 50
        }
      ]
    },
    {
      "cell_type": "code",
      "source": [
        "def naive_add_matrix_and_vector(x,y):\n",
        "  assert len(x.shape) == 2\n",
        "  assert len(y.shape) == 1\n",
        "  x = x.copy()\n",
        "\n",
        "  for i in range(x.shape[0]):\n",
        "    for j in range(x.shape[1]):\n",
        "      x[i, j] += y[i, j]\n",
        "  return x"
      ],
      "metadata": {
        "id": "kZhjNgDSiRU3"
      },
      "execution_count": 51,
      "outputs": []
    },
    {
      "cell_type": "code",
      "source": [
        "# peki hangi değişken broadcast yapılmasına daha uygun\n",
        "\n",
        "x = np.random.random((64, 3, 32, 10))\n",
        "y = np.random.random((32,10))\n",
        "z = np.maximum(x,y)\n",
        "print(z.shape)"
      ],
      "metadata": {
        "colab": {
          "base_uri": "https://localhost:8080/"
        },
        "id": "g1EUFtrh2KyF",
        "outputId": "5e397dbb-ed68-44d3-f0a4-f041261fee6a"
      },
      "execution_count": 52,
      "outputs": [
        {
          "output_type": "stream",
          "name": "stdout",
          "text": [
            "(64, 3, 32, 10)\n"
          ]
        }
      ]
    },
    {
      "cell_type": "markdown",
      "source": [
        "# tensor çarpımı -> nokta çarpımı\n"
      ],
      "metadata": {
        "id": "Eck87hVn2rF-"
      }
    },
    {
      "cell_type": "code",
      "source": [
        "x = np.random.random((32,))\n",
        "y = np.random.random((32,))\n",
        "z = np.dot(x,y)\n",
        "print(f\"z.shape: {z.shape} çünkü z.ndim: {z.ndim} -> skaler bir sayı\")"
      ],
      "metadata": {
        "colab": {
          "base_uri": "https://localhost:8080/"
        },
        "id": "h0y7pZ_v2ta2",
        "outputId": "0973edcb-ae6f-4483-97b3-10523ecd4769"
      },
      "execution_count": 53,
      "outputs": [
        {
          "output_type": "stream",
          "name": "stdout",
          "text": [
            "z.shape: () çünkü z.ndim: 0 -> skaler bir sayı\n"
          ]
        }
      ]
    },
    {
      "cell_type": "code",
      "source": [
        "def naive_vector_dot(x,y):\n",
        "  assert len(x.shape) == 1\n",
        "  assert len(y.shape) == 1\n",
        "  assert x.shape[0] == y.shape[0]\n",
        "  z = 0.\n",
        "  for i in range(x.shape[0]):\n",
        "    z += x[i] * y[i]\n",
        "  return z\n",
        "\n",
        "print(f\"{naive_vector_dot(x,y)} vs {np.dot(x,y)}\")\n"
      ],
      "metadata": {
        "colab": {
          "base_uri": "https://localhost:8080/"
        },
        "id": "Cq-KIrPy24O-",
        "outputId": "fc35c82e-3d63-43ff-aaaf-b069c9ba9187"
      },
      "execution_count": 54,
      "outputs": [
        {
          "output_type": "stream",
          "name": "stdout",
          "text": [
            "9.383818047803189 vs 9.383818047803189\n"
          ]
        }
      ]
    },
    {
      "cell_type": "code",
      "source": [
        "a = np.array([3,2,1])\n",
        "b = np.array([4,5,6])\n",
        "c = np.array([[7,2,5], [4, 1, 6]])\n",
        "print(np.dot(a,b))"
      ],
      "metadata": {
        "colab": {
          "base_uri": "https://localhost:8080/"
        },
        "id": "ko143ARB33qn",
        "outputId": "2e4c21de-67bd-4310-c254-8f1289ac7167"
      },
      "execution_count": 55,
      "outputs": [
        {
          "output_type": "stream",
          "name": "stdout",
          "text": [
            "28\n"
          ]
        }
      ]
    },
    {
      "cell_type": "code",
      "source": [
        "a.shape, b.shape, c.shape\n"
      ],
      "metadata": {
        "colab": {
          "base_uri": "https://localhost:8080/"
        },
        "id": "U0Ie8evY4vNq",
        "outputId": "b78cdff2-b55c-48ce-fea9-9f405bd4170b"
      },
      "execution_count": 56,
      "outputs": [
        {
          "output_type": "execute_result",
          "data": {
            "text/plain": [
              "((3,), (3,), (2, 3))"
            ]
          },
          "metadata": {},
          "execution_count": 56
        }
      ]
    },
    {
      "cell_type": "code",
      "source": [
        "def naive_matrix_vector_dot(x,y):\n",
        "  assert len(x.shape) == 2\n",
        "  assert len(y.shape) == 1\n",
        "  assert x.shape[1] == y.shape[0]\n",
        "  z = np.zeros(x.shape[0])\n",
        "  for i in range(x.shape[0]):\n",
        "    for j in range(x.shape[1]):\n",
        "      z[i] += x[i, j] * y[j]\n",
        "  return z\n",
        "\n",
        "naive_matrix_vector_dot(c,a)"
      ],
      "metadata": {
        "colab": {
          "base_uri": "https://localhost:8080/"
        },
        "id": "n1Sd8GtZ6gXw",
        "outputId": "a6f9f592-5f57-4518-95e7-6975d533d410"
      },
      "execution_count": 57,
      "outputs": [
        {
          "output_type": "execute_result",
          "data": {
            "text/plain": [
              "array([30., 20.])"
            ]
          },
          "metadata": {},
          "execution_count": 57
        }
      ]
    },
    {
      "cell_type": "code",
      "source": [
        "def naive_matrix_vector_dot(x,y):\n",
        "  z = np.zeros(x.shape[0])\n",
        "  for i in range(x.shape[0]):\n",
        "    z[i] = naive_vector_dot(x[i,:], y)\n",
        "  return z\n",
        "\n",
        "naive_matrix_vector_dot(c,a)"
      ],
      "metadata": {
        "colab": {
          "base_uri": "https://localhost:8080/"
        },
        "id": "Qp27FApe7OOM",
        "outputId": "f1aa854b-04b4-48f4-9b18-a5a180540748"
      },
      "execution_count": 58,
      "outputs": [
        {
          "output_type": "execute_result",
          "data": {
            "text/plain": [
              "array([30., 20.])"
            ]
          },
          "metadata": {},
          "execution_count": 58
        }
      ]
    },
    {
      "cell_type": "code",
      "source": [
        "c = np.array([[7,2], [4, 1]])\n",
        "d = np.array([[3,1,6], [7, 4, 9]])\n",
        "\n",
        "def naive_matrix_dot(x,y):\n",
        "  assert x.shape[0] == 2\n",
        "  assert y.shape[0] == 2\n",
        "  assert x.shape[1] == y.shape[0]\n",
        "  z = np.zeros((x.shape[0],  y.shape[1]))\n",
        "\n",
        "  for i in range(x.shape[0],):\n",
        "    for j in range(y.shape[1]):\n",
        "      row_x = x[i, : ]\n",
        "      column_y = y[:, j]\n",
        "      z[i, j] = naive_vector_dot(row_x, column_y)\n",
        "  return z\n",
        "\n",
        "\n",
        "naive_matrix_dot(c,d)"
      ],
      "metadata": {
        "colab": {
          "base_uri": "https://localhost:8080/"
        },
        "id": "hpJijbHK9EyX",
        "outputId": "eb35be58-681d-460e-d651-df8f4e418d01"
      },
      "execution_count": 59,
      "outputs": [
        {
          "output_type": "execute_result",
          "data": {
            "text/plain": [
              "array([[35., 15., 60.],\n",
              "       [19.,  8., 33.]])"
            ]
          },
          "metadata": {},
          "execution_count": 59
        }
      ]
    },
    {
      "cell_type": "code",
      "source": [],
      "metadata": {
        "id": "Aw12R_xb9gZ9"
      },
      "execution_count": null,
      "outputs": []
    },
    {
      "cell_type": "markdown",
      "source": [
        "# MATRİSLERDE İŞLEMLERİ DAHA İYİ ANLAMAK İÇİN EGZERSİZLER\n",
        "Matrislerde işlem yapmaya daha da aşina olabilmek için uygulamalı lineer cebir kitabındaki örnekleri çözüyorum"
      ],
      "metadata": {
        "id": "wR5f3XYdCJp5"
      }
    },
    {
      "cell_type": "code",
      "source": [
        "# matrislerde toplama\n",
        "\n",
        "A = np.array([[1,-2,3],\n",
        "              [2,-1,4]\n",
        "              ])\n",
        "B = np.array([[0,2,1],\n",
        "              [1,3,-4]\n",
        "              ])\n",
        "\n",
        "print(f\"A: {A.shape} vs B: {B.shape}\")\n",
        "\n",
        "print(f\"{A + B}\")\n",
        "\n",
        "z = np.zeros((A.shape[0], A.shape[1]))\n",
        "for i in range(A.shape[0]):\n",
        "  for j in range(A.shape[1]):\n",
        "    z[i, j] = A[i, j] + B[i, j]\n",
        "print(f\"{z}\")\n"
      ],
      "metadata": {
        "colab": {
          "base_uri": "https://localhost:8080/"
        },
        "id": "pdIwblh8CStH",
        "outputId": "948ce321-db1a-4d0a-92ab-13416bbf87e1"
      },
      "execution_count": 60,
      "outputs": [
        {
          "output_type": "stream",
          "name": "stdout",
          "text": [
            "A: (2, 3) vs B: (2, 3)\n",
            "[[1 0 4]\n",
            " [3 2 0]]\n",
            "[[1. 0. 4.]\n",
            " [3. 2. 0.]]\n"
          ]
        }
      ]
    },
    {
      "cell_type": "code",
      "source": [
        "# skalar çarpım\n",
        "A = np.array(-2)\n",
        "B = np.array([[4,-2,-3],\n",
        "              [7,-3,2]\n",
        "              ])\n",
        "\n",
        "z = np.zeros((B.shape[0], B.shape[1]))\n",
        "for i in range(B.shape[0]):\n",
        "  for j in range(B.shape[1]):\n",
        "    z[i,j] += A * B[i,j]\n",
        "print(z)\n",
        "\n",
        "\n",
        "print(A*B)"
      ],
      "metadata": {
        "colab": {
          "base_uri": "https://localhost:8080/"
        },
        "id": "5mJBG3bfCr-0",
        "outputId": "de995ff8-ecf1-4635-ef35-4012dfdbf8ec"
      },
      "execution_count": 61,
      "outputs": [
        {
          "output_type": "stream",
          "name": "stdout",
          "text": [
            "[[ -8.   4.   6.]\n",
            " [-14.   6.  -4.]]\n",
            "[[ -8   4   6]\n",
            " [-14   6  -4]]\n"
          ]
        }
      ]
    },
    {
      "cell_type": "code",
      "source": [
        "# matris farkı\n",
        "A = np.array([[2,3,-5],\n",
        "              [4,2,1]\n",
        "              ])\n",
        "\n",
        "B = np.array([[2,-1,3],\n",
        "              [3,5,-2]\n",
        "              ])\n",
        "\n",
        "A = A.copy()\n",
        "\n",
        "for i in range(A.shape[0]):\n",
        "  for j in range(A.shape[1]):\n",
        "      A[i, j] -= B[i, j]\n",
        "\n",
        "A"
      ],
      "metadata": {
        "colab": {
          "base_uri": "https://localhost:8080/"
        },
        "id": "XzPwEfeUEErK",
        "outputId": "d35cf4d6-5e90-4e10-e2bb-42c1cd66baf9"
      },
      "execution_count": 62,
      "outputs": [
        {
          "output_type": "execute_result",
          "data": {
            "text/plain": [
              "array([[ 0,  4, -8],\n",
              "       [ 1, -3,  3]])"
            ]
          },
          "metadata": {},
          "execution_count": 62
        }
      ]
    },
    {
      "cell_type": "code",
      "source": [
        "A = np.array([\n",
        "    [0, -3, 5],\n",
        "    [2,3,4],\n",
        "    [1,-2,-3]])\n",
        "\n",
        "B = np.array([\n",
        "    [5, 2, 3],\n",
        "    [6,2,3],\n",
        "    [-1,-2,3]\n",
        "])\n",
        "\n",
        "z = np.dot(3,A) - np.dot(0.5, B)\n",
        "z"
      ],
      "metadata": {
        "colab": {
          "base_uri": "https://localhost:8080/"
        },
        "id": "XSg-wR-8Gc6k",
        "outputId": "9667d17f-4e62-456f-9ac7-4436c08e1208"
      },
      "execution_count": 63,
      "outputs": [
        {
          "output_type": "execute_result",
          "data": {
            "text/plain": [
              "array([[ -2.5, -10. ,  13.5],\n",
              "       [  3. ,   8. ,  10.5],\n",
              "       [  3.5,  -5. , -10.5]])"
            ]
          },
          "metadata": {},
          "execution_count": 63
        }
      ]
    },
    {
      "cell_type": "code",
      "source": [],
      "metadata": {
        "id": "X1gU4q4HHdnM"
      },
      "execution_count": 63,
      "outputs": []
    },
    {
      "cell_type": "markdown",
      "source": [
        "# Tensor reshaping\n",
        "satır ve sütunları tekrardan düzenliyoruz\n"
      ],
      "metadata": {
        "id": "qxQEdZ3CIjUD"
      }
    },
    {
      "cell_type": "code",
      "source": [
        "x = np.array([\n",
        "    [0., 1.],\n",
        "    [2., 3.],\n",
        "    [4., 5.]\n",
        "])\n",
        "\n",
        "print(x.shape,end=\"\\n--------------\\n\")\n",
        "x = x.reshape((6,1))\n",
        "print(x)\n",
        "print(x.shape,end=\"\\n--------------\\n\")\n",
        "x = x.reshape((2,3))\n",
        "print(x)\n",
        "print(x.shape,end=\"\\n--------------\\n\")\n",
        "\n",
        "# burada\n",
        "# 0 2 4\n",
        "# 1 3 5\n",
        "\n",
        "# şeklinde transpoz almak yerine\n",
        "\n",
        "# 0 1 2\n",
        "# 3 4 5\n",
        "\n",
        "# geldi çünkü reshape öncelikle hepsini tek bir satıra alıyor \"flatten\" yapıyor\n",
        "# [0 1 2 3 4 5] oluyor ve sonrasında ayırıyor\n"
      ],
      "metadata": {
        "colab": {
          "base_uri": "https://localhost:8080/"
        },
        "id": "Du9Dz7hLIoQr",
        "outputId": "69cb5d61-8c30-4807-bb76-8c628011d5e7"
      },
      "execution_count": 65,
      "outputs": [
        {
          "output_type": "stream",
          "name": "stdout",
          "text": [
            "(3, 2)\n",
            "--------------\n",
            "[[0.]\n",
            " [1.]\n",
            " [2.]\n",
            " [3.]\n",
            " [4.]\n",
            " [5.]]\n",
            "(6, 1)\n",
            "--------------\n",
            "[[0. 1. 2.]\n",
            " [3. 4. 5.]]\n",
            "(2, 3)\n",
            "--------------\n"
          ]
        }
      ]
    },
    {
      "cell_type": "code",
      "source": [
        "x = np.zeros((300, 20))\n",
        "x = np.transpose(x)\n",
        "x.shape"
      ],
      "metadata": {
        "colab": {
          "base_uri": "https://localhost:8080/"
        },
        "id": "3tlkn2KGI4I8",
        "outputId": "4adc28a9-b07e-4624-f8f1-d59cc00b4b45"
      },
      "execution_count": 66,
      "outputs": [
        {
          "output_type": "execute_result",
          "data": {
            "text/plain": [
              "(20, 300)"
            ]
          },
          "metadata": {},
          "execution_count": 66
        }
      ]
    },
    {
      "cell_type": "code",
      "source": [
        "x = np.array([\n",
        "    [0., 1.],\n",
        "    [2., 3.],\n",
        "    [4., 5.]\n",
        "])\n",
        "\n",
        "print(x,end=\"\\n------------\\n\")\n",
        "\n",
        "print(np.transpose(x))"
      ],
      "metadata": {
        "colab": {
          "base_uri": "https://localhost:8080/"
        },
        "id": "EY4_DxASK7Zm",
        "outputId": "9c732edf-5ee0-47a9-9d17-f322091de2e7"
      },
      "execution_count": 67,
      "outputs": [
        {
          "output_type": "stream",
          "name": "stdout",
          "text": [
            "[[0. 1.]\n",
            " [2. 3.]\n",
            " [4. 5.]]\n",
            "------------\n",
            "[[0. 2. 4.]\n",
            " [1. 3. 5.]]\n"
          ]
        }
      ]
    },
    {
      "cell_type": "code",
      "source": [],
      "metadata": {
        "id": "gTdjjicfLDoc"
      },
      "execution_count": null,
      "outputs": []
    }
  ]
}